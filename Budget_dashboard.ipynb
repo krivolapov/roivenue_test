{
 "cells": [
  {
   "cell_type": "markdown",
   "metadata": {},
   "source": [
    "## Budget optimizer dashboard"
   ]
  },
  {
   "cell_type": "code",
   "execution_count": 2,
   "metadata": {
    "ExecuteTime": {
     "end_time": "2020-12-29T13:05:33.644252Z",
     "start_time": "2020-12-29T13:05:31.876151Z"
    }
   },
   "outputs": [],
   "source": [
    "# \n",
    "import pandas as pd\n",
    "import sys\n",
    "import json\n",
    "import ipywidgets as widgets\n",
    "encoding = sys.getdefaultencoding()\n",
    "\n",
    "import plotly.express as px\n",
    "import plotly.graph_objects as go\n",
    "pd.options.plotting.backend = \"plotly\""
   ]
  },
  {
   "cell_type": "markdown",
   "metadata": {
    "ExecuteTime": {
     "end_time": "2020-12-29T13:06:02.394897Z",
     "start_time": "2020-12-29T13:05:58.978701Z"
    }
   },
   "source": [
    "Basic settings:\n",
    "* period: month, week, day\n",
    "* Margin size: 1σ or 2σ\n",
    "* Margin: upper, lower or zero boundary (optimistic, realistic  pessimistic)\n",
    "* List of components we will consider for budget optimization (channel, platform and so on) \n"
   ]
  },
  {
   "cell_type": "markdown",
   "metadata": {
    "ExecuteTime": {
     "end_time": "2020-12-29T13:06:55.431930Z",
     "start_time": "2020-12-29T13:06:55.282922Z"
    }
   },
   "source": [
    "Advanced settings:\n",
    "* Filter: type, size, period (for outliers filtering)\n",
    "* Error threshold in model? \n"
   ]
  },
  {
   "cell_type": "code",
   "execution_count": 6,
   "metadata": {
    "ExecuteTime": {
     "end_time": "2020-12-29T13:07:06.856584Z",
     "start_time": "2020-12-29T13:07:06.530565Z"
    }
   },
   "outputs": [],
   "source": [
    "granularity = 'week'\n",
    "margin_size = 1\n",
    "margin_bound = 'upper' # 'mean' 'lower'\n",
    "\n",
    "filter_type = 'avrg'   # 'median'\n",
    "filter_length = 10     # number of points in sequence \n",
    "error_threshhold = 0   # I'm going to define it after optimisation task\n",
    "zero_cross = True\n",
    "\n",
    "independent_var = 'marketingInvestment'\n",
    "dependent_var   = 'netRevenue'"
   ]
  },
  {
   "cell_type": "code",
   "execution_count": null,
   "metadata": {
    "ExecuteTime": {
     "end_time": "2020-12-29T13:08:54.274728Z",
     "start_time": "2020-12-29T13:08:54.138720Z"
    }
   },
   "outputs": [],
   "source": [
    "if zero_cross:\n",
    "    reggre_coeff_set = ['a','b']\n",
    "else:\n",
    "    reggre_coeff_set = ['a','b','c']"
   ]
  },
  {
   "cell_type": "code",
   "execution_count": null,
   "metadata": {
    "ExecuteTime": {
     "end_time": "2020-12-29T13:08:57.561916Z",
     "start_time": "2020-12-29T13:08:57.524914Z"
    }
   },
   "outputs": [],
   "source": []
  },
  {
   "cell_type": "code",
   "execution_count": null,
   "metadata": {},
   "outputs": [],
   "source": []
  }
 ],
 "metadata": {
  "hide_input": false,
  "kernelspec": {
   "display_name": "Python 3",
   "language": "python",
   "name": "python3"
  },
  "language_info": {
   "codemirror_mode": {
    "name": "ipython",
    "version": 3
   },
   "file_extension": ".py",
   "mimetype": "text/x-python",
   "name": "python",
   "nbconvert_exporter": "python",
   "pygments_lexer": "ipython3",
   "version": "3.8.5"
  },
  "toc": {
   "base_numbering": 1,
   "nav_menu": {},
   "number_sections": true,
   "sideBar": true,
   "skip_h1_title": false,
   "title_cell": "Table of Contents",
   "title_sidebar": "Contents",
   "toc_cell": false,
   "toc_position": {},
   "toc_section_display": true,
   "toc_window_display": false
  },
  "varInspector": {
   "cols": {
    "lenName": 16,
    "lenType": 16,
    "lenVar": 40
   },
   "kernels_config": {
    "python": {
     "delete_cmd_postfix": "",
     "delete_cmd_prefix": "del ",
     "library": "var_list.py",
     "varRefreshCmd": "print(var_dic_list())"
    },
    "r": {
     "delete_cmd_postfix": ") ",
     "delete_cmd_prefix": "rm(",
     "library": "var_list.r",
     "varRefreshCmd": "cat(var_dic_list()) "
    }
   },
   "types_to_exclude": [
    "module",
    "function",
    "builtin_function_or_method",
    "instance",
    "_Feature"
   ],
   "window_display": false
  }
 },
 "nbformat": 4,
 "nbformat_minor": 4
}
