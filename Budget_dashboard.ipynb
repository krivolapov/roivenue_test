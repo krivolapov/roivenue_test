{
 "cells": [
  {
   "cell_type": "markdown",
   "metadata": {},
   "source": [
    "# Budget optimizer dashboard"
   ]
  },
  {
   "cell_type": "code",
   "execution_count": 278,
   "metadata": {
    "ExecuteTime": {
     "end_time": "2021-02-14T21:07:41.362225Z",
     "start_time": "2021-02-14T21:07:41.354224Z"
    }
   },
   "outputs": [],
   "source": [
    "# \n",
    "import pandas as pd\n",
    "import sys\n",
    "import json\n",
    "import ipywidgets as widgets\n",
    "encoding = sys.getdefaultencoding()\n",
    "import os\n",
    "\n",
    "import numpy as np\n",
    "\n",
    "import math\n",
    "import matplotlib.pyplot as plt\n",
    "\n",
    "from scipy.optimize import curve_fit\n",
    "import scipy\n",
    "import scipy.stats as stat\n",
    "\n",
    "import xlsxwriter\n",
    "from pathlib import Path\n",
    "\n",
    "import plotly.express as px\n",
    "import plotly.graph_objects as go\n",
    "pd.options.plotting.backend = \"plotly\"\n",
    "\n",
    "from IPython.display import display\n",
    "\n",
    "from IPython.core.interactiveshell import InteractiveShell\n",
    "InteractiveShell.ast_node_interactivity = 'all'\n",
    "\n",
    "pd.set_option('display.max_columns', None)"
   ]
  },
  {
   "cell_type": "markdown",
   "metadata": {},
   "source": [
    "## How to work with notebook"
   ]
  },
  {
   "cell_type": "markdown",
   "metadata": {
    "ExecuteTime": {
     "end_time": "2020-12-29T13:06:02.394897Z",
     "start_time": "2020-12-29T13:05:58.978701Z"
    }
   },
   "source": [
    "Basic settings:\n",
    "* period: month, week, day\n",
    "* Margin size: 1σ or 2σ\n",
    "* Margin: upper, lower or zero boundary (optimistic, realistic  pessimistic)\n",
    "* List of components we will consider for budget optimization (channel, platform and so on) \n"
   ]
  },
  {
   "cell_type": "markdown",
   "metadata": {
    "ExecuteTime": {
     "end_time": "2020-12-29T13:06:55.431930Z",
     "start_time": "2020-12-29T13:06:55.282922Z"
    }
   },
   "source": [
    "Advanced settings:\n",
    "* Filter: type, size, period (for outliers filtering)\n",
    "* Error threshold in model? \n"
   ]
  },
  {
   "cell_type": "code",
   "execution_count": 2,
   "metadata": {
    "ExecuteTime": {
     "end_time": "2021-02-14T16:42:44.983004Z",
     "start_time": "2021-02-14T16:42:44.978004Z"
    }
   },
   "outputs": [],
   "source": [
    "granularity = 'week'\n",
    "margin_size = 1\n",
    "margin_bound = 'upper' # 'mean' 'lower'\n",
    "filter_type = 'avrg'   # 'median'\n",
    "filter_length = 10     # number of points in sequence \n",
    "error_threshhold = 0   # I'm going to define it after optimisation task\n",
    "zero_cross = True\n",
    "independent_var = 'marketingInvestment'\n",
    "dependent_var   = 'netRevenue'\n",
    "precision = 3          # number of digits after point\n",
    "dropped_ch = ['Not tracked', 'notset', 'unpaid'] # Channels to discard for platform level analysis "
   ]
  },
  {
   "cell_type": "code",
   "execution_count": 3,
   "metadata": {
    "ExecuteTime": {
     "end_time": "2021-02-14T16:42:44.995005Z",
     "start_time": "2021-02-14T16:42:44.985004Z"
    }
   },
   "outputs": [],
   "source": [
    "#from BudgetOptimizer import EstimatorClass, settings_estimator\n",
    "from Budget_optimiser_function import DateTimeID, usecols_, dtype_\n",
    "#from Budget_optimiser_function import *"
   ]
  },
  {
   "cell_type": "markdown",
   "metadata": {
    "ExecuteTime": {
     "end_time": "2021-02-09T22:00:09.784214Z",
     "start_time": "2021-02-09T22:00:09.780214Z"
    }
   },
   "source": [
    "## Function's definition"
   ]
  },
  {
   "cell_type": "code",
   "execution_count": 266,
   "metadata": {
    "ExecuteTime": {
     "end_time": "2021-02-14T21:02:19.226800Z",
     "start_time": "2021-02-14T21:02:19.164796Z"
    },
    "code_folding": [
     1
    ],
    "run_control": {
     "marked": false
    }
   },
   "outputs": [],
   "source": [
    "# function for genetic algorithm to minimize (sum of squared error)\n",
    "def sumOfSquaredError(parameterTuple):\n",
    "    function = log_f # it's bad staff #TODO\n",
    "    warnings.filterwarnings(\"ignore\") # do not print warnings by genetic algorithm\n",
    "    val = function(t_train, *parameterTuple)\n",
    "    return np.sum((y_train - val) ** 2.0)\n",
    "\n",
    "def select_agg_resample_df(df, index, granularity, use_nan):\n",
    "    \"\"\"Function for select and group  data in dataframe\n",
    "    input: pandas dataframe, name of index, granularity['week','month'] default as in dataframe\n",
    "    return: aggregated dataframe with extra column with indexes [ROI, CPI, CPC]\"\"\"\n",
    "    group_df = df.groupby(['periodStartDate']).agg({\n",
    "    'netRevenue': 'sum',\n",
    "    'marketingInvestment': 'sum', \n",
    "    'visits': 'sum', \n",
    "    'conversions': 'sum',\n",
    "    'deliveries': 'sum', \n",
    "    'impressions': 'sum', \n",
    "    'clicks': 'sum', \n",
    "    'grossProfit': 'sum' })   \n",
    "\n",
    "    if granularity == 'week':\n",
    "        group_agg_df = group_df.resample('W').agg('sum')\n",
    "    elif granularity == 'month':\n",
    "        group_agg_df = group_df.resample('M', convention='end').agg('sum')\n",
    "    elif granularity == 'day':\n",
    "        group_agg_df = group_df\n",
    "    else:\n",
    "        raise ValueError(\"Incorrect aggregation period, shuld be 'day', 'week' or 'month'\")\n",
    "\n",
    "    if use_nan == False:\n",
    "        group_agg_df.fillna(0)\n",
    "    else:\n",
    "        pass\n",
    "    return group_agg_df\n",
    "\n",
    "\n",
    "from scipy.optimize import differential_evolution\n",
    "import warnings\n",
    "def generate_Initial_Parameters(t_train, y_train,function):\n",
    "    # min and max used for bounds\n",
    "    maxX = max(t_train)\n",
    "    minX = min(t_train)\n",
    "    maxY = max(y_train)\n",
    "    minY = min(y_train)\n",
    "    maxXY = max(maxX, maxY)\n",
    "\n",
    "    parameterBounds = []\n",
    "    parameterBounds.append([-maxXY, maxXY]) # seach bounds for a\n",
    "    parameterBounds.append([-maxXY, maxXY]) # seach bounds for b\n",
    "    #parameterBounds.append([-maxXY, maxXY]) # seach bounds for c\n",
    "\n",
    "    # \"seed\" the numpy random number generator for repeatable results\n",
    "    result = differential_evolution(sumOfSquaredError, parameterBounds, seed=3)\n",
    "    return result.x\n",
    "\n",
    "\n",
    "def regression_calc(df, function):\n",
    "    \"\"\"Calculate paramiters of regression function\n",
    "    input: pandas dataframe [x,y]\n",
    "    output: list[paramiters], list[std diviation err of paramiters]\"\"\"\n",
    "    from scipy.optimize import curve_fit\n",
    "    t_train = df[df.columns[0]]  #\n",
    "    y_train = df[df.columns[1]]\n",
    "    geneticParameters = generate_Initial_Parameters(t_train, y_train, log_f)\n",
    "    popt, pcov = curve_fit(log_f, t_train, y_train, geneticParameters)\n",
    "    #popt, pcov = curve_fit(function, t_train, y_train)\n",
    "    error  = np.sqrt(np.diag(pcov))\n",
    "    return popt, error\n",
    "\n",
    "def filter_df(df, alpha):\n",
    "    return df.ewm(alpha=alpha, adjust=False).mean()\n",
    "\n",
    "\n",
    "# regression functions definition\n",
    "def log_f(x, a, b):\n",
    "    return a * (1-np.exp(-x/b)) #a * (1 - np.exp((x/b)))\n",
    "\n",
    "\n",
    "def line_f(x, a, b):\n",
    "    return a * x + b\n",
    "\n",
    "\n",
    "def sine_f(x, a, b):\n",
    "    return a * np.sin(b * x)\n",
    "\n",
    "\n",
    "def show_chart(zzz_df):\n",
    "    import plotly.graph_objects as go\n",
    "    fig = go.Figure()\n",
    "    # Add traces\n",
    "    x=np.linspace(0, zzz_df.Max_week_invest.to_list()[0], num=100)\n",
    "    fig.add_trace(\n",
    "        go.Scatter(x=x ,\n",
    "               y=log_f(x, zzz_df.a.to_list()[0], zzz_df.b.to_list()[0]),\n",
    "               mode='lines',\n",
    "               name='Regression line'),)\n",
    "\n",
    "    fig.add_trace(\n",
    "        go.Scatter(x=x ,\n",
    "               y=log_f(x, zzz_df.a.to_list()[0], zzz_df.b.to_list()[0]) + 2*zzz_df.R_std.to_list()[0],\n",
    "               mode='lines',\n",
    "               name='Confidence interval 2sigma upper'))\n",
    "    fig.add_trace(\n",
    "        go.Scatter(x=x ,\n",
    "               y=log_f(x, zzz_df.a.to_list()[0], zzz_df.b.to_list()[0])- 2*zzz_df.R_std.to_list()[0],\n",
    "               mode='lines',\n",
    "               name='Confidence interval 2sigma lower'))\n",
    "\n",
    "    fig.add_trace(\n",
    "        go.Scatter(x=zzz_df.Invest_prev_week,\n",
    "               y=zzz_df.Prof_prev_week,\n",
    "               mode='markers',\n",
    "               name='Previous week'))\n",
    "    fig.add_trace(\n",
    "        go.Scatter(x=zzz_df.Invest_last_week,\n",
    "               y=zzz_df.Prof_last_week,\n",
    "               mode='markers',\n",
    "               name='Current week (profit prediction)'))\n",
    "\n",
    "    fig.update_layout(\n",
    "        title_text=\n",
    "        f\"Profit to investment {zzz_df.Business_unit.to_list()[0]} on {zzz_df.Component.to_list()[0]} platform on {data_source.value} level with week granularity with {filter_type.value} filter\",\n",
    "    title_font=dict(size=16))\n",
    "    fig.show()\n",
    "    \n",
    "def platform_calc(df):\n",
    "    business_unit_code = df['businessUnit'].unique().tolist()\n",
    "    business_unit_code.sort()\n",
    "    channel_code_code = df['channelCode'].unique().tolist()\n",
    "    channel_code_code.sort()\n",
    "    currency_code_code = df['currencyCode'].unique().tolist()\n",
    "    currency_code_code.sort()\n",
    "    account_code = df['account'].unique().tolist()\n",
    "\n",
    "    # selecl \"time_window_regr\" number of last weeks from dataset \n",
    "\n",
    "    df_time_selected = df[df['periodStartDate'] >= df['periodStartDate'].max() - pd.DateOffset(weeks=time_window_regr)]\n",
    "\n",
    "    output = pd.DataFrame()\n",
    "\n",
    "    for i in business_unit_code:\n",
    "        df_selected = df_time_selected[df_time_selected['businessUnit'] == i]\n",
    "    \n",
    "        platform_code = df_selected['platformCode'].unique().tolist()\n",
    "        platform_code.sort()\n",
    "\n",
    "        for z in platform_code:\n",
    "            temp_dict = dict([('Client', ''), ('Business_unit', ''), ('Platform', ''),\n",
    "                          ('Corr_coeff', 0), ('Pr_value', 0), ('a', 0), ('b', 0),\n",
    "                          ('Mean', 0), ('R_std', 0), ('Invest', 0), ('Profit', 0),\n",
    "                          ('Prof_last_week', 0), ('Invest_last_week', 0),\n",
    "                          ('Prof_prev_week', 0), ('Invest_prev_week', 0),\n",
    "                          ('Max_week_profit', 0), ('Max_week_invest', 0)])\n",
    "\n",
    "            df_platform = df_selected[df_selected['platformCode'] == z]\n",
    "\n",
    "            df_business_selected_agg = select_agg_resample_df( df_platform, 'periodStartDate', 'week', use_nan=False )\n",
    "               \n",
    "            temp_dict['Max_week_profit'] = df_business_selected_agg.grossProfit[:].max()\n",
    "            temp_dict['Max_week_invest'] = df_business_selected_agg.marketingInvestment[:].max()\n",
    "        \n",
    "            temp_dict['Prof_prev_week'] = df_business_selected_agg.grossProfit[-2:-1].max()\n",
    "            temp_dict['Invest_prev_week'] = df_business_selected_agg.marketingInvestment[-2:-1].max()\n",
    "        \n",
    "            temp_dict['Prof_last_week'] = df_business_selected_agg.grossProfit[-1].max()\n",
    "            temp_dict['Invest_last_week'] = df_business_selected_agg.marketingInvestment[-1].max()\n",
    "        \n",
    "            df_business_selected_agg = df_business_selected_agg.iloc[:-1, :] # get rid of last week in dataset     \n",
    "        \n",
    "            if filter_type.value == 'AWS':\n",
    "                df_business_selected_agg_filter = filter_df( df_business_selected_agg, aws_alpha )\n",
    "            \n",
    "            elif filter_type.value == 'None':\n",
    "                df_business_selected_agg_filter = df_business_selected_agg\n",
    "            \n",
    "            elif filter_type.value == 'Median':\n",
    "                print(\"Median Filter have Not implemented yet\") \n",
    "        \n",
    "            else:\n",
    "                print(\"Incorrect Filter settings\") \n",
    "\n",
    "            temp_dict['Client'] = account_code[0]\n",
    "            temp_dict['Business_unit'] = i\n",
    "            temp_dict['Platform'] = z\n",
    "\n",
    "            temp_dict['Profit'] = np.round( df_business_selected_agg['grossProfit'].sum(), 2 )\n",
    "            temp_dict['Invest'] = np.round( df_business_selected_agg['marketingInvestment'].sum(), 2)\n",
    "\n",
    "            sper_crr, P_value = stat.spearmanr( df_business_selected_agg_filter['marketingInvestment'],                       df_business_selected_agg_filter['grossProfit'])\n",
    "\n",
    "            temp_dict['Corr_coeff'] = sper_crr\n",
    "            temp_dict['Pr_value'] = P_value\n",
    "        \n",
    "        #sorted_df = df_business_selected_agg_filter.sort_values( by=['marketingInvestment'], ascending=False )\n",
    "            sorted_df = df_business_selected_agg_filter\n",
    "        \n",
    "            temp_dict['Mean'] = sorted_df['grossProfit'].describe()[1]\n",
    "        \n",
    "            if sper_crr > corr_thld:\n",
    "                print(i + ' business unit ' + z + ' platform has \\t' + str(sper_crr) + ' corr coefficient')\n",
    "                try:\n",
    "                    t_train = sorted_df['marketingInvestment']\n",
    "                    y_train = sorted_df['grossProfit']\n",
    "\n",
    "                    regr, err = regression_calc(sorted_df[['marketingInvestment', 'grossProfit']], log_f)\n",
    "\n",
    "                    R = sorted_df['grossProfit'] - \\\n",
    "                    log_f(sorted_df['marketingInvestment'], *regr)\n",
    "                    R_std = R.describe()['std']\n",
    "\n",
    "                    a, b = regr\n",
    "                    temp_dict['a'] = a\n",
    "                    temp_dict['b'] = b\n",
    "                    temp_dict['R_std'] = R_std\n",
    "                \n",
    "                    #print('Regression calculated successfully')\n",
    "                except:\n",
    "                    print(\"Regression wasn't calculated\")\n",
    "                    temp_dict['a'] = 0\n",
    "                    temp_dict['b'] = 0\n",
    "            else:\n",
    "                temp_dict['a'] = 0\n",
    "                temp_dict['b'] = 0\n",
    "\n",
    "            output = output.append(temp_dict, ignore_index=True)\n",
    "    return output"
   ]
  },
  {
   "cell_type": "code",
   "execution_count": 105,
   "metadata": {
    "ExecuteTime": {
     "end_time": "2021-02-14T17:52:59.779076Z",
     "start_time": "2021-02-14T17:52:59.770076Z"
    }
   },
   "outputs": [],
   "source": [
    "list_files = os.listdir(\"./input\")\n",
    "mypath = Path().absolute()\n",
    "folder = 'budget_opt\\\\'\n",
    "img_folder = folder + 'img\\\\'\n",
    "corr_thld = 0.9\n",
    "aws_alpha = 0.1\n",
    "time_window_regr = 12"
   ]
  },
  {
   "cell_type": "markdown",
   "metadata": {},
   "source": [
    "## Read out dataset form CSV file"
   ]
  },
  {
   "cell_type": "code",
   "execution_count": 522,
   "metadata": {
    "ExecuteTime": {
     "end_time": "2021-02-14T23:36:36.049260Z",
     "start_time": "2021-02-14T23:36:36.032259Z"
    }
   },
   "outputs": [
    {
     "data": {
      "application/vnd.jupyter.widget-view+json": {
       "model_id": "2666ac375ea44b29a1ef91d639e346fa",
       "version_major": 2,
       "version_minor": 0
      },
      "text/plain": [
       "Dropdown(description='Source file:', options=('4Camping.csv', '4home.csv', 'aliatic.csv', 'apotek.csv', 'audio…"
      ]
     },
     "metadata": {},
     "output_type": "display_data"
    }
   ],
   "source": [
    "file_name = widgets.Dropdown(\n",
    "    options = list_files,\n",
    "    value=list_files[0],\n",
    "    description='Source file:',\n",
    "    disabled=False,\n",
    ")\n",
    "display(file_name)"
   ]
  },
  {
   "cell_type": "code",
   "execution_count": 525,
   "metadata": {
    "ExecuteTime": {
     "end_time": "2021-02-14T23:39:14.311312Z",
     "start_time": "2021-02-14T23:39:13.433262Z"
    },
    "code_folding": []
   },
   "outputs": [
    {
     "data": {
      "text/html": [
       "<div>\n",
       "<style scoped>\n",
       "    .dataframe tbody tr th:only-of-type {\n",
       "        vertical-align: middle;\n",
       "    }\n",
       "\n",
       "    .dataframe tbody tr th {\n",
       "        vertical-align: top;\n",
       "    }\n",
       "\n",
       "    .dataframe thead th {\n",
       "        text-align: right;\n",
       "    }\n",
       "</style>\n",
       "<table border=\"1\" class=\"dataframe\">\n",
       "  <thead>\n",
       "    <tr style=\"text-align: right;\">\n",
       "      <th></th>\n",
       "      <th>account</th>\n",
       "      <th>businessUnit</th>\n",
       "      <th>platformCode</th>\n",
       "      <th>channelCode</th>\n",
       "      <th>adCampaign</th>\n",
       "      <th>marketingInvestment</th>\n",
       "      <th>impressions</th>\n",
       "      <th>clicks</th>\n",
       "      <th>visits</th>\n",
       "      <th>conversions</th>\n",
       "      <th>deliveries</th>\n",
       "      <th>netRevenue</th>\n",
       "      <th>grossProfit</th>\n",
       "      <th>currencyCode</th>\n",
       "      <th>adGroup</th>\n",
       "      <th>periodStartDate</th>\n",
       "    </tr>\n",
       "  </thead>\n",
       "  <tbody>\n",
       "    <tr>\n",
       "      <th>0</th>\n",
       "      <td>forcamping</td>\n",
       "      <td>forcampingcz</td>\n",
       "      <td>unpaid</td>\n",
       "      <td>notset</td>\n",
       "      <td>NaN</td>\n",
       "      <td>0.0</td>\n",
       "      <td>0</td>\n",
       "      <td>0</td>\n",
       "      <td>0</td>\n",
       "      <td>5</td>\n",
       "      <td>5</td>\n",
       "      <td>10724.79</td>\n",
       "      <td>10724.79</td>\n",
       "      <td>CZK</td>\n",
       "      <td>-</td>\n",
       "      <td>2020-01-21</td>\n",
       "    </tr>\n",
       "    <tr>\n",
       "      <th>1</th>\n",
       "      <td>forcamping</td>\n",
       "      <td>forcampingcz</td>\n",
       "      <td>unpaid</td>\n",
       "      <td>direct</td>\n",
       "      <td>NaN</td>\n",
       "      <td>0.0</td>\n",
       "      <td>0</td>\n",
       "      <td>0</td>\n",
       "      <td>0</td>\n",
       "      <td>22</td>\n",
       "      <td>22</td>\n",
       "      <td>48687.03</td>\n",
       "      <td>48687.03</td>\n",
       "      <td>CZK</td>\n",
       "      <td>-</td>\n",
       "      <td>2020-01-21</td>\n",
       "    </tr>\n",
       "    <tr>\n",
       "      <th>2</th>\n",
       "      <td>forcamping</td>\n",
       "      <td>forcampingcz</td>\n",
       "      <td>HeurekaCz</td>\n",
       "      <td>heureka</td>\n",
       "      <td>NaN</td>\n",
       "      <td>0.0</td>\n",
       "      <td>0</td>\n",
       "      <td>0</td>\n",
       "      <td>51</td>\n",
       "      <td>2</td>\n",
       "      <td>2</td>\n",
       "      <td>3342.98</td>\n",
       "      <td>3342.98</td>\n",
       "      <td>CZK</td>\n",
       "      <td>-</td>\n",
       "      <td>2020-01-21</td>\n",
       "    </tr>\n",
       "    <tr>\n",
       "      <th>3</th>\n",
       "      <td>forcamping</td>\n",
       "      <td>forcampingcz</td>\n",
       "      <td>unpaid</td>\n",
       "      <td>organic</td>\n",
       "      <td>NaN</td>\n",
       "      <td>0.0</td>\n",
       "      <td>0</td>\n",
       "      <td>0</td>\n",
       "      <td>0</td>\n",
       "      <td>59</td>\n",
       "      <td>59</td>\n",
       "      <td>121605.97</td>\n",
       "      <td>121605.97</td>\n",
       "      <td>CZK</td>\n",
       "      <td>-</td>\n",
       "      <td>2020-01-21</td>\n",
       "    </tr>\n",
       "    <tr>\n",
       "      <th>4</th>\n",
       "      <td>forcamping</td>\n",
       "      <td>forcampingcz</td>\n",
       "      <td>ZboziCz</td>\n",
       "      <td>zbozi</td>\n",
       "      <td>NaN</td>\n",
       "      <td>0.0</td>\n",
       "      <td>0</td>\n",
       "      <td>0</td>\n",
       "      <td>83</td>\n",
       "      <td>3</td>\n",
       "      <td>3</td>\n",
       "      <td>3604.96</td>\n",
       "      <td>3604.96</td>\n",
       "      <td>CZK</td>\n",
       "      <td>-</td>\n",
       "      <td>2020-01-21</td>\n",
       "    </tr>\n",
       "  </tbody>\n",
       "</table>\n",
       "</div>"
      ],
      "text/plain": [
       "      account  businessUnit platformCode channelCode adCampaign  \\\n",
       "0  forcamping  forcampingcz       unpaid      notset        NaN   \n",
       "1  forcamping  forcampingcz       unpaid      direct        NaN   \n",
       "2  forcamping  forcampingcz    HeurekaCz     heureka        NaN   \n",
       "3  forcamping  forcampingcz       unpaid     organic        NaN   \n",
       "4  forcamping  forcampingcz      ZboziCz       zbozi        NaN   \n",
       "\n",
       "   marketingInvestment  impressions  clicks  visits  conversions  deliveries  \\\n",
       "0                  0.0            0       0       0            5           5   \n",
       "1                  0.0            0       0       0           22          22   \n",
       "2                  0.0            0       0      51            2           2   \n",
       "3                  0.0            0       0       0           59          59   \n",
       "4                  0.0            0       0      83            3           3   \n",
       "\n",
       "   netRevenue  grossProfit currencyCode adGroup periodStartDate  \n",
       "0    10724.79     10724.79          CZK       -      2020-01-21  \n",
       "1    48687.03     48687.03          CZK       -      2020-01-21  \n",
       "2     3342.98      3342.98          CZK       -      2020-01-21  \n",
       "3   121605.97    121605.97          CZK       -      2020-01-21  \n",
       "4     3604.96      3604.96          CZK       -      2020-01-21  "
      ]
     },
     "execution_count": 525,
     "metadata": {},
     "output_type": "execute_result"
    }
   ],
   "source": [
    "df = pd.read_csv('input\\\\'+ file_name.value, sep=\"\\t\", infer_datetime_format=True,\n",
    "                 usecols=usecols_, dtype=dtype_, parse_dates=DateTimeID)\n",
    "\n",
    "df['periodStartDate'] = pd.to_datetime(df['periodStartDate'])\n",
    "df.head(5)"
   ]
  },
  {
   "cell_type": "markdown",
   "metadata": {
    "ExecuteTime": {
     "end_time": "2021-02-12T13:15:25.226069Z",
     "start_time": "2021-02-12T13:15:25.222069Z"
    }
   },
   "source": [
    "## Main settings"
   ]
  },
  {
   "cell_type": "code",
   "execution_count": 8,
   "metadata": {
    "ExecuteTime": {
     "end_time": "2021-02-14T16:42:46.175072Z",
     "start_time": "2021-02-14T16:42:46.152071Z"
    },
    "code_folding": []
   },
   "outputs": [
    {
     "data": {
      "application/vnd.jupyter.widget-view+json": {
       "model_id": "db565516a11440d19e5c74d91d535a48",
       "version_major": 2,
       "version_minor": 0
      },
      "text/plain": [
       "Dropdown(description='Data source:', options=('platform', 'compaign', 'channel'), value='platform')"
      ]
     },
     "metadata": {},
     "output_type": "display_data"
    }
   ],
   "source": [
    "# Data source\n",
    "data_source = widgets.Dropdown(\n",
    "    options = ['platform','compaign','channel'],\n",
    "    value='platform',\n",
    "    description='Data source:',\n",
    "    disabled=False,\n",
    ")\n",
    "display(data_source)"
   ]
  },
  {
   "cell_type": "code",
   "execution_count": 9,
   "metadata": {
    "ExecuteTime": {
     "end_time": "2021-02-14T16:42:46.196073Z",
     "start_time": "2021-02-14T16:42:46.179072Z"
    },
    "code_folding": [
     1
    ]
   },
   "outputs": [
    {
     "data": {
      "application/vnd.jupyter.widget-view+json": {
       "model_id": "283250bc7de1441c893d44f17d08a902",
       "version_major": 2,
       "version_minor": 0
      },
      "text/plain": [
       "Dropdown(description='Filter type:', index=1, options=('None', 'AWS', 'Median'), value='AWS')"
      ]
     },
     "metadata": {},
     "output_type": "display_data"
    }
   ],
   "source": [
    "# Data source\n",
    "filter_type = widgets.Dropdown(\n",
    "    options = ['None','AWS','Median'],\n",
    "    value='AWS',\n",
    "    description='Filter type:',\n",
    "    disabled=False,\n",
    ")\n",
    "display(filter_type)"
   ]
  },
  {
   "cell_type": "code",
   "execution_count": 10,
   "metadata": {
    "ExecuteTime": {
     "end_time": "2021-02-14T16:42:46.223075Z",
     "start_time": "2021-02-14T16:42:46.199073Z"
    },
    "code_folding": [
     1
    ]
   },
   "outputs": [
    {
     "data": {
      "application/vnd.jupyter.widget-view+json": {
       "model_id": "5a3d8edf7a674bef8ede974ebf53b77d",
       "version_major": 2,
       "version_minor": 0
      },
      "text/plain": [
       "Dropdown(description='AWS filter coeff:', index=1, options=(0.05, 0.1, 0.15, 0.2), value=0.1)"
      ]
     },
     "metadata": {},
     "output_type": "display_data"
    }
   ],
   "source": [
    "# Data source\n",
    "AWS_value = widgets.Dropdown(\n",
    "    options = [0.05,0.1,0.15,0.2],\n",
    "    value=0.1,\n",
    "    description='AWS filter coeff:',\n",
    "    disabled=False,\n",
    ")\n",
    "display(AWS_value)"
   ]
  },
  {
   "cell_type": "code",
   "execution_count": 114,
   "metadata": {
    "ExecuteTime": {
     "end_time": "2021-02-14T18:01:15.243415Z",
     "start_time": "2021-02-14T18:01:15.226414Z"
    },
    "code_folding": [
     1
    ]
   },
   "outputs": [
    {
     "data": {
      "application/vnd.jupyter.widget-view+json": {
       "model_id": "c38835209a984b6f8a096d41c7e8abe2",
       "version_major": 2,
       "version_minor": 0
      },
      "text/plain": [
       "Dropdown(description='Save to file:', options=('None', 'Correlation', 'Optimization', 'Both'), value='None')"
      ]
     },
     "metadata": {},
     "output_type": "display_data"
    }
   ],
   "source": [
    "settings_list = ['None','Correlation','Optimization','Both']\n",
    "save_settings = widgets.Dropdown(\n",
    "    options = settings_list,\n",
    "    value = settings_list[0],\n",
    "    description='Save to file:',\n",
    "    disabled=False,\n",
    ")\n",
    "display(save_settings)"
   ]
  },
  {
   "cell_type": "code",
   "execution_count": 116,
   "metadata": {
    "ExecuteTime": {
     "end_time": "2021-02-14T18:04:46.391492Z",
     "start_time": "2021-02-14T18:04:46.374491Z"
    },
    "code_folding": [
     1
    ],
    "run_control": {
     "marked": false
    }
   },
   "outputs": [
    {
     "data": {
      "application/vnd.jupyter.widget-view+json": {
       "model_id": "b35ce589110e44148824dc0421f02ffb",
       "version_major": 2,
       "version_minor": 0
      },
      "text/plain": [
       "Dropdown(description='Log output:', options=('All', 'None', 'Error only'), value='All')"
      ]
     },
     "metadata": {},
     "output_type": "display_data"
    }
   ],
   "source": [
    "log_list = ['All','None','Error only']\n",
    "log_settings = widgets.Dropdown(\n",
    "    options = log_list,\n",
    "    value = log_list[0],\n",
    "    description='Log output:',\n",
    "    disabled=False,\n",
    ")\n",
    "display(log_settings)"
   ]
  },
  {
   "cell_type": "code",
   "execution_count": 128,
   "metadata": {
    "ExecuteTime": {
     "end_time": "2021-02-14T18:27:56.205985Z",
     "start_time": "2021-02-14T18:27:56.188984Z"
    },
    "code_folding": [
     0
    ]
   },
   "outputs": [
    {
     "data": {
      "application/vnd.jupyter.widget-view+json": {
       "model_id": "20f12bb902db4f6996e64be312a5dae0",
       "version_major": 2,
       "version_minor": 0
      },
      "text/plain": [
       "Dropdown(description='AWS filter coeff:', index=2, options=(0.99, 0.95, 0.9, 0.85), value=0.9)"
      ]
     },
     "metadata": {},
     "output_type": "display_data"
    }
   ],
   "source": [
    "Corr_value = widgets.Dropdown(\n",
    "    options = [0.99,0.95,0.9,0.85],\n",
    "    value=0.9,\n",
    "    description='AWS filter coeff:',\n",
    "    disabled=False,\n",
    ")\n",
    "display(Corr_value)"
   ]
  },
  {
   "cell_type": "code",
   "execution_count": 220,
   "metadata": {
    "ExecuteTime": {
     "end_time": "2021-02-14T19:59:58.469841Z",
     "start_time": "2021-02-14T19:59:58.463840Z"
    }
   },
   "outputs": [
    {
     "data": {
      "text/plain": [
       "'platform'"
      ]
     },
     "execution_count": 220,
     "metadata": {},
     "output_type": "execute_result"
    }
   ],
   "source": [
    "data_source.value"
   ]
  },
  {
   "cell_type": "markdown",
   "metadata": {},
   "source": [
    "## Data processing: \n",
    "* aggregating:\n",
    "* correlation calculation:\n",
    "* regression calculation:"
   ]
  },
  {
   "cell_type": "code",
   "execution_count": 541,
   "metadata": {
    "ExecuteTime": {
     "end_time": "2021-02-14T23:57:21.612502Z",
     "start_time": "2021-02-14T23:56:52.711849Z"
    },
    "code_folding": [],
    "run_control": {
     "marked": false
    }
   },
   "outputs": [],
   "source": [
    "## function prototype was extracted form here\n",
    "# select window for regression\n",
    "\n",
    "business_unit_code = df['businessUnit'].unique().tolist()\n",
    "business_unit_code.sort()\n",
    "channel_code_code = df['channelCode'].unique().tolist()\n",
    "channel_code_code.sort()\n",
    "currency_code_code = df['currencyCode'].unique().tolist()\n",
    "currency_code_code.sort()\n",
    "account_code = df['account'].unique().tolist()\n",
    "\n",
    "# selecl \"time_window_regr\" number of last weeks from dataset \n",
    "\n",
    "df_time_selected = df[df['periodStartDate'] >= df['periodStartDate'].max() - pd.DateOffset(weeks=time_window_regr)]\n",
    "\n",
    "output = pd.DataFrame()\n",
    "\n",
    "for i in business_unit_code:\n",
    "    \n",
    "    df_selected = df_time_selected[df_time_selected['businessUnit'] == i]\n",
    "    \n",
    "    if data_source.value == 'platform':\n",
    "        component_code = df_selected['platformCode'].unique().tolist()\n",
    "        \n",
    "    elif data_source.value == 'compaign':\n",
    "        component_code = df_selected['adCampaign'].unique().tolist()\n",
    "        \n",
    "        \n",
    "    elif data_source.value == 'channel':\n",
    "        component_code = df_selected['channelCode'].unique().tolist()\n",
    "       \n",
    "    \n",
    "    else:\n",
    "        print('Incorrect component settings')\n",
    "        \n",
    "    #component_code.sort()\n",
    "\n",
    "    for z in component_code:\n",
    "        temp_dict = dict([('Client', ''), ('Business_unit', ''), ('Platform', ''),\n",
    "                          ('Corr_coeff', 0), ('Pr_value', 0), ('a', 0), ('b', 0),\n",
    "                          ('Mean', 0), ('R_std', 0), ('Invest', 0), ('Profit', 0),\n",
    "                          ('Prof_last_week', 0), ('Invest_last_week', 0),\n",
    "                          ('Prof_prev_week', 0), ('Invest_prev_week', 0),\n",
    "                          ('Max_week_profit', 0), ('Max_week_invest', 0)])\n",
    "\n",
    "        \n",
    "        if data_source.value == 'platform':\n",
    "            df_platform = df_selected[df_selected['platformCode'] == z]\n",
    "        \n",
    "        elif data_source.value == 'compaign':\n",
    "            df_platform = df_selected[df_selected['adCampaign'] == z]\n",
    "        \n",
    "        \n",
    "        elif data_source.value == 'channel':\n",
    "            df_platform = df_selected[df_selected['channelCode'] == z]\n",
    "        \n",
    "        \n",
    "        \n",
    "\n",
    "        df_business_selected_agg = select_agg_resample_df( df_platform, 'periodStartDate', 'week', use_nan=False )\n",
    "               \n",
    "        temp_dict['Max_week_profit'] = df_business_selected_agg.grossProfit[:].max()\n",
    "        temp_dict['Max_week_invest'] = df_business_selected_agg.marketingInvestment[:].max()\n",
    "        \n",
    "        temp_dict['Prof_prev_week'] = df_business_selected_agg.grossProfit[-2:-1].max()\n",
    "        temp_dict['Invest_prev_week'] = df_business_selected_agg.marketingInvestment[-2:-1].max()\n",
    "        \n",
    "        temp_dict['Prof_last_week'] = df_business_selected_agg.grossProfit[-1].max()\n",
    "        temp_dict['Invest_last_week'] = df_business_selected_agg.marketingInvestment[-1].max()\n",
    "        \n",
    "        df_business_selected_agg = df_business_selected_agg.iloc[:-1, :] # get rid of last week in dataset     \n",
    "        \n",
    "        if filter_type.value == 'AWS':\n",
    "            df_business_selected_agg_filter = filter_df( df_business_selected_agg, aws_alpha )\n",
    "            \n",
    "        elif filter_type.value == 'None':\n",
    "            df_business_selected_agg_filter = df_business_selected_agg\n",
    "            \n",
    "        elif filter_type.value == 'Median':\n",
    "            print(\"Median Filter have Not implemented yet\") \n",
    "        \n",
    "        else:\n",
    "            print(\"Incorrect Filter settings\") \n",
    "\n",
    "        temp_dict['Client'] = account_code[0]\n",
    "        temp_dict['Business_unit'] = i\n",
    "        temp_dict['Component'] = z\n",
    "\n",
    "        temp_dict['Profit'] = np.round( df_business_selected_agg['grossProfit'].sum(), 2 )\n",
    "        temp_dict['Invest'] = np.round( df_business_selected_agg['marketingInvestment'].sum(), 2)\n",
    "\n",
    "        sper_crr, P_value = stat.spearmanr( df_business_selected_agg_filter['marketingInvestment'],                       df_business_selected_agg_filter['grossProfit'])\n",
    "\n",
    "        temp_dict['Corr_coeff'] = sper_crr\n",
    "        temp_dict['Pr_value'] = P_value\n",
    "        \n",
    "        #sorted_df = df_business_selected_agg_filter.sort_values( by=['marketingInvestment'], ascending=False )\n",
    "        sorted_df = df_business_selected_agg_filter\n",
    "        \n",
    "        temp_dict['Mean'] = sorted_df['grossProfit'].describe()[1]\n",
    "        \n",
    "        if sper_crr > Corr_value.value:\n",
    "            #print(i + ' business unit ' + z + ' platform has \\t' + str(sper_crr) + ' corr coefficient')\n",
    "            try:\n",
    "                t_train = sorted_df['marketingInvestment']\n",
    "                y_train = sorted_df['grossProfit']\n",
    "\n",
    "                regr, err = regression_calc(sorted_df[['marketingInvestment', 'grossProfit']], log_f)\n",
    "\n",
    "                R = sorted_df['grossProfit'] - \\\n",
    "                    log_f(sorted_df['marketingInvestment'], *regr)\n",
    "                R_std = R.describe()['std']\n",
    "\n",
    "                a, b = regr\n",
    "                temp_dict['a'] = a\n",
    "                temp_dict['b'] = b\n",
    "                temp_dict['R_std'] = R_std\n",
    "                \n",
    "                #print('Regression calculated successfully')\n",
    "            except:\n",
    "                print(\"Regression wasn't calculated\")\n",
    "                temp_dict['a'] = 0\n",
    "                temp_dict['b'] = 0\n",
    "        else:\n",
    "            temp_dict['a'] = 0\n",
    "            temp_dict['b'] = 0\n",
    "\n",
    "        output = output.append(temp_dict, ignore_index=True)\n",
    "\n",
    "filterd_out = output[~output['Platform'].isin(dropped_ch)]\n",
    "corr_df = filterd_out[filterd_out['Corr_coeff'] > corr_thld]\n",
    "non_corr_df = filterd_out[filterd_out['Corr_coeff'] <= corr_thld]\n",
    "control_inv = corr_df['Invest'].sum()\n",
    "non_control_inv = non_corr_df['Invest'].sum()\n",
    "control_prof = corr_df['Profit'].sum()\n",
    "non_control_iprof = non_corr_df['Profit'].sum()"
   ]
  },
  {
   "cell_type": "code",
   "execution_count": 542,
   "metadata": {
    "ExecuteTime": {
     "end_time": "2021-02-14T23:57:25.782740Z",
     "start_time": "2021-02-14T23:57:25.777740Z"
    },
    "code_folding": []
   },
   "outputs": [],
   "source": [
    "#output = platform_calc(df) # it doesn't work"
   ]
  },
  {
   "cell_type": "markdown",
   "metadata": {},
   "source": [
    "1. select last week and calculate total investment and total profit\n",
    "2. plot regression in range up to max investment within last 12 weeks / plot point - last week\n",
    "3. add to dataframe: last week invest, profit, and best week invest, profit\n",
    "4. Optimization  - change max 10% of \n",
    "5. print out list or recommendations\n",
    "6. print out top 10 or list of components form 85% of budget/profit"
   ]
  },
  {
   "cell_type": "markdown",
   "metadata": {},
   "source": [
    "## Processing results"
   ]
  },
  {
   "cell_type": "code",
   "execution_count": 543,
   "metadata": {
    "ExecuteTime": {
     "end_time": "2021-02-14T23:57:39.334515Z",
     "start_time": "2021-02-14T23:57:39.281512Z"
    }
   },
   "outputs": [
    {
     "name": "stdout",
     "output_type": "stream",
     "text": [
      "The total number of compomnents equal 31\n"
     ]
    },
    {
     "data": {
      "text/html": [
       "<div>\n",
       "<style scoped>\n",
       "    .dataframe tbody tr th:only-of-type {\n",
       "        vertical-align: middle;\n",
       "    }\n",
       "\n",
       "    .dataframe tbody tr th {\n",
       "        vertical-align: top;\n",
       "    }\n",
       "\n",
       "    .dataframe thead th {\n",
       "        text-align: right;\n",
       "    }\n",
       "</style>\n",
       "<table border=\"1\" class=\"dataframe\">\n",
       "  <thead>\n",
       "    <tr style=\"text-align: right;\">\n",
       "      <th></th>\n",
       "      <th>Business_unit</th>\n",
       "      <th>Client</th>\n",
       "      <th>Component</th>\n",
       "      <th>Corr_coeff</th>\n",
       "      <th>Invest</th>\n",
       "      <th>Invest_last_week</th>\n",
       "      <th>Invest_prev_week</th>\n",
       "      <th>Max_week_invest</th>\n",
       "      <th>Max_week_profit</th>\n",
       "      <th>Mean</th>\n",
       "      <th>Platform</th>\n",
       "      <th>Pr_value</th>\n",
       "      <th>Prof_last_week</th>\n",
       "      <th>Prof_prev_week</th>\n",
       "      <th>Profit</th>\n",
       "      <th>R_std</th>\n",
       "      <th>a</th>\n",
       "      <th>b</th>\n",
       "    </tr>\n",
       "  </thead>\n",
       "  <tbody>\n",
       "    <tr>\n",
       "      <th>0</th>\n",
       "      <td>forcampingcz</td>\n",
       "      <td>forcamping</td>\n",
       "      <td>notset</td>\n",
       "      <td>0.972028</td>\n",
       "      <td>317365.40</td>\n",
       "      <td>36991.09</td>\n",
       "      <td>33280.19</td>\n",
       "      <td>102401.64</td>\n",
       "      <td>695648.12</td>\n",
       "      <td>224131.020611</td>\n",
       "      <td></td>\n",
       "      <td>1.286812e-07</td>\n",
       "      <td>404637.21</td>\n",
       "      <td>442612.94</td>\n",
       "      <td>5022440.54</td>\n",
       "      <td>11529.868264</td>\n",
       "      <td>3.164712e+05</td>\n",
       "      <td>5.935032e+03</td>\n",
       "    </tr>\n",
       "    <tr>\n",
       "      <th>1</th>\n",
       "      <td>forcampingcz</td>\n",
       "      <td>forcamping</td>\n",
       "      <td>criteo</td>\n",
       "      <td>0.993007</td>\n",
       "      <td>67789.67</td>\n",
       "      <td>4956.18</td>\n",
       "      <td>6047.11</td>\n",
       "      <td>6320.67</td>\n",
       "      <td>132136.11</td>\n",
       "      <td>55405.222527</td>\n",
       "      <td></td>\n",
       "      <td>1.301673e-10</td>\n",
       "      <td>113442.16</td>\n",
       "      <td>107817.76</td>\n",
       "      <td>1142152.95</td>\n",
       "      <td>1836.283516</td>\n",
       "      <td>1.227312e+05</td>\n",
       "      <td>4.747344e+03</td>\n",
       "    </tr>\n",
       "    <tr>\n",
       "      <th>2</th>\n",
       "      <td>forcampingcz</td>\n",
       "      <td>forcamping</td>\n",
       "      <td>heureka</td>\n",
       "      <td>0.979021</td>\n",
       "      <td>222673.13</td>\n",
       "      <td>30636.39</td>\n",
       "      <td>30244.50</td>\n",
       "      <td>33132.28</td>\n",
       "      <td>1015661.07</td>\n",
       "      <td>321917.633458</td>\n",
       "      <td></td>\n",
       "      <td>3.089801e-08</td>\n",
       "      <td>760150.39</td>\n",
       "      <td>838491.14</td>\n",
       "      <td>8068447.30</td>\n",
       "      <td>23257.777361</td>\n",
       "      <td>1.273541e+06</td>\n",
       "      <td>2.672932e+04</td>\n",
       "    </tr>\n",
       "    <tr>\n",
       "      <th>3</th>\n",
       "      <td>forcampingcz</td>\n",
       "      <td>forcamping</td>\n",
       "      <td>zbozi</td>\n",
       "      <td>0.979021</td>\n",
       "      <td>34583.40</td>\n",
       "      <td>4118.10</td>\n",
       "      <td>3783.30</td>\n",
       "      <td>4166.10</td>\n",
       "      <td>352958.63</td>\n",
       "      <td>110627.769487</td>\n",
       "      <td></td>\n",
       "      <td>3.089801e-08</td>\n",
       "      <td>231206.37</td>\n",
       "      <td>259138.78</td>\n",
       "      <td>2629182.95</td>\n",
       "      <td>5745.758200</td>\n",
       "      <td>-6.796166e+05</td>\n",
       "      <td>-9.718661e+03</td>\n",
       "    </tr>\n",
       "    <tr>\n",
       "      <th>4</th>\n",
       "      <td>forcampingcz</td>\n",
       "      <td>forcamping</td>\n",
       "      <td>Sklik-BRAND</td>\n",
       "      <td>0.937063</td>\n",
       "      <td>5061.04</td>\n",
       "      <td>670.00</td>\n",
       "      <td>578.80</td>\n",
       "      <td>735.94</td>\n",
       "      <td>263101.39</td>\n",
       "      <td>65027.541243</td>\n",
       "      <td></td>\n",
       "      <td>6.993165e-06</td>\n",
       "      <td>208705.92</td>\n",
       "      <td>195910.09</td>\n",
       "      <td>1729166.30</td>\n",
       "      <td>4187.198533</td>\n",
       "      <td>-4.445387e+08</td>\n",
       "      <td>-1.249775e+06</td>\n",
       "    </tr>\n",
       "    <tr>\n",
       "      <th>5</th>\n",
       "      <td>forcampingcz</td>\n",
       "      <td>forcamping</td>\n",
       "      <td>cjaffiliate</td>\n",
       "      <td>0.906392</td>\n",
       "      <td>103494.52</td>\n",
       "      <td>26286.72</td>\n",
       "      <td>32137.67</td>\n",
       "      <td>32137.67</td>\n",
       "      <td>480485.11</td>\n",
       "      <td>124430.342271</td>\n",
       "      <td></td>\n",
       "      <td>4.828598e-05</td>\n",
       "      <td>290653.15</td>\n",
       "      <td>347712.57</td>\n",
       "      <td>3046087.55</td>\n",
       "      <td>37215.479773</td>\n",
       "      <td>1.752522e+05</td>\n",
       "      <td>3.187368e+02</td>\n",
       "    </tr>\n",
       "    <tr>\n",
       "      <th>6</th>\n",
       "      <td>forcampingcz</td>\n",
       "      <td>forcamping</td>\n",
       "      <td>Sklik-SEA-BRA</td>\n",
       "      <td>0.993007</td>\n",
       "      <td>94567.65</td>\n",
       "      <td>12637.23</td>\n",
       "      <td>9584.66</td>\n",
       "      <td>12637.23</td>\n",
       "      <td>107689.01</td>\n",
       "      <td>31575.627216</td>\n",
       "      <td></td>\n",
       "      <td>1.301673e-10</td>\n",
       "      <td>78458.46</td>\n",
       "      <td>79791.33</td>\n",
       "      <td>823703.82</td>\n",
       "      <td>1811.729702</td>\n",
       "      <td>-2.368605e+05</td>\n",
       "      <td>-2.966269e+04</td>\n",
       "    </tr>\n",
       "    <tr>\n",
       "      <th>7</th>\n",
       "      <td>forcampingcz</td>\n",
       "      <td>forcamping</td>\n",
       "      <td>Ads-SEA-BRA</td>\n",
       "      <td>1.000000</td>\n",
       "      <td>164639.48</td>\n",
       "      <td>27702.60</td>\n",
       "      <td>25983.93</td>\n",
       "      <td>27702.60</td>\n",
       "      <td>262878.28</td>\n",
       "      <td>33627.092994</td>\n",
       "      <td></td>\n",
       "      <td>0.000000e+00</td>\n",
       "      <td>220411.74</td>\n",
       "      <td>262878.28</td>\n",
       "      <td>1184629.94</td>\n",
       "      <td>3961.306837</td>\n",
       "      <td>-1.137364e+05</td>\n",
       "      <td>-2.138192e+04</td>\n",
       "    </tr>\n",
       "    <tr>\n",
       "      <th>8</th>\n",
       "      <td>forcampingcz</td>\n",
       "      <td>forcamping</td>\n",
       "      <td>Sklik-SEA-GEN</td>\n",
       "      <td>0.979021</td>\n",
       "      <td>42683.63</td>\n",
       "      <td>4703.57</td>\n",
       "      <td>4891.55</td>\n",
       "      <td>5144.02</td>\n",
       "      <td>52542.12</td>\n",
       "      <td>13302.514293</td>\n",
       "      <td></td>\n",
       "      <td>3.089801e-08</td>\n",
       "      <td>23698.14</td>\n",
       "      <td>52542.12</td>\n",
       "      <td>329902.92</td>\n",
       "      <td>844.581374</td>\n",
       "      <td>-1.052270e+08</td>\n",
       "      <td>-1.403281e+07</td>\n",
       "    </tr>\n",
       "    <tr>\n",
       "      <th>9</th>\n",
       "      <td>forcampingcz</td>\n",
       "      <td>forcamping</td>\n",
       "      <td>Ads-SEA-GEN</td>\n",
       "      <td>1.000000</td>\n",
       "      <td>326666.87</td>\n",
       "      <td>38068.02</td>\n",
       "      <td>35816.30</td>\n",
       "      <td>63073.15</td>\n",
       "      <td>180177.26</td>\n",
       "      <td>32800.000698</td>\n",
       "      <td></td>\n",
       "      <td>0.000000e+00</td>\n",
       "      <td>162476.34</td>\n",
       "      <td>180177.26</td>\n",
       "      <td>960498.62</td>\n",
       "      <td>4148.889594</td>\n",
       "      <td>-6.982375e+04</td>\n",
       "      <td>-3.421143e+04</td>\n",
       "    </tr>\n",
       "    <tr>\n",
       "      <th>10</th>\n",
       "      <td>forcampingcz</td>\n",
       "      <td>forcamping</td>\n",
       "      <td>Ads-SEA-PRO</td>\n",
       "      <td>0.993007</td>\n",
       "      <td>192822.19</td>\n",
       "      <td>22310.46</td>\n",
       "      <td>23523.40</td>\n",
       "      <td>23769.07</td>\n",
       "      <td>168002.21</td>\n",
       "      <td>58616.910886</td>\n",
       "      <td></td>\n",
       "      <td>1.301673e-10</td>\n",
       "      <td>159716.42</td>\n",
       "      <td>142459.03</td>\n",
       "      <td>1428249.09</td>\n",
       "      <td>6407.002649</td>\n",
       "      <td>-1.138563e+09</td>\n",
       "      <td>-1.443916e+08</td>\n",
       "    </tr>\n",
       "    <tr>\n",
       "      <th>11</th>\n",
       "      <td>forcampingcz</td>\n",
       "      <td>forcamping</td>\n",
       "      <td>Sklik-SEA-PRO</td>\n",
       "      <td>0.902098</td>\n",
       "      <td>16134.05</td>\n",
       "      <td>1416.37</td>\n",
       "      <td>1544.38</td>\n",
       "      <td>2504.83</td>\n",
       "      <td>47450.98</td>\n",
       "      <td>11570.290841</td>\n",
       "      <td></td>\n",
       "      <td>5.997857e-05</td>\n",
       "      <td>22988.03</td>\n",
       "      <td>15114.38</td>\n",
       "      <td>275884.98</td>\n",
       "      <td>1531.989122</td>\n",
       "      <td>-5.198974e+03</td>\n",
       "      <td>-6.317619e+02</td>\n",
       "    </tr>\n",
       "    <tr>\n",
       "      <th>12</th>\n",
       "      <td>forcampingcz</td>\n",
       "      <td>forcamping</td>\n",
       "      <td>Ads-DSA-PRO</td>\n",
       "      <td>0.937063</td>\n",
       "      <td>82776.37</td>\n",
       "      <td>10115.30</td>\n",
       "      <td>9868.98</td>\n",
       "      <td>13355.34</td>\n",
       "      <td>140809.18</td>\n",
       "      <td>40576.429791</td>\n",
       "      <td></td>\n",
       "      <td>6.993165e-06</td>\n",
       "      <td>126410.38</td>\n",
       "      <td>109456.65</td>\n",
       "      <td>897240.21</td>\n",
       "      <td>5558.798435</td>\n",
       "      <td>-8.662412e+08</td>\n",
       "      <td>-7.136667e+07</td>\n",
       "    </tr>\n",
       "    <tr>\n",
       "      <th>13</th>\n",
       "      <td>forcampingcz</td>\n",
       "      <td>forcamping</td>\n",
       "      <td>Ads-DREM</td>\n",
       "      <td>0.958042</td>\n",
       "      <td>34923.65</td>\n",
       "      <td>6556.72</td>\n",
       "      <td>4648.69</td>\n",
       "      <td>6556.72</td>\n",
       "      <td>88454.06</td>\n",
       "      <td>26106.023307</td>\n",
       "      <td></td>\n",
       "      <td>9.543582e-07</td>\n",
       "      <td>76865.99</td>\n",
       "      <td>33735.02</td>\n",
       "      <td>521027.71</td>\n",
       "      <td>3037.192397</td>\n",
       "      <td>9.660166e+07</td>\n",
       "      <td>5.859882e+06</td>\n",
       "    </tr>\n",
       "    <tr>\n",
       "      <th>14</th>\n",
       "      <td>forcampingcz</td>\n",
       "      <td>forcamping</td>\n",
       "      <td>Sklik-DIS</td>\n",
       "      <td>0.943860</td>\n",
       "      <td>10162.41</td>\n",
       "      <td>429.55</td>\n",
       "      <td>720.38</td>\n",
       "      <td>2607.25</td>\n",
       "      <td>20452.56</td>\n",
       "      <td>2321.594746</td>\n",
       "      <td></td>\n",
       "      <td>3.995310e-06</td>\n",
       "      <td>4015.04</td>\n",
       "      <td>20200.22</td>\n",
       "      <td>87556.21</td>\n",
       "      <td>369.018580</td>\n",
       "      <td>-7.448873e+02</td>\n",
       "      <td>-2.944551e+02</td>\n",
       "    </tr>\n",
       "  </tbody>\n",
       "</table>\n",
       "</div>"
      ],
      "text/plain": [
       "   Business_unit      Client      Component  Corr_coeff     Invest  \\\n",
       "0   forcampingcz  forcamping         notset    0.972028  317365.40   \n",
       "1   forcampingcz  forcamping         criteo    0.993007   67789.67   \n",
       "2   forcampingcz  forcamping        heureka    0.979021  222673.13   \n",
       "3   forcampingcz  forcamping          zbozi    0.979021   34583.40   \n",
       "4   forcampingcz  forcamping    Sklik-BRAND    0.937063    5061.04   \n",
       "5   forcampingcz  forcamping    cjaffiliate    0.906392  103494.52   \n",
       "6   forcampingcz  forcamping  Sklik-SEA-BRA    0.993007   94567.65   \n",
       "7   forcampingcz  forcamping    Ads-SEA-BRA    1.000000  164639.48   \n",
       "8   forcampingcz  forcamping  Sklik-SEA-GEN    0.979021   42683.63   \n",
       "9   forcampingcz  forcamping    Ads-SEA-GEN    1.000000  326666.87   \n",
       "10  forcampingcz  forcamping    Ads-SEA-PRO    0.993007  192822.19   \n",
       "11  forcampingcz  forcamping  Sklik-SEA-PRO    0.902098   16134.05   \n",
       "12  forcampingcz  forcamping    Ads-DSA-PRO    0.937063   82776.37   \n",
       "13  forcampingcz  forcamping       Ads-DREM    0.958042   34923.65   \n",
       "14  forcampingcz  forcamping      Sklik-DIS    0.943860   10162.41   \n",
       "\n",
       "    Invest_last_week  Invest_prev_week  Max_week_invest  Max_week_profit  \\\n",
       "0           36991.09          33280.19        102401.64        695648.12   \n",
       "1            4956.18           6047.11          6320.67        132136.11   \n",
       "2           30636.39          30244.50         33132.28       1015661.07   \n",
       "3            4118.10           3783.30          4166.10        352958.63   \n",
       "4             670.00            578.80           735.94        263101.39   \n",
       "5           26286.72          32137.67         32137.67        480485.11   \n",
       "6           12637.23           9584.66         12637.23        107689.01   \n",
       "7           27702.60          25983.93         27702.60        262878.28   \n",
       "8            4703.57           4891.55          5144.02         52542.12   \n",
       "9           38068.02          35816.30         63073.15        180177.26   \n",
       "10          22310.46          23523.40         23769.07        168002.21   \n",
       "11           1416.37           1544.38          2504.83         47450.98   \n",
       "12          10115.30           9868.98         13355.34        140809.18   \n",
       "13           6556.72           4648.69          6556.72         88454.06   \n",
       "14            429.55            720.38          2607.25         20452.56   \n",
       "\n",
       "             Mean Platform      Pr_value  Prof_last_week  Prof_prev_week  \\\n",
       "0   224131.020611           1.286812e-07       404637.21       442612.94   \n",
       "1    55405.222527           1.301673e-10       113442.16       107817.76   \n",
       "2   321917.633458           3.089801e-08       760150.39       838491.14   \n",
       "3   110627.769487           3.089801e-08       231206.37       259138.78   \n",
       "4    65027.541243           6.993165e-06       208705.92       195910.09   \n",
       "5   124430.342271           4.828598e-05       290653.15       347712.57   \n",
       "6    31575.627216           1.301673e-10        78458.46        79791.33   \n",
       "7    33627.092994           0.000000e+00       220411.74       262878.28   \n",
       "8    13302.514293           3.089801e-08        23698.14        52542.12   \n",
       "9    32800.000698           0.000000e+00       162476.34       180177.26   \n",
       "10   58616.910886           1.301673e-10       159716.42       142459.03   \n",
       "11   11570.290841           5.997857e-05        22988.03        15114.38   \n",
       "12   40576.429791           6.993165e-06       126410.38       109456.65   \n",
       "13   26106.023307           9.543582e-07        76865.99        33735.02   \n",
       "14    2321.594746           3.995310e-06         4015.04        20200.22   \n",
       "\n",
       "        Profit         R_std             a             b  \n",
       "0   5022440.54  11529.868264  3.164712e+05  5.935032e+03  \n",
       "1   1142152.95   1836.283516  1.227312e+05  4.747344e+03  \n",
       "2   8068447.30  23257.777361  1.273541e+06  2.672932e+04  \n",
       "3   2629182.95   5745.758200 -6.796166e+05 -9.718661e+03  \n",
       "4   1729166.30   4187.198533 -4.445387e+08 -1.249775e+06  \n",
       "5   3046087.55  37215.479773  1.752522e+05  3.187368e+02  \n",
       "6    823703.82   1811.729702 -2.368605e+05 -2.966269e+04  \n",
       "7   1184629.94   3961.306837 -1.137364e+05 -2.138192e+04  \n",
       "8    329902.92    844.581374 -1.052270e+08 -1.403281e+07  \n",
       "9    960498.62   4148.889594 -6.982375e+04 -3.421143e+04  \n",
       "10  1428249.09   6407.002649 -1.138563e+09 -1.443916e+08  \n",
       "11   275884.98   1531.989122 -5.198974e+03 -6.317619e+02  \n",
       "12   897240.21   5558.798435 -8.662412e+08 -7.136667e+07  \n",
       "13   521027.71   3037.192397  9.660166e+07  5.859882e+06  \n",
       "14    87556.21    369.018580 -7.448873e+02 -2.944551e+02  "
      ]
     },
     "execution_count": 543,
     "metadata": {},
     "output_type": "execute_result"
    },
    {
     "name": "stdout",
     "output_type": "stream",
     "text": [
      "The number of components with correlation >= threshold equal 15\n",
      "All investment for last 12 weeks are 3818675.2600000002\n",
      "All controled investment for last 12 weeks are 1716343.4599999997\n"
     ]
    }
   ],
   "source": [
    "#display(filterd_out.head(5))\n",
    "print('The total number of compomnents equal '  + str(len(filterd_out)))\n",
    "\n",
    "corr_thd_df = filterd_out[filterd_out['Corr_coeff'] >= Corr_value.value]\n",
    "corr_thd_df = corr_thd_df[corr_thd_df['Prof_last_week'] > 0]\n",
    "corr_thd_df = corr_thd_df[corr_thd_df['Prof_prev_week'] > 0]\n",
    "corr_thd_df.reset_index(inplace=True, drop=True)\n",
    "corr_thd_df.head(20)\n",
    "print(\"The number of components with correlation >= threshold equal \" + str(len(corr_thd_df)))\n",
    "print(f\"All investment for last 12 weeks are {filterd_out['Invest'].sum()}\")\n",
    "print(f\"All controled investment for last 12 weeks are {corr_thd_df['Invest'].sum()}\")\n",
    "\n"
   ]
  },
  {
   "cell_type": "markdown",
   "metadata": {},
   "source": [
    "## Visual inspection (sanity check)"
   ]
  },
  {
   "cell_type": "code",
   "execution_count": 545,
   "metadata": {
    "ExecuteTime": {
     "end_time": "2021-02-14T23:58:13.012442Z",
     "start_time": "2021-02-14T23:58:13.007441Z"
    }
   },
   "outputs": [],
   "source": [
    "zzz_list =  [i for i in range(len(corr_thd_df))]"
   ]
  },
  {
   "cell_type": "code",
   "execution_count": 476,
   "metadata": {
    "ExecuteTime": {
     "end_time": "2021-02-14T23:08:49.255925Z",
     "start_time": "2021-02-14T23:08:49.238924Z"
    },
    "code_folding": []
   },
   "outputs": [
    {
     "data": {
      "application/vnd.jupyter.widget-view+json": {
       "model_id": "f56ec7974d554f80bc3f82009ca1889b",
       "version_major": 2,
       "version_minor": 0
      },
      "text/plain": [
       "Dropdown(description='Source file:', options=(0, 1, 2, 3, 4, 5, 6, 7, 8, 9, 10, 11, 12), value=0)"
      ]
     },
     "metadata": {},
     "output_type": "display_data"
    }
   ],
   "source": [
    "\n",
    "data_line = widgets.Dropdown(\n",
    "    options = zzz_list,\n",
    "    value=zzz_list[0],\n",
    "    description='Source file:',\n",
    "    disabled=False,\n",
    ")\n",
    "display(data_line)"
   ]
  },
  {
   "cell_type": "code",
   "execution_count": 547,
   "metadata": {
    "ExecuteTime": {
     "end_time": "2021-02-14T23:58:24.585104Z",
     "start_time": "2021-02-14T23:58:24.533101Z"
    }
   },
   "outputs": [
    {
     "data": {
      "text/html": [
       "<div>\n",
       "<style scoped>\n",
       "    .dataframe tbody tr th:only-of-type {\n",
       "        vertical-align: middle;\n",
       "    }\n",
       "\n",
       "    .dataframe tbody tr th {\n",
       "        vertical-align: top;\n",
       "    }\n",
       "\n",
       "    .dataframe thead th {\n",
       "        text-align: right;\n",
       "    }\n",
       "</style>\n",
       "<table border=\"1\" class=\"dataframe\">\n",
       "  <thead>\n",
       "    <tr style=\"text-align: right;\">\n",
       "      <th></th>\n",
       "      <th>Business_unit</th>\n",
       "      <th>Client</th>\n",
       "      <th>Component</th>\n",
       "      <th>Corr_coeff</th>\n",
       "      <th>Invest</th>\n",
       "      <th>Invest_last_week</th>\n",
       "      <th>Invest_prev_week</th>\n",
       "      <th>Max_week_invest</th>\n",
       "      <th>Max_week_profit</th>\n",
       "      <th>Mean</th>\n",
       "      <th>Platform</th>\n",
       "      <th>Pr_value</th>\n",
       "      <th>Prof_last_week</th>\n",
       "      <th>Prof_prev_week</th>\n",
       "      <th>Profit</th>\n",
       "      <th>R_std</th>\n",
       "      <th>a</th>\n",
       "      <th>b</th>\n",
       "    </tr>\n",
       "  </thead>\n",
       "  <tbody>\n",
       "    <tr>\n",
       "      <th>1</th>\n",
       "      <td>forcampingcz</td>\n",
       "      <td>forcamping</td>\n",
       "      <td>criteo</td>\n",
       "      <td>0.993007</td>\n",
       "      <td>67789.67</td>\n",
       "      <td>4956.18</td>\n",
       "      <td>6047.11</td>\n",
       "      <td>6320.67</td>\n",
       "      <td>132136.11</td>\n",
       "      <td>55405.222527</td>\n",
       "      <td></td>\n",
       "      <td>1.301673e-10</td>\n",
       "      <td>113442.16</td>\n",
       "      <td>107817.76</td>\n",
       "      <td>1142152.95</td>\n",
       "      <td>1836.283516</td>\n",
       "      <td>122731.247584</td>\n",
       "      <td>4747.344327</td>\n",
       "    </tr>\n",
       "  </tbody>\n",
       "</table>\n",
       "</div>"
      ],
      "text/plain": [
       "  Business_unit      Client Component  Corr_coeff    Invest  Invest_last_week  \\\n",
       "1  forcampingcz  forcamping    criteo    0.993007  67789.67           4956.18   \n",
       "\n",
       "   Invest_prev_week  Max_week_invest  Max_week_profit          Mean Platform  \\\n",
       "1           6047.11          6320.67        132136.11  55405.222527            \n",
       "\n",
       "       Pr_value  Prof_last_week  Prof_prev_week      Profit        R_std  \\\n",
       "1  1.301673e-10       113442.16       107817.76  1142152.95  1836.283516   \n",
       "\n",
       "               a            b  \n",
       "1  122731.247584  4747.344327  "
      ]
     },
     "execution_count": 547,
     "metadata": {},
     "output_type": "execute_result"
    },
    {
     "data": {
      "application/vnd.plotly.v1+json": {
       "config": {
        "plotlyServerURL": "https://plot.ly"
       },
       "data": [
        {
         "mode": "lines",
         "name": "Regression line",
         "type": "scatter",
         "x": [
          0,
          63.845151515151514,
          127.69030303030303,
          191.53545454545454,
          255.38060606060606,
          319.2257575757576,
          383.0709090909091,
          446.91606060606057,
          510.7612121212121,
          574.6063636363637,
          638.4515151515152,
          702.2966666666666,
          766.1418181818182,
          829.9869696969697,
          893.8321212121211,
          957.6772727272727,
          1021.5224242424242,
          1085.3675757575757,
          1149.2127272727273,
          1213.0578787878787,
          1276.9030303030304,
          1340.7481818181818,
          1404.5933333333332,
          1468.438484848485,
          1532.2836363636363,
          1596.1287878787878,
          1659.9739393939394,
          1723.8190909090908,
          1787.6642424242423,
          1851.509393939394,
          1915.3545454545454,
          1979.199696969697,
          2043.0448484848484,
          2106.89,
          2170.7351515151513,
          2234.580303030303,
          2298.4254545454546,
          2362.270606060606,
          2426.1157575757575,
          2489.960909090909,
          2553.806060606061,
          2617.651212121212,
          2681.4963636363636,
          2745.341515151515,
          2809.1866666666665,
          2873.031818181818,
          2936.87696969697,
          3000.7221212121212,
          3064.5672727272727,
          3128.412424242424,
          3192.2575757575755,
          3256.1027272727274,
          3319.947878787879,
          3383.7930303030303,
          3447.6381818181817,
          3511.483333333333,
          3575.3284848484845,
          3639.1736363636364,
          3703.018787878788,
          3766.8639393939393,
          3830.7090909090907,
          3894.554242424242,
          3958.399393939394,
          4022.2445454545455,
          4086.089696969697,
          4149.934848484849,
          4213.78,
          4277.625151515152,
          4341.470303030303,
          4405.3154545454545,
          4469.160606060606,
          4533.005757575757,
          4596.850909090909,
          4660.69606060606,
          4724.541212121212,
          4788.386363636364,
          4852.231515151515,
          4916.076666666667,
          4979.921818181818,
          5043.76696969697,
          5107.612121212122,
          5171.4572727272725,
          5235.302424242424,
          5299.147575757575,
          5362.992727272727,
          5426.837878787878,
          5490.68303030303,
          5554.528181818182,
          5618.373333333333,
          5682.218484848485,
          5746.063636363636,
          5809.908787878788,
          5873.75393939394,
          5937.599090909091,
          6001.4442424242425,
          6065.289393939393,
          6129.134545454545,
          6192.979696969697,
          6256.824848484848,
          6320.67
         ],
         "y": [
          0,
          1639.514583763596,
          3257.127588888664,
          4853.131589257523,
          6427.815250382293,
          7981.463381615198,
          9514.356987661338,
          11026.773319403366,
          12518.98592404724,
          13991.264694597983,
          15443.875918674697,
          16877.082326673288,
          18291.143139285992,
          19686.31411438594,
          21062.847593285525,
          22420.992546376783,
          23760.994618162065,
          25083.096171683217,
          26387.536332357173,
          27674.55103122604,
          28944.37304762941,
          30197.232051306582,
          31433.354643936378,
          32652.964400122146,
          33856.28190782902,
          35043.52480828132,
          36214.90783532671,
          37370.64285427463,
          38510.93890021587,
          39636.00221583029,
          40746.03628868939,
          41841.24188806074,
          42921.8171012205,
          43987.95736928111,
          45039.85552254029,
          46077.70181535767,
          47101.683960565795,
          48111.98716342122,
          49108.79415510219,
          50092.28522575876,
          51062.63825712152,
          52020.0287546746,
          52964.629879398904,
          53896.612479091455,
          54816.14511926606,
          55723.39411364155,
          56618.5235542224,
          57501.69534097771,
          58373.069211123766,
          59232.80276801516,
          60081.05150965033,
          60917.96885679598,
          61743.70618073599,
          62558.412830649606,
          63362.236160623805,
          64155.321556304996,
          64937.81246119447,
          65709.85040259275,
          66471.57501719728,
          67223.12407635825,
          67964.63351099683,
          68696.23743619087,
          69418.06817543185,
          70130.25628455795,
          70832.9305753674,
          71526.21813891632,
          72210.24436850545,
          72885.1329823597,
          73551.0060460048,
          74207.98399434498,
          74856.18565344572,
          75495.72826202567,
          76126.72749266119,
          76749.29747270785,
          77363.55080494242,
          77969.59858792898,
          78567.5504361131,
          79157.51449964759,
          79739.59748395327,
          80313.90466901865,
          80880.53992844156,
          81439.60574821658,
          81991.20324527149,
          82535.43218575593,
          83072.39100308597,
          83602.17681574753,
          84124.88544486192,
          84640.61143151678,
          85149.44805386556,
          85651.48734399854,
          86146.82010458835,
          86635.5359253133,
          87117.72319906132,
          87593.46913791723,
          88062.85978893675,
          88525.98004970947,
          88982.91368371423,
          89433.74333546909,
          89878.55054547911,
          90317.41576498449
         ]
        },
        {
         "mode": "lines",
         "name": "Confidence interval 2sigma upper",
         "type": "scatter",
         "x": [
          0,
          63.845151515151514,
          127.69030303030303,
          191.53545454545454,
          255.38060606060606,
          319.2257575757576,
          383.0709090909091,
          446.91606060606057,
          510.7612121212121,
          574.6063636363637,
          638.4515151515152,
          702.2966666666666,
          766.1418181818182,
          829.9869696969697,
          893.8321212121211,
          957.6772727272727,
          1021.5224242424242,
          1085.3675757575757,
          1149.2127272727273,
          1213.0578787878787,
          1276.9030303030304,
          1340.7481818181818,
          1404.5933333333332,
          1468.438484848485,
          1532.2836363636363,
          1596.1287878787878,
          1659.9739393939394,
          1723.8190909090908,
          1787.6642424242423,
          1851.509393939394,
          1915.3545454545454,
          1979.199696969697,
          2043.0448484848484,
          2106.89,
          2170.7351515151513,
          2234.580303030303,
          2298.4254545454546,
          2362.270606060606,
          2426.1157575757575,
          2489.960909090909,
          2553.806060606061,
          2617.651212121212,
          2681.4963636363636,
          2745.341515151515,
          2809.1866666666665,
          2873.031818181818,
          2936.87696969697,
          3000.7221212121212,
          3064.5672727272727,
          3128.412424242424,
          3192.2575757575755,
          3256.1027272727274,
          3319.947878787879,
          3383.7930303030303,
          3447.6381818181817,
          3511.483333333333,
          3575.3284848484845,
          3639.1736363636364,
          3703.018787878788,
          3766.8639393939393,
          3830.7090909090907,
          3894.554242424242,
          3958.399393939394,
          4022.2445454545455,
          4086.089696969697,
          4149.934848484849,
          4213.78,
          4277.625151515152,
          4341.470303030303,
          4405.3154545454545,
          4469.160606060606,
          4533.005757575757,
          4596.850909090909,
          4660.69606060606,
          4724.541212121212,
          4788.386363636364,
          4852.231515151515,
          4916.076666666667,
          4979.921818181818,
          5043.76696969697,
          5107.612121212122,
          5171.4572727272725,
          5235.302424242424,
          5299.147575757575,
          5362.992727272727,
          5426.837878787878,
          5490.68303030303,
          5554.528181818182,
          5618.373333333333,
          5682.218484848485,
          5746.063636363636,
          5809.908787878788,
          5873.75393939394,
          5937.599090909091,
          6001.4442424242425,
          6065.289393939393,
          6129.134545454545,
          6192.979696969697,
          6256.824848484848,
          6320.67
         ],
         "y": [
          3672.567031058201,
          5312.081614821796,
          6929.694619946865,
          8525.698620315725,
          10100.382281440494,
          11654.030412673399,
          13186.92401871954,
          14699.340350461567,
          16191.55295510544,
          17663.831725656186,
          19116.442949732897,
          20549.64935773149,
          21963.710170344195,
          23358.88114544414,
          24735.414624343728,
          26093.559577434986,
          27433.561649220268,
          28755.663202741416,
          30060.103363415372,
          31347.118062284244,
          32616.940078687614,
          33869.799082364785,
          35105.92167499458,
          36325.531431180345,
          37528.84893888722,
          38716.09183933952,
          39887.47486638491,
          41043.20988533283,
          42183.50593127407,
          43308.56924688849,
          44418.60331974759,
          45513.808919118936,
          46594.3841322787,
          47660.52440033931,
          48712.42255359849,
          49750.26884641587,
          50774.250991623994,
          51784.55419447942,
          52781.361186160386,
          53764.85225681696,
          54735.20528817972,
          55692.595785732796,
          56637.1969104571,
          57569.179510149654,
          58488.71215032426,
          59395.96114469975,
          60291.0905852806,
          61174.26237203591,
          62045.636242181965,
          62905.369799073356,
          63753.61854070853,
          64590.53588785418,
          65416.27321179419,
          66230.9798617078,
          67034.803191682,
          67827.8885873632,
          68610.37949225267,
          69382.41743365096,
          70144.14204825548,
          70895.69110741645,
          71637.20054205504,
          72368.80446724908,
          73090.63520649006,
          73802.82331561616,
          74505.4976064256,
          75198.78516997452,
          75882.81139956365,
          76557.70001341791,
          77223.573077063,
          77880.55102540318,
          78528.75268450392,
          79168.29529308388,
          79799.29452371939,
          80421.86450376606,
          81036.11783600063,
          81642.16561898719,
          82240.11746717131,
          82830.0815307058,
          83412.16451501148,
          83986.47170007686,
          84553.10695949977,
          85112.17277927478,
          85663.7702763297,
          86207.99921681413,
          86744.95803414418,
          87274.74384680574,
          87797.45247592013,
          88313.17846257499,
          88822.01508492377,
          89324.05437505674,
          89819.38713564655,
          90308.10295637151,
          90790.29023011953,
          91266.03616897544,
          91735.42681999496,
          92198.54708076768,
          92655.48071477244,
          93106.3103665273,
          93551.11757653732,
          93989.98279604269
         ]
        },
        {
         "mode": "lines",
         "name": "Confidence interval 2sigma lower",
         "type": "scatter",
         "x": [
          0,
          63.845151515151514,
          127.69030303030303,
          191.53545454545454,
          255.38060606060606,
          319.2257575757576,
          383.0709090909091,
          446.91606060606057,
          510.7612121212121,
          574.6063636363637,
          638.4515151515152,
          702.2966666666666,
          766.1418181818182,
          829.9869696969697,
          893.8321212121211,
          957.6772727272727,
          1021.5224242424242,
          1085.3675757575757,
          1149.2127272727273,
          1213.0578787878787,
          1276.9030303030304,
          1340.7481818181818,
          1404.5933333333332,
          1468.438484848485,
          1532.2836363636363,
          1596.1287878787878,
          1659.9739393939394,
          1723.8190909090908,
          1787.6642424242423,
          1851.509393939394,
          1915.3545454545454,
          1979.199696969697,
          2043.0448484848484,
          2106.89,
          2170.7351515151513,
          2234.580303030303,
          2298.4254545454546,
          2362.270606060606,
          2426.1157575757575,
          2489.960909090909,
          2553.806060606061,
          2617.651212121212,
          2681.4963636363636,
          2745.341515151515,
          2809.1866666666665,
          2873.031818181818,
          2936.87696969697,
          3000.7221212121212,
          3064.5672727272727,
          3128.412424242424,
          3192.2575757575755,
          3256.1027272727274,
          3319.947878787879,
          3383.7930303030303,
          3447.6381818181817,
          3511.483333333333,
          3575.3284848484845,
          3639.1736363636364,
          3703.018787878788,
          3766.8639393939393,
          3830.7090909090907,
          3894.554242424242,
          3958.399393939394,
          4022.2445454545455,
          4086.089696969697,
          4149.934848484849,
          4213.78,
          4277.625151515152,
          4341.470303030303,
          4405.3154545454545,
          4469.160606060606,
          4533.005757575757,
          4596.850909090909,
          4660.69606060606,
          4724.541212121212,
          4788.386363636364,
          4852.231515151515,
          4916.076666666667,
          4979.921818181818,
          5043.76696969697,
          5107.612121212122,
          5171.4572727272725,
          5235.302424242424,
          5299.147575757575,
          5362.992727272727,
          5426.837878787878,
          5490.68303030303,
          5554.528181818182,
          5618.373333333333,
          5682.218484848485,
          5746.063636363636,
          5809.908787878788,
          5873.75393939394,
          5937.599090909091,
          6001.4442424242425,
          6065.289393939393,
          6129.134545454545,
          6192.979696969697,
          6256.824848484848,
          6320.67
         ],
         "y": [
          -3672.567031058201,
          -2033.052447294605,
          -415.43944216953696,
          1180.5645581993222,
          2755.248219324092,
          4308.896350556997,
          5841.789956603137,
          7354.206288345165,
          8846.418892989039,
          10318.697663539782,
          11771.308887616497,
          13204.515295615087,
          14618.576108227791,
          16013.747083327738,
          17390.280562227323,
          18748.42551531858,
          20088.427587103863,
          21410.529140625018,
          22714.969301298974,
          24001.98400016784,
          25271.80601657121,
          26524.66502024838,
          27760.78761287818,
          28980.397369063947,
          30183.71487677082,
          31370.95777722312,
          32542.34080426851,
          33698.07582321643,
          34838.37186915767,
          35963.43518477209,
          37073.46925763119,
          38168.67485700254,
          39249.2500701623,
          40315.39033822291,
          41367.28849148209,
          42405.13478429947,
          43429.116929507596,
          44439.42013236302,
          45436.22712404399,
          46419.71819470056,
          47390.07122606332,
          48347.4617236164,
          49292.062848340705,
          50224.045448033256,
          51143.57808820786,
          52050.82708258335,
          52945.956523164205,
          53829.12830991951,
          54700.50218006557,
          55560.23573695696,
          56408.48447859213,
          57245.40182573778,
          58071.139149677794,
          58885.84579959141,
          59689.669129565606,
          60482.7545252468,
          61265.245430136274,
          62037.283371534555,
          62799.00798613908,
          63550.55704530005,
          64292.066479938636,
          65023.670405132674,
          65745.50114437364,
          66457.68925349975,
          67160.36354430919,
          67853.65110785811,
          68537.67733744724,
          69212.5659513015,
          69878.43901494659,
          70535.41696328677,
          71183.61862238751,
          71823.16123096747,
          72454.16046160298,
          73076.73044164965,
          73690.98377388422,
          74297.03155687077,
          74894.9834050549,
          75484.94746858938,
          76067.03045289507,
          76641.33763796045,
          77207.97289738336,
          77767.03871715837,
          78318.63621421329,
          78862.86515469772,
          79399.82397202776,
          79929.60978468932,
          80452.31841380372,
          80968.04440045857,
          81476.88102280736,
          81978.92031294033,
          82474.25307353014,
          82962.9688942551,
          83445.15616800312,
          83920.90210685902,
          84390.29275787855,
          84853.41301865126,
          85310.34665265602,
          85761.17630441088,
          86205.9835144209,
          86644.84873392628
         ]
        },
        {
         "mode": "markers",
         "name": "Previous week",
         "type": "scatter",
         "x": [
          6047.1100000000015
         ],
         "y": [
          107817.76
         ]
        },
        {
         "mode": "markers",
         "name": "Current week (profit prediction)",
         "type": "scatter",
         "x": [
          4956.18
         ],
         "y": [
          113442.16
         ]
        }
       ],
       "layout": {
        "template": {
         "data": {
          "bar": [
           {
            "error_x": {
             "color": "#2a3f5f"
            },
            "error_y": {
             "color": "#2a3f5f"
            },
            "marker": {
             "line": {
              "color": "#E5ECF6",
              "width": 0.5
             }
            },
            "type": "bar"
           }
          ],
          "barpolar": [
           {
            "marker": {
             "line": {
              "color": "#E5ECF6",
              "width": 0.5
             }
            },
            "type": "barpolar"
           }
          ],
          "carpet": [
           {
            "aaxis": {
             "endlinecolor": "#2a3f5f",
             "gridcolor": "white",
             "linecolor": "white",
             "minorgridcolor": "white",
             "startlinecolor": "#2a3f5f"
            },
            "baxis": {
             "endlinecolor": "#2a3f5f",
             "gridcolor": "white",
             "linecolor": "white",
             "minorgridcolor": "white",
             "startlinecolor": "#2a3f5f"
            },
            "type": "carpet"
           }
          ],
          "choropleth": [
           {
            "colorbar": {
             "outlinewidth": 0,
             "ticks": ""
            },
            "type": "choropleth"
           }
          ],
          "contour": [
           {
            "colorbar": {
             "outlinewidth": 0,
             "ticks": ""
            },
            "colorscale": [
             [
              0,
              "#0d0887"
             ],
             [
              0.1111111111111111,
              "#46039f"
             ],
             [
              0.2222222222222222,
              "#7201a8"
             ],
             [
              0.3333333333333333,
              "#9c179e"
             ],
             [
              0.4444444444444444,
              "#bd3786"
             ],
             [
              0.5555555555555556,
              "#d8576b"
             ],
             [
              0.6666666666666666,
              "#ed7953"
             ],
             [
              0.7777777777777778,
              "#fb9f3a"
             ],
             [
              0.8888888888888888,
              "#fdca26"
             ],
             [
              1,
              "#f0f921"
             ]
            ],
            "type": "contour"
           }
          ],
          "contourcarpet": [
           {
            "colorbar": {
             "outlinewidth": 0,
             "ticks": ""
            },
            "type": "contourcarpet"
           }
          ],
          "heatmap": [
           {
            "colorbar": {
             "outlinewidth": 0,
             "ticks": ""
            },
            "colorscale": [
             [
              0,
              "#0d0887"
             ],
             [
              0.1111111111111111,
              "#46039f"
             ],
             [
              0.2222222222222222,
              "#7201a8"
             ],
             [
              0.3333333333333333,
              "#9c179e"
             ],
             [
              0.4444444444444444,
              "#bd3786"
             ],
             [
              0.5555555555555556,
              "#d8576b"
             ],
             [
              0.6666666666666666,
              "#ed7953"
             ],
             [
              0.7777777777777778,
              "#fb9f3a"
             ],
             [
              0.8888888888888888,
              "#fdca26"
             ],
             [
              1,
              "#f0f921"
             ]
            ],
            "type": "heatmap"
           }
          ],
          "heatmapgl": [
           {
            "colorbar": {
             "outlinewidth": 0,
             "ticks": ""
            },
            "colorscale": [
             [
              0,
              "#0d0887"
             ],
             [
              0.1111111111111111,
              "#46039f"
             ],
             [
              0.2222222222222222,
              "#7201a8"
             ],
             [
              0.3333333333333333,
              "#9c179e"
             ],
             [
              0.4444444444444444,
              "#bd3786"
             ],
             [
              0.5555555555555556,
              "#d8576b"
             ],
             [
              0.6666666666666666,
              "#ed7953"
             ],
             [
              0.7777777777777778,
              "#fb9f3a"
             ],
             [
              0.8888888888888888,
              "#fdca26"
             ],
             [
              1,
              "#f0f921"
             ]
            ],
            "type": "heatmapgl"
           }
          ],
          "histogram": [
           {
            "marker": {
             "colorbar": {
              "outlinewidth": 0,
              "ticks": ""
             }
            },
            "type": "histogram"
           }
          ],
          "histogram2d": [
           {
            "colorbar": {
             "outlinewidth": 0,
             "ticks": ""
            },
            "colorscale": [
             [
              0,
              "#0d0887"
             ],
             [
              0.1111111111111111,
              "#46039f"
             ],
             [
              0.2222222222222222,
              "#7201a8"
             ],
             [
              0.3333333333333333,
              "#9c179e"
             ],
             [
              0.4444444444444444,
              "#bd3786"
             ],
             [
              0.5555555555555556,
              "#d8576b"
             ],
             [
              0.6666666666666666,
              "#ed7953"
             ],
             [
              0.7777777777777778,
              "#fb9f3a"
             ],
             [
              0.8888888888888888,
              "#fdca26"
             ],
             [
              1,
              "#f0f921"
             ]
            ],
            "type": "histogram2d"
           }
          ],
          "histogram2dcontour": [
           {
            "colorbar": {
             "outlinewidth": 0,
             "ticks": ""
            },
            "colorscale": [
             [
              0,
              "#0d0887"
             ],
             [
              0.1111111111111111,
              "#46039f"
             ],
             [
              0.2222222222222222,
              "#7201a8"
             ],
             [
              0.3333333333333333,
              "#9c179e"
             ],
             [
              0.4444444444444444,
              "#bd3786"
             ],
             [
              0.5555555555555556,
              "#d8576b"
             ],
             [
              0.6666666666666666,
              "#ed7953"
             ],
             [
              0.7777777777777778,
              "#fb9f3a"
             ],
             [
              0.8888888888888888,
              "#fdca26"
             ],
             [
              1,
              "#f0f921"
             ]
            ],
            "type": "histogram2dcontour"
           }
          ],
          "mesh3d": [
           {
            "colorbar": {
             "outlinewidth": 0,
             "ticks": ""
            },
            "type": "mesh3d"
           }
          ],
          "parcoords": [
           {
            "line": {
             "colorbar": {
              "outlinewidth": 0,
              "ticks": ""
             }
            },
            "type": "parcoords"
           }
          ],
          "pie": [
           {
            "automargin": true,
            "type": "pie"
           }
          ],
          "scatter": [
           {
            "marker": {
             "colorbar": {
              "outlinewidth": 0,
              "ticks": ""
             }
            },
            "type": "scatter"
           }
          ],
          "scatter3d": [
           {
            "line": {
             "colorbar": {
              "outlinewidth": 0,
              "ticks": ""
             }
            },
            "marker": {
             "colorbar": {
              "outlinewidth": 0,
              "ticks": ""
             }
            },
            "type": "scatter3d"
           }
          ],
          "scattercarpet": [
           {
            "marker": {
             "colorbar": {
              "outlinewidth": 0,
              "ticks": ""
             }
            },
            "type": "scattercarpet"
           }
          ],
          "scattergeo": [
           {
            "marker": {
             "colorbar": {
              "outlinewidth": 0,
              "ticks": ""
             }
            },
            "type": "scattergeo"
           }
          ],
          "scattergl": [
           {
            "marker": {
             "colorbar": {
              "outlinewidth": 0,
              "ticks": ""
             }
            },
            "type": "scattergl"
           }
          ],
          "scattermapbox": [
           {
            "marker": {
             "colorbar": {
              "outlinewidth": 0,
              "ticks": ""
             }
            },
            "type": "scattermapbox"
           }
          ],
          "scatterpolar": [
           {
            "marker": {
             "colorbar": {
              "outlinewidth": 0,
              "ticks": ""
             }
            },
            "type": "scatterpolar"
           }
          ],
          "scatterpolargl": [
           {
            "marker": {
             "colorbar": {
              "outlinewidth": 0,
              "ticks": ""
             }
            },
            "type": "scatterpolargl"
           }
          ],
          "scatterternary": [
           {
            "marker": {
             "colorbar": {
              "outlinewidth": 0,
              "ticks": ""
             }
            },
            "type": "scatterternary"
           }
          ],
          "surface": [
           {
            "colorbar": {
             "outlinewidth": 0,
             "ticks": ""
            },
            "colorscale": [
             [
              0,
              "#0d0887"
             ],
             [
              0.1111111111111111,
              "#46039f"
             ],
             [
              0.2222222222222222,
              "#7201a8"
             ],
             [
              0.3333333333333333,
              "#9c179e"
             ],
             [
              0.4444444444444444,
              "#bd3786"
             ],
             [
              0.5555555555555556,
              "#d8576b"
             ],
             [
              0.6666666666666666,
              "#ed7953"
             ],
             [
              0.7777777777777778,
              "#fb9f3a"
             ],
             [
              0.8888888888888888,
              "#fdca26"
             ],
             [
              1,
              "#f0f921"
             ]
            ],
            "type": "surface"
           }
          ],
          "table": [
           {
            "cells": {
             "fill": {
              "color": "#EBF0F8"
             },
             "line": {
              "color": "white"
             }
            },
            "header": {
             "fill": {
              "color": "#C8D4E3"
             },
             "line": {
              "color": "white"
             }
            },
            "type": "table"
           }
          ]
         },
         "layout": {
          "annotationdefaults": {
           "arrowcolor": "#2a3f5f",
           "arrowhead": 0,
           "arrowwidth": 1
          },
          "autotypenumbers": "strict",
          "coloraxis": {
           "colorbar": {
            "outlinewidth": 0,
            "ticks": ""
           }
          },
          "colorscale": {
           "diverging": [
            [
             0,
             "#8e0152"
            ],
            [
             0.1,
             "#c51b7d"
            ],
            [
             0.2,
             "#de77ae"
            ],
            [
             0.3,
             "#f1b6da"
            ],
            [
             0.4,
             "#fde0ef"
            ],
            [
             0.5,
             "#f7f7f7"
            ],
            [
             0.6,
             "#e6f5d0"
            ],
            [
             0.7,
             "#b8e186"
            ],
            [
             0.8,
             "#7fbc41"
            ],
            [
             0.9,
             "#4d9221"
            ],
            [
             1,
             "#276419"
            ]
           ],
           "sequential": [
            [
             0,
             "#0d0887"
            ],
            [
             0.1111111111111111,
             "#46039f"
            ],
            [
             0.2222222222222222,
             "#7201a8"
            ],
            [
             0.3333333333333333,
             "#9c179e"
            ],
            [
             0.4444444444444444,
             "#bd3786"
            ],
            [
             0.5555555555555556,
             "#d8576b"
            ],
            [
             0.6666666666666666,
             "#ed7953"
            ],
            [
             0.7777777777777778,
             "#fb9f3a"
            ],
            [
             0.8888888888888888,
             "#fdca26"
            ],
            [
             1,
             "#f0f921"
            ]
           ],
           "sequentialminus": [
            [
             0,
             "#0d0887"
            ],
            [
             0.1111111111111111,
             "#46039f"
            ],
            [
             0.2222222222222222,
             "#7201a8"
            ],
            [
             0.3333333333333333,
             "#9c179e"
            ],
            [
             0.4444444444444444,
             "#bd3786"
            ],
            [
             0.5555555555555556,
             "#d8576b"
            ],
            [
             0.6666666666666666,
             "#ed7953"
            ],
            [
             0.7777777777777778,
             "#fb9f3a"
            ],
            [
             0.8888888888888888,
             "#fdca26"
            ],
            [
             1,
             "#f0f921"
            ]
           ]
          },
          "colorway": [
           "#636efa",
           "#EF553B",
           "#00cc96",
           "#ab63fa",
           "#FFA15A",
           "#19d3f3",
           "#FF6692",
           "#B6E880",
           "#FF97FF",
           "#FECB52"
          ],
          "font": {
           "color": "#2a3f5f"
          },
          "geo": {
           "bgcolor": "white",
           "lakecolor": "white",
           "landcolor": "#E5ECF6",
           "showlakes": true,
           "showland": true,
           "subunitcolor": "white"
          },
          "hoverlabel": {
           "align": "left"
          },
          "hovermode": "closest",
          "mapbox": {
           "style": "light"
          },
          "paper_bgcolor": "white",
          "plot_bgcolor": "#E5ECF6",
          "polar": {
           "angularaxis": {
            "gridcolor": "white",
            "linecolor": "white",
            "ticks": ""
           },
           "bgcolor": "#E5ECF6",
           "radialaxis": {
            "gridcolor": "white",
            "linecolor": "white",
            "ticks": ""
           }
          },
          "scene": {
           "xaxis": {
            "backgroundcolor": "#E5ECF6",
            "gridcolor": "white",
            "gridwidth": 2,
            "linecolor": "white",
            "showbackground": true,
            "ticks": "",
            "zerolinecolor": "white"
           },
           "yaxis": {
            "backgroundcolor": "#E5ECF6",
            "gridcolor": "white",
            "gridwidth": 2,
            "linecolor": "white",
            "showbackground": true,
            "ticks": "",
            "zerolinecolor": "white"
           },
           "zaxis": {
            "backgroundcolor": "#E5ECF6",
            "gridcolor": "white",
            "gridwidth": 2,
            "linecolor": "white",
            "showbackground": true,
            "ticks": "",
            "zerolinecolor": "white"
           }
          },
          "shapedefaults": {
           "line": {
            "color": "#2a3f5f"
           }
          },
          "ternary": {
           "aaxis": {
            "gridcolor": "white",
            "linecolor": "white",
            "ticks": ""
           },
           "baxis": {
            "gridcolor": "white",
            "linecolor": "white",
            "ticks": ""
           },
           "bgcolor": "#E5ECF6",
           "caxis": {
            "gridcolor": "white",
            "linecolor": "white",
            "ticks": ""
           }
          },
          "title": {
           "x": 0.05
          },
          "xaxis": {
           "automargin": true,
           "gridcolor": "white",
           "linecolor": "white",
           "ticks": "",
           "title": {
            "standoff": 15
           },
           "zerolinecolor": "white",
           "zerolinewidth": 2
          },
          "yaxis": {
           "automargin": true,
           "gridcolor": "white",
           "linecolor": "white",
           "ticks": "",
           "title": {
            "standoff": 15
           },
           "zerolinecolor": "white",
           "zerolinewidth": 2
          }
         }
        },
        "title": {
         "font": {
          "size": 16
         },
         "text": "Profit to investment forcampingcz on criteo platform on channel level with week granularity with AWS filter"
        }
       }
      },
      "text/html": [
       "<div>                            <div id=\"cce75002-6c21-4f91-87b8-b94b71372446\" class=\"plotly-graph-div\" style=\"height:525px; width:100%;\"></div>            <script type=\"text/javascript\">                require([\"plotly\"], function(Plotly) {                    window.PLOTLYENV=window.PLOTLYENV || {};                                    if (document.getElementById(\"cce75002-6c21-4f91-87b8-b94b71372446\")) {                    Plotly.newPlot(                        \"cce75002-6c21-4f91-87b8-b94b71372446\",                        [{\"mode\": \"lines\", \"name\": \"Regression line\", \"type\": \"scatter\", \"x\": [0.0, 63.845151515151514, 127.69030303030303, 191.53545454545454, 255.38060606060606, 319.2257575757576, 383.0709090909091, 446.91606060606057, 510.7612121212121, 574.6063636363637, 638.4515151515152, 702.2966666666666, 766.1418181818182, 829.9869696969697, 893.8321212121211, 957.6772727272727, 1021.5224242424242, 1085.3675757575757, 1149.2127272727273, 1213.0578787878787, 1276.9030303030304, 1340.7481818181818, 1404.5933333333332, 1468.438484848485, 1532.2836363636363, 1596.1287878787878, 1659.9739393939394, 1723.8190909090908, 1787.6642424242423, 1851.509393939394, 1915.3545454545454, 1979.199696969697, 2043.0448484848484, 2106.89, 2170.7351515151513, 2234.580303030303, 2298.4254545454546, 2362.270606060606, 2426.1157575757575, 2489.960909090909, 2553.806060606061, 2617.651212121212, 2681.4963636363636, 2745.341515151515, 2809.1866666666665, 2873.031818181818, 2936.87696969697, 3000.7221212121212, 3064.5672727272727, 3128.412424242424, 3192.2575757575755, 3256.1027272727274, 3319.947878787879, 3383.7930303030303, 3447.6381818181817, 3511.483333333333, 3575.3284848484845, 3639.1736363636364, 3703.018787878788, 3766.8639393939393, 3830.7090909090907, 3894.554242424242, 3958.399393939394, 4022.2445454545455, 4086.089696969697, 4149.934848484849, 4213.78, 4277.625151515152, 4341.470303030303, 4405.3154545454545, 4469.160606060606, 4533.005757575757, 4596.850909090909, 4660.69606060606, 4724.541212121212, 4788.386363636364, 4852.231515151515, 4916.076666666667, 4979.921818181818, 5043.76696969697, 5107.612121212122, 5171.4572727272725, 5235.302424242424, 5299.147575757575, 5362.992727272727, 5426.837878787878, 5490.68303030303, 5554.528181818182, 5618.373333333333, 5682.218484848485, 5746.063636363636, 5809.908787878788, 5873.75393939394, 5937.599090909091, 6001.4442424242425, 6065.289393939393, 6129.134545454545, 6192.979696969697, 6256.824848484848, 6320.67], \"y\": [0.0, 1639.514583763596, 3257.127588888664, 4853.131589257523, 6427.815250382293, 7981.463381615198, 9514.356987661338, 11026.773319403366, 12518.98592404724, 13991.264694597983, 15443.875918674697, 16877.082326673288, 18291.143139285992, 19686.31411438594, 21062.847593285525, 22420.992546376783, 23760.994618162065, 25083.096171683217, 26387.536332357173, 27674.55103122604, 28944.37304762941, 30197.232051306582, 31433.354643936378, 32652.964400122146, 33856.28190782902, 35043.52480828132, 36214.90783532671, 37370.64285427463, 38510.93890021587, 39636.00221583029, 40746.03628868939, 41841.24188806074, 42921.8171012205, 43987.95736928111, 45039.85552254029, 46077.70181535767, 47101.683960565795, 48111.98716342122, 49108.79415510219, 50092.28522575876, 51062.63825712152, 52020.0287546746, 52964.629879398904, 53896.612479091455, 54816.14511926606, 55723.39411364155, 56618.5235542224, 57501.69534097771, 58373.069211123766, 59232.80276801516, 60081.05150965033, 60917.96885679598, 61743.70618073599, 62558.412830649606, 63362.236160623805, 64155.321556304996, 64937.81246119447, 65709.85040259275, 66471.57501719728, 67223.12407635825, 67964.63351099683, 68696.23743619087, 69418.06817543185, 70130.25628455795, 70832.9305753674, 71526.21813891632, 72210.24436850545, 72885.1329823597, 73551.0060460048, 74207.98399434498, 74856.18565344572, 75495.72826202567, 76126.72749266119, 76749.29747270785, 77363.55080494242, 77969.59858792898, 78567.5504361131, 79157.51449964759, 79739.59748395327, 80313.90466901865, 80880.53992844156, 81439.60574821658, 81991.20324527149, 82535.43218575593, 83072.39100308597, 83602.17681574753, 84124.88544486192, 84640.61143151678, 85149.44805386556, 85651.48734399854, 86146.82010458835, 86635.5359253133, 87117.72319906132, 87593.46913791723, 88062.85978893675, 88525.98004970947, 88982.91368371423, 89433.74333546909, 89878.55054547911, 90317.41576498449]}, {\"mode\": \"lines\", \"name\": \"Confidence interval 2sigma upper\", \"type\": \"scatter\", \"x\": [0.0, 63.845151515151514, 127.69030303030303, 191.53545454545454, 255.38060606060606, 319.2257575757576, 383.0709090909091, 446.91606060606057, 510.7612121212121, 574.6063636363637, 638.4515151515152, 702.2966666666666, 766.1418181818182, 829.9869696969697, 893.8321212121211, 957.6772727272727, 1021.5224242424242, 1085.3675757575757, 1149.2127272727273, 1213.0578787878787, 1276.9030303030304, 1340.7481818181818, 1404.5933333333332, 1468.438484848485, 1532.2836363636363, 1596.1287878787878, 1659.9739393939394, 1723.8190909090908, 1787.6642424242423, 1851.509393939394, 1915.3545454545454, 1979.199696969697, 2043.0448484848484, 2106.89, 2170.7351515151513, 2234.580303030303, 2298.4254545454546, 2362.270606060606, 2426.1157575757575, 2489.960909090909, 2553.806060606061, 2617.651212121212, 2681.4963636363636, 2745.341515151515, 2809.1866666666665, 2873.031818181818, 2936.87696969697, 3000.7221212121212, 3064.5672727272727, 3128.412424242424, 3192.2575757575755, 3256.1027272727274, 3319.947878787879, 3383.7930303030303, 3447.6381818181817, 3511.483333333333, 3575.3284848484845, 3639.1736363636364, 3703.018787878788, 3766.8639393939393, 3830.7090909090907, 3894.554242424242, 3958.399393939394, 4022.2445454545455, 4086.089696969697, 4149.934848484849, 4213.78, 4277.625151515152, 4341.470303030303, 4405.3154545454545, 4469.160606060606, 4533.005757575757, 4596.850909090909, 4660.69606060606, 4724.541212121212, 4788.386363636364, 4852.231515151515, 4916.076666666667, 4979.921818181818, 5043.76696969697, 5107.612121212122, 5171.4572727272725, 5235.302424242424, 5299.147575757575, 5362.992727272727, 5426.837878787878, 5490.68303030303, 5554.528181818182, 5618.373333333333, 5682.218484848485, 5746.063636363636, 5809.908787878788, 5873.75393939394, 5937.599090909091, 6001.4442424242425, 6065.289393939393, 6129.134545454545, 6192.979696969697, 6256.824848484848, 6320.67], \"y\": [3672.567031058201, 5312.081614821796, 6929.694619946865, 8525.698620315725, 10100.382281440494, 11654.030412673399, 13186.92401871954, 14699.340350461567, 16191.55295510544, 17663.831725656186, 19116.442949732897, 20549.64935773149, 21963.710170344195, 23358.88114544414, 24735.414624343728, 26093.559577434986, 27433.561649220268, 28755.663202741416, 30060.103363415372, 31347.118062284244, 32616.940078687614, 33869.799082364785, 35105.92167499458, 36325.531431180345, 37528.84893888722, 38716.09183933952, 39887.47486638491, 41043.20988533283, 42183.50593127407, 43308.56924688849, 44418.60331974759, 45513.808919118936, 46594.3841322787, 47660.52440033931, 48712.42255359849, 49750.26884641587, 50774.250991623994, 51784.55419447942, 52781.361186160386, 53764.85225681696, 54735.20528817972, 55692.595785732796, 56637.1969104571, 57569.179510149654, 58488.71215032426, 59395.96114469975, 60291.0905852806, 61174.26237203591, 62045.636242181965, 62905.369799073356, 63753.61854070853, 64590.53588785418, 65416.27321179419, 66230.9798617078, 67034.803191682, 67827.8885873632, 68610.37949225267, 69382.41743365096, 70144.14204825548, 70895.69110741645, 71637.20054205504, 72368.80446724908, 73090.63520649006, 73802.82331561616, 74505.4976064256, 75198.78516997452, 75882.81139956365, 76557.70001341791, 77223.573077063, 77880.55102540318, 78528.75268450392, 79168.29529308388, 79799.29452371939, 80421.86450376606, 81036.11783600063, 81642.16561898719, 82240.11746717131, 82830.0815307058, 83412.16451501148, 83986.47170007686, 84553.10695949977, 85112.17277927478, 85663.7702763297, 86207.99921681413, 86744.95803414418, 87274.74384680574, 87797.45247592013, 88313.17846257499, 88822.01508492377, 89324.05437505674, 89819.38713564655, 90308.10295637151, 90790.29023011953, 91266.03616897544, 91735.42681999496, 92198.54708076768, 92655.48071477244, 93106.3103665273, 93551.11757653732, 93989.98279604269]}, {\"mode\": \"lines\", \"name\": \"Confidence interval 2sigma lower\", \"type\": \"scatter\", \"x\": [0.0, 63.845151515151514, 127.69030303030303, 191.53545454545454, 255.38060606060606, 319.2257575757576, 383.0709090909091, 446.91606060606057, 510.7612121212121, 574.6063636363637, 638.4515151515152, 702.2966666666666, 766.1418181818182, 829.9869696969697, 893.8321212121211, 957.6772727272727, 1021.5224242424242, 1085.3675757575757, 1149.2127272727273, 1213.0578787878787, 1276.9030303030304, 1340.7481818181818, 1404.5933333333332, 1468.438484848485, 1532.2836363636363, 1596.1287878787878, 1659.9739393939394, 1723.8190909090908, 1787.6642424242423, 1851.509393939394, 1915.3545454545454, 1979.199696969697, 2043.0448484848484, 2106.89, 2170.7351515151513, 2234.580303030303, 2298.4254545454546, 2362.270606060606, 2426.1157575757575, 2489.960909090909, 2553.806060606061, 2617.651212121212, 2681.4963636363636, 2745.341515151515, 2809.1866666666665, 2873.031818181818, 2936.87696969697, 3000.7221212121212, 3064.5672727272727, 3128.412424242424, 3192.2575757575755, 3256.1027272727274, 3319.947878787879, 3383.7930303030303, 3447.6381818181817, 3511.483333333333, 3575.3284848484845, 3639.1736363636364, 3703.018787878788, 3766.8639393939393, 3830.7090909090907, 3894.554242424242, 3958.399393939394, 4022.2445454545455, 4086.089696969697, 4149.934848484849, 4213.78, 4277.625151515152, 4341.470303030303, 4405.3154545454545, 4469.160606060606, 4533.005757575757, 4596.850909090909, 4660.69606060606, 4724.541212121212, 4788.386363636364, 4852.231515151515, 4916.076666666667, 4979.921818181818, 5043.76696969697, 5107.612121212122, 5171.4572727272725, 5235.302424242424, 5299.147575757575, 5362.992727272727, 5426.837878787878, 5490.68303030303, 5554.528181818182, 5618.373333333333, 5682.218484848485, 5746.063636363636, 5809.908787878788, 5873.75393939394, 5937.599090909091, 6001.4442424242425, 6065.289393939393, 6129.134545454545, 6192.979696969697, 6256.824848484848, 6320.67], \"y\": [-3672.567031058201, -2033.052447294605, -415.43944216953696, 1180.5645581993222, 2755.248219324092, 4308.896350556997, 5841.789956603137, 7354.206288345165, 8846.418892989039, 10318.697663539782, 11771.308887616497, 13204.515295615087, 14618.576108227791, 16013.747083327738, 17390.280562227323, 18748.42551531858, 20088.427587103863, 21410.529140625018, 22714.969301298974, 24001.98400016784, 25271.80601657121, 26524.66502024838, 27760.78761287818, 28980.397369063947, 30183.71487677082, 31370.95777722312, 32542.34080426851, 33698.07582321643, 34838.37186915767, 35963.43518477209, 37073.46925763119, 38168.67485700254, 39249.2500701623, 40315.39033822291, 41367.28849148209, 42405.13478429947, 43429.116929507596, 44439.42013236302, 45436.22712404399, 46419.71819470056, 47390.07122606332, 48347.4617236164, 49292.062848340705, 50224.045448033256, 51143.57808820786, 52050.82708258335, 52945.956523164205, 53829.12830991951, 54700.50218006557, 55560.23573695696, 56408.48447859213, 57245.40182573778, 58071.139149677794, 58885.84579959141, 59689.669129565606, 60482.7545252468, 61265.245430136274, 62037.283371534555, 62799.00798613908, 63550.55704530005, 64292.066479938636, 65023.670405132674, 65745.50114437364, 66457.68925349975, 67160.36354430919, 67853.65110785811, 68537.67733744724, 69212.5659513015, 69878.43901494659, 70535.41696328677, 71183.61862238751, 71823.16123096747, 72454.16046160298, 73076.73044164965, 73690.98377388422, 74297.03155687077, 74894.9834050549, 75484.94746858938, 76067.03045289507, 76641.33763796045, 77207.97289738336, 77767.03871715837, 78318.63621421329, 78862.86515469772, 79399.82397202776, 79929.60978468932, 80452.31841380372, 80968.04440045857, 81476.88102280736, 81978.92031294033, 82474.25307353014, 82962.9688942551, 83445.15616800312, 83920.90210685902, 84390.29275787855, 84853.41301865126, 85310.34665265602, 85761.17630441088, 86205.9835144209, 86644.84873392628]}, {\"mode\": \"markers\", \"name\": \"Previous week\", \"type\": \"scatter\", \"x\": [6047.1100000000015], \"y\": [107817.76]}, {\"mode\": \"markers\", \"name\": \"Current week (profit prediction)\", \"type\": \"scatter\", \"x\": [4956.18], \"y\": [113442.16]}],                        {\"template\": {\"data\": {\"bar\": [{\"error_x\": {\"color\": \"#2a3f5f\"}, \"error_y\": {\"color\": \"#2a3f5f\"}, \"marker\": {\"line\": {\"color\": \"#E5ECF6\", \"width\": 0.5}}, \"type\": \"bar\"}], \"barpolar\": [{\"marker\": {\"line\": {\"color\": \"#E5ECF6\", \"width\": 0.5}}, \"type\": \"barpolar\"}], \"carpet\": [{\"aaxis\": {\"endlinecolor\": \"#2a3f5f\", \"gridcolor\": \"white\", \"linecolor\": \"white\", \"minorgridcolor\": \"white\", \"startlinecolor\": \"#2a3f5f\"}, \"baxis\": {\"endlinecolor\": \"#2a3f5f\", \"gridcolor\": \"white\", \"linecolor\": \"white\", \"minorgridcolor\": \"white\", \"startlinecolor\": \"#2a3f5f\"}, \"type\": \"carpet\"}], \"choropleth\": [{\"colorbar\": {\"outlinewidth\": 0, \"ticks\": \"\"}, \"type\": \"choropleth\"}], \"contour\": [{\"colorbar\": {\"outlinewidth\": 0, \"ticks\": \"\"}, \"colorscale\": [[0.0, \"#0d0887\"], [0.1111111111111111, \"#46039f\"], [0.2222222222222222, \"#7201a8\"], [0.3333333333333333, \"#9c179e\"], [0.4444444444444444, \"#bd3786\"], [0.5555555555555556, \"#d8576b\"], [0.6666666666666666, \"#ed7953\"], [0.7777777777777778, \"#fb9f3a\"], [0.8888888888888888, \"#fdca26\"], [1.0, \"#f0f921\"]], \"type\": \"contour\"}], \"contourcarpet\": [{\"colorbar\": {\"outlinewidth\": 0, \"ticks\": \"\"}, \"type\": \"contourcarpet\"}], \"heatmap\": [{\"colorbar\": {\"outlinewidth\": 0, \"ticks\": \"\"}, \"colorscale\": [[0.0, \"#0d0887\"], [0.1111111111111111, \"#46039f\"], [0.2222222222222222, \"#7201a8\"], [0.3333333333333333, \"#9c179e\"], [0.4444444444444444, \"#bd3786\"], [0.5555555555555556, \"#d8576b\"], [0.6666666666666666, \"#ed7953\"], [0.7777777777777778, \"#fb9f3a\"], [0.8888888888888888, \"#fdca26\"], [1.0, \"#f0f921\"]], \"type\": \"heatmap\"}], \"heatmapgl\": [{\"colorbar\": {\"outlinewidth\": 0, \"ticks\": \"\"}, \"colorscale\": [[0.0, \"#0d0887\"], [0.1111111111111111, \"#46039f\"], [0.2222222222222222, \"#7201a8\"], [0.3333333333333333, \"#9c179e\"], [0.4444444444444444, \"#bd3786\"], [0.5555555555555556, \"#d8576b\"], [0.6666666666666666, \"#ed7953\"], [0.7777777777777778, \"#fb9f3a\"], [0.8888888888888888, \"#fdca26\"], [1.0, \"#f0f921\"]], \"type\": \"heatmapgl\"}], \"histogram\": [{\"marker\": {\"colorbar\": {\"outlinewidth\": 0, \"ticks\": \"\"}}, \"type\": \"histogram\"}], \"histogram2d\": [{\"colorbar\": {\"outlinewidth\": 0, \"ticks\": \"\"}, \"colorscale\": [[0.0, \"#0d0887\"], [0.1111111111111111, \"#46039f\"], [0.2222222222222222, \"#7201a8\"], [0.3333333333333333, \"#9c179e\"], [0.4444444444444444, \"#bd3786\"], [0.5555555555555556, \"#d8576b\"], [0.6666666666666666, \"#ed7953\"], [0.7777777777777778, \"#fb9f3a\"], [0.8888888888888888, \"#fdca26\"], [1.0, \"#f0f921\"]], \"type\": \"histogram2d\"}], \"histogram2dcontour\": [{\"colorbar\": {\"outlinewidth\": 0, \"ticks\": \"\"}, \"colorscale\": [[0.0, \"#0d0887\"], [0.1111111111111111, \"#46039f\"], [0.2222222222222222, \"#7201a8\"], [0.3333333333333333, \"#9c179e\"], [0.4444444444444444, \"#bd3786\"], [0.5555555555555556, \"#d8576b\"], [0.6666666666666666, \"#ed7953\"], [0.7777777777777778, \"#fb9f3a\"], [0.8888888888888888, \"#fdca26\"], [1.0, \"#f0f921\"]], \"type\": \"histogram2dcontour\"}], \"mesh3d\": [{\"colorbar\": {\"outlinewidth\": 0, \"ticks\": \"\"}, \"type\": \"mesh3d\"}], \"parcoords\": [{\"line\": {\"colorbar\": {\"outlinewidth\": 0, \"ticks\": \"\"}}, \"type\": \"parcoords\"}], \"pie\": [{\"automargin\": true, \"type\": \"pie\"}], \"scatter\": [{\"marker\": {\"colorbar\": {\"outlinewidth\": 0, \"ticks\": \"\"}}, \"type\": \"scatter\"}], \"scatter3d\": [{\"line\": {\"colorbar\": {\"outlinewidth\": 0, \"ticks\": \"\"}}, \"marker\": {\"colorbar\": {\"outlinewidth\": 0, \"ticks\": \"\"}}, \"type\": \"scatter3d\"}], \"scattercarpet\": [{\"marker\": {\"colorbar\": {\"outlinewidth\": 0, \"ticks\": \"\"}}, \"type\": \"scattercarpet\"}], \"scattergeo\": [{\"marker\": {\"colorbar\": {\"outlinewidth\": 0, \"ticks\": \"\"}}, \"type\": \"scattergeo\"}], \"scattergl\": [{\"marker\": {\"colorbar\": {\"outlinewidth\": 0, \"ticks\": \"\"}}, \"type\": \"scattergl\"}], \"scattermapbox\": [{\"marker\": {\"colorbar\": {\"outlinewidth\": 0, \"ticks\": \"\"}}, \"type\": \"scattermapbox\"}], \"scatterpolar\": [{\"marker\": {\"colorbar\": {\"outlinewidth\": 0, \"ticks\": \"\"}}, \"type\": \"scatterpolar\"}], \"scatterpolargl\": [{\"marker\": {\"colorbar\": {\"outlinewidth\": 0, \"ticks\": \"\"}}, \"type\": \"scatterpolargl\"}], \"scatterternary\": [{\"marker\": {\"colorbar\": {\"outlinewidth\": 0, \"ticks\": \"\"}}, \"type\": \"scatterternary\"}], \"surface\": [{\"colorbar\": {\"outlinewidth\": 0, \"ticks\": \"\"}, \"colorscale\": [[0.0, \"#0d0887\"], [0.1111111111111111, \"#46039f\"], [0.2222222222222222, \"#7201a8\"], [0.3333333333333333, \"#9c179e\"], [0.4444444444444444, \"#bd3786\"], [0.5555555555555556, \"#d8576b\"], [0.6666666666666666, \"#ed7953\"], [0.7777777777777778, \"#fb9f3a\"], [0.8888888888888888, \"#fdca26\"], [1.0, \"#f0f921\"]], \"type\": \"surface\"}], \"table\": [{\"cells\": {\"fill\": {\"color\": \"#EBF0F8\"}, \"line\": {\"color\": \"white\"}}, \"header\": {\"fill\": {\"color\": \"#C8D4E3\"}, \"line\": {\"color\": \"white\"}}, \"type\": \"table\"}]}, \"layout\": {\"annotationdefaults\": {\"arrowcolor\": \"#2a3f5f\", \"arrowhead\": 0, \"arrowwidth\": 1}, \"autotypenumbers\": \"strict\", \"coloraxis\": {\"colorbar\": {\"outlinewidth\": 0, \"ticks\": \"\"}}, \"colorscale\": {\"diverging\": [[0, \"#8e0152\"], [0.1, \"#c51b7d\"], [0.2, \"#de77ae\"], [0.3, \"#f1b6da\"], [0.4, \"#fde0ef\"], [0.5, \"#f7f7f7\"], [0.6, \"#e6f5d0\"], [0.7, \"#b8e186\"], [0.8, \"#7fbc41\"], [0.9, \"#4d9221\"], [1, \"#276419\"]], \"sequential\": [[0.0, \"#0d0887\"], [0.1111111111111111, \"#46039f\"], [0.2222222222222222, \"#7201a8\"], [0.3333333333333333, \"#9c179e\"], [0.4444444444444444, \"#bd3786\"], [0.5555555555555556, \"#d8576b\"], [0.6666666666666666, \"#ed7953\"], [0.7777777777777778, \"#fb9f3a\"], [0.8888888888888888, \"#fdca26\"], [1.0, \"#f0f921\"]], \"sequentialminus\": [[0.0, \"#0d0887\"], [0.1111111111111111, \"#46039f\"], [0.2222222222222222, \"#7201a8\"], [0.3333333333333333, \"#9c179e\"], [0.4444444444444444, \"#bd3786\"], [0.5555555555555556, \"#d8576b\"], [0.6666666666666666, \"#ed7953\"], [0.7777777777777778, \"#fb9f3a\"], [0.8888888888888888, \"#fdca26\"], [1.0, \"#f0f921\"]]}, \"colorway\": [\"#636efa\", \"#EF553B\", \"#00cc96\", \"#ab63fa\", \"#FFA15A\", \"#19d3f3\", \"#FF6692\", \"#B6E880\", \"#FF97FF\", \"#FECB52\"], \"font\": {\"color\": \"#2a3f5f\"}, \"geo\": {\"bgcolor\": \"white\", \"lakecolor\": \"white\", \"landcolor\": \"#E5ECF6\", \"showlakes\": true, \"showland\": true, \"subunitcolor\": \"white\"}, \"hoverlabel\": {\"align\": \"left\"}, \"hovermode\": \"closest\", \"mapbox\": {\"style\": \"light\"}, \"paper_bgcolor\": \"white\", \"plot_bgcolor\": \"#E5ECF6\", \"polar\": {\"angularaxis\": {\"gridcolor\": \"white\", \"linecolor\": \"white\", \"ticks\": \"\"}, \"bgcolor\": \"#E5ECF6\", \"radialaxis\": {\"gridcolor\": \"white\", \"linecolor\": \"white\", \"ticks\": \"\"}}, \"scene\": {\"xaxis\": {\"backgroundcolor\": \"#E5ECF6\", \"gridcolor\": \"white\", \"gridwidth\": 2, \"linecolor\": \"white\", \"showbackground\": true, \"ticks\": \"\", \"zerolinecolor\": \"white\"}, \"yaxis\": {\"backgroundcolor\": \"#E5ECF6\", \"gridcolor\": \"white\", \"gridwidth\": 2, \"linecolor\": \"white\", \"showbackground\": true, \"ticks\": \"\", \"zerolinecolor\": \"white\"}, \"zaxis\": {\"backgroundcolor\": \"#E5ECF6\", \"gridcolor\": \"white\", \"gridwidth\": 2, \"linecolor\": \"white\", \"showbackground\": true, \"ticks\": \"\", \"zerolinecolor\": \"white\"}}, \"shapedefaults\": {\"line\": {\"color\": \"#2a3f5f\"}}, \"ternary\": {\"aaxis\": {\"gridcolor\": \"white\", \"linecolor\": \"white\", \"ticks\": \"\"}, \"baxis\": {\"gridcolor\": \"white\", \"linecolor\": \"white\", \"ticks\": \"\"}, \"bgcolor\": \"#E5ECF6\", \"caxis\": {\"gridcolor\": \"white\", \"linecolor\": \"white\", \"ticks\": \"\"}}, \"title\": {\"x\": 0.05}, \"xaxis\": {\"automargin\": true, \"gridcolor\": \"white\", \"linecolor\": \"white\", \"ticks\": \"\", \"title\": {\"standoff\": 15}, \"zerolinecolor\": \"white\", \"zerolinewidth\": 2}, \"yaxis\": {\"automargin\": true, \"gridcolor\": \"white\", \"linecolor\": \"white\", \"ticks\": \"\", \"title\": {\"standoff\": 15}, \"zerolinecolor\": \"white\", \"zerolinewidth\": 2}}}, \"title\": {\"font\": {\"size\": 16}, \"text\": \"Profit to investment forcampingcz on criteo platform on channel level with week granularity with AWS filter\"}},                        {\"responsive\": true}                    ).then(function(){\n",
       "                            \n",
       "var gd = document.getElementById('cce75002-6c21-4f91-87b8-b94b71372446');\n",
       "var x = new MutationObserver(function (mutations, observer) {{\n",
       "        var display = window.getComputedStyle(gd).display;\n",
       "        if (!display || display === 'none') {{\n",
       "            console.log([gd, 'removed!']);\n",
       "            Plotly.purge(gd);\n",
       "            observer.disconnect();\n",
       "        }}\n",
       "}});\n",
       "\n",
       "// Listen for the removal of the full notebook cells\n",
       "var notebookContainer = gd.closest('#notebook-container');\n",
       "if (notebookContainer) {{\n",
       "    x.observe(notebookContainer, {childList: true});\n",
       "}}\n",
       "\n",
       "// Listen for the clearing of the current output cell\n",
       "var outputEl = gd.closest('.output');\n",
       "if (outputEl) {{\n",
       "    x.observe(outputEl, {childList: true});\n",
       "}}\n",
       "\n",
       "                        })                };                });            </script>        </div>"
      ]
     },
     "metadata": {},
     "output_type": "display_data"
    }
   ],
   "source": [
    "zzz_df = corr_thd_df.iloc[data_line.value:data_line.value + 1, :]\n",
    "zzz_df\n",
    "show_chart(zzz_df)"
   ]
  },
  {
   "cell_type": "markdown",
   "metadata": {},
   "source": [
    "## Budget optimization\n",
    " Settings:\n",
    "* Aggressive 20% max change\n",
    "* Conservative 10% max change"
   ]
  },
  {
   "cell_type": "code",
   "execution_count": 397,
   "metadata": {
    "ExecuteTime": {
     "end_time": "2021-02-14T22:29:09.105788Z",
     "start_time": "2021-02-14T22:29:09.078786Z"
    }
   },
   "outputs": [
    {
     "data": {
      "application/vnd.jupyter.widget-view+json": {
       "model_id": "b6f3e64ec7ff430baf9114c8ec2e6ae1",
       "version_major": 2,
       "version_minor": 0
      },
      "text/plain": [
       "Dropdown(description='Optimization level:', options=('Conservative', 'Aggressive'), value='Conservative')"
      ]
     },
     "metadata": {},
     "output_type": "display_data"
    }
   ],
   "source": [
    "optimization_settings_list = ['Conservative','Aggressive']\n",
    "optimization_settings = widgets.Dropdown(\n",
    "    options = optimization_settings_list,\n",
    "    value = optimization_settings_list[0],\n",
    "    description='Optimization level:',\n",
    "    disabled=False,\n",
    ")\n",
    "display(optimization_settings)"
   ]
  },
  {
   "cell_type": "code",
   "execution_count": 398,
   "metadata": {
    "ExecuteTime": {
     "end_time": "2021-02-14T22:29:12.625989Z",
     "start_time": "2021-02-14T22:29:12.606988Z"
    }
   },
   "outputs": [
    {
     "data": {
      "application/vnd.jupyter.widget-view+json": {
       "model_id": "208912752dae4648ac1046e64a51d23e",
       "version_major": 2,
       "version_minor": 0
      },
      "text/plain": [
       "Dropdown(description='Optimization type:', options=('Keep budget', 'Change budget'), value='Keep budget')"
      ]
     },
     "metadata": {},
     "output_type": "display_data"
    }
   ],
   "source": [
    "optimization_type_list = ['Keep budget','Change budget']\n",
    "optimization_type = widgets.Dropdown(\n",
    "    options = optimization_type_list,\n",
    "    value = optimization_type_list[0],\n",
    "    description='Optimization type:',\n",
    "    disabled=False,\n",
    ")\n",
    "display(optimization_type)"
   ]
  },
  {
   "cell_type": "code",
   "execution_count": 399,
   "metadata": {
    "ExecuteTime": {
     "end_time": "2021-02-14T22:29:16.204194Z",
     "start_time": "2021-02-14T22:29:16.187193Z"
    }
   },
   "outputs": [
    {
     "data": {
      "application/vnd.jupyter.widget-view+json": {
       "model_id": "b017eb26bb544d4db90c3b2ba14cfc17",
       "version_major": 2,
       "version_minor": 0
      },
      "text/plain": [
       "BoundedIntText(value=0, description='Budget change:', max=1000, min=-1000, step=100)"
      ]
     },
     "metadata": {},
     "output_type": "display_data"
    }
   ],
   "source": [
    "number = widgets.BoundedIntText(\n",
    "    value=0,\n",
    "    min=-1000,\n",
    "    max=1000,\n",
    "    step=100,\n",
    "    description='Budget change:',\n",
    "    disabled=False\n",
    ")\n",
    "display(number)"
   ]
  },
  {
   "cell_type": "code",
   "execution_count": 531,
   "metadata": {
    "ExecuteTime": {
     "end_time": "2021-02-14T23:42:11.420442Z",
     "start_time": "2021-02-14T23:42:11.417442Z"
    }
   },
   "outputs": [],
   "source": [
    "#corr_thd_df.head(5)"
   ]
  },
  {
   "cell_type": "markdown",
   "metadata": {},
   "source": [
    "### Budget optimizer start here"
   ]
  },
  {
   "cell_type": "code",
   "execution_count": 548,
   "metadata": {
    "ExecuteTime": {
     "end_time": "2021-02-14T23:59:33.111023Z",
     "start_time": "2021-02-14T23:59:33.068021Z"
    },
    "code_folding": [
     0
    ]
   },
   "outputs": [],
   "source": [
    "# budget optimizer preprocessing \n",
    "corr_thd_df['+10%invest'] = corr_thd_df['Invest_prev_week'] * 1.1\n",
    "corr_thd_df['+20%invest'] = corr_thd_df['Invest_prev_week'] * 1.2\n",
    "corr_thd_df['-10%invest'] = corr_thd_df['Invest_prev_week'] * 0.9\n",
    "corr_thd_df['-20%invest'] = corr_thd_df['Invest_prev_week'] * 0.8\n",
    "\n",
    "corr_thd_df['slope_plus_10'] = 0.0\n",
    "corr_thd_df['slope_plus_20'] = 0.0\n",
    "corr_thd_df['slope_minus_10'] = 0.0\n",
    "corr_thd_df['slope_minus_20'] = 0.0\n",
    "\n",
    "corr_thd_df['opt_invest'] = 0.0\n",
    "corr_thd_df['profit_change'] = 0.0\n",
    "\n",
    "for i in range(len(corr_thd_df)):\n",
    "    profit_base = float(log_f(corr_thd_df['Invest_prev_week'][i], corr_thd_df['a'][i], corr_thd_df['b'][i]))\n",
    "    \n",
    "    profit_plus_10 = float(log_f(corr_thd_df['+10%invest'][i], corr_thd_df['a'][i], corr_thd_df['b'][i]))\n",
    "    slope_plus_10 = float((profit_plus_10 - profit_base))/float((corr_thd_df['+10%invest'][i] - corr_thd_df['Invest_prev_week'][i]))\n",
    "    corr_thd_df['slope_plus_10'][i] = slope_plus_10\n",
    "    \n",
    "    profit_plus_20 = float(log_f(corr_thd_df['+20%invest'][i], corr_thd_df['a'][i], corr_thd_df['b'][i]))\n",
    "    slope_plus_20 = float((profit_plus_20 - profit_base))/float((corr_thd_df['+20%invest'][i] - corr_thd_df['Invest_prev_week'][i]))\n",
    "    corr_thd_df['slope_plus_20'][i] = slope_plus_20\n",
    "    \n",
    "    profit_minus_10 = float(log_f(corr_thd_df['-10%invest'][i], corr_thd_df['a'][i], corr_thd_df['b'][i]))\n",
    "    slope_minus_10 = float((profit_minus_10 - profit_base))/float((corr_thd_df['-10%invest'][i] - corr_thd_df['Invest_prev_week'][i]))\n",
    "    corr_thd_df['slope_minus_10'][i] = -slope_minus_10\n",
    "    \n",
    "    profit_minus_20 = float(log_f(corr_thd_df['-20%invest'][i], corr_thd_df['a'][i], corr_thd_df['b'][i]))\n",
    "    slope_minus_20 = float((profit_minus_20 - profit_base))/float((corr_thd_df['-20%invest'][i] - corr_thd_df['Invest_prev_week'][i]))\n",
    "    corr_thd_df['slope_minus_20'][i] = -slope_minus_20\n",
    "    \n",
    "invest_pool_plus_10 = (corr_thd_df['Invest_prev_week'] - corr_thd_df['-10%invest']).sum()\n",
    "\n",
    "\n",
    "invest_pool_plus_20 = (corr_thd_df['Invest_prev_week'] - corr_thd_df['-20%invest']).sum()\n"
   ]
  },
  {
   "cell_type": "code",
   "execution_count": 549,
   "metadata": {
    "ExecuteTime": {
     "end_time": "2021-02-14T23:59:37.540276Z",
     "start_time": "2021-02-14T23:59:37.534276Z"
    }
   },
   "outputs": [],
   "source": [
    "zzz = corr_thd_df.sort_values(by=['slope_plus_10'], ascending=False)\n",
    "zzz.reset_index(inplace=True, drop=True)\n",
    "#zzz"
   ]
  },
  {
   "cell_type": "code",
   "execution_count": 550,
   "metadata": {
    "ExecuteTime": {
     "end_time": "2021-02-14T23:59:41.813521Z",
     "start_time": "2021-02-14T23:59:41.799520Z"
    },
    "run_control": {
     "marked": false
    }
   },
   "outputs": [],
   "source": [
    "if optimization_type.value == 'Keep budget':\n",
    "    if optimization_settings.value == 'Conservative':\n",
    "        accum = invest_pool_plus_10\n",
    "    elif optimization_settings.value == 'Aggressive':\n",
    "        accum = invest_pool_plus_20\n",
    "elif optimization_type.value == 'Change budget':\n",
    "    if optimization_settings.value == 'Conservative':\n",
    "        accum = invest_pool_plus_10 + number.value\n",
    "    elif optimization_settings.value == 'Aggressive':\n",
    "        accum = invest_pool_plus_20 + number.value\n",
    "        \n",
    "        \n",
    "for i in range (len(zzz)):\n",
    "    temp = (zzz['+10%invest'][i] - zzz['-10%invest'][i] )\n",
    "    if temp <= accum:\n",
    "        zzz['opt_invest'][i] = zzz['+10%invest'][i]\n",
    "        accum = accum - temp\n",
    "    else:\n",
    "        zzz['opt_invest'][i] = zzz['-10%invest'][i] + accum\n",
    "        accum = 0.0       "
   ]
  },
  {
   "cell_type": "code",
   "execution_count": 551,
   "metadata": {
    "ExecuteTime": {
     "end_time": "2021-02-14T23:59:46.111767Z",
     "start_time": "2021-02-14T23:59:46.104766Z"
    }
   },
   "outputs": [],
   "source": [
    "#zzz"
   ]
  },
  {
   "cell_type": "code",
   "execution_count": 552,
   "metadata": {
    "ExecuteTime": {
     "end_time": "2021-02-14T23:59:50.516019Z",
     "start_time": "2021-02-14T23:59:50.487017Z"
    }
   },
   "outputs": [
    {
     "data": {
      "text/plain": [
       "222653.84000000003"
      ]
     },
     "execution_count": 552,
     "metadata": {},
     "output_type": "execute_result"
    },
    {
     "data": {
      "text/plain": [
       "222653.84000000005"
      ]
     },
     "execution_count": 552,
     "metadata": {},
     "output_type": "execute_result"
    },
    {
     "data": {
      "text/plain": [
       "3088037.5700000003"
      ]
     },
     "execution_count": 552,
     "metadata": {},
     "output_type": "execute_result"
    },
    {
     "data": {
      "text/plain": [
       "194107.13829617694"
      ]
     },
     "execution_count": 552,
     "metadata": {},
     "output_type": "execute_result"
    }
   ],
   "source": [
    "for i in range (len(zzz)):\n",
    "    profit_base = float(log_f(zzz['Invest_prev_week'][i], zzz['a'][i], zzz['b'][i]))\n",
    "    optim_profit = float(log_f(zzz['opt_invest'][i], zzz['a'][i], zzz['b'][i]))\n",
    "    zzz['profit_change'][i] = optim_profit - profit_base\n",
    "    \n",
    "zzz['Invest_prev_week'].sum()\n",
    "zzz['opt_invest'].sum()\n",
    "zzz['Prof_prev_week'].sum()\n",
    "zzz['profit_change'].sum()"
   ]
  },
  {
   "cell_type": "code",
   "execution_count": 553,
   "metadata": {
    "ExecuteTime": {
     "end_time": "2021-02-14T23:59:54.869268Z",
     "start_time": "2021-02-14T23:59:54.811264Z"
    }
   },
   "outputs": [
    {
     "data": {
      "text/html": [
       "<div>\n",
       "<style scoped>\n",
       "    .dataframe tbody tr th:only-of-type {\n",
       "        vertical-align: middle;\n",
       "    }\n",
       "\n",
       "    .dataframe tbody tr th {\n",
       "        vertical-align: top;\n",
       "    }\n",
       "\n",
       "    .dataframe thead th {\n",
       "        text-align: right;\n",
       "    }\n",
       "</style>\n",
       "<table border=\"1\" class=\"dataframe\">\n",
       "  <thead>\n",
       "    <tr style=\"text-align: right;\">\n",
       "      <th></th>\n",
       "      <th>Business_unit</th>\n",
       "      <th>Client</th>\n",
       "      <th>Component</th>\n",
       "      <th>Corr_coeff</th>\n",
       "      <th>Invest</th>\n",
       "      <th>Invest_last_week</th>\n",
       "      <th>Invest_prev_week</th>\n",
       "      <th>Max_week_invest</th>\n",
       "      <th>Max_week_profit</th>\n",
       "      <th>Mean</th>\n",
       "      <th>Platform</th>\n",
       "      <th>Pr_value</th>\n",
       "      <th>Prof_last_week</th>\n",
       "      <th>Prof_prev_week</th>\n",
       "      <th>Profit</th>\n",
       "      <th>R_std</th>\n",
       "      <th>a</th>\n",
       "      <th>b</th>\n",
       "      <th>+10%invest</th>\n",
       "      <th>+20%invest</th>\n",
       "      <th>-10%invest</th>\n",
       "      <th>-20%invest</th>\n",
       "      <th>slope_plus_10</th>\n",
       "      <th>slope_plus_20</th>\n",
       "      <th>slope_minus_10</th>\n",
       "      <th>slope_minus_20</th>\n",
       "      <th>opt_invest</th>\n",
       "      <th>profit_change</th>\n",
       "    </tr>\n",
       "  </thead>\n",
       "  <tbody>\n",
       "    <tr>\n",
       "      <th>0</th>\n",
       "      <td>forcampingcz</td>\n",
       "      <td>forcamping</td>\n",
       "      <td>Sklik-BRAND</td>\n",
       "      <td>0.937063</td>\n",
       "      <td>5061.04</td>\n",
       "      <td>670.00</td>\n",
       "      <td>578.80</td>\n",
       "      <td>735.94</td>\n",
       "      <td>263101.39</td>\n",
       "      <td>65027.541243</td>\n",
       "      <td></td>\n",
       "      <td>6.993165e-06</td>\n",
       "      <td>208705.92</td>\n",
       "      <td>195910.09</td>\n",
       "      <td>1729166.30</td>\n",
       "      <td>4187.198533</td>\n",
       "      <td>-4.445387e+08</td>\n",
       "      <td>-1.249775e+06</td>\n",
       "      <td>636.680</td>\n",
       "      <td>694.560</td>\n",
       "      <td>520.920</td>\n",
       "      <td>463.040</td>\n",
       "      <td>355.868007</td>\n",
       "      <td>355.876247</td>\n",
       "      <td>-355.851526</td>\n",
       "      <td>-355.843286</td>\n",
       "      <td>636.680</td>\n",
       "      <td>20597.640224</td>\n",
       "    </tr>\n",
       "    <tr>\n",
       "      <th>1</th>\n",
       "      <td>forcampingcz</td>\n",
       "      <td>forcamping</td>\n",
       "      <td>Sklik-SEA-PRO</td>\n",
       "      <td>0.902098</td>\n",
       "      <td>16134.05</td>\n",
       "      <td>1416.37</td>\n",
       "      <td>1544.38</td>\n",
       "      <td>2504.83</td>\n",
       "      <td>47450.98</td>\n",
       "      <td>11570.290841</td>\n",
       "      <td></td>\n",
       "      <td>5.997857e-05</td>\n",
       "      <td>22988.03</td>\n",
       "      <td>15114.38</td>\n",
       "      <td>275884.98</td>\n",
       "      <td>1531.989122</td>\n",
       "      <td>-5.198974e+03</td>\n",
       "      <td>-6.317619e+02</td>\n",
       "      <td>1698.818</td>\n",
       "      <td>1853.256</td>\n",
       "      <td>1389.942</td>\n",
       "      <td>1235.504</td>\n",
       "      <td>107.445168</td>\n",
       "      <td>122.322375</td>\n",
       "      <td>-84.143582</td>\n",
       "      <td>-75.019491</td>\n",
       "      <td>1698.818</td>\n",
       "      <td>16593.616907</td>\n",
       "    </tr>\n",
       "    <tr>\n",
       "      <th>2</th>\n",
       "      <td>forcampingcz</td>\n",
       "      <td>forcamping</td>\n",
       "      <td>zbozi</td>\n",
       "      <td>0.979021</td>\n",
       "      <td>34583.40</td>\n",
       "      <td>4118.10</td>\n",
       "      <td>3783.30</td>\n",
       "      <td>4166.10</td>\n",
       "      <td>352958.63</td>\n",
       "      <td>110627.769487</td>\n",
       "      <td></td>\n",
       "      <td>3.089801e-08</td>\n",
       "      <td>231206.37</td>\n",
       "      <td>259138.78</td>\n",
       "      <td>2629182.95</td>\n",
       "      <td>5745.758200</td>\n",
       "      <td>-6.796166e+05</td>\n",
       "      <td>-9.718661e+03</td>\n",
       "      <td>4161.630</td>\n",
       "      <td>4539.960</td>\n",
       "      <td>3404.970</td>\n",
       "      <td>3026.640</td>\n",
       "      <td>105.244922</td>\n",
       "      <td>107.333814</td>\n",
       "      <td>-101.226646</td>\n",
       "      <td>-99.294217</td>\n",
       "      <td>4161.630</td>\n",
       "      <td>39817.311296</td>\n",
       "    </tr>\n",
       "    <tr>\n",
       "      <th>3</th>\n",
       "      <td>forcampingcz</td>\n",
       "      <td>forcamping</td>\n",
       "      <td>Sklik-DIS</td>\n",
       "      <td>0.943860</td>\n",
       "      <td>10162.41</td>\n",
       "      <td>429.55</td>\n",
       "      <td>720.38</td>\n",
       "      <td>2607.25</td>\n",
       "      <td>20452.56</td>\n",
       "      <td>2321.594746</td>\n",
       "      <td></td>\n",
       "      <td>3.995310e-06</td>\n",
       "      <td>4015.04</td>\n",
       "      <td>20200.22</td>\n",
       "      <td>87556.21</td>\n",
       "      <td>369.018580</td>\n",
       "      <td>-7.448873e+02</td>\n",
       "      <td>-2.944551e+02</td>\n",
       "      <td>792.418</td>\n",
       "      <td>864.456</td>\n",
       "      <td>648.342</td>\n",
       "      <td>576.304</td>\n",
       "      <td>33.095864</td>\n",
       "      <td>37.682493</td>\n",
       "      <td>-25.913390</td>\n",
       "      <td>-23.101524</td>\n",
       "      <td>792.418</td>\n",
       "      <td>2384.159841</td>\n",
       "    </tr>\n",
       "    <tr>\n",
       "      <th>4</th>\n",
       "      <td>forcampingcz</td>\n",
       "      <td>forcamping</td>\n",
       "      <td>Ads-SEA-BRA</td>\n",
       "      <td>1.000000</td>\n",
       "      <td>164639.48</td>\n",
       "      <td>27702.60</td>\n",
       "      <td>25983.93</td>\n",
       "      <td>27702.60</td>\n",
       "      <td>262878.28</td>\n",
       "      <td>33627.092994</td>\n",
       "      <td></td>\n",
       "      <td>0.000000e+00</td>\n",
       "      <td>220411.74</td>\n",
       "      <td>262878.28</td>\n",
       "      <td>1184629.94</td>\n",
       "      <td>3961.306837</td>\n",
       "      <td>-1.137364e+05</td>\n",
       "      <td>-2.138192e+04</td>\n",
       "      <td>28582.323</td>\n",
       "      <td>31180.716</td>\n",
       "      <td>23385.537</td>\n",
       "      <td>20787.144</td>\n",
       "      <td>19.066703</td>\n",
       "      <td>20.298558</td>\n",
       "      <td>-16.884915</td>\n",
       "      <td>-15.918851</td>\n",
       "      <td>28582.323</td>\n",
       "      <td>49542.788760</td>\n",
       "    </tr>\n",
       "    <tr>\n",
       "      <th>5</th>\n",
       "      <td>forcampingcz</td>\n",
       "      <td>forcamping</td>\n",
       "      <td>Ads-DREM</td>\n",
       "      <td>0.958042</td>\n",
       "      <td>34923.65</td>\n",
       "      <td>6556.72</td>\n",
       "      <td>4648.69</td>\n",
       "      <td>6556.72</td>\n",
       "      <td>88454.06</td>\n",
       "      <td>26106.023307</td>\n",
       "      <td></td>\n",
       "      <td>9.543582e-07</td>\n",
       "      <td>76865.99</td>\n",
       "      <td>33735.02</td>\n",
       "      <td>521027.71</td>\n",
       "      <td>3037.192397</td>\n",
       "      <td>9.660166e+07</td>\n",
       "      <td>5.859882e+06</td>\n",
       "      <td>5113.559</td>\n",
       "      <td>5578.428</td>\n",
       "      <td>4183.821</td>\n",
       "      <td>3718.952</td>\n",
       "      <td>16.471529</td>\n",
       "      <td>16.470876</td>\n",
       "      <td>-16.472836</td>\n",
       "      <td>-16.473490</td>\n",
       "      <td>5113.559</td>\n",
       "      <td>7657.103379</td>\n",
       "    </tr>\n",
       "    <tr>\n",
       "      <th>6</th>\n",
       "      <td>forcampingcz</td>\n",
       "      <td>forcamping</td>\n",
       "      <td>heureka</td>\n",
       "      <td>0.979021</td>\n",
       "      <td>222673.13</td>\n",
       "      <td>30636.39</td>\n",
       "      <td>30244.50</td>\n",
       "      <td>33132.28</td>\n",
       "      <td>1015661.07</td>\n",
       "      <td>321917.633458</td>\n",
       "      <td></td>\n",
       "      <td>3.089801e-08</td>\n",
       "      <td>760150.39</td>\n",
       "      <td>838491.14</td>\n",
       "      <td>8068447.30</td>\n",
       "      <td>23257.777361</td>\n",
       "      <td>1.273541e+06</td>\n",
       "      <td>2.672932e+04</td>\n",
       "      <td>33268.950</td>\n",
       "      <td>36293.400</td>\n",
       "      <td>27220.050</td>\n",
       "      <td>24195.600</td>\n",
       "      <td>14.530400</td>\n",
       "      <td>13.753138</td>\n",
       "      <td>-16.271157</td>\n",
       "      <td>-17.245808</td>\n",
       "      <td>33268.950</td>\n",
       "      <td>43946.467338</td>\n",
       "    </tr>\n",
       "    <tr>\n",
       "      <th>7</th>\n",
       "      <td>forcampingcz</td>\n",
       "      <td>forcamping</td>\n",
       "      <td>Ads-DSA-PRO</td>\n",
       "      <td>0.937063</td>\n",
       "      <td>82776.37</td>\n",
       "      <td>10115.30</td>\n",
       "      <td>9868.98</td>\n",
       "      <td>13355.34</td>\n",
       "      <td>140809.18</td>\n",
       "      <td>40576.429791</td>\n",
       "      <td></td>\n",
       "      <td>6.993165e-06</td>\n",
       "      <td>126410.38</td>\n",
       "      <td>109456.65</td>\n",
       "      <td>897240.21</td>\n",
       "      <td>5558.798435</td>\n",
       "      <td>-8.662412e+08</td>\n",
       "      <td>-7.136667e+07</td>\n",
       "      <td>10855.878</td>\n",
       "      <td>11842.776</td>\n",
       "      <td>8882.082</td>\n",
       "      <td>7895.184</td>\n",
       "      <td>12.139658</td>\n",
       "      <td>12.139742</td>\n",
       "      <td>-12.139490</td>\n",
       "      <td>-12.139406</td>\n",
       "      <td>10855.878</td>\n",
       "      <td>11980.604347</td>\n",
       "    </tr>\n",
       "    <tr>\n",
       "      <th>8</th>\n",
       "      <td>forcampingcz</td>\n",
       "      <td>forcamping</td>\n",
       "      <td>Sklik-SEA-BRA</td>\n",
       "      <td>0.993007</td>\n",
       "      <td>94567.65</td>\n",
       "      <td>12637.23</td>\n",
       "      <td>9584.66</td>\n",
       "      <td>12637.23</td>\n",
       "      <td>107689.01</td>\n",
       "      <td>31575.627216</td>\n",
       "      <td></td>\n",
       "      <td>1.301673e-10</td>\n",
       "      <td>78458.46</td>\n",
       "      <td>79791.33</td>\n",
       "      <td>823703.82</td>\n",
       "      <td>1811.729702</td>\n",
       "      <td>-2.368605e+05</td>\n",
       "      <td>-2.966269e+04</td>\n",
       "      <td>10543.126</td>\n",
       "      <td>11501.592</td>\n",
       "      <td>8626.194</td>\n",
       "      <td>7667.728</td>\n",
       "      <td>11.211082</td>\n",
       "      <td>11.395167</td>\n",
       "      <td>-10.854618</td>\n",
       "      <td>-10.682053</td>\n",
       "      <td>10543.126</td>\n",
       "      <td>10745.441018</td>\n",
       "    </tr>\n",
       "    <tr>\n",
       "      <th>9</th>\n",
       "      <td>forcampingcz</td>\n",
       "      <td>forcamping</td>\n",
       "      <td>Ads-SEA-PRO</td>\n",
       "      <td>0.993007</td>\n",
       "      <td>192822.19</td>\n",
       "      <td>22310.46</td>\n",
       "      <td>23523.40</td>\n",
       "      <td>23769.07</td>\n",
       "      <td>168002.21</td>\n",
       "      <td>58616.910886</td>\n",
       "      <td></td>\n",
       "      <td>1.301673e-10</td>\n",
       "      <td>159716.42</td>\n",
       "      <td>142459.03</td>\n",
       "      <td>1428249.09</td>\n",
       "      <td>6407.002649</td>\n",
       "      <td>-1.138563e+09</td>\n",
       "      <td>-1.443916e+08</td>\n",
       "      <td>25875.740</td>\n",
       "      <td>28228.080</td>\n",
       "      <td>21171.060</td>\n",
       "      <td>18818.720</td>\n",
       "      <td>7.886596</td>\n",
       "      <td>7.886660</td>\n",
       "      <td>-7.886468</td>\n",
       "      <td>-7.886403</td>\n",
       "      <td>25875.740</td>\n",
       "      <td>18551.955406</td>\n",
       "    </tr>\n",
       "    <tr>\n",
       "      <th>10</th>\n",
       "      <td>forcampingcz</td>\n",
       "      <td>forcamping</td>\n",
       "      <td>Sklik-SEA-GEN</td>\n",
       "      <td>0.979021</td>\n",
       "      <td>42683.63</td>\n",
       "      <td>4703.57</td>\n",
       "      <td>4891.55</td>\n",
       "      <td>5144.02</td>\n",
       "      <td>52542.12</td>\n",
       "      <td>13302.514293</td>\n",
       "      <td></td>\n",
       "      <td>3.089801e-08</td>\n",
       "      <td>23698.14</td>\n",
       "      <td>52542.12</td>\n",
       "      <td>329902.92</td>\n",
       "      <td>844.581374</td>\n",
       "      <td>-1.052270e+08</td>\n",
       "      <td>-1.403281e+07</td>\n",
       "      <td>5380.705</td>\n",
       "      <td>5869.860</td>\n",
       "      <td>4402.395</td>\n",
       "      <td>3913.240</td>\n",
       "      <td>7.501382</td>\n",
       "      <td>7.501513</td>\n",
       "      <td>-7.501120</td>\n",
       "      <td>-7.500990</td>\n",
       "      <td>4571.575</td>\n",
       "      <td>-2400.185454</td>\n",
       "    </tr>\n",
       "    <tr>\n",
       "      <th>11</th>\n",
       "      <td>forcampingcz</td>\n",
       "      <td>forcamping</td>\n",
       "      <td>criteo</td>\n",
       "      <td>0.993007</td>\n",
       "      <td>67789.67</td>\n",
       "      <td>4956.18</td>\n",
       "      <td>6047.11</td>\n",
       "      <td>6320.67</td>\n",
       "      <td>132136.11</td>\n",
       "      <td>55405.222527</td>\n",
       "      <td></td>\n",
       "      <td>1.301673e-10</td>\n",
       "      <td>113442.16</td>\n",
       "      <td>107817.76</td>\n",
       "      <td>1142152.95</td>\n",
       "      <td>1836.283516</td>\n",
       "      <td>1.227312e+05</td>\n",
       "      <td>4.747344e+03</td>\n",
       "      <td>6651.821</td>\n",
       "      <td>7256.532</td>\n",
       "      <td>5442.399</td>\n",
       "      <td>4837.688</td>\n",
       "      <td>6.791082</td>\n",
       "      <td>6.384975</td>\n",
       "      <td>-7.713631</td>\n",
       "      <td>-8.237569</td>\n",
       "      <td>5442.399</td>\n",
       "      <td>-4664.517525</td>\n",
       "    </tr>\n",
       "    <tr>\n",
       "      <th>12<"
      ],
      "text/plain": [
       "   Business_unit      Client      Component  Corr_coeff     Invest  \\\n",
       "0   forcampingcz  forcamping    Sklik-BRAND    0.937063    5061.04   \n",
       "1   forcampingcz  forcamping  Sklik-SEA-PRO    0.902098   16134.05   \n",
       "2   forcampingcz  forcamping          zbozi    0.979021   34583.40   \n",
       "3   forcampingcz  forcamping      Sklik-DIS    0.943860   10162.41   \n",
       "4   forcampingcz  forcamping    Ads-SEA-BRA    1.000000  164639.48   \n",
       "5   forcampingcz  forcamping       Ads-DREM    0.958042   34923.65   \n",
       "6   forcampingcz  forcamping        heureka    0.979021  222673.13   \n",
       "7   forcampingcz  forcamping    Ads-DSA-PRO    0.937063   82776.37   \n",
       "8   forcampingcz  forcamping  Sklik-SEA-BRA    0.993007   94567.65   \n",
       "9   forcampingcz  forcamping    Ads-SEA-PRO    0.993007  192822.19   \n",
       "10  forcampingcz  forcamping  Sklik-SEA-GEN    0.979021   42683.63   \n",
       "11  forcampingcz  forcamping         criteo    0.993007   67789.67   \n",
       "12  forcampingcz  forcamping    Ads-SEA-GEN    1.000000  326666.87   \n",
       "13  forcampingcz  forcamping         notset    0.972028  317365.40   \n",
       "14  forcampingcz  forcamping    cjaffiliate    0.906392  103494.52   \n",
       "\n",
       "    Invest_last_week  Invest_prev_week  Max_week_invest  Max_week_profit  \\\n",
       "0             670.00            578.80           735.94        263101.39   \n",
       "1            1416.37           1544.38          2504.83         47450.98   \n",
       "2            4118.10           3783.30          4166.10        352958.63   \n",
       "3             429.55            720.38          2607.25         20452.56   \n",
       "4           27702.60          25983.93         27702.60        262878.28   \n",
       "5            6556.72           4648.69          6556.72         88454.06   \n",
       "6           30636.39          30244.50         33132.28       1015661.07   \n",
       "7           10115.30           9868.98         13355.34        140809.18   \n",
       "8           12637.23           9584.66         12637.23        107689.01   \n",
       "9           22310.46          23523.40         23769.07        168002.21   \n",
       "10           4703.57           4891.55          5144.02         52542.12   \n",
       "11           4956.18           6047.11          6320.67        132136.11   \n",
       "12          38068.02          35816.30         63073.15        180177.26   \n",
       "13          36991.09          33280.19        102401.64        695648.12   \n",
       "14          26286.72          32137.67         32137.67        480485.11   \n",
       "\n",
       "             Mean Platform      Pr_value  Prof_last_week  Prof_prev_week  \\\n",
       "0    65027.541243           6.993165e-06       208705.92       195910.09   \n",
       "1    11570.290841           5.997857e-05        22988.03        15114.38   \n",
       "2   110627.769487           3.089801e-08       231206.37       259138.78   \n",
       "3     2321.594746           3.995310e-06         4015.04        20200.22   \n",
       "4    33627.092994           0.000000e+00       220411.74       262878.28   \n",
       "5    26106.023307           9.543582e-07        76865.99        33735.02   \n",
       "6   321917.633458           3.089801e-08       760150.39       838491.14   \n",
       "7    40576.429791           6.993165e-06       126410.38       109456.65   \n",
       "8    31575.627216           1.301673e-10        78458.46        79791.33   \n",
       "9    58616.910886           1.301673e-10       159716.42       142459.03   \n",
       "10   13302.514293           3.089801e-08        23698.14        52542.12   \n",
       "11   55405.222527           1.301673e-10       113442.16       107817.76   \n",
       "12   32800.000698           0.000000e+00       162476.34       180177.26   \n",
       "13  224131.020611           1.286812e-07       404637.21       442612.94   \n",
       "14  124430.342271           4.828598e-05       290653.15       347712.57   \n",
       "\n",
       "        Profit         R_std             a             b  +10%invest  \\\n",
       "0   1729166.30   4187.198533 -4.445387e+08 -1.249775e+06     636.680   \n",
       "1    275884.98   1531.989122 -5.198974e+03 -6.317619e+02    1698.818   \n",
       "2   2629182.95   5745.758200 -6.796166e+05 -9.718661e+03    4161.630   \n",
       "3     87556.21    369.018580 -7.448873e+02 -2.944551e+02     792.418   \n",
       "4   1184629.94   3961.306837 -1.137364e+05 -2.138192e+04   28582.323   \n",
       "5    521027.71   3037.192397  9.660166e+07  5.859882e+06    5113.559   \n",
       "6   8068447.30  23257.777361  1.273541e+06  2.672932e+04   33268.950   \n",
       "7    897240.21   5558.798435 -8.662412e+08 -7.136667e+07   10855.878   \n",
       "8    823703.82   1811.729702 -2.368605e+05 -2.966269e+04   10543.126   \n",
       "9   1428249.09   6407.002649 -1.138563e+09 -1.443916e+08   25875.740   \n",
       "10   329902.92    844.581374 -1.052270e+08 -1.403281e+07    5380.705   \n",
       "11  1142152.95   1836.283516  1.227312e+05  4.747344e+03    6651.821   \n",
       "12   960498.62   4148.889594 -6.982375e+04 -3.421143e+04   39397.930   \n",
       "13  5022440.54  11529.868264  3.164712e+05  5.935032e+03   36608.209   \n",
       "14  3046087.55  37215.479773  1.752522e+05  3.187368e+02   35351.437   \n",
       "\n",
       "    +20%invest  -10%invest  -20%invest  slope_plus_10  slope_plus_20  \\\n",
       "0      694.560     520.920     463.040     355.868007     355.876247   \n",
       "1     1853.256    1389.942    1235.504     107.445168     122.322375   \n",
       "2     4539.960    3404.970    3026.640     105.244922     107.333814   \n",
       "3      864.456     648.342     576.304      33.095864      37.682493   \n",
       "4    31180.716   23385.537   20787.144      19.066703      20.298558   \n",
       "5     5578.428    4183.821    3718.952      16.471529      16.470876   \n",
       "6    36293.400   27220.050   24195.600      14.530400      13.753138   \n",
       "7    11842.776    8882.082    7895.184      12.139658      12.139742   \n",
       "8    11501.592    8626.194    7667.728      11.211082      11.395167   \n",
       "9    28228.080   21171.060   18818.720       7.886596       7.886660   \n",
       "10    5869.860    4402.395    3913.240       7.501382       7.501513   \n",
       "11    7256.532    5442.399    4837.688       6.791082       6.384975   \n",
       "12   42979.560   32234.670   28653.040       6.129583       6.467836   \n",
       "13   39936.228   29952.171   26624.152       0.149814       0.117663   \n",
       "14   38565.204   28923.903   25710.136       0.000000       0.000000   \n",
       "\n",
       "    slope_minus_10  slope_minus_20  opt_invest  profit_change  \n",
       "0      -355.851526     -355.843286     636.680   20597.640224  \n",
       "1       -84.143582      -75.019491    1698.818   16593.616907  \n",
       "2      -101.226646      -99.294217    4161.630   39817.311296  \n",
       "3       -25.913390      -23.101524     792.418    2384.159841  \n",
       "4       -16.884915      -15.918851   28582.323   49542.788760  \n",
       "5       -16.472836      -16.473490    5113.559    7657.103379  \n",
       "6       -16.271157      -17.245808   33268.950   43946.467338  \n",
       "7       -12.139490      -12.139406   10855.878   11980.604347  \n",
       "8       -10.854618      -10.682053   10543.126   10745.441018  \n",
       "9        -7.886468       -7.886403   25875.740   18551.955406  \n",
       "10       -7.501120       -7.500990    4571.575   -2400.185454  \n",
       "11       -7.713631       -8.237569    5442.399   -4664.517525  \n",
       "12       -5.520319       -5.245967   32234.670  -19771.741049  \n",
       "13       -0.262470       -0.361155   29952.171    -873.506192  \n",
       "14        0.000000        0.000000   28923.903       0.000000  "
      ]
     },
     "execution_count": 553,
     "metadata": {},
     "output_type": "execute_result"
    },
    {
     "data": {
      "text/html": [
       "<b>limit_output extension: Maximum message size of 10000 exceeded with 12237 characters</b>"
      ]
     },
     "metadata": {},
     "output_type": "display_data"
    }
   ],
   "source": [
    "zzz"
   ]
  },
  {
   "cell_type": "markdown",
   "metadata": {},
   "source": [
    "## Save report to file"
   ]
  },
  {
   "cell_type": "code",
   "execution_count": 556,
   "metadata": {
    "ExecuteTime": {
     "end_time": "2021-02-15T00:02:25.283871Z",
     "start_time": "2021-02-15T00:02:25.196866Z"
    }
   },
   "outputs": [],
   "source": [
    "name = file_name.value\n",
    "file_name_str = name.split('.')[0] + f' on {data_source.value} level optimization_report.xlsx' \n",
    "\n",
    "with pd.ExcelWriter(file_name_str) as writer:\n",
    "    zzz.to_excel(writer)"
   ]
  },
  {
   "cell_type": "code",
   "execution_count": 554,
   "metadata": {
    "ExecuteTime": {
     "end_time": "2021-02-15T00:01:01.369071Z",
     "start_time": "2021-02-15T00:01:01.360071Z"
    }
   },
   "outputs": [
    {
     "data": {
      "text/plain": [
       "'channel'"
      ]
     },
     "execution_count": 554,
     "metadata": {},
     "output_type": "execute_result"
    }
   ],
   "source": []
  },
  {
   "cell_type": "code",
   "execution_count": null,
   "metadata": {},
   "outputs": [],
   "source": []
  }
 ],
 "metadata": {
  "hide_input": false,
  "kernelspec": {
   "display_name": "Python 3",
   "language": "python",
   "name": "python3"
  },
  "language_info": {
   "codemirror_mode": {
    "name": "ipython",
    "version": 3
   },
   "file_extension": ".py",
   "mimetype": "text/x-python",
   "name": "python",
   "nbconvert_exporter": "python",
   "pygments_lexer": "ipython3",
   "version": "3.8.5"
  },
  "toc": {
   "base_numbering": 1,
   "nav_menu": {
    "height": "70px",
    "width": "290px"
   },
   "number_sections": true,
   "sideBar": true,
   "skip_h1_title": false,
   "title_cell": "Table of Contents",
   "title_sidebar": "Contents",
   "toc_cell": false,
   "toc_position": {
    "height": "calc(100% - 180px)",
    "left": "10px",
    "top": "150px",
    "width": "304.475px"
   },
   "toc_section_display": true,
   "toc_window_display": true
  },
  "varInspector": {
   "cols": {
    "lenName": 16,
    "lenType": 16,
    "lenVar": 40
   },
   "kernels_config": {
    "python": {
     "delete_cmd_postfix": "",
     "delete_cmd_prefix": "del ",
     "library": "var_list.py",
     "varRefreshCmd": "print(var_dic_list())"
    },
    "r": {
     "delete_cmd_postfix": ") ",
     "delete_cmd_prefix": "rm(",
     "library": "var_list.r",
     "varRefreshCmd": "cat(var_dic_list()) "
    }
   },
   "types_to_exclude": [
    "module",
    "function",
    "builtin_function_or_method",
    "instance",
    "_Feature"
   ],
   "window_display": false
  }
 },
 "nbformat": 4,
 "nbformat_minor": 4
}
