{
 "cells": [
  {
   "cell_type": "code",
   "execution_count": 1,
   "metadata": {
    "ExecuteTime": {
     "end_time": "2021-03-03T15:08:40.840298Z",
     "start_time": "2021-03-03T15:08:38.917188Z"
    }
   },
   "outputs": [],
   "source": [
    "import sys\n",
    "import json\n",
    "import ipywidgets as widgets\n",
    "encoding = sys.getdefaultencoding()\n",
    "import os\n",
    "import pandas as pd\n",
    "\n",
    "from pathlib import Path\n",
    "import plotly.express as px\n",
    "import plotly.graph_objects as go\n",
    "pd.options.plotting.backend = \"plotly\"\n",
    "from IPython.display import display\n",
    "#from IPython.core.interactiveshell import InteractiveShell\n",
    "#InteractiveShell.ast_node_interactivity = 'all'\n",
    "pd.set_option('display.max_columns', None)\n",
    "\n",
    "pd.options.display.float_format = '{:,.3f}'.format\n"
   ]
  },
  {
   "cell_type": "code",
   "execution_count": 2,
   "metadata": {
    "ExecuteTime": {
     "end_time": "2021-03-03T15:08:40.847299Z",
     "start_time": "2021-03-03T15:08:40.843299Z"
    }
   },
   "outputs": [],
   "source": [
    "list_files = os.listdir(\"./input\")\n",
    "mypath = Path().absolute()\n",
    "folder = 'budget_opt\\\\'\n",
    "img_folder = folder + 'img\\\\'"
   ]
  },
  {
   "cell_type": "code",
   "execution_count": 3,
   "metadata": {
    "ExecuteTime": {
     "end_time": "2021-03-03T15:08:41.457334Z",
     "start_time": "2021-03-03T15:08:40.850299Z"
    }
   },
   "outputs": [],
   "source": [
    "from BudgetOptimizer import Optimizer\n",
    "\n",
    "from BudgetOptimizer import DateTimeID, dtype_, stat_name, regr_name, r2_stat_name, usecols_"
   ]
  },
  {
   "cell_type": "markdown",
   "metadata": {},
   "source": [
    "## Read out dataset form CSV file"
   ]
  },
  {
   "cell_type": "code",
   "execution_count": 4,
   "metadata": {
    "ExecuteTime": {
     "end_time": "2021-03-03T15:08:41.480335Z",
     "start_time": "2021-03-03T15:08:41.459334Z"
    }
   },
   "outputs": [
    {
     "data": {
      "application/vnd.jupyter.widget-view+json": {
       "model_id": "60e836b9a9474d2f9209428f02e50f90",
       "version_major": 2,
       "version_minor": 0
      },
      "text/plain": [
       "Dropdown(description='Source file:', options=('4Camping.csv', '4home.csv', 'aliatic.csv', 'apotek.csv', 'audio…"
      ]
     },
     "metadata": {},
     "output_type": "display_data"
    }
   ],
   "source": [
    "file_name = widgets.Dropdown(\n",
    "    options = list_files,\n",
    "    value=list_files[0],\n",
    "    description='Source file:',\n",
    "    disabled=False,\n",
    ")\n",
    "display(file_name)"
   ]
  },
  {
   "cell_type": "code",
   "execution_count": 13,
   "metadata": {
    "ExecuteTime": {
     "end_time": "2021-03-03T15:09:28.764039Z",
     "start_time": "2021-03-03T15:09:25.831872Z"
    }
   },
   "outputs": [
    {
     "data": {
      "text/html": [
       "<div>\n",
       "<style scoped>\n",
       "    .dataframe tbody tr th:only-of-type {\n",
       "        vertical-align: middle;\n",
       "    }\n",
       "\n",
       "    .dataframe tbody tr th {\n",
       "        vertical-align: top;\n",
       "    }\n",
       "\n",
       "    .dataframe thead th {\n",
       "        text-align: right;\n",
       "    }\n",
       "</style>\n",
       "<table border=\"1\" class=\"dataframe\">\n",
       "  <thead>\n",
       "    <tr style=\"text-align: right;\">\n",
       "      <th></th>\n",
       "      <th>account</th>\n",
       "      <th>businessUnit</th>\n",
       "      <th>platformCode</th>\n",
       "      <th>channelCode</th>\n",
       "      <th>adCampaign</th>\n",
       "      <th>marketingInvestment</th>\n",
       "      <th>impressions</th>\n",
       "      <th>clicks</th>\n",
       "      <th>visits</th>\n",
       "      <th>conversions</th>\n",
       "      <th>deliveries</th>\n",
       "      <th>netRevenue</th>\n",
       "      <th>grossProfit</th>\n",
       "      <th>currencyCode</th>\n",
       "      <th>adGroup</th>\n",
       "      <th>periodStartDate</th>\n",
       "    </tr>\n",
       "  </thead>\n",
       "  <tbody>\n",
       "    <tr>\n",
       "      <th>0</th>\n",
       "      <td>audiopartner</td>\n",
       "      <td>kytaryro</td>\n",
       "      <td>Compari</td>\n",
       "      <td>compari</td>\n",
       "      <td>NaN</td>\n",
       "      <td>0.000</td>\n",
       "      <td>0</td>\n",
       "      <td>0</td>\n",
       "      <td>63</td>\n",
       "      <td>2</td>\n",
       "      <td>1</td>\n",
       "      <td>20,417.110</td>\n",
       "      <td>-1,144.320</td>\n",
       "      <td>CZK</td>\n",
       "      <td>(not set)</td>\n",
       "      <td>2020-01-21</td>\n",
       "    </tr>\n",
       "    <tr>\n",
       "      <th>1</th>\n",
       "      <td>audiopartner</td>\n",
       "      <td>kytaryro</td>\n",
       "      <td>unpaid</td>\n",
       "      <td>direct</td>\n",
       "      <td>NaN</td>\n",
       "      <td>0.000</td>\n",
       "      <td>0</td>\n",
       "      <td>0</td>\n",
       "      <td>0</td>\n",
       "      <td>10</td>\n",
       "      <td>9</td>\n",
       "      <td>58,887.130</td>\n",
       "      <td>14,298.720</td>\n",
       "      <td>CZK</td>\n",
       "      <td>(not set)</td>\n",
       "      <td>2020-01-21</td>\n",
       "    </tr>\n",
       "    <tr>\n",
       "      <th>2</th>\n",
       "      <td>audiopartner</td>\n",
       "      <td>kytaryro</td>\n",
       "      <td>AdWords</td>\n",
       "      <td>googleadsdsother</td>\n",
       "      <td>NaN</td>\n",
       "      <td>0.000</td>\n",
       "      <td>0</td>\n",
       "      <td>0</td>\n",
       "      <td>2</td>\n",
       "      <td>0</td>\n",
       "      <td>0</td>\n",
       "      <td>0.000</td>\n",
       "      <td>0.000</td>\n",
       "      <td>CZK</td>\n",
       "      <td>(not set)</td>\n",
       "      <td>2020-01-21</td>\n",
       "    </tr>\n",
       "    <tr>\n",
       "      <th>3</th>\n",
       "      <td>audiopartner</td>\n",
       "      <td>kytaryro</td>\n",
       "      <td>unpaid</td>\n",
       "      <td>organic</td>\n",
       "      <td>NaN</td>\n",
       "      <td>0.000</td>\n",
       "      <td>0</td>\n",
       "      <td>0</td>\n",
       "      <td>0</td>\n",
       "      <td>5</td>\n",
       "      <td>5</td>\n",
       "      <td>5,961.500</td>\n",
       "      <td>735.000</td>\n",
       "      <td>CZK</td>\n",
       "      <td>(not set)</td>\n",
       "      <td>2020-01-21</td>\n",
       "    </tr>\n",
       "    <tr>\n",
       "      <th>4</th>\n",
       "      <td>audiopartner</td>\n",
       "      <td>kytaryro</td>\n",
       "      <td>Compari</td>\n",
       "      <td>compari</td>\n",
       "      <td>-</td>\n",
       "      <td>198.180</td>\n",
       "      <td>0</td>\n",
       "      <td>106</td>\n",
       "      <td>0</td>\n",
       "      <td>0</td>\n",
       "      <td>0</td>\n",
       "      <td>0.000</td>\n",
       "      <td>0.000</td>\n",
       "      <td>CZK</td>\n",
       "      <td>NaN</td>\n",
       "      <td>2020-01-21</td>\n",
       "    </tr>\n",
       "  </tbody>\n",
       "</table>\n",
       "</div>"
      ],
      "text/plain": [
       "        account businessUnit platformCode       channelCode adCampaign  \\\n",
       "0  audiopartner     kytaryro      Compari           compari        NaN   \n",
       "1  audiopartner     kytaryro       unpaid            direct        NaN   \n",
       "2  audiopartner     kytaryro      AdWords  googleadsdsother        NaN   \n",
       "3  audiopartner     kytaryro       unpaid           organic        NaN   \n",
       "4  audiopartner     kytaryro      Compari           compari          -   \n",
       "\n",
       "   marketingInvestment  impressions  clicks  visits  conversions  deliveries  \\\n",
       "0                0.000            0       0      63            2           1   \n",
       "1                0.000            0       0       0           10           9   \n",
       "2                0.000            0       0       2            0           0   \n",
       "3                0.000            0       0       0            5           5   \n",
       "4              198.180            0     106       0            0           0   \n",
       "\n",
       "   netRevenue  grossProfit currencyCode    adGroup periodStartDate  \n",
       "0  20,417.110   -1,144.320          CZK  (not set)      2020-01-21  \n",
       "1  58,887.130   14,298.720          CZK  (not set)      2020-01-21  \n",
       "2       0.000        0.000          CZK  (not set)      2020-01-21  \n",
       "3   5,961.500      735.000          CZK  (not set)      2020-01-21  \n",
       "4       0.000        0.000          CZK        NaN      2020-01-21  "
      ]
     },
     "execution_count": 13,
     "metadata": {},
     "output_type": "execute_result"
    }
   ],
   "source": [
    "df = pd.read_csv('input\\\\'+ file_name.value, sep=\"\\t\", infer_datetime_format=True,\n",
    "                 usecols=usecols_, dtype=dtype_, parse_dates=DateTimeID)\n",
    "\n",
    "df['periodStartDate'] = pd.to_datetime(df['periodStartDate'])\n",
    "df.head(5)"
   ]
  },
  {
   "cell_type": "code",
   "execution_count": 14,
   "metadata": {
    "ExecuteTime": {
     "end_time": "2021-03-03T15:10:09.629377Z",
     "start_time": "2021-03-03T15:09:30.413134Z"
    }
   },
   "outputs": [
    {
     "name": "stdout",
     "output_type": "stream",
     "text": [
      "Init estimator class\n",
      "Load Settings\n",
      "Load data\n",
      "Correlation calculation executed\n",
      "Optimizer class Initialization\n",
      "Load optimizer settings\n",
      "Load optimizer data\n"
     ]
    }
   ],
   "source": [
    "correlation_treshold=0.9\n",
    "result, stat_ = Optimizer(df, \n",
    "                          alpha=0.2,\n",
    "                          confidence_interval=2.0, \n",
    "                          change_investment = 0, \n",
    "                          level='platform',\n",
    "                          correlation_treshold=correlation_treshold,\n",
    "                          maximum_investment_change = 0.2)"
   ]
  },
  {
   "cell_type": "code",
   "execution_count": 15,
   "metadata": {
    "ExecuteTime": {
     "end_time": "2021-03-03T15:10:12.153521Z",
     "start_time": "2021-03-03T15:10:12.083517Z"
    }
   },
   "outputs": [
    {
     "data": {
      "text/html": [
       "<div>\n",
       "<style scoped>\n",
       "    .dataframe tbody tr th:only-of-type {\n",
       "        vertical-align: middle;\n",
       "    }\n",
       "\n",
       "    .dataframe tbody tr th {\n",
       "        vertical-align: top;\n",
       "    }\n",
       "\n",
       "    .dataframe thead th {\n",
       "        text-align: right;\n",
       "    }\n",
       "</style>\n",
       "<table border=\"1\" class=\"dataframe\">\n",
       "  <thead>\n",
       "    <tr style=\"text-align: right;\">\n",
       "      <th></th>\n",
       "      <th>Business_unit</th>\n",
       "      <th>Client</th>\n",
       "      <th>Component</th>\n",
       "      <th>Corr_coeff</th>\n",
       "      <th>Invest</th>\n",
       "      <th>Invest_last_week</th>\n",
       "      <th>Invest_prev_week</th>\n",
       "      <th>Max_week_invest</th>\n",
       "      <th>Max_week_profit</th>\n",
       "      <th>Mean</th>\n",
       "      <th>Platform</th>\n",
       "      <th>Pr_value</th>\n",
       "      <th>Prof_last_week</th>\n",
       "      <th>Prof_prev_week</th>\n",
       "      <th>Profit</th>\n",
       "      <th>R_std</th>\n",
       "      <th>Regr_X</th>\n",
       "      <th>Regt_Y</th>\n",
       "      <th>X</th>\n",
       "      <th>Y</th>\n",
       "      <th>a</th>\n",
       "      <th>b</th>\n",
       "      <th>c</th>\n",
       "      <th>Down_line_Y</th>\n",
       "      <th>Up_line_Y</th>\n",
       "      <th>plus_invest</th>\n",
       "      <th>minus_invest</th>\n",
       "      <th>slope_plus</th>\n",
       "      <th>slope_minus</th>\n",
       "      <th>opt_invest</th>\n",
       "      <th>profit_change</th>\n",
       "    </tr>\n",
       "  </thead>\n",
       "  <tbody>\n",
       "    <tr>\n",
       "      <th>0</th>\n",
       "      <td>kytarycz</td>\n",
       "      <td>audiopartner</td>\n",
       "      <td>kytarycz/ZboziCz</td>\n",
       "      <td>0.986</td>\n",
       "      <td>54,641.640</td>\n",
       "      <td>2,958.190</td>\n",
       "      <td>3,020.260</td>\n",
       "      <td>6,943.050</td>\n",
       "      <td>35,936.960</td>\n",
       "      <td>17,220.958</td>\n",
       "      <td></td>\n",
       "      <td>0.000</td>\n",
       "      <td>13,856.880</td>\n",
       "      <td>17,001.380</td>\n",
       "      <td>281,420.870</td>\n",
       "      <td>5,414.463</td>\n",
       "      <td>[0.0, 694.3050000000001, 1388.6100000000001, 2...</td>\n",
       "      <td>[-861.5527323627441, 2095.9799627174943, 5316....</td>\n",
       "      <td>[664.57, 5312.91, 5506.129999999999, 5550.16, ...</td>\n",
       "      <td>[1620.07, 29003.29, 21366.649999999998, 31005....</td>\n",
       "      <td>-33,214.100</td>\n",
       "      <td>-8,139.500</td>\n",
       "      <td>-861.553</td>\n",
       "      <td>[-11690.479648655239, -8732.946953575, -5512.0...</td>\n",
       "      <td>[9967.374183929749, 12924.906879009988, 16145....</td>\n",
       "      <td>3,624.312</td>\n",
       "      <td>2,416.208</td>\n",
       "      <td>6.139</td>\n",
       "      <td>-5.700</td>\n",
       "      <td>3,624.312</td>\n",
       "      <td>3,708.208</td>\n",
       "    </tr>\n",
       "    <tr>\n",
       "      <th>1</th>\n",
       "      <td>kytarypl</td>\n",
       "      <td>audiopartner</td>\n",
       "      <td>kytarypl/Ceneo</td>\n",
       "      <td>0.993</td>\n",
       "      <td>125,900.130</td>\n",
       "      <td>8,224.650</td>\n",
       "      <td>9,773.570</td>\n",
       "      <td>14,767.630</td>\n",
       "      <td>28,536.940</td>\n",
       "      <td>11,780.693</td>\n",
       "      <td></td>\n",
       "      <td>0.000</td>\n",
       "      <td>9,665.110</td>\n",
       "      <td>10,808.100</td>\n",
       "      <td>193,557.050</td>\n",
       "      <td>10,980.448</td>\n",
       "      <td>[0.0, 1476.7630000000001, 2953.5260000000003, ...</td>\n",
       "      <td>[1623.1074666839932, 2219.4259342991672, 3086....</td>\n",
       "      <td>[1417.11, 10029.96, 11257.4, 12242.77999999999...</td>\n",
       "      <td>[1483.26, 9417.84, 15468.86, 16269.04, 17050.1...</td>\n",
       "      <td>-1,313.674</td>\n",
       "      <td>-3,945.700</td>\n",
       "      <td>1,623.107</td>\n",
       "      <td>[-20337.78939905622, -19741.470931441043, -188...</td>\n",
       "      <td>[23584.004332424203, 24180.32280003938, 25047....</td>\n",
       "      <td>11,728.284</td>\n",
       "      <td>7,818.856</td>\n",
       "      <td>5.130</td>\n",
       "      <td>-3.126</td>\n",
       "      <td>11,728.284</td>\n",
       "      <td>10,027.892</td>\n",
       "    </tr>\n",
       "    <tr>\n",
       "      <th>2</th>\n",
       "      <td>kytarycz</td>\n",
       "      <td>audiopartner</td>\n",
       "      <td>kytarycz/Sklik</td>\n",
       "      <td>0.902</td>\n",
       "      <td>601,212.430</td>\n",
       "      <td>24,477.720</td>\n",
       "      <td>28,727.950</td>\n",
       "      <td>70,852.530</td>\n",
       "      <td>262,474.220</td>\n",
       "      <td>112,470.721</td>\n",
       "      <td></td>\n",
       "      <td>0.000</td>\n",
       "      <td>131,346.220</td>\n",
       "      <td>93,567.410</td>\n",
       "      <td>1,810,650.170</td>\n",
       "      <td>43,849.168</td>\n",
       "      <td>[0.0, 7085.253000000001, 14170.506000000001, 2...</td>\n",
       "      <td>[-25183.067663453192, 3410.3196470801813, 3088...</td>\n",
       "      <td>[6926.16, 49452.97, 58688.19, 55542.12, 65445....</td>\n",
       "      <td>[6251.589999999999, 145878.59, 144270.11, 2298...</td>\n",
       "      <td>728,051.549</td>\n",
       "      <td>176,840.095</td>\n",
       "      <td>-25,183.068</td>\n",
       "      <td>[-112881.40404482716, -84288.01673429378, -568...</td>\n",
       "      <td>[62515.268717920764, 91108.65602845413, 118579...</td>\n",
       "      <td>34,473.540</td>\n",
       "      <td>22,982.360</td>\n",
       "      <td>3.443</td>\n",
       "      <td>-3.557</td>\n",
       "      <td>34,473.540</td>\n",
       "      <td>19,784.639</td>\n",
       "    </tr>\n",
       "    <tr>\n",
       "      <th>3</th>\n",
       "      <td>kytarycz</td>\n",
       "      <td>audiopartner</td>\n",
       "      <td>kytarycz/HeurekaCz</td>\n",
       "      <td>0.916</td>\n",
       "      <td>177,472.350</td>\n",
       "      <td>13,193.960</td>\n",
       "      <td>13,799.340</td>\n",
       "      <td>21,237.220</td>\n",
       "      <td>72,136.600</td>\n",
       "      <td>32,582.018</td>\n",
       "      <td></td>\n",
       "      <td>0.000</td>\n",
       "      <td>23,237.470</td>\n",
       "      <td>21,786.050</td>\n",
       "      <td>510,346.060</td>\n",
       "      <td>16,843.217</td>\n",
       "      <td>[0.0, 2123.722, 4247.444, 6371.166000000001, 8...</td>\n",
       "      <td>[4273.429773534856, 9941.728841806027, 15723.6...</td>\n",
       "      <td>[0.0, 11368.36, 12243.240000000005, 19624.0300...</td>\n",
       "      <td>[5324.07, 29688.25, 27035.970000000005, 66048....</td>\n",
       "      <td>-282,811.194</td>\n",
       "      <td>-107,018.241</td>\n",
       "      <td>4,273.430</td>\n",
       "      <td>[-29413.003449744527, -23744.704381473355, -17...</td>\n",
       "      <td>[37959.86299681424, 43628.16206508541, 49410.0...</td>\n",
       "      <td>16,559.208</td>\n",
       "      <td>11,039.472</td>\n",
       "      <td>3.045</td>\n",
       "      <td>-2.968</td>\n",
       "      <td>16,559.208</td>\n",
       "      <td>8,405.019</td>\n",
       "    </tr>\n",
       "    <tr>\n",
       "      <th>4</th>\n",
       "      <td>kytarycz</td>\n",
       "      <td>audiopartner</td>\n",
       "      <td>kytarycz/AdWords</td>\n",
       "      <td>1.000</td>\n",
       "      <td>3,528,525.520</td>\n",
       "      <td>200,835.080</td>\n",
       "      <td>200,765.980</td>\n",
       "      <td>553,728.790</td>\n",
       "      <td>1,243,034.510</td>\n",
       "      <td>560,470.623</td>\n",
       "      <td></td>\n",
       "      <td>0.000</td>\n",
       "      <td>554,556.960</td>\n",
       "      <td>542,495.400</td>\n",
       "      <td>9,064,091.470</td>\n",
       "      <td>98,212.986</td>\n",
       "      <td>[0.0, 55372.87900000001, 110745.75800000002, 1...</td>\n",
       "      <td>[-30036.93595784496, 151756.70675774553, 31529...</td>\n",
       "      <td>[32261.24999999998, 207628.89999999997, 209732...</td>\n",
       "      <td>[76990.89000000001, 603410.47, 596641.3, 98766...</td>\n",
       "      <td>1,810,536.119</td>\n",
       "      <td>523,300.095</td>\n",
       "      <td>-30,036.936</td>\n",
       "      <td>[-226462.90699388483, -44669.264278294344, 118...</td>\n",
       "      <td>[166389.03507819492, 348182.6777937854, 511722...</td>\n",
       "      <td>240,919.176</td>\n",
       "      <td>160,612.784</td>\n",
       "      <td>2.269</td>\n",
       "      <td>-2.450</td>\n",
       "      <td>204,685.392</td>\n",
       "      <td>9,205.201</td>\n",
       "    </tr>\n",
       "  </tbody>\n",
       "</table>\n",
       "</div>"
      ],
      "text/plain": [
       "  Business_unit        Client           Component  Corr_coeff        Invest  \\\n",
       "0      kytarycz  audiopartner    kytarycz/ZboziCz       0.986    54,641.640   \n",
       "1      kytarypl  audiopartner      kytarypl/Ceneo       0.993   125,900.130   \n",
       "2      kytarycz  audiopartner      kytarycz/Sklik       0.902   601,212.430   \n",
       "3      kytarycz  audiopartner  kytarycz/HeurekaCz       0.916   177,472.350   \n",
       "4      kytarycz  audiopartner    kytarycz/AdWords       1.000 3,528,525.520   \n",
       "\n",
       "   Invest_last_week  Invest_prev_week  Max_week_invest  Max_week_profit  \\\n",
       "0         2,958.190         3,020.260        6,943.050       35,936.960   \n",
       "1         8,224.650         9,773.570       14,767.630       28,536.940   \n",
       "2        24,477.720        28,727.950       70,852.530      262,474.220   \n",
       "3        13,193.960        13,799.340       21,237.220       72,136.600   \n",
       "4       200,835.080       200,765.980      553,728.790    1,243,034.510   \n",
       "\n",
       "         Mean Platform  Pr_value  Prof_last_week  Prof_prev_week  \\\n",
       "0  17,220.958              0.000      13,856.880      17,001.380   \n",
       "1  11,780.693              0.000       9,665.110      10,808.100   \n",
       "2 112,470.721              0.000     131,346.220      93,567.410   \n",
       "3  32,582.018              0.000      23,237.470      21,786.050   \n",
       "4 560,470.623              0.000     554,556.960     542,495.400   \n",
       "\n",
       "         Profit      R_std                                             Regr_X  \\\n",
       "0   281,420.870  5,414.463  [0.0, 694.3050000000001, 1388.6100000000001, 2...   \n",
       "1   193,557.050 10,980.448  [0.0, 1476.7630000000001, 2953.5260000000003, ...   \n",
       "2 1,810,650.170 43,849.168  [0.0, 7085.253000000001, 14170.506000000001, 2...   \n",
       "3   510,346.060 16,843.217  [0.0, 2123.722, 4247.444, 6371.166000000001, 8...   \n",
       "4 9,064,091.470 98,212.986  [0.0, 55372.87900000001, 110745.75800000002, 1...   \n",
       "\n",
       "                                              Regt_Y  \\\n",
       "0  [-861.5527323627441, 2095.9799627174943, 5316....   \n",
       "1  [1623.1074666839932, 2219.4259342991672, 3086....   \n",
       "2  [-25183.067663453192, 3410.3196470801813, 3088...   \n",
       "3  [4273.429773534856, 9941.728841806027, 15723.6...   \n",
       "4  [-30036.93595784496, 151756.70675774553, 31529...   \n",
       "\n",
       "                                                   X  \\\n",
       "0  [664.57, 5312.91, 5506.129999999999, 5550.16, ...   \n",
       "1  [1417.11, 10029.96, 11257.4, 12242.77999999999...   \n",
       "2  [6926.16, 49452.97, 58688.19, 55542.12, 65445....   \n",
       "3  [0.0, 11368.36, 12243.240000000005, 19624.0300...   \n",
       "4  [32261.24999999998, 207628.89999999997, 209732...   \n",
       "\n",
       "                                                   Y             a  \\\n",
       "0  [1620.07, 29003.29, 21366.649999999998, 31005....   -33,214.100   \n",
       "1  [1483.26, 9417.84, 15468.86, 16269.04, 17050.1...    -1,313.674   \n",
       "2  [6251.589999999999, 145878.59, 144270.11, 2298...   728,051.549   \n",
       "3  [5324.07, 29688.25, 27035.970000000005, 66048....  -282,811.194   \n",
       "4  [76990.89000000001, 603410.47, 596641.3, 98766... 1,810,536.119   \n",
       "\n",
       "             b           c                                        Down_line_Y  \\\n",
       "0   -8,139.500    -861.553  [-11690.479648655239, -8732.946953575, -5512.0...   \n",
       "1   -3,945.700   1,623.107  [-20337.78939905622, -19741.470931441043, -188...   \n",
       "2  176,840.095 -25,183.068  [-112881.40404482716, -84288.01673429378, -568...   \n",
       "3 -107,018.241   4,273.430  [-29413.003449744527, -23744.704381473355, -17...   \n",
       "4  523,300.095 -30,036.936  [-226462.90699388483, -44669.264278294344, 118...   \n",
       "\n",
       "                                           Up_line_Y  plus_invest  \\\n",
       "0  [9967.374183929749, 12924.906879009988, 16145....    3,624.312   \n",
       "1  [23584.004332424203, 24180.32280003938, 25047....   11,728.284   \n",
       "2  [62515.268717920764, 91108.65602845413, 118579...   34,473.540   \n",
       "3  [37959.86299681424, 43628.16206508541, 49410.0...   16,559.208   \n",
       "4  [166389.03507819492, 348182.6777937854, 511722...  240,919.176   \n",
       "\n",
       "   minus_invest  slope_plus  slope_minus  opt_invest  profit_change  \n",
       "0     2,416.208       6.139       -5.700   3,624.312      3,708.208  \n",
       "1     7,818.856       5.130       -3.126  11,728.284     10,027.892  \n",
       "2    22,982.360       3.443       -3.557  34,473.540     19,784.639  \n",
       "3    11,039.472       3.045       -2.968  16,559.208      8,405.019  \n",
       "4   160,612.784       2.269       -2.450 204,685.392      9,205.201  "
      ]
     },
     "execution_count": 15,
     "metadata": {},
     "output_type": "execute_result"
    }
   ],
   "source": [
    "good_component_df = result[result['Corr_coeff']>=correlation_treshold]\n",
    "good_component_df.reset_index(inplace=True, drop=True)\n",
    "good_component_df.head(5)"
   ]
  },
  {
   "cell_type": "code",
   "execution_count": 16,
   "metadata": {
    "ExecuteTime": {
     "end_time": "2021-03-03T15:10:14.877677Z",
     "start_time": "2021-03-03T15:10:14.871677Z"
    }
   },
   "outputs": [
    {
     "data": {
      "text/plain": [
       "{'Invest_last_week': 0,\n",
       " 'Controlled_Profit_last_week': 807398.5800000002,\n",
       " 'Total_profit_last_week': 4525823.329999999,\n",
       " 'Expected_profit_change': 24754.644568403113,\n",
       " 'Controlled_investment': 5728830.42,\n",
       " 'Non-controlled_investment': 3742405.81,\n",
       " 'Controlled_profit': 13764916.209999999,\n",
       " 'Non_controlled_profit': 6725905.85,\n",
       " 'Confidence_interval': 2.0,\n",
       " 'Unallocated_extra_budgets': 0.0,\n",
       " 'Budget_pull': 66201.056}"
      ]
     },
     "execution_count": 16,
     "metadata": {},
     "output_type": "execute_result"
    }
   ],
   "source": [
    "stat_"
   ]
  },
  {
   "cell_type": "code",
   "execution_count": 17,
   "metadata": {
    "ExecuteTime": {
     "end_time": "2021-03-03T15:10:17.596833Z",
     "start_time": "2021-03-03T15:10:17.592832Z"
    }
   },
   "outputs": [],
   "source": [
    "component_list = good_component_df['Component'].to_list()\n",
    "index_list = list(good_component_df.index)\n",
    "component_menu = list(zip(component_list, index_list))"
   ]
  },
  {
   "cell_type": "code",
   "execution_count": 18,
   "metadata": {
    "ExecuteTime": {
     "end_time": "2021-03-03T15:10:20.309988Z",
     "start_time": "2021-03-03T15:10:20.293987Z"
    }
   },
   "outputs": [
    {
     "data": {
      "application/vnd.jupyter.widget-view+json": {
       "model_id": "74660ea9368b43afb486925bfbd078c1",
       "version_major": 2,
       "version_minor": 0
      },
      "text/plain": [
       "Dropdown(description='Component:', options=(('kytarycz/ZboziCz', 0), ('kytarypl/Ceneo', 1), ('kytarycz/Sklik',…"
      ]
     },
     "metadata": {},
     "output_type": "display_data"
    }
   ],
   "source": [
    "component = widgets.Dropdown(\n",
    "    options=component_menu,\n",
    "    value=0,\n",
    "    description='Component:',\n",
    ")\n",
    "display(component)"
   ]
  },
  {
   "cell_type": "code",
   "execution_count": 26,
   "metadata": {
    "ExecuteTime": {
     "end_time": "2021-03-03T15:12:46.297338Z",
     "start_time": "2021-03-03T15:12:46.250335Z"
    }
   },
   "outputs": [
    {
     "data": {
      "application/vnd.plotly.v1+json": {
       "config": {
        "plotlyServerURL": "https://plot.ly"
       },
       "data": [
        {
         "mode": "markers",
         "name": "Real data for last 12 weeks",
         "type": "scatter",
         "x": [
          2004.54,
          13216.099999999999,
          18024.33,
          13727.240000000002,
          18650.33,
          35098.64,
          25022.719999999998,
          16542.51,
          16951.929999999997,
          8320.73,
          19894.57,
          9286.210000000001
         ],
         "y": [
          4068.3199999999997,
          13196.09,
          21964.1,
          27962.039999999997,
          34272.15,
          64300.06,
          46764.41,
          27441.89,
          30972.67,
          17624.24,
          40335.71,
          17859.629999999997
         ]
        },
        {
         "mode": "markers",
         "name": "Last week",
         "type": "scatter",
         "x": [
          11585.53
         ],
         "y": [
          7202.49
         ]
        },
        {
         "mode": "markers",
         "name": "Previous week",
         "type": "scatter",
         "x": [
          9286.210000000001
         ],
         "y": [
          17859.629999999997
         ]
        },
        {
         "mode": "lines",
         "name": "Regression",
         "type": "scatter",
         "x": [
          0,
          3509.864,
          7019.728,
          10529.592,
          14039.456,
          17549.32,
          21059.184,
          24569.048,
          28078.912,
          31588.776,
          35098.64,
          38608.504
         ],
         "y": [
          133.62989117910192,
          5184.0971050830285,
          10821.260352158566,
          17113.274165592615,
          24136.21036474971,
          31974.97778006035,
          40724.348819300416,
          50490.10528667214,
          61390.31730788919,
          73556.77082374896,
          87136.5609109007,
          102293.8701934056
         ]
        },
        {
         "mode": "lines",
         "name": "Upper confidence interval",
         "type": "scatter",
         "x": [
          0,
          3509.864,
          7019.728,
          10529.592,
          14039.456,
          17549.32,
          21059.184,
          24569.048,
          28078.912,
          31588.776,
          35098.64,
          38608.504
         ],
         "y": [
          16314.555221083818,
          21365.022434987746,
          27002.185682063282,
          33294.199495497334,
          40317.135694654426,
          48155.90310996507,
          56905.27414920513,
          66671.03061657686,
          77571.24263779391,
          89737.69615365367,
          103317.48624080542,
          118474.79552331031
         ]
        },
        {
         "mode": "lines",
         "name": "Lower confidence interval",
         "type": "scatter",
         "x": [
          0,
          3509.864,
          7019.728,
          10529.592,
          14039.456,
          17549.32,
          21059.184,
          24569.048,
          28078.912,
          31588.776,
          35098.64,
          38608.504
         ],
         "y": [
          -16047.295438725614,
          -10996.828224821687,
          -5359.66497774615,
          932.3488356878988,
          7955.285034844994,
          15794.052450155636,
          24543.4234893957,
          34309.17995676742,
          45209.39197798447,
          57375.845493844245,
          70955.635580996,
          86112.94486350089
         ]
        },
        {
         "mode": "markers",
         "name": "Optimal point next week",
         "type": "scatter",
         "x": [
          7428.968000000001
         ],
         "y": [
          3917.4627854761547
         ]
        }
       ],
       "layout": {
        "template": {
         "data": {
          "bar": [
           {
            "error_x": {
             "color": "#2a3f5f"
            },
            "error_y": {
             "color": "#2a3f5f"
            },
            "marker": {
             "line": {
              "color": "#E5ECF6",
              "width": 0.5
             }
            },
            "type": "bar"
           }
          ],
          "barpolar": [
           {
            "marker": {
             "line": {
              "color": "#E5ECF6",
              "width": 0.5
             }
            },
            "type": "barpolar"
           }
          ],
          "carpet": [
           {
            "aaxis": {
             "endlinecolor": "#2a3f5f",
             "gridcolor": "white",
             "linecolor": "white",
             "minorgridcolor": "white",
             "startlinecolor": "#2a3f5f"
            },
            "baxis": {
             "endlinecolor": "#2a3f5f",
             "gridcolor": "white",
             "linecolor": "white",
             "minorgridcolor": "white",
             "startlinecolor": "#2a3f5f"
            },
            "type": "carpet"
           }
          ],
          "choropleth": [
           {
            "colorbar": {
             "outlinewidth": 0,
             "ticks": ""
            },
            "type": "choropleth"
           }
          ],
          "contour": [
           {
            "colorbar": {
             "outlinewidth": 0,
             "ticks": ""
            },
            "colorscale": [
             [
              0,
              "#0d0887"
             ],
             [
              0.1111111111111111,
              "#46039f"
             ],
             [
              0.2222222222222222,
              "#7201a8"
             ],
             [
              0.3333333333333333,
              "#9c179e"
             ],
             [
              0.4444444444444444,
              "#bd3786"
             ],
             [
              0.5555555555555556,
              "#d8576b"
             ],
             [
              0.6666666666666666,
              "#ed7953"
             ],
             [
              0.7777777777777778,
              "#fb9f3a"
             ],
             [
              0.8888888888888888,
              "#fdca26"
             ],
             [
              1,
              "#f0f921"
             ]
            ],
            "type": "contour"
           }
          ],
          "contourcarpet": [
           {
            "colorbar": {
             "outlinewidth": 0,
             "ticks": ""
            },
            "type": "contourcarpet"
           }
          ],
          "heatmap": [
           {
            "colorbar": {
             "outlinewidth": 0,
             "ticks": ""
            },
            "colorscale": [
             [
              0,
              "#0d0887"
             ],
             [
              0.1111111111111111,
              "#46039f"
             ],
             [
              0.2222222222222222,
              "#7201a8"
             ],
             [
              0.3333333333333333,
              "#9c179e"
             ],
             [
              0.4444444444444444,
              "#bd3786"
             ],
             [
              0.5555555555555556,
              "#d8576b"
             ],
             [
              0.6666666666666666,
              "#ed7953"
             ],
             [
              0.7777777777777778,
              "#fb9f3a"
             ],
             [
              0.8888888888888888,
              "#fdca26"
             ],
             [
              1,
              "#f0f921"
             ]
            ],
            "type": "heatmap"
           }
          ],
          "heatmapgl": [
           {
            "colorbar": {
             "outlinewidth": 0,
             "ticks": ""
            },
            "colorscale": [
             [
              0,
              "#0d0887"
             ],
             [
              0.1111111111111111,
              "#46039f"
             ],
             [
              0.2222222222222222,
              "#7201a8"
             ],
             [
              0.3333333333333333,
              "#9c179e"
             ],
             [
              0.4444444444444444,
              "#bd3786"
             ],
             [
              0.5555555555555556,
              "#d8576b"
             ],
             [
              0.6666666666666666,
              "#ed7953"
             ],
             [
              0.7777777777777778,
              "#fb9f3a"
             ],
             [
              0.8888888888888888,
              "#fdca26"
             ],
             [
              1,
              "#f0f921"
             ]
            ],
            "type": "heatmapgl"
           }
          ],
          "histogram": [
           {
            "marker": {
             "colorbar": {
              "outlinewidth": 0,
              "ticks": ""
             }
            },
            "type": "histogram"
           }
          ],
          "histogram2d": [
           {
            "colorbar": {
             "outlinewidth": 0,
             "ticks": ""
            },
            "colorscale": [
             [
              0,
              "#0d0887"
             ],
             [
              0.1111111111111111,
              "#46039f"
             ],
             [
              0.2222222222222222,
              "#7201a8"
             ],
             [
              0.3333333333333333,
              "#9c179e"
             ],
             [
              0.4444444444444444,
              "#bd3786"
             ],
             [
              0.5555555555555556,
              "#d8576b"
             ],
             [
              0.6666666666666666,
              "#ed7953"
             ],
             [
              0.7777777777777778,
              "#fb9f3a"
             ],
             [
              0.8888888888888888,
              "#fdca26"
             ],
             [
              1,
              "#f0f921"
             ]
            ],
            "type": "histogram2d"
           }
          ],
          "histogram2dcontour": [
           {
            "colorbar": {
             "outlinewidth": 0,
             "ticks": ""
            },
            "colorscale": [
             [
              0,
              "#0d0887"
             ],
             [
              0.1111111111111111,
              "#46039f"
             ],
             [
              0.2222222222222222,
              "#7201a8"
             ],
             [
              0.3333333333333333,
              "#9c179e"
             ],
             [
              0.4444444444444444,
              "#bd3786"
             ],
             [
              0.5555555555555556,
              "#d8576b"
             ],
             [
              0.6666666666666666,
              "#ed7953"
             ],
             [
              0.7777777777777778,
              "#fb9f3a"
             ],
             [
              0.8888888888888888,
              "#fdca26"
             ],
             [
              1,
              "#f0f921"
             ]
            ],
            "type": "histogram2dcontour"
           }
          ],
          "mesh3d": [
           {
            "colorbar": {
             "outlinewidth": 0,
             "ticks": ""
            },
            "type": "mesh3d"
           }
          ],
          "parcoords": [
           {
            "line": {
             "colorbar": {
              "outlinewidth": 0,
              "ticks": ""
             }
            },
            "type": "parcoords"
           }
          ],
          "pie": [
           {
            "automargin": true,
            "type": "pie"
           }
          ],
          "scatter": [
           {
            "marker": {
             "colorbar": {
              "outlinewidth": 0,
              "ticks": ""
             }
            },
            "type": "scatter"
           }
          ],
          "scatter3d": [
           {
            "line": {
             "colorbar": {
              "outlinewidth": 0,
              "ticks": ""
             }
            },
            "marker": {
             "colorbar": {
              "outlinewidth": 0,
              "ticks": ""
             }
            },
            "type": "scatter3d"
           }
          ],
          "scattercarpet": [
           {
            "marker": {
             "colorbar": {
              "outlinewidth": 0,
              "ticks": ""
             }
            },
            "type": "scattercarpet"
           }
          ],
          "scattergeo": [
           {
            "marker": {
             "colorbar": {
              "outlinewidth": 0,
              "ticks": ""
             }
            },
            "type": "scattergeo"
           }
          ],
          "scattergl": [
           {
            "marker": {
             "colorbar": {
              "outlinewidth": 0,
              "ticks": ""
             }
            },
            "type": "scattergl"
           }
          ],
          "scattermapbox": [
           {
            "marker": {
             "colorbar": {
              "outlinewidth": 0,
              "ticks": ""
             }
            },
            "type": "scattermapbox"
           }
          ],
          "scatterpolar": [
           {
            "marker": {
             "colorbar": {
              "outlinewidth": 0,
              "ticks": ""
             }
            },
            "type": "scatterpolar"
           }
          ],
          "scatterpolargl": [
           {
            "marker": {
             "colorbar": {
              "outlinewidth": 0,
              "ticks": ""
             }
            },
            "type": "scatterpolargl"
           }
          ],
          "scatterternary": [
           {
            "marker": {
             "colorbar": {
              "outlinewidth": 0,
              "ticks": ""
             }
            },
            "type": "scatterternary"
           }
          ],
          "surface": [
           {
            "colorbar": {
             "outlinewidth": 0,
             "ticks": ""
            },
            "colorscale": [
             [
              0,
              "#0d0887"
             ],
             [
              0.1111111111111111,
              "#46039f"
             ],
             [
              0.2222222222222222,
              "#7201a8"
             ],
             [
              0.3333333333333333,
              "#9c179e"
             ],
             [
              0.4444444444444444,
              "#bd3786"
             ],
             [
              0.5555555555555556,
              "#d8576b"
             ],
             [
              0.6666666666666666,
              "#ed7953"
             ],
             [
              0.7777777777777778,
              "#fb9f3a"
             ],
             [
              0.8888888888888888,
              "#fdca26"
             ],
             [
              1,
              "#f0f921"
             ]
            ],
            "type": "surface"
           }
          ],
          "table": [
           {
            "cells": {
             "fill": {
              "color": "#EBF0F8"
             },
             "line": {
              "color": "white"
             }
            },
            "header": {
             "fill": {
              "color": "#C8D4E3"
             },
             "line": {
              "color": "white"
             }
            },
            "type": "table"
           }
          ]
         },
         "layout": {
          "annotationdefaults": {
           "arrowcolor": "#2a3f5f",
           "arrowhead": 0,
           "arrowwidth": 1
          },
          "autotypenumbers": "strict",
          "coloraxis": {
           "colorbar": {
            "outlinewidth": 0,
            "ticks": ""
           }
          },
          "colorscale": {
           "diverging": [
            [
             0,
             "#8e0152"
            ],
            [
             0.1,
             "#c51b7d"
            ],
            [
             0.2,
             "#de77ae"
            ],
            [
             0.3,
             "#f1b6da"
            ],
            [
             0.4,
             "#fde0ef"
            ],
            [
             0.5,
             "#f7f7f7"
            ],
            [
             0.6,
             "#e6f5d0"
            ],
            [
             0.7,
             "#b8e186"
            ],
            [
             0.8,
             "#7fbc41"
            ],
            [
             0.9,
             "#4d9221"
            ],
            [
             1,
             "#276419"
            ]
           ],
           "sequential": [
            [
             0,
             "#0d0887"
            ],
            [
             0.1111111111111111,
             "#46039f"
            ],
            [
             0.2222222222222222,
             "#7201a8"
            ],
            [
             0.3333333333333333,
             "#9c179e"
            ],
            [
             0.4444444444444444,
             "#bd3786"
            ],
            [
             0.5555555555555556,
             "#d8576b"
            ],
            [
             0.6666666666666666,
             "#ed7953"
            ],
            [
             0.7777777777777778,
             "#fb9f3a"
            ],
            [
             0.8888888888888888,
             "#fdca26"
            ],
            [
             1,
             "#f0f921"
            ]
           ],
           "sequentialminus": [
            [
             0,
             "#0d0887"
            ],
            [
             0.1111111111111111,
             "#46039f"
            ],
            [
             0.2222222222222222,
             "#7201a8"
            ],
            [
             0.3333333333333333,
             "#9c179e"
            ],
            [
             0.4444444444444444,
             "#bd3786"
            ],
            [
             0.5555555555555556,
             "#d8576b"
            ],
            [
             0.6666666666666666,
             "#ed7953"
            ],
            [
             0.7777777777777778,
             "#fb9f3a"
            ],
            [
             0.8888888888888888,
             "#fdca26"
            ],
            [
             1,
             "#f0f921"
            ]
           ]
          },
          "colorway": [
           "#636efa",
           "#EF553B",
           "#00cc96",
           "#ab63fa",
           "#FFA15A",
           "#19d3f3",
           "#FF6692",
           "#B6E880",
           "#FF97FF",
           "#FECB52"
          ],
          "font": {
           "color": "#2a3f5f"
          },
          "geo": {
           "bgcolor": "white",
           "lakecolor": "white",
           "landcolor": "#E5ECF6",
           "showlakes": true,
           "showland": true,
           "subunitcolor": "white"
          },
          "hoverlabel": {
           "align": "left"
          },
          "hovermode": "closest",
          "mapbox": {
           "style": "light"
          },
          "paper_bgcolor": "white",
          "plot_bgcolor": "#E5ECF6",
          "polar": {
           "angularaxis": {
            "gridcolor": "white",
            "linecolor": "white",
            "ticks": ""
           },
           "bgcolor": "#E5ECF6",
           "radialaxis": {
            "gridcolor": "white",
            "linecolor": "white",
            "ticks": ""
           }
          },
          "scene": {
           "xaxis": {
            "backgroundcolor": "#E5ECF6",
            "gridcolor": "white",
            "gridwidth": 2,
            "linecolor": "white",
            "showbackground": true,
            "ticks": "",
            "zerolinecolor": "white"
           },
           "yaxis": {
            "backgroundcolor": "#E5ECF6",
            "gridcolor": "white",
            "gridwidth": 2,
            "linecolor": "white",
            "showbackground": true,
            "ticks": "",
            "zerolinecolor": "white"
           },
           "zaxis": {
            "backgroundcolor": "#E5ECF6",
            "gridcolor": "white",
            "gridwidth": 2,
            "linecolor": "white",
            "showbackground": true,
            "ticks": "",
            "zerolinecolor": "white"
           }
          },
          "shapedefaults": {
           "line": {
            "color": "#2a3f5f"
           }
          },
          "ternary": {
           "aaxis": {
            "gridcolor": "white",
            "linecolor": "white",
            "ticks": ""
           },
           "baxis": {
            "gridcolor": "white",
            "linecolor": "white",
            "ticks": ""
           },
           "bgcolor": "#E5ECF6",
           "caxis": {
            "gridcolor": "white",
            "linecolor": "white",
            "ticks": ""
           }
          },
          "title": {
           "x": 0.05
          },
          "xaxis": {
           "automargin": true,
           "gridcolor": "white",
           "linecolor": "white",
           "ticks": "",
           "title": {
            "standoff": 15
           },
           "zerolinecolor": "white",
           "zerolinewidth": 2
          },
          "yaxis": {
           "automargin": true,
           "gridcolor": "white",
           "linecolor": "white",
           "ticks": "",
           "title": {
            "standoff": 15
           },
           "zerolinecolor": "white",
           "zerolinewidth": 2
          }
         }
        },
        "title": {
         "font": {
          "size": 16
         },
         "text": "Paramiters of kytaryit/AdWords componet are: 0.9440559440559443corr. coeff "
        }
       }
      },
      "text/html": [
       "<div>                            <div id=\"3497b138-1e4d-4745-8a55-999c720a257c\" class=\"plotly-graph-div\" style=\"height:525px; width:100%;\"></div>            <script type=\"text/javascript\">                require([\"plotly\"], function(Plotly) {                    window.PLOTLYENV=window.PLOTLYENV || {};                                    if (document.getElementById(\"3497b138-1e4d-4745-8a55-999c720a257c\")) {                    Plotly.newPlot(                        \"3497b138-1e4d-4745-8a55-999c720a257c\",                        [{\"mode\": \"markers\", \"name\": \"Real data for last 12 weeks\", \"type\": \"scatter\", \"x\": [2004.54, 13216.099999999999, 18024.33, 13727.240000000002, 18650.33, 35098.64, 25022.719999999998, 16542.51, 16951.929999999997, 8320.73, 19894.57, 9286.210000000001], \"y\": [4068.3199999999997, 13196.09, 21964.1, 27962.039999999997, 34272.15, 64300.06, 46764.41, 27441.89, 30972.67, 17624.24, 40335.71, 17859.629999999997]}, {\"mode\": \"markers\", \"name\": \"Last week\", \"type\": \"scatter\", \"x\": [11585.53], \"y\": [7202.49]}, {\"mode\": \"markers\", \"name\": \"Previous week\", \"type\": \"scatter\", \"x\": [9286.210000000001], \"y\": [17859.629999999997]}, {\"mode\": \"lines\", \"name\": \"Regression\", \"type\": \"scatter\", \"x\": [0.0, 3509.864, 7019.728, 10529.592, 14039.456, 17549.32, 21059.184, 24569.048, 28078.912, 31588.776, 35098.64, 38608.504], \"y\": [133.62989117910192, 5184.0971050830285, 10821.260352158566, 17113.274165592615, 24136.21036474971, 31974.97778006035, 40724.348819300416, 50490.10528667214, 61390.31730788919, 73556.77082374896, 87136.5609109007, 102293.8701934056]}, {\"mode\": \"lines\", \"name\": \"Upper confidence interval\", \"type\": \"scatter\", \"x\": [0.0, 3509.864, 7019.728, 10529.592, 14039.456, 17549.32, 21059.184, 24569.048, 28078.912, 31588.776, 35098.64, 38608.504], \"y\": [16314.555221083818, 21365.022434987746, 27002.185682063282, 33294.199495497334, 40317.135694654426, 48155.90310996507, 56905.27414920513, 66671.03061657686, 77571.24263779391, 89737.69615365367, 103317.48624080542, 118474.79552331031]}, {\"mode\": \"lines\", \"name\": \"Lower confidence interval\", \"type\": \"scatter\", \"x\": [0.0, 3509.864, 7019.728, 10529.592, 14039.456, 17549.32, 21059.184, 24569.048, 28078.912, 31588.776, 35098.64, 38608.504], \"y\": [-16047.295438725614, -10996.828224821687, -5359.66497774615, 932.3488356878988, 7955.285034844994, 15794.052450155636, 24543.4234893957, 34309.17995676742, 45209.39197798447, 57375.845493844245, 70955.635580996, 86112.94486350089]}, {\"mode\": \"markers\", \"name\": \"Optimal point next week\", \"type\": \"scatter\", \"x\": [7428.968000000001], \"y\": [3917.4627854761547]}],                        {\"template\": {\"data\": {\"bar\": [{\"error_x\": {\"color\": \"#2a3f5f\"}, \"error_y\": {\"color\": \"#2a3f5f\"}, \"marker\": {\"line\": {\"color\": \"#E5ECF6\", \"width\": 0.5}}, \"type\": \"bar\"}], \"barpolar\": [{\"marker\": {\"line\": {\"color\": \"#E5ECF6\", \"width\": 0.5}}, \"type\": \"barpolar\"}], \"carpet\": [{\"aaxis\": {\"endlinecolor\": \"#2a3f5f\", \"gridcolor\": \"white\", \"linecolor\": \"white\", \"minorgridcolor\": \"white\", \"startlinecolor\": \"#2a3f5f\"}, \"baxis\": {\"endlinecolor\": \"#2a3f5f\", \"gridcolor\": \"white\", \"linecolor\": \"white\", \"minorgridcolor\": \"white\", \"startlinecolor\": \"#2a3f5f\"}, \"type\": \"carpet\"}], \"choropleth\": [{\"colorbar\": {\"outlinewidth\": 0, \"ticks\": \"\"}, \"type\": \"choropleth\"}], \"contour\": [{\"colorbar\": {\"outlinewidth\": 0, \"ticks\": \"\"}, \"colorscale\": [[0.0, \"#0d0887\"], [0.1111111111111111, \"#46039f\"], [0.2222222222222222, \"#7201a8\"], [0.3333333333333333, \"#9c179e\"], [0.4444444444444444, \"#bd3786\"], [0.5555555555555556, \"#d8576b\"], [0.6666666666666666, \"#ed7953\"], [0.7777777777777778, \"#fb9f3a\"], [0.8888888888888888, \"#fdca26\"], [1.0, \"#f0f921\"]], \"type\": \"contour\"}], \"contourcarpet\": [{\"colorbar\": {\"outlinewidth\": 0, \"ticks\": \"\"}, \"type\": \"contourcarpet\"}], \"heatmap\": [{\"colorbar\": {\"outlinewidth\": 0, \"ticks\": \"\"}, \"colorscale\": [[0.0, \"#0d0887\"], [0.1111111111111111, \"#46039f\"], [0.2222222222222222, \"#7201a8\"], [0.3333333333333333, \"#9c179e\"], [0.4444444444444444, \"#bd3786\"], [0.5555555555555556, \"#d8576b\"], [0.6666666666666666, \"#ed7953\"], [0.7777777777777778, \"#fb9f3a\"], [0.8888888888888888, \"#fdca26\"], [1.0, \"#f0f921\"]], \"type\": \"heatmap\"}], \"heatmapgl\": [{\"colorbar\": {\"outlinewidth\": 0, \"ticks\": \"\"}, \"colorscale\": [[0.0, \"#0d0887\"], [0.1111111111111111, \"#46039f\"], [0.2222222222222222, \"#7201a8\"], [0.3333333333333333, \"#9c179e\"], [0.4444444444444444, \"#bd3786\"], [0.5555555555555556, \"#d8576b\"], [0.6666666666666666, \"#ed7953\"], [0.7777777777777778, \"#fb9f3a\"], [0.8888888888888888, \"#fdca26\"], [1.0, \"#f0f921\"]], \"type\": \"heatmapgl\"}], \"histogram\": [{\"marker\": {\"colorbar\": {\"outlinewidth\": 0, \"ticks\": \"\"}}, \"type\": \"histogram\"}], \"histogram2d\": [{\"colorbar\": {\"outlinewidth\": 0, \"ticks\": \"\"}, \"colorscale\": [[0.0, \"#0d0887\"], [0.1111111111111111, \"#46039f\"], [0.2222222222222222, \"#7201a8\"], [0.3333333333333333, \"#9c179e\"], [0.4444444444444444, \"#bd3786\"], [0.5555555555555556, \"#d8576b\"], [0.6666666666666666, \"#ed7953\"], [0.7777777777777778, \"#fb9f3a\"], [0.8888888888888888, \"#fdca26\"], [1.0, \"#f0f921\"]], \"type\": \"histogram2d\"}], \"histogram2dcontour\": [{\"colorbar\": {\"outlinewidth\": 0, \"ticks\": \"\"}, \"colorscale\": [[0.0, \"#0d0887\"], [0.1111111111111111, \"#46039f\"], [0.2222222222222222, \"#7201a8\"], [0.3333333333333333, \"#9c179e\"], [0.4444444444444444, \"#bd3786\"], [0.5555555555555556, \"#d8576b\"], [0.6666666666666666, \"#ed7953\"], [0.7777777777777778, \"#fb9f3a\"], [0.8888888888888888, \"#fdca26\"], [1.0, \"#f0f921\"]], \"type\": \"histogram2dcontour\"}], \"mesh3d\": [{\"colorbar\": {\"outlinewidth\": 0, \"ticks\": \"\"}, \"type\": \"mesh3d\"}], \"parcoords\": [{\"line\": {\"colorbar\": {\"outlinewidth\": 0, \"ticks\": \"\"}}, \"type\": \"parcoords\"}], \"pie\": [{\"automargin\": true, \"type\": \"pie\"}], \"scatter\": [{\"marker\": {\"colorbar\": {\"outlinewidth\": 0, \"ticks\": \"\"}}, \"type\": \"scatter\"}], \"scatter3d\": [{\"line\": {\"colorbar\": {\"outlinewidth\": 0, \"ticks\": \"\"}}, \"marker\": {\"colorbar\": {\"outlinewidth\": 0, \"ticks\": \"\"}}, \"type\": \"scatter3d\"}], \"scattercarpet\": [{\"marker\": {\"colorbar\": {\"outlinewidth\": 0, \"ticks\": \"\"}}, \"type\": \"scattercarpet\"}], \"scattergeo\": [{\"marker\": {\"colorbar\": {\"outlinewidth\": 0, \"ticks\": \"\"}}, \"type\": \"scattergeo\"}], \"scattergl\": [{\"marker\": {\"colorbar\": {\"outlinewidth\": 0, \"ticks\": \"\"}}, \"type\": \"scattergl\"}], \"scattermapbox\": [{\"marker\": {\"colorbar\": {\"outlinewidth\": 0, \"ticks\": \"\"}}, \"type\": \"scattermapbox\"}], \"scatterpolar\": [{\"marker\": {\"colorbar\": {\"outlinewidth\": 0, \"ticks\": \"\"}}, \"type\": \"scatterpolar\"}], \"scatterpolargl\": [{\"marker\": {\"colorbar\": {\"outlinewidth\": 0, \"ticks\": \"\"}}, \"type\": \"scatterpolargl\"}], \"scatterternary\": [{\"marker\": {\"colorbar\": {\"outlinewidth\": 0, \"ticks\": \"\"}}, \"type\": \"scatterternary\"}], \"surface\": [{\"colorbar\": {\"outlinewidth\": 0, \"ticks\": \"\"}, \"colorscale\": [[0.0, \"#0d0887\"], [0.1111111111111111, \"#46039f\"], [0.2222222222222222, \"#7201a8\"], [0.3333333333333333, \"#9c179e\"], [0.4444444444444444, \"#bd3786\"], [0.5555555555555556, \"#d8576b\"], [0.6666666666666666, \"#ed7953\"], [0.7777777777777778, \"#fb9f3a\"], [0.8888888888888888, \"#fdca26\"], [1.0, \"#f0f921\"]], \"type\": \"surface\"}], \"table\": [{\"cells\": {\"fill\": {\"color\": \"#EBF0F8\"}, \"line\": {\"color\": \"white\"}}, \"header\": {\"fill\": {\"color\": \"#C8D4E3\"}, \"line\": {\"color\": \"white\"}}, \"type\": \"table\"}]}, \"layout\": {\"annotationdefaults\": {\"arrowcolor\": \"#2a3f5f\", \"arrowhead\": 0, \"arrowwidth\": 1}, \"autotypenumbers\": \"strict\", \"coloraxis\": {\"colorbar\": {\"outlinewidth\": 0, \"ticks\": \"\"}}, \"colorscale\": {\"diverging\": [[0, \"#8e0152\"], [0.1, \"#c51b7d\"], [0.2, \"#de77ae\"], [0.3, \"#f1b6da\"], [0.4, \"#fde0ef\"], [0.5, \"#f7f7f7\"], [0.6, \"#e6f5d0\"], [0.7, \"#b8e186\"], [0.8, \"#7fbc41\"], [0.9, \"#4d9221\"], [1, \"#276419\"]], \"sequential\": [[0.0, \"#0d0887\"], [0.1111111111111111, \"#46039f\"], [0.2222222222222222, \"#7201a8\"], [0.3333333333333333, \"#9c179e\"], [0.4444444444444444, \"#bd3786\"], [0.5555555555555556, \"#d8576b\"], [0.6666666666666666, \"#ed7953\"], [0.7777777777777778, \"#fb9f3a\"], [0.8888888888888888, \"#fdca26\"], [1.0, \"#f0f921\"]], \"sequentialminus\": [[0.0, \"#0d0887\"], [0.1111111111111111, \"#46039f\"], [0.2222222222222222, \"#7201a8\"], [0.3333333333333333, \"#9c179e\"], [0.4444444444444444, \"#bd3786\"], [0.5555555555555556, \"#d8576b\"], [0.6666666666666666, \"#ed7953\"], [0.7777777777777778, \"#fb9f3a\"], [0.8888888888888888, \"#fdca26\"], [1.0, \"#f0f921\"]]}, \"colorway\": [\"#636efa\", \"#EF553B\", \"#00cc96\", \"#ab63fa\", \"#FFA15A\", \"#19d3f3\", \"#FF6692\", \"#B6E880\", \"#FF97FF\", \"#FECB52\"], \"font\": {\"color\": \"#2a3f5f\"}, \"geo\": {\"bgcolor\": \"white\", \"lakecolor\": \"white\", \"landcolor\": \"#E5ECF6\", \"showlakes\": true, \"showland\": true, \"subunitcolor\": \"white\"}, \"hoverlabel\": {\"align\": \"left\"}, \"hovermode\": \"closest\", \"mapbox\": {\"style\": \"light\"}, \"paper_bgcolor\": \"white\", \"plot_bgcolor\": \"#E5ECF6\", \"polar\": {\"angularaxis\": {\"gridcolor\": \"white\", \"linecolor\": \"white\", \"ticks\": \"\"}, \"bgcolor\": \"#E5ECF6\", \"radialaxis\": {\"gridcolor\": \"white\", \"linecolor\": \"white\", \"ticks\": \"\"}}, \"scene\": {\"xaxis\": {\"backgroundcolor\": \"#E5ECF6\", \"gridcolor\": \"white\", \"gridwidth\": 2, \"linecolor\": \"white\", \"showbackground\": true, \"ticks\": \"\", \"zerolinecolor\": \"white\"}, \"yaxis\": {\"backgroundcolor\": \"#E5ECF6\", \"gridcolor\": \"white\", \"gridwidth\": 2, \"linecolor\": \"white\", \"showbackground\": true, \"ticks\": \"\", \"zerolinecolor\": \"white\"}, \"zaxis\": {\"backgroundcolor\": \"#E5ECF6\", \"gridcolor\": \"white\", \"gridwidth\": 2, \"linecolor\": \"white\", \"showbackground\": true, \"ticks\": \"\", \"zerolinecolor\": \"white\"}}, \"shapedefaults\": {\"line\": {\"color\": \"#2a3f5f\"}}, \"ternary\": {\"aaxis\": {\"gridcolor\": \"white\", \"linecolor\": \"white\", \"ticks\": \"\"}, \"baxis\": {\"gridcolor\": \"white\", \"linecolor\": \"white\", \"ticks\": \"\"}, \"bgcolor\": \"#E5ECF6\", \"caxis\": {\"gridcolor\": \"white\", \"linecolor\": \"white\", \"ticks\": \"\"}}, \"title\": {\"x\": 0.05}, \"xaxis\": {\"automargin\": true, \"gridcolor\": \"white\", \"linecolor\": \"white\", \"ticks\": \"\", \"title\": {\"standoff\": 15}, \"zerolinecolor\": \"white\", \"zerolinewidth\": 2}, \"yaxis\": {\"automargin\": true, \"gridcolor\": \"white\", \"linecolor\": \"white\", \"ticks\": \"\", \"title\": {\"standoff\": 15}, \"zerolinecolor\": \"white\", \"zerolinewidth\": 2}}}, \"title\": {\"font\": {\"size\": 16}, \"text\": \"Paramiters of kytaryit/AdWords componet are: 0.9440559440559443corr. coeff \"}},                        {\"responsive\": true}                    ).then(function(){\n",
       "                            \n",
       "var gd = document.getElementById('3497b138-1e4d-4745-8a55-999c720a257c');\n",
       "var x = new MutationObserver(function (mutations, observer) {{\n",
       "        var display = window.getComputedStyle(gd).display;\n",
       "        if (!display || display === 'none') {{\n",
       "            console.log([gd, 'removed!']);\n",
       "            Plotly.purge(gd);\n",
       "            observer.disconnect();\n",
       "        }}\n",
       "}});\n",
       "\n",
       "// Listen for the removal of the full notebook cells\n",
       "var notebookContainer = gd.closest('#notebook-container');\n",
       "if (notebookContainer) {{\n",
       "    x.observe(notebookContainer, {childList: true});\n",
       "}}\n",
       "\n",
       "// Listen for the clearing of the current output cell\n",
       "var outputEl = gd.closest('.output');\n",
       "if (outputEl) {{\n",
       "    x.observe(outputEl, {childList: true});\n",
       "}}\n",
       "\n",
       "                        })                };                });            </script>        </div>"
      ]
     },
     "metadata": {},
     "output_type": "display_data"
    }
   ],
   "source": [
    "weeks = 12 # TODO It need to be get from statistics dictionary\n",
    "import plotly.graph_objects as go\n",
    "fig = go.Figure()\n",
    "    # Add traces\n",
    "#x=np.linspace(0, zzz_df.Max_week_invest.to_list()[0], num=100)\n",
    "fig.add_trace( go.Scatter(x = (good_component_df.loc[component.value]['X']) ,\n",
    "               y = (good_component_df.loc[component.value]['Y']),\n",
    "               mode = 'markers',\n",
    "               name = f'Real data for last {weeks} weeks'))\n",
    "\n",
    "fig.add_trace( go.Scatter(x = [(good_component_df.loc[component.value]['Invest_last_week']).tolist()],\n",
    "               y = [(good_component_df.loc[component.value]['Prof_last_week']).tolist()],\n",
    "               mode='markers',\n",
    "               name='Last week'))\n",
    "\n",
    "fig.add_trace( go.Scatter(x = [(good_component_df.loc[component.value]['Invest_prev_week']).tolist()],\n",
    "               y = [(good_component_df.loc[component.value]['Prof_prev_week']).tolist()],\n",
    "               mode='markers',\n",
    "               name='Previous week'))\n",
    "\n",
    "try:\n",
    "    fig.add_trace( go.Scatter(x = good_component_df.loc[component.value]['Regr_X'] ,\n",
    "               y = good_component_df.loc[component.value]['Regt_Y'],\n",
    "               mode='lines',\n",
    "               name='Regression'))\n",
    "\n",
    "    fig.add_trace( go.Scatter(x = list(good_component_df.loc[component.value]['Regr_X']),\n",
    "               y = list(good_component_df.loc[component.value]['Up_line_Y']),\n",
    "               mode='lines',\n",
    "               name='Upper confidence interval'))\n",
    "    \n",
    "    fig.add_trace( go.Scatter(x = list(good_component_df.loc[component.value]['Regr_X']),\n",
    "               y = list(good_component_df.loc[component.value]['Down_line_Y']),\n",
    "               mode='lines',\n",
    "               name='Lower confidence interval'))\n",
    "    \n",
    "    fig.add_trace( go.Scatter(x = [(good_component_df.loc[component.value]['opt_invest']).tolist()],\n",
    "               y = [good_component_df.loc[component.value]['Prof_last_week'] + good_component_df.loc[component.value]['profit_change']],\n",
    "               mode='markers',\n",
    "               name='Optimal point next week'))\n",
    "except:\n",
    "    pass\n",
    "\n",
    "fig.update_layout( title_text= f\"Paramiters of {component_menu[component.value][0]} componet are: {good_component_df.loc[component.value]['Corr_coeff']}corr. coeff \", \n",
    "                  title_font=dict(size=16))\n",
    "fig.show()"
   ]
  },
  {
   "cell_type": "code",
   "execution_count": null,
   "metadata": {},
   "outputs": [],
   "source": []
  }
 ],
 "metadata": {
  "hide_input": false,
  "kernelspec": {
   "display_name": "Python 3",
   "language": "python",
   "name": "python3"
  },
  "language_info": {
   "codemirror_mode": {
    "name": "ipython",
    "version": 3
   },
   "file_extension": ".py",
   "mimetype": "text/x-python",
   "name": "python",
   "nbconvert_exporter": "python",
   "pygments_lexer": "ipython3",
   "version": "3.8.5"
  },
  "toc": {
   "base_numbering": 1,
   "nav_menu": {},
   "number_sections": true,
   "sideBar": true,
   "skip_h1_title": false,
   "title_cell": "Table of Contents",
   "title_sidebar": "Contents",
   "toc_cell": false,
   "toc_position": {},
   "toc_section_display": true,
   "toc_window_display": false
  },
  "varInspector": {
   "cols": {
    "lenName": 16,
    "lenType": 16,
    "lenVar": 40
   },
   "kernels_config": {
    "python": {
     "delete_cmd_postfix": "",
     "delete_cmd_prefix": "del ",
     "library": "var_list.py",
     "varRefreshCmd": "print(var_dic_list())"
    },
    "r": {
     "delete_cmd_postfix": ") ",
     "delete_cmd_prefix": "rm(",
     "library": "var_list.r",
     "varRefreshCmd": "cat(var_dic_list()) "
    }
   },
   "oldHeight": 574.4,
   "position": {
    "height": "40px",
    "left": "1252.4px",
    "right": "20px",
    "top": "120px",
    "width": "250px"
   },
   "types_to_exclude": [
    "module",
    "function",
    "builtin_function_or_method",
    "instance",
    "_Feature"
   ],
   "varInspector_section_display": "none",
   "window_display": true
  }
 },
 "nbformat": 4,
 "nbformat_minor": 4
}
