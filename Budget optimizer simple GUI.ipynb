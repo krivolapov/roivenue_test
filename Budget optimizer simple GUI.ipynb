{
 "cells": [
  {
   "cell_type": "code",
   "execution_count": 1,
   "metadata": {
    "ExecuteTime": {
     "end_time": "2021-03-03T10:13:19.628467Z",
     "start_time": "2021-03-03T10:13:17.384339Z"
    }
   },
   "outputs": [],
   "source": [
    "import sys\n",
    "import json\n",
    "import ipywidgets as widgets\n",
    "encoding = sys.getdefaultencoding()\n",
    "import os\n",
    "import pandas as pd\n",
    "\n",
    "from pathlib import Path\n",
    "import plotly.express as px\n",
    "import plotly.graph_objects as go\n",
    "pd.options.plotting.backend = \"plotly\"\n",
    "from IPython.display import display\n",
    "#from IPython.core.interactiveshell import InteractiveShell\n",
    "#InteractiveShell.ast_node_interactivity = 'all'\n",
    "pd.set_option('display.max_columns', None)\n",
    "\n",
    "pd.options.display.float_format = '{:,.3f}'.format\n"
   ]
  },
  {
   "cell_type": "code",
   "execution_count": 2,
   "metadata": {
    "ExecuteTime": {
     "end_time": "2021-03-03T10:13:19.636467Z",
     "start_time": "2021-03-03T10:13:19.631467Z"
    }
   },
   "outputs": [],
   "source": [
    "list_files = os.listdir(\"./input\")\n",
    "mypath = Path().absolute()\n",
    "folder = 'budget_opt\\\\'\n",
    "img_folder = folder + 'img\\\\'"
   ]
  },
  {
   "cell_type": "code",
   "execution_count": 3,
   "metadata": {
    "ExecuteTime": {
     "end_time": "2021-03-03T10:13:20.420512Z",
     "start_time": "2021-03-03T10:13:19.638468Z"
    }
   },
   "outputs": [],
   "source": [
    "from BudgetOptimizer import Optimizer\n",
    "\n",
    "from BudgetOptimizer import DateTimeID, dtype_, stat_name, regr_name, r2_stat_name, usecols_"
   ]
  },
  {
   "cell_type": "markdown",
   "metadata": {},
   "source": [
    "## Read out dataset form CSV file"
   ]
  },
  {
   "cell_type": "code",
   "execution_count": 4,
   "metadata": {
    "ExecuteTime": {
     "end_time": "2021-03-03T10:13:20.441513Z",
     "start_time": "2021-03-03T10:13:20.422512Z"
    }
   },
   "outputs": [
    {
     "data": {
      "application/vnd.jupyter.widget-view+json": {
       "model_id": "a9f53a1dac394b8199ef6cbc206aec0e",
       "version_major": 2,
       "version_minor": 0
      },
      "text/plain": [
       "Dropdown(description='Source file:', options=('4Camping.csv', '4home.csv', 'aliatic.csv', 'apotek.csv', 'audio…"
      ]
     },
     "metadata": {},
     "output_type": "display_data"
    }
   ],
   "source": [
    "file_name = widgets.Dropdown(\n",
    "    options = list_files,\n",
    "    value=list_files[0],\n",
    "    description='Source file:',\n",
    "    disabled=False,\n",
    ")\n",
    "display(file_name)"
   ]
  },
  {
   "cell_type": "code",
   "execution_count": 5,
   "metadata": {
    "ExecuteTime": {
     "end_time": "2021-03-03T10:13:21.329564Z",
     "start_time": "2021-03-03T10:13:20.445514Z"
    }
   },
   "outputs": [
    {
     "data": {
      "text/html": [
       "<div>\n",
       "<style scoped>\n",
       "    .dataframe tbody tr th:only-of-type {\n",
       "        vertical-align: middle;\n",
       "    }\n",
       "\n",
       "    .dataframe tbody tr th {\n",
       "        vertical-align: top;\n",
       "    }\n",
       "\n",
       "    .dataframe thead th {\n",
       "        text-align: right;\n",
       "    }\n",
       "</style>\n",
       "<table border=\"1\" class=\"dataframe\">\n",
       "  <thead>\n",
       "    <tr style=\"text-align: right;\">\n",
       "      <th></th>\n",
       "      <th>account</th>\n",
       "      <th>businessUnit</th>\n",
       "      <th>platformCode</th>\n",
       "      <th>channelCode</th>\n",
       "      <th>adCampaign</th>\n",
       "      <th>marketingInvestment</th>\n",
       "      <th>impressions</th>\n",
       "      <th>clicks</th>\n",
       "      <th>visits</th>\n",
       "      <th>conversions</th>\n",
       "      <th>deliveries</th>\n",
       "      <th>netRevenue</th>\n",
       "      <th>grossProfit</th>\n",
       "      <th>currencyCode</th>\n",
       "      <th>adGroup</th>\n",
       "      <th>periodStartDate</th>\n",
       "    </tr>\n",
       "  </thead>\n",
       "  <tbody>\n",
       "    <tr>\n",
       "      <th>0</th>\n",
       "      <td>forcamping</td>\n",
       "      <td>forcampingcz</td>\n",
       "      <td>unpaid</td>\n",
       "      <td>notset</td>\n",
       "      <td>NaN</td>\n",
       "      <td>0.000</td>\n",
       "      <td>0</td>\n",
       "      <td>0</td>\n",
       "      <td>0</td>\n",
       "      <td>5</td>\n",
       "      <td>5</td>\n",
       "      <td>10,724.790</td>\n",
       "      <td>10,724.790</td>\n",
       "      <td>CZK</td>\n",
       "      <td>-</td>\n",
       "      <td>2020-01-21</td>\n",
       "    </tr>\n",
       "    <tr>\n",
       "      <th>1</th>\n",
       "      <td>forcamping</td>\n",
       "      <td>forcampingcz</td>\n",
       "      <td>unpaid</td>\n",
       "      <td>direct</td>\n",
       "      <td>NaN</td>\n",
       "      <td>0.000</td>\n",
       "      <td>0</td>\n",
       "      <td>0</td>\n",
       "      <td>0</td>\n",
       "      <td>22</td>\n",
       "      <td>22</td>\n",
       "      <td>48,687.030</td>\n",
       "      <td>48,687.030</td>\n",
       "      <td>CZK</td>\n",
       "      <td>-</td>\n",
       "      <td>2020-01-21</td>\n",
       "    </tr>\n",
       "    <tr>\n",
       "      <th>2</th>\n",
       "      <td>forcamping</td>\n",
       "      <td>forcampingcz</td>\n",
       "      <td>HeurekaCz</td>\n",
       "      <td>heureka</td>\n",
       "      <td>NaN</td>\n",
       "      <td>0.000</td>\n",
       "      <td>0</td>\n",
       "      <td>0</td>\n",
       "      <td>51</td>\n",
       "      <td>2</td>\n",
       "      <td>2</td>\n",
       "      <td>3,342.980</td>\n",
       "      <td>3,342.980</td>\n",
       "      <td>CZK</td>\n",
       "      <td>-</td>\n",
       "      <td>2020-01-21</td>\n",
       "    </tr>\n",
       "    <tr>\n",
       "      <th>3</th>\n",
       "      <td>forcamping</td>\n",
       "      <td>forcampingcz</td>\n",
       "      <td>unpaid</td>\n",
       "      <td>organic</td>\n",
       "      <td>NaN</td>\n",
       "      <td>0.000</td>\n",
       "      <td>0</td>\n",
       "      <td>0</td>\n",
       "      <td>0</td>\n",
       "      <td>59</td>\n",
       "      <td>59</td>\n",
       "      <td>121,605.970</td>\n",
       "      <td>121,605.970</td>\n",
       "      <td>CZK</td>\n",
       "      <td>-</td>\n",
       "      <td>2020-01-21</td>\n",
       "    </tr>\n",
       "    <tr>\n",
       "      <th>4</th>\n",
       "      <td>forcamping</td>\n",
       "      <td>forcampingcz</td>\n",
       "      <td>ZboziCz</td>\n",
       "      <td>zbozi</td>\n",
       "      <td>NaN</td>\n",
       "      <td>0.000</td>\n",
       "      <td>0</td>\n",
       "      <td>0</td>\n",
       "      <td>83</td>\n",
       "      <td>3</td>\n",
       "      <td>3</td>\n",
       "      <td>3,604.960</td>\n",
       "      <td>3,604.960</td>\n",
       "      <td>CZK</td>\n",
       "      <td>-</td>\n",
       "      <td>2020-01-21</td>\n",
       "    </tr>\n",
       "  </tbody>\n",
       "</table>\n",
       "</div>"
      ],
      "text/plain": [
       "      account  businessUnit platformCode channelCode adCampaign  \\\n",
       "0  forcamping  forcampingcz       unpaid      notset        NaN   \n",
       "1  forcamping  forcampingcz       unpaid      direct        NaN   \n",
       "2  forcamping  forcampingcz    HeurekaCz     heureka        NaN   \n",
       "3  forcamping  forcampingcz       unpaid     organic        NaN   \n",
       "4  forcamping  forcampingcz      ZboziCz       zbozi        NaN   \n",
       "\n",
       "   marketingInvestment  impressions  clicks  visits  conversions  deliveries  \\\n",
       "0                0.000            0       0       0            5           5   \n",
       "1                0.000            0       0       0           22          22   \n",
       "2                0.000            0       0      51            2           2   \n",
       "3                0.000            0       0       0           59          59   \n",
       "4                0.000            0       0      83            3           3   \n",
       "\n",
       "   netRevenue  grossProfit currencyCode adGroup periodStartDate  \n",
       "0  10,724.790   10,724.790          CZK       -      2020-01-21  \n",
       "1  48,687.030   48,687.030          CZK       -      2020-01-21  \n",
       "2   3,342.980    3,342.980          CZK       -      2020-01-21  \n",
       "3 121,605.970  121,605.970          CZK       -      2020-01-21  \n",
       "4   3,604.960    3,604.960          CZK       -      2020-01-21  "
      ]
     },
     "execution_count": 5,
     "metadata": {},
     "output_type": "execute_result"
    }
   ],
   "source": [
    "df = pd.read_csv('input\\\\'+ file_name.value, sep=\"\\t\", infer_datetime_format=True,\n",
    "                 usecols=usecols_, dtype=dtype_, parse_dates=DateTimeID)\n",
    "\n",
    "df['periodStartDate'] = pd.to_datetime(df['periodStartDate'])\n",
    "df.head(5)"
   ]
  },
  {
   "cell_type": "code",
   "execution_count": 23,
   "metadata": {
    "ExecuteTime": {
     "end_time": "2021-03-03T10:17:13.975871Z",
     "start_time": "2021-03-03T10:17:05.883408Z"
    }
   },
   "outputs": [
    {
     "name": "stdout",
     "output_type": "stream",
     "text": [
      "Init estimator class\n",
      "Load Settings\n",
      "Load data\n",
      "Correlation calculation executed\n",
      "Optimizer class Initialization\n",
      "Load optimizer settings\n",
      "Load optimizer data\n"
     ]
    }
   ],
   "source": [
    "result, stat_ = Optimizer(df, \n",
    "                          confidence_interval=1.0, \n",
    "                          change_investment = 0, \n",
    "                          maximum_investment_change = 0.2)"
   ]
  },
  {
   "cell_type": "code",
   "execution_count": 24,
   "metadata": {
    "ExecuteTime": {
     "end_time": "2021-03-03T10:17:16.202998Z",
     "start_time": "2021-03-03T10:17:16.131994Z"
    }
   },
   "outputs": [
    {
     "data": {
      "text/html": [
       "<div>\n",
       "<style scoped>\n",
       "    .dataframe tbody tr th:only-of-type {\n",
       "        vertical-align: middle;\n",
       "    }\n",
       "\n",
       "    .dataframe tbody tr th {\n",
       "        vertical-align: top;\n",
       "    }\n",
       "\n",
       "    .dataframe thead th {\n",
       "        text-align: right;\n",
       "    }\n",
       "</style>\n",
       "<table border=\"1\" class=\"dataframe\">\n",
       "  <thead>\n",
       "    <tr style=\"text-align: right;\">\n",
       "      <th></th>\n",
       "      <th>Business_unit</th>\n",
       "      <th>Client</th>\n",
       "      <th>Component</th>\n",
       "      <th>Corr_coeff</th>\n",
       "      <th>Invest</th>\n",
       "      <th>Invest_last_week</th>\n",
       "      <th>Invest_prev_week</th>\n",
       "      <th>Max_week_invest</th>\n",
       "      <th>Max_week_profit</th>\n",
       "      <th>Mean</th>\n",
       "      <th>Platform</th>\n",
       "      <th>Pr_value</th>\n",
       "      <th>Prof_last_week</th>\n",
       "      <th>Prof_prev_week</th>\n",
       "      <th>Profit</th>\n",
       "      <th>R_std</th>\n",
       "      <th>Regr_X</th>\n",
       "      <th>Regt_Y</th>\n",
       "      <th>X</th>\n",
       "      <th>Y</th>\n",
       "      <th>a</th>\n",
       "      <th>b</th>\n",
       "      <th>Down_line_Y</th>\n",
       "      <th>Up_line_Y</th>\n",
       "      <th>plus_invest</th>\n",
       "      <th>minus_invest</th>\n",
       "      <th>slope_plus</th>\n",
       "      <th>slope_minus</th>\n",
       "      <th>opt_invest</th>\n",
       "      <th>profit_change</th>\n",
       "    </tr>\n",
       "  </thead>\n",
       "  <tbody>\n",
       "    <tr>\n",
       "      <th>0</th>\n",
       "      <td>forcampingcz</td>\n",
       "      <td>forcamping</td>\n",
       "      <td>forcampingcz/Criteo</td>\n",
       "      <td>0.895</td>\n",
       "      <td>69,014.510</td>\n",
       "      <td>3,731.340</td>\n",
       "      <td>6,342.110</td>\n",
       "      <td>6,389.810</td>\n",
       "      <td>130,254.060</td>\n",
       "      <td>69,644.250</td>\n",
       "      <td></td>\n",
       "      <td>0.000</td>\n",
       "      <td>90,762.550</td>\n",
       "      <td>127,550.810</td>\n",
       "      <td>1,164,832.560</td>\n",
       "      <td>0.000</td>\n",
       "      <td>[]</td>\n",
       "      <td>[]</td>\n",
       "      <td>[2087.6, 6376.66, 6192.889999999999, 6131.7900...</td>\n",
       "      <td>[46311.99, 118046.42000000001, 83425.260000000...</td>\n",
       "      <td>0.000</td>\n",
       "      <td>0.000</td>\n",
       "      <td>NaN</td>\n",
       "      <td>NaN</td>\n",
       "      <td>nan</td>\n",
       "      <td>nan</td>\n",
       "      <td>nan</td>\n",
       "      <td>nan</td>\n",
       "      <td>nan</td>\n",
       "      <td>nan</td>\n",
       "    </tr>\n",
       "    <tr>\n",
       "      <th>1</th>\n",
       "      <td>forcampingcz</td>\n",
       "      <td>forcamping</td>\n",
       "      <td>forcampingcz/Favi</td>\n",
       "      <td>0.734</td>\n",
       "      <td>10,886.920</td>\n",
       "      <td>697.170</td>\n",
       "      <td>804.570</td>\n",
       "      <td>2,568.800</td>\n",
       "      <td>20,089.090</td>\n",
       "      <td>3,924.917</td>\n",
       "      <td></td>\n",
       "      <td>0.007</td>\n",
       "      <td>3,861.960</td>\n",
       "      <td>1,125.610</td>\n",
       "      <td>71,901.020</td>\n",
       "      <td>0.000</td>\n",
       "      <td>[]</td>\n",
       "      <td>[]</td>\n",
       "      <td>[160.38, 694.76, 845.1299999999999, 943.500000...</td>\n",
       "      <td>[1315.69, 7062.76, 1351.23, 12042.97, 20089.09...</td>\n",
       "      <td>0.000</td>\n",
       "      <td>0.000</td>\n",
       "      <td>NaN</td>\n",
       "      <td>NaN</td>\n",
       "      <td>nan</td>\n",
       "      <td>nan</td>\n",
       "      <td>nan</td>\n",
       "      <td>nan</td>\n",
       "      <td>nan</td>\n",
       "      <td>nan</td>\n",
       "    </tr>\n",
       "    <tr>\n",
       "      <th>2</th>\n",
       "      <td>forcampingcz</td>\n",
       "      <td>forcamping</td>\n",
       "      <td>forcampingcz/FacebookBusinessAdsManager</td>\n",
       "      <td>0.797</td>\n",
       "      <td>539,131.410</td>\n",
       "      <td>59,943.570</td>\n",
       "      <td>22,092.480</td>\n",
       "      <td>86,851.430</td>\n",
       "      <td>236,210.600</td>\n",
       "      <td>37,778.365</td>\n",
       "      <td></td>\n",
       "      <td>0.002</td>\n",
       "      <td>236,210.600</td>\n",
       "      <td>93,698.250</td>\n",
       "      <td>828,287.850</td>\n",
       "      <td>0.000</td>\n",
       "      <td>[]</td>\n",
       "      <td>[]</td>\n",
       "      <td>[20141.65, 31089.339999999997, 29105.82, 54909...</td>\n",
       "      <td>[19666.91, 38214.89, 33759.24, 42214.770000000...</td>\n",
       "      <td>0.000</td>\n",
       "      <td>0.000</td>\n",
       "      <td>NaN</td>\n",
       "      <td>NaN</td>\n",
       "      <td>nan</td>\n",
       "      <td>nan</td>\n",
       "      <td>nan</td>\n",
       "      <td>nan</td>\n",
       "      <td>nan</td>\n",
       "      <td>nan</td>\n",
       "    </tr>\n",
       "    <tr>\n",
       "      <th>3</th>\n",
       "      <td>forcampingcz</td>\n",
       "      <td>forcamping</td>\n",
       "      <td>forcampingcz/CjAffiliate</td>\n",
       "      <td>0.877</td>\n",
       "      <td>106,467.870</td>\n",
       "      <td>23,313.370</td>\n",
       "      <td>32,393.690</td>\n",
       "      <td>32,393.690</td>\n",
       "      <td>454,515.520</td>\n",
       "      <td>140,880.057</td>\n",
       "      <td></td>\n",
       "      <td>0.000</td>\n",
       "      <td>252,206.290</td>\n",
       "      <td>361,964.740</td>\n",
       "      <td>3,084,534.410</td>\n",
       "      <td>0.000</td>\n",
       "      <td>[]</td>\n",
       "      <td>[]</td>\n",
       "      <td>[0.0, 0.0, 0.0, 0.0, 0.0, 8199.18, 22370.23999...</td>\n",
       "      <td>[46392.31999999999, 229882.23000000004, 187503...</td>\n",
       "      <td>0.000</td>\n",
       "      <td>0.000</td>\n",
       "      <td>NaN</td>\n",
       "      <td>NaN</td>\n",
       "      <td>nan</td>\n",
       "      <td>nan</td>\n",
       "      <td>nan</td>\n",
       "      <td>nan</td>\n",
       "      <td>nan</td>\n",
       "      <td>nan</td>\n",
       "    </tr>\n",
       "    <tr>\n",
       "      <th>4</th>\n",
       "      <td>forcampingcz</td>\n",
       "      <td>forcamping</td>\n",
       "      <td>forcampingcz/ZboziCz</td>\n",
       "      <td>0.972</td>\n",
       "      <td>35,253.900</td>\n",
       "      <td>3,447.600</td>\n",
       "      <td>3,933.600</td>\n",
       "      <td>3,993.000</td>\n",
       "      <td>348,450.250</td>\n",
       "      <td>118,502.495</td>\n",
       "      <td></td>\n",
       "      <td>0.000</td>\n",
       "      <td>181,542.160</td>\n",
       "      <td>272,852.990</td>\n",
       "      <td>2,678,847.160</td>\n",
       "      <td>44,500.260</td>\n",
       "      <td>[0.0, 453.75, 907.5, 1361.25, 1815.0, 2268.75,...</td>\n",
       "      <td>[-0.0, 26953.143761274958, 57392.269744105964,...</td>\n",
       "      <td>[647.4000000000001, 2515.2000000000003, 2848.8...</td>\n",
       "      <td>[32222.379999999997, 161893.07, 212133.9099999...</td>\n",
       "      <td>-208,398.068</td>\n",
       "      <td>-3,730.611</td>\n",
       "      <td>[-44500.25957187656, -17547.1158106016, 12892....</td>\n",
       "      <td>[44500.25957187656, 71453.40333315151, 101892....</td>\n",
       "      <td>4,720.320</td>\n",
       "      <td>3,146.880</td>\n",
       "      <td>178.499</td>\n",
       "      <td>-144.561</td>\n",
       "      <td>4,720.320</td>\n",
       "      <td>140,428.781</td>\n",
       "    </tr>\n",
       "    <tr>\n",
       "      <th>5</th>\n",
       "      <td>forcampingcz</td>\n",
       "      <td>forcamping</td>\n",
       "      <td>forcampingcz/HeurekaCz</td>\n",
       "      <td>0.993</td>\n",
       "      <td>227,284.840</td>\n",
       "      <td>26,024.680</td>\n",
       "      <td>29,935.930</td>\n",
       "      <td>33,594.610</td>\n",
       "      <td>1,034,921.460</td>\n",
       "      <td>348,818.588</td>\n",
       "      <td></td>\n",
       "      <td>0.000</td>\n",
       "      <td>653,459.240</td>\n",
       "      <td>792,915.210</td>\n",
       "      <td>8,175,138.450</td>\n",
       "      <td>175,865.039</td>\n",
       "      <td>[0.0, 3817.5693181818224, 7635.138636363645, 1...</td>\n",
       "      <td>[0.0, 155511.86813640487, 299357.08012939023, ...</td>\n",
       "      <td>[3191.919999999999, 12809.450000000004, 7476.1...</td>\n",
       "      <td>[96147.49, 407592.7799999999, 503159.919999999...</td>\n",
       "      <td>2,072,911.110</td>\n",
       "      <td>48,953.083</td>\n",
       "      <td>[-175865.03906391, -20353.170927505125, 123492...</td>\n",
       "      <td>[175865.03906391, 331376.90720031486, 475222.1...</td>\n",
       "      <td>35,923.116</td>\n",
       "      <td>23,948.744</td>\n",
       "      <td>21.624</td>\n",
       "      <td>-24.437</td>\n",
       "      <td>35,923.116</td>\n",
       "      <td>129,465.758</td>\n",
       "    </tr>\n",
       "    <tr>\n",
       "      <th>6</th>\n",
       "      <td>forcampingcz</td>\n",
       "      <td>forcamping</td>\n",
       "      <td>forcampingcz/AdWords</td>\n",
       "      <td>0.965</td>\n",
       "      <td>2,315,771.850</td>\n",
       "      <td>183,114.480</td>\n",
       "      <td>217,266.650</td>\n",
       "      <td>342,026.160</td>\n",
       "      <td>2,812,572.930</td>\n",
       "      <td>1,120,265.910</td>\n",
       "      <td></td>\n",
       "      <td>0.000</td>\n",
       "      <td>2,019,676.150</td>\n",
       "      <td>2,024,098.000</td>\n",
       "      <td>22,704,132.340</td>\n",
       "      <td>543,621.164</td>\n",
       "      <td>[0.0, 38866.609090909085, 77733.21818181817, 1...</td>\n",
       "      <td>[-0.0, 394765.8761572811, 789536.1896700436, 1...</td>\n",
       "      <td>[46160.880000000005, 146336.22999999998, 14241...</td>\n",
       "      <td>[466050.66000000003, 1667367.43, 1795569.29, 2...</td>\n",
       "      <td>-35,120,034,890.001</td>\n",
       "      <td>-3,457,756,663.804</td>\n",
       "      <td>[-543621.1643649228, -148855.2882076417, 24591...</td>\n",
       "      <td>[543621.1643649228, 938387.0405222039, 1333157...</td>\n",
       "      <td>260,719.980</td>\n",
       "      <td>173,813.320</td>\n",
       "      <td>10.158</td>\n",
       "      <td>-10.157</td>\n",
       "      <td>215,709.006</td>\n",
       "      <td>-15,821.801</td>\n",
       "    </tr>\n",
       "    <tr>\n",
       "      <th>7</th>\n",
       "      <td>forcampingcz</td>\n",
       "      <td>forcamping</td>\n",
       "      <td>forcampingcz/Sklik</td>\n",
       "      <td>0.909</td>\n",
       "      <td>425,065.800</td>\n",
       "      <td>22,580.750</td>\n",
       "      <td>25,940.780</td>\n",
       "      <td>97,757.650</td>\n",
       "      <td>585,536.090</td>\n",
       "      <td>146,147.002</td>\n",
       "      <td></td>\n",
       "      <td>0.000</td>\n",
       "      <td>265,689.150</td>\n",
       "      <td>399,520.100</td>\n",
       "      <td>3,748,112.480</td>\n",
       "      <td>125,884.877</td>\n",
       "      <td>[0.0, 11108.823863636364, 22217.647727272728, ...</td>\n",
       "      <td>[-0.0, 93293.12248620676, 186589.3521637557, 2...</td>\n",
       "      <td>[1892.0700000000002, 10730.36, 30715.77, 27869...</td>\n",
       "      <td>[12885.93, 164081.43, 274450.69, 366157.77, 42...</td>\n",
       "      <td>-2,801,116,433.651</td>\n",
       "      <td>-333,546,851.465</td>\n",
       "      <td>[-125884.87653673641, -32591.75405052965, 6070...</td>\n",
       "      <td>[125884.87653673641, 219177.99902294317, 31247...</td>\n",
       "      <td>31,128.936</td>\n",
       "      <td>20,752.624</td>\n",
       "      <td>8.399</td>\n",
       "      <td>-8.399</td>\n",
       "      <td>20,752.624</td>\n",
       "      <td>-43,573.028</td>\n",
       "    </tr>\n",
       "    <tr>\n",
       "      <th>8</th>\n",
       "      <td>forcampingcz</td>\n",
       "      <td>forcamping</td>\n",
       "      <td>forcampingcz/Adform</td>\n",
       "      <td>0.911</td>\n",
       "      <td>140,917.900</td>\n",
       "      <td>137.150</td>\n",
       "      <td>140.530</td>\n",
       "      <td>31,036.370</td>\n",
       "      <td>5,947.930</td>\n",
       "      <td>450.105</td>\n",
       "      <td></td>\n",
       "      <td>0.000</td>\n",
       "      <td>0.000</td>\n",
       "      <td>0.000</td>\n",
       "      <td>11,858.650</td>\n",
       "      <td>1,315.064</td>\n",
       "      <td>[0.0, 3526.8602272727276, 7053.720454545455, 1...</td>\n",
       "      <td>[0.0, 289.90255082253066, 579.7958316641591, 8...</td>\n",
       "      <td>[1400.94, 118.61000000000001, 97.6300000000000...</td>\n",
       "      <td>[0.0, 0.0, 0.0, 0.0, 2533.05, 0.0, 5947.929999...</td>\n",
       "      <td>9,066,198.029</td>\n",
       "      <td>110,294,655.650</td>\n",
       "      <td>[-1315.0637235573765, -1025.1611727348459, -73...</td>\n",
       "      <td>[1315.0637235573765, 1604.9662743799072, 1894....</td>\n",
       "      <td>168.636</td>\n",
       "      <td>112.424</td>\n",
       "      <td>0.082</td>\n",
       "      <td>-0.082</td>\n",
       "      <td>112.424</td>\n",
       "      <td>-2.310</td>\n",
       "    </tr>\n",
       "  </tbody>\n",
       "</table>\n",
       "</div>"
      ],
      "text/plain": [
       "  Business_unit      Client                                Component  \\\n",
       "0  forcampingcz  forcamping                      forcampingcz/Criteo   \n",
       "1  forcampingcz  forcamping                        forcampingcz/Favi   \n",
       "2  forcampingcz  forcamping  forcampingcz/FacebookBusinessAdsManager   \n",
       "3  forcampingcz  forcamping                 forcampingcz/CjAffiliate   \n",
       "4  forcampingcz  forcamping                     forcampingcz/ZboziCz   \n",
       "5  forcampingcz  forcamping                   forcampingcz/HeurekaCz   \n",
       "6  forcampingcz  forcamping                     forcampingcz/AdWords   \n",
       "7  forcampingcz  forcamping                       forcampingcz/Sklik   \n",
       "8  forcampingcz  forcamping                      forcampingcz/Adform   \n",
       "\n",
       "   Corr_coeff        Invest  Invest_last_week  Invest_prev_week  \\\n",
       "0       0.895    69,014.510         3,731.340         6,342.110   \n",
       "1       0.734    10,886.920           697.170           804.570   \n",
       "2       0.797   539,131.410        59,943.570        22,092.480   \n",
       "3       0.877   106,467.870        23,313.370        32,393.690   \n",
       "4       0.972    35,253.900         3,447.600         3,933.600   \n",
       "5       0.993   227,284.840        26,024.680        29,935.930   \n",
       "6       0.965 2,315,771.850       183,114.480       217,266.650   \n",
       "7       0.909   425,065.800        22,580.750        25,940.780   \n",
       "8       0.911   140,917.900           137.150           140.530   \n",
       "\n",
       "   Max_week_invest  Max_week_profit          Mean Platform  Pr_value  \\\n",
       "0        6,389.810      130,254.060    69,644.250              0.000   \n",
       "1        2,568.800       20,089.090     3,924.917              0.007   \n",
       "2       86,851.430      236,210.600    37,778.365              0.002   \n",
       "3       32,393.690      454,515.520   140,880.057              0.000   \n",
       "4        3,993.000      348,450.250   118,502.495              0.000   \n",
       "5       33,594.610    1,034,921.460   348,818.588              0.000   \n",
       "6      342,026.160    2,812,572.930 1,120,265.910              0.000   \n",
       "7       97,757.650      585,536.090   146,147.002              0.000   \n",
       "8       31,036.370        5,947.930       450.105              0.000   \n",
       "\n",
       "   Prof_last_week  Prof_prev_week         Profit       R_std  \\\n",
       "0      90,762.550     127,550.810  1,164,832.560       0.000   \n",
       "1       3,861.960       1,125.610     71,901.020       0.000   \n",
       "2     236,210.600      93,698.250    828,287.850       0.000   \n",
       "3     252,206.290     361,964.740  3,084,534.410       0.000   \n",
       "4     181,542.160     272,852.990  2,678,847.160  44,500.260   \n",
       "5     653,459.240     792,915.210  8,175,138.450 175,865.039   \n",
       "6   2,019,676.150   2,024,098.000 22,704,132.340 543,621.164   \n",
       "7     265,689.150     399,520.100  3,748,112.480 125,884.877   \n",
       "8           0.000           0.000     11,858.650   1,315.064   \n",
       "\n",
       "                                              Regr_X  \\\n",
       "0                                                 []   \n",
       "1                                                 []   \n",
       "2                                                 []   \n",
       "3                                                 []   \n",
       "4  [0.0, 453.75, 907.5, 1361.25, 1815.0, 2268.75,...   \n",
       "5  [0.0, 3817.5693181818224, 7635.138636363645, 1...   \n",
       "6  [0.0, 38866.609090909085, 77733.21818181817, 1...   \n",
       "7  [0.0, 11108.823863636364, 22217.647727272728, ...   \n",
       "8  [0.0, 3526.8602272727276, 7053.720454545455, 1...   \n",
       "\n",
       "                                              Regt_Y  \\\n",
       "0                                                 []   \n",
       "1                                                 []   \n",
       "2                                                 []   \n",
       "3                                                 []   \n",
       "4  [-0.0, 26953.143761274958, 57392.269744105964,...   \n",
       "5  [0.0, 155511.86813640487, 299357.08012939023, ...   \n",
       "6  [-0.0, 394765.8761572811, 789536.1896700436, 1...   \n",
       "7  [-0.0, 93293.12248620676, 186589.3521637557, 2...   \n",
       "8  [0.0, 289.90255082253066, 579.7958316641591, 8...   \n",
       "\n",
       "                                                   X  \\\n",
       "0  [2087.6, 6376.66, 6192.889999999999, 6131.7900...   \n",
       "1  [160.38, 694.76, 845.1299999999999, 943.500000...   \n",
       "2  [20141.65, 31089.339999999997, 29105.82, 54909...   \n",
       "3  [0.0, 0.0, 0.0, 0.0, 0.0, 8199.18, 22370.23999...   \n",
       "4  [647.4000000000001, 2515.2000000000003, 2848.8...   \n",
       "5  [3191.919999999999, 12809.450000000004, 7476.1...   \n",
       "6  [46160.880000000005, 146336.22999999998, 14241...   \n",
       "7  [1892.0700000000002, 10730.36, 30715.77, 27869...   \n",
       "8  [1400.94, 118.61000000000001, 97.6300000000000...   \n",
       "\n",
       "                                                   Y                   a  \\\n",
       "0  [46311.99, 118046.42000000001, 83425.260000000...               0.000   \n",
       "1  [1315.69, 7062.76, 1351.23, 12042.97, 20089.09...               0.000   \n",
       "2  [19666.91, 38214.89, 33759.24, 42214.770000000...               0.000   \n",
       "3  [46392.31999999999, 229882.23000000004, 187503...               0.000   \n",
       "4  [32222.379999999997, 161893.07, 212133.9099999...        -208,398.068   \n",
       "5  [96147.49, 407592.7799999999, 503159.919999999...       2,072,911.110   \n",
       "6  [466050.66000000003, 1667367.43, 1795569.29, 2... -35,120,034,890.001   \n",
       "7  [12885.93, 164081.43, 274450.69, 366157.77, 42...  -2,801,116,433.651   \n",
       "8  [0.0, 0.0, 0.0, 0.0, 2533.05, 0.0, 5947.929999...       9,066,198.029   \n",
       "\n",
       "                   b                                        Down_line_Y  \\\n",
       "0              0.000                                                NaN   \n",
       "1              0.000                                                NaN   \n",
       "2              0.000                                                NaN   \n",
       "3              0.000                                                NaN   \n",
       "4         -3,730.611  [-44500.25957187656, -17547.1158106016, 12892....   \n",
       "5         48,953.083  [-175865.03906391, -20353.170927505125, 123492...   \n",
       "6 -3,457,756,663.804  [-543621.1643649228, -148855.2882076417, 24591...   \n",
       "7   -333,546,851.465  [-125884.87653673641, -32591.75405052965, 6070...   \n",
       "8    110,294,655.650  [-1315.0637235573765, -1025.1611727348459, -73...   \n",
       "\n",
       "                                           Up_line_Y  plus_invest  \\\n",
       "0                                                NaN          nan   \n",
       "1                                                NaN          nan   \n",
       "2                                                NaN          nan   \n",
       "3                                                NaN          nan   \n",
       "4  [44500.25957187656, 71453.40333315151, 101892....    4,720.320   \n",
       "5  [175865.03906391, 331376.90720031486, 475222.1...   35,923.116   \n",
       "6  [543621.1643649228, 938387.0405222039, 1333157...  260,719.980   \n",
       "7  [125884.87653673641, 219177.99902294317, 31247...   31,128.936   \n",
       "8  [1315.0637235573765, 1604.9662743799072, 1894....      168.636   \n",
       "\n",
       "   minus_invest  slope_plus  slope_minus  opt_invest  profit_change  \n",
       "0           nan         nan          nan         nan            nan  \n",
       "1           nan         nan          nan         nan            nan  \n",
       "2           nan         nan          nan         nan            nan  \n",
       "3           nan         nan          nan         nan            nan  \n",
       "4     3,146.880     178.499     -144.561   4,720.320    140,428.781  \n",
       "5    23,948.744      21.624      -24.437  35,923.116    129,465.758  \n",
       "6   173,813.320      10.158      -10.157 215,709.006    -15,821.801  \n",
       "7    20,752.624       8.399       -8.399  20,752.624    -43,573.028  \n",
       "8       112.424       0.082       -0.082     112.424         -2.310  "
      ]
     },
     "execution_count": 24,
     "metadata": {},
     "output_type": "execute_result"
    }
   ],
   "source": [
    "result"
   ]
  },
  {
   "cell_type": "code",
   "execution_count": 25,
   "metadata": {
    "ExecuteTime": {
     "end_time": "2021-03-03T10:17:18.411125Z",
     "start_time": "2021-03-03T10:17:18.404124Z"
    }
   },
   "outputs": [
    {
     "data": {
      "text/plain": [
       "{'Invest_last_week': 0,\n",
       " 'Controlled_Profit_last_week': 3489386.3000000003,\n",
       " 'Total_profit_last_week': 8233402.9,\n",
       " 'Expected_profit_change': 210497.3995287263,\n",
       " 'Controlled_investment': 3144294.2899999996,\n",
       " 'Non-controlled_investment': 725500.7100000001,\n",
       " 'Controlled_profit': 37318089.08,\n",
       " 'Non_controlled_profit': 5149555.84,\n",
       " 'Confidence_interval': 1.0,\n",
       " 'Unallocated_extra_budgets': 0.0,\n",
       " 'Budget_pull': 55443.49799999999}"
      ]
     },
     "execution_count": 25,
     "metadata": {},
     "output_type": "execute_result"
    }
   ],
   "source": [
    "stat_"
   ]
  },
  {
   "cell_type": "code",
   "execution_count": 17,
   "metadata": {
    "ExecuteTime": {
     "end_time": "2021-03-03T10:15:29.052870Z",
     "start_time": "2021-03-03T10:15:29.047869Z"
    }
   },
   "outputs": [],
   "source": [
    "component_list = result['Component'].to_list()\n",
    "index_list = list(result.index)\n",
    "component_menu = list(zip(component_list, index_list))"
   ]
  },
  {
   "cell_type": "code",
   "execution_count": 18,
   "metadata": {
    "ExecuteTime": {
     "end_time": "2021-03-03T10:15:31.274997Z",
     "start_time": "2021-03-03T10:15:31.256996Z"
    }
   },
   "outputs": [
    {
     "data": {
      "application/vnd.jupyter.widget-view+json": {
       "model_id": "3c6c85ecc898405c8d527053bb5c8cae",
       "version_major": 2,
       "version_minor": 0
      },
      "text/plain": [
       "Dropdown(description='Number:', options=(('forcampingcz/Criteo', 0), ('forcampingcz/Favi', 1), ('forcampingcz/…"
      ]
     },
     "metadata": {},
     "output_type": "display_data"
    }
   ],
   "source": [
    "component = widgets.Dropdown(\n",
    "    options=component_menu,\n",
    "    value=0,\n",
    "    description='Number:',\n",
    ")\n",
    "display(component)"
   ]
  },
  {
   "cell_type": "code",
   "execution_count": 26,
   "metadata": {
    "ExecuteTime": {
     "end_time": "2021-03-03T10:17:28.721714Z",
     "start_time": "2021-03-03T10:17:28.664711Z"
    }
   },
   "outputs": [
    {
     "data": {
      "application/vnd.plotly.v1+json": {
       "config": {
        "plotlyServerURL": "https://plot.ly"
       },
       "data": [
        {
         "mode": "markers",
         "name": "Real data for last 12 weeks",
         "type": "scatter",
         "x": [
          1400.94,
          118.61000000000001,
          97.63000000000001,
          5236.49,
          12115.23,
          21090.24,
          31036.37,
          22300.2,
          30313.899999999998,
          16771.88,
          295.87999999999994,
          140.53
         ],
         "y": [
          0,
          0,
          0,
          0,
          2533.05,
          0,
          5947.929999999999,
          816.52,
          1964.46,
          596.69,
          0,
          0
         ]
        },
        {
         "mode": "markers",
         "name": "Last week",
         "type": "scatter",
         "x": [
          137.15
         ],
         "y": [
          0
         ]
        },
        {
         "mode": "markers",
         "name": "Previous week",
         "type": "scatter",
         "x": [
          140.53
         ],
         "y": [
          0
         ]
        },
        {
         "mode": "lines",
         "name": "Regression",
         "type": "scatter",
         "x": [
          0,
          3526.8602272727276,
          7053.720454545455,
          10580.580681818183,
          14107.44090909091,
          17634.30113636364,
          21161.161363636365,
          24688.02159090909,
          28214.88181818182,
          31741.74204545455,
          35268.60227272728,
          38795.4625
         ],
         "y": [
          0,
          289.90255082253066,
          579.7958316641591,
          869.6798428198045,
          1159.5545845874058,
          1449.4200572618822,
          1739.2762611411724,
          2029.123196520196,
          2318.9608636958847,
          2608.789262965171,
          2898.608394623981,
          3188.4182589682405
         ]
        },
        {
         "mode": "lines",
         "name": "Upper confidence interval",
         "type": "scatter",
         "x": [
          0,
          3526.8602272727276,
          7053.720454545455,
          10580.580681818183,
          14107.44090909091,
          17634.30113636364,
          21161.161363636365,
          24688.02159090909,
          28214.88181818182,
          31741.74204545455,
          35268.60227272728,
          38795.4625
         ],
         "y": [
          1315.0637235573765,
          1604.9662743799072,
          1894.8595552215356,
          2184.743566377181,
          2474.6183081447825,
          2764.4837808192588,
          3054.339984698549,
          3344.1869200775727,
          3634.0245872532614,
          3923.8529865225473,
          4213.672118181357,
          4503.481982525617
         ]
        },
        {
         "mode": "lines",
         "name": "Upper confidence interval",
         "type": "scatter",
         "x": [
          0,
          3526.8602272727276,
          7053.720454545455,
          10580.580681818183,
          14107.44090909091,
          17634.30113636364,
          21161.161363636365,
          24688.02159090909,
          28214.88181818182,
          31741.74204545455,
          35268.60227272728,
          38795.4625
         ],
         "y": [
          -1315.0637235573765,
          -1025.1611727348459,
          -735.2678918932174,
          -445.383880737572,
          -155.50913896997076,
          134.3563337045057,
          424.2125375837959,
          714.0594729628194,
          1003.8971401385081,
          1293.7255394077945,
          1583.5446710666045,
          1873.354535410864
         ]
        },
        {
         "mode": "markers",
         "name": "Optimal point next week",
         "type": "scatter",
         "x": [
          112.424
         ],
         "y": [
          -2.3103047743008727
         ]
        }
       ],
       "layout": {
        "template": {
         "data": {
          "bar": [
           {
            "error_x": {
             "color": "#2a3f5f"
            },
            "error_y": {
             "color": "#2a3f5f"
            },
            "marker": {
             "line": {
              "color": "#E5ECF6",
              "width": 0.5
             }
            },
            "type": "bar"
           }
          ],
          "barpolar": [
           {
            "marker": {
             "line": {
              "color": "#E5ECF6",
              "width": 0.5
             }
            },
            "type": "barpolar"
           }
          ],
          "carpet": [
           {
            "aaxis": {
             "endlinecolor": "#2a3f5f",
             "gridcolor": "white",
             "linecolor": "white",
             "minorgridcolor": "white",
             "startlinecolor": "#2a3f5f"
            },
            "baxis": {
             "endlinecolor": "#2a3f5f",
             "gridcolor": "white",
             "linecolor": "white",
             "minorgridcolor": "white",
             "startlinecolor": "#2a3f5f"
            },
            "type": "carpet"
           }
          ],
          "choropleth": [
           {
            "colorbar": {
             "outlinewidth": 0,
             "ticks": ""
            },
            "type": "choropleth"
           }
          ],
          "contour": [
           {
            "colorbar": {
             "outlinewidth": 0,
             "ticks": ""
            },
            "colorscale": [
             [
              0,
              "#0d0887"
             ],
             [
              0.1111111111111111,
              "#46039f"
             ],
             [
              0.2222222222222222,
              "#7201a8"
             ],
             [
              0.3333333333333333,
              "#9c179e"
             ],
             [
              0.4444444444444444,
              "#bd3786"
             ],
             [
              0.5555555555555556,
              "#d8576b"
             ],
             [
              0.6666666666666666,
              "#ed7953"
             ],
             [
              0.7777777777777778,
              "#fb9f3a"
             ],
             [
              0.8888888888888888,
              "#fdca26"
             ],
             [
              1,
              "#f0f921"
             ]
            ],
            "type": "contour"
           }
          ],
          "contourcarpet": [
           {
            "colorbar": {
             "outlinewidth": 0,
             "ticks": ""
            },
            "type": "contourcarpet"
           }
          ],
          "heatmap": [
           {
            "colorbar": {
             "outlinewidth": 0,
             "ticks": ""
            },
            "colorscale": [
             [
              0,
              "#0d0887"
             ],
             [
              0.1111111111111111,
              "#46039f"
             ],
             [
              0.2222222222222222,
              "#7201a8"
             ],
             [
              0.3333333333333333,
              "#9c179e"
             ],
             [
              0.4444444444444444,
              "#bd3786"
             ],
             [
              0.5555555555555556,
              "#d8576b"
             ],
             [
              0.6666666666666666,
              "#ed7953"
             ],
             [
              0.7777777777777778,
              "#fb9f3a"
             ],
             [
              0.8888888888888888,
              "#fdca26"
             ],
             [
              1,
              "#f0f921"
             ]
            ],
            "type": "heatmap"
           }
          ],
          "heatmapgl": [
           {
            "colorbar": {
             "outlinewidth": 0,
             "ticks": ""
            },
            "colorscale": [
             [
              0,
              "#0d0887"
             ],
             [
              0.1111111111111111,
              "#46039f"
             ],
             [
              0.2222222222222222,
              "#7201a8"
             ],
             [
              0.3333333333333333,
              "#9c179e"
             ],
             [
              0.4444444444444444,
              "#bd3786"
             ],
             [
              0.5555555555555556,
              "#d8576b"
             ],
             [
              0.6666666666666666,
              "#ed7953"
             ],
             [
              0.7777777777777778,
              "#fb9f3a"
             ],
             [
              0.8888888888888888,
              "#fdca26"
             ],
             [
              1,
              "#f0f921"
             ]
            ],
            "type": "heatmapgl"
           }
          ],
          "histogram": [
           {
            "marker": {
             "colorbar": {
              "outlinewidth": 0,
              "ticks": ""
             }
            },
            "type": "histogram"
           }
          ],
          "histogram2d": [
           {
            "colorbar": {
             "outlinewidth": 0,
             "ticks": ""
            },
            "colorscale": [
             [
              0,
              "#0d0887"
             ],
             [
              0.1111111111111111,
              "#46039f"
             ],
             [
              0.2222222222222222,
              "#7201a8"
             ],
             [
              0.3333333333333333,
              "#9c179e"
             ],
             [
              0.4444444444444444,
              "#bd3786"
             ],
             [
              0.5555555555555556,
              "#d8576b"
             ],
             [
              0.6666666666666666,
              "#ed7953"
             ],
             [
              0.7777777777777778,
              "#fb9f3a"
             ],
             [
              0.8888888888888888,
              "#fdca26"
             ],
             [
              1,
              "#f0f921"
             ]
            ],
            "type": "histogram2d"
           }
          ],
          "histogram2dcontour": [
           {
            "colorbar": {
             "outlinewidth": 0,
             "ticks": ""
            },
            "colorscale": [
             [
              0,
              "#0d0887"
             ],
             [
              0.1111111111111111,
              "#46039f"
             ],
             [
              0.2222222222222222,
              "#7201a8"
             ],
             [
              0.3333333333333333,
              "#9c179e"
             ],
             [
              0.4444444444444444,
              "#bd3786"
             ],
             [
              0.5555555555555556,
              "#d8576b"
             ],
             [
              0.6666666666666666,
              "#ed7953"
             ],
             [
              0.7777777777777778,
              "#fb9f3a"
             ],
             [
              0.8888888888888888,
              "#fdca26"
             ],
             [
              1,
              "#f0f921"
             ]
            ],
            "type": "histogram2dcontour"
           }
          ],
          "mesh3d": [
           {
            "colorbar": {
             "outlinewidth": 0,
             "ticks": ""
            },
            "type": "mesh3d"
           }
          ],
          "parcoords": [
           {
            "line": {
             "colorbar": {
              "outlinewidth": 0,
              "ticks": ""
             }
            },
            "type": "parcoords"
           }
          ],
          "pie": [
           {
            "automargin": true,
            "type": "pie"
           }
          ],
          "scatter": [
           {
            "marker": {
             "colorbar": {
              "outlinewidth": 0,
              "ticks": ""
             }
            },
            "type": "scatter"
           }
          ],
          "scatter3d": [
           {
            "line": {
             "colorbar": {
              "outlinewidth": 0,
              "ticks": ""
             }
            },
            "marker": {
             "colorbar": {
              "outlinewidth": 0,
              "ticks": ""
             }
            },
            "type": "scatter3d"
           }
          ],
          "scattercarpet": [
           {
            "marker": {
             "colorbar": {
              "outlinewidth": 0,
              "ticks": ""
             }
            },
            "type": "scattercarpet"
           }
          ],
          "scattergeo": [
           {
            "marker": {
             "colorbar": {
              "outlinewidth": 0,
              "ticks": ""
             }
            },
            "type": "scattergeo"
           }
          ],
          "scattergl": [
           {
            "marker": {
             "colorbar": {
              "outlinewidth": 0,
              "ticks": ""
             }
            },
            "type": "scattergl"
           }
          ],
          "scattermapbox": [
           {
            "marker": {
             "colorbar": {
              "outlinewidth": 0,
              "ticks": ""
             }
            },
            "type": "scattermapbox"
           }
          ],
          "scatterpolar": [
           {
            "marker": {
             "colorbar": {
              "outlinewidth": 0,
              "ticks": ""
             }
            },
            "type": "scatterpolar"
           }
          ],
          "scatterpolargl": [
           {
            "marker": {
             "colorbar": {
              "outlinewidth": 0,
              "ticks": ""
             }
            },
            "type": "scatterpolargl"
           }
          ],
          "scatterternary": [
           {
            "marker": {
             "colorbar": {
              "outlinewidth": 0,
              "ticks": ""
             }
            },
            "type": "scatterternary"
           }
          ],
          "surface": [
           {
            "colorbar": {
             "outlinewidth": 0,
             "ticks": ""
            },
            "colorscale": [
             [
              0,
              "#0d0887"
             ],
             [
              0.1111111111111111,
              "#46039f"
             ],
             [
              0.2222222222222222,
              "#7201a8"
             ],
             [
              0.3333333333333333,
              "#9c179e"
             ],
             [
              0.4444444444444444,
              "#bd3786"
             ],
             [
              0.5555555555555556,
              "#d8576b"
             ],
             [
              0.6666666666666666,
              "#ed7953"
             ],
             [
              0.7777777777777778,
              "#fb9f3a"
             ],
             [
              0.8888888888888888,
              "#fdca26"
             ],
             [
              1,
              "#f0f921"
             ]
            ],
            "type": "surface"
           }
          ],
          "table": [
           {
            "cells": {
             "fill": {
              "color": "#EBF0F8"
             },
             "line": {
              "color": "white"
             }
            },
            "header": {
             "fill": {
              "color": "#C8D4E3"
             },
             "line": {
              "color": "white"
             }
            },
            "type": "table"
           }
          ]
         },
         "layout": {
          "annotationdefaults": {
           "arrowcolor": "#2a3f5f",
           "arrowhead": 0,
           "arrowwidth": 1
          },
          "autotypenumbers": "strict",
          "coloraxis": {
           "colorbar": {
            "outlinewidth": 0,
            "ticks": ""
           }
          },
          "colorscale": {
           "diverging": [
            [
             0,
             "#8e0152"
            ],
            [
             0.1,
             "#c51b7d"
            ],
            [
             0.2,
             "#de77ae"
            ],
            [
             0.3,
             "#f1b6da"
            ],
            [
             0.4,
             "#fde0ef"
            ],
            [
             0.5,
             "#f7f7f7"
            ],
            [
             0.6,
             "#e6f5d0"
            ],
            [
             0.7,
             "#b8e186"
            ],
            [
             0.8,
             "#7fbc41"
            ],
            [
             0.9,
             "#4d9221"
            ],
            [
             1,
             "#276419"
            ]
           ],
           "sequential": [
            [
             0,
             "#0d0887"
            ],
            [
             0.1111111111111111,
             "#46039f"
            ],
            [
             0.2222222222222222,
             "#7201a8"
            ],
            [
             0.3333333333333333,
             "#9c179e"
            ],
            [
             0.4444444444444444,
             "#bd3786"
            ],
            [
             0.5555555555555556,
             "#d8576b"
            ],
            [
             0.6666666666666666,
             "#ed7953"
            ],
            [
             0.7777777777777778,
             "#fb9f3a"
            ],
            [
             0.8888888888888888,
             "#fdca26"
            ],
            [
             1,
             "#f0f921"
            ]
           ],
           "sequentialminus": [
            [
             0,
             "#0d0887"
            ],
            [
             0.1111111111111111,
             "#46039f"
            ],
            [
             0.2222222222222222,
             "#7201a8"
            ],
            [
             0.3333333333333333,
             "#9c179e"
            ],
            [
             0.4444444444444444,
             "#bd3786"
            ],
            [
             0.5555555555555556,
             "#d8576b"
            ],
            [
             0.6666666666666666,
             "#ed7953"
            ],
            [
             0.7777777777777778,
             "#fb9f3a"
            ],
            [
             0.8888888888888888,
             "#fdca26"
            ],
            [
             1,
             "#f0f921"
            ]
           ]
          },
          "colorway": [
           "#636efa",
           "#EF553B",
           "#00cc96",
           "#ab63fa",
           "#FFA15A",
           "#19d3f3",
           "#FF6692",
           "#B6E880",
           "#FF97FF",
           "#FECB52"
          ],
          "font": {
           "color": "#2a3f5f"
          },
          "geo": {
           "bgcolor": "white",
           "lakecolor": "white",
           "landcolor": "#E5ECF6",
           "showlakes": true,
           "showland": true,
           "subunitcolor": "white"
          },
          "hoverlabel": {
           "align": "left"
          },
          "hovermode": "closest",
          "mapbox": {
           "style": "light"
          },
          "paper_bgcolor": "white",
          "plot_bgcolor": "#E5ECF6",
          "polar": {
           "angularaxis": {
            "gridcolor": "white",
            "linecolor": "white",
            "ticks": ""
           },
           "bgcolor": "#E5ECF6",
           "radialaxis": {
            "gridcolor": "white",
            "linecolor": "white",
            "ticks": ""
           }
          },
          "scene": {
           "xaxis": {
            "backgroundcolor": "#E5ECF6",
            "gridcolor": "white",
            "gridwidth": 2,
            "linecolor": "white",
            "showbackground": true,
            "ticks": "",
            "zerolinecolor": "white"
           },
           "yaxis": {
            "backgroundcolor": "#E5ECF6",
            "gridcolor": "white",
            "gridwidth": 2,
            "linecolor": "white",
            "showbackground": true,
            "ticks": "",
            "zerolinecolor": "white"
           },
           "zaxis": {
            "backgroundcolor": "#E5ECF6",
            "gridcolor": "white",
            "gridwidth": 2,
            "linecolor": "white",
            "showbackground": true,
            "ticks": "",
            "zerolinecolor": "white"
           }
          },
          "shapedefaults": {
           "line": {
            "color": "#2a3f5f"
           }
          },
          "ternary": {
           "aaxis": {
            "gridcolor": "white",
            "linecolor": "white",
            "ticks": ""
           },
           "baxis": {
            "gridcolor": "white",
            "linecolor": "white",
            "ticks": ""
           },
           "bgcolor": "#E5ECF6",
           "caxis": {
            "gridcolor": "white",
            "linecolor": "white",
            "ticks": ""
           }
          },
          "title": {
           "x": 0.05
          },
          "xaxis": {
           "automargin": true,
           "gridcolor": "white",
           "linecolor": "white",
           "ticks": "",
           "title": {
            "standoff": 15
           },
           "zerolinecolor": "white",
           "zerolinewidth": 2
          },
          "yaxis": {
           "automargin": true,
           "gridcolor": "white",
           "linecolor": "white",
           "ticks": "",
           "title": {
            "standoff": 15
           },
           "zerolinecolor": "white",
           "zerolinewidth": 2
          }
         }
        },
        "title": {
         "font": {
          "size": 16
         },
         "text": "Paramiters of forcampingcz/Adform componet are: 0.9111762845610993corr. coeff "
        }
       }
      },
      "text/html": [
       "<div>                            <div id=\"665e0f6e-9a43-4776-b0a3-8f722ab153ae\" class=\"plotly-graph-div\" style=\"height:525px; width:100%;\"></div>            <script type=\"text/javascript\">                require([\"plotly\"], function(Plotly) {                    window.PLOTLYENV=window.PLOTLYENV || {};                                    if (document.getElementById(\"665e0f6e-9a43-4776-b0a3-8f722ab153ae\")) {                    Plotly.newPlot(                        \"665e0f6e-9a43-4776-b0a3-8f722ab153ae\",                        [{\"mode\": \"markers\", \"name\": \"Real data for last 12 weeks\", \"type\": \"scatter\", \"x\": [1400.94, 118.61000000000001, 97.63000000000001, 5236.49, 12115.23, 21090.24, 31036.37, 22300.2, 30313.899999999998, 16771.88, 295.87999999999994, 140.53], \"y\": [0.0, 0.0, 0.0, 0.0, 2533.05, 0.0, 5947.929999999999, 816.52, 1964.46, 596.69, 0.0, 0.0]}, {\"mode\": \"markers\", \"name\": \"Last week\", \"type\": \"scatter\", \"x\": [137.15], \"y\": [0.0]}, {\"mode\": \"markers\", \"name\": \"Previous week\", \"type\": \"scatter\", \"x\": [140.53], \"y\": [0.0]}, {\"mode\": \"lines\", \"name\": \"Regression\", \"type\": \"scatter\", \"x\": [0.0, 3526.8602272727276, 7053.720454545455, 10580.580681818183, 14107.44090909091, 17634.30113636364, 21161.161363636365, 24688.02159090909, 28214.88181818182, 31741.74204545455, 35268.60227272728, 38795.4625], \"y\": [0.0, 289.90255082253066, 579.7958316641591, 869.6798428198045, 1159.5545845874058, 1449.4200572618822, 1739.2762611411724, 2029.123196520196, 2318.9608636958847, 2608.789262965171, 2898.608394623981, 3188.4182589682405]}, {\"mode\": \"lines\", \"name\": \"Upper confidence interval\", \"type\": \"scatter\", \"x\": [0.0, 3526.8602272727276, 7053.720454545455, 10580.580681818183, 14107.44090909091, 17634.30113636364, 21161.161363636365, 24688.02159090909, 28214.88181818182, 31741.74204545455, 35268.60227272728, 38795.4625], \"y\": [1315.0637235573765, 1604.9662743799072, 1894.8595552215356, 2184.743566377181, 2474.6183081447825, 2764.4837808192588, 3054.339984698549, 3344.1869200775727, 3634.0245872532614, 3923.8529865225473, 4213.672118181357, 4503.481982525617]}, {\"mode\": \"lines\", \"name\": \"Upper confidence interval\", \"type\": \"scatter\", \"x\": [0.0, 3526.8602272727276, 7053.720454545455, 10580.580681818183, 14107.44090909091, 17634.30113636364, 21161.161363636365, 24688.02159090909, 28214.88181818182, 31741.74204545455, 35268.60227272728, 38795.4625], \"y\": [-1315.0637235573765, -1025.1611727348459, -735.2678918932174, -445.383880737572, -155.50913896997076, 134.3563337045057, 424.2125375837959, 714.0594729628194, 1003.8971401385081, 1293.7255394077945, 1583.5446710666045, 1873.354535410864]}, {\"mode\": \"markers\", \"name\": \"Optimal point next week\", \"type\": \"scatter\", \"x\": [112.424], \"y\": [-2.3103047743008727]}],                        {\"template\": {\"data\": {\"bar\": [{\"error_x\": {\"color\": \"#2a3f5f\"}, \"error_y\": {\"color\": \"#2a3f5f\"}, \"marker\": {\"line\": {\"color\": \"#E5ECF6\", \"width\": 0.5}}, \"type\": \"bar\"}], \"barpolar\": [{\"marker\": {\"line\": {\"color\": \"#E5ECF6\", \"width\": 0.5}}, \"type\": \"barpolar\"}], \"carpet\": [{\"aaxis\": {\"endlinecolor\": \"#2a3f5f\", \"gridcolor\": \"white\", \"linecolor\": \"white\", \"minorgridcolor\": \"white\", \"startlinecolor\": \"#2a3f5f\"}, \"baxis\": {\"endlinecolor\": \"#2a3f5f\", \"gridcolor\": \"white\", \"linecolor\": \"white\", \"minorgridcolor\": \"white\", \"startlinecolor\": \"#2a3f5f\"}, \"type\": \"carpet\"}], \"choropleth\": [{\"colorbar\": {\"outlinewidth\": 0, \"ticks\": \"\"}, \"type\": \"choropleth\"}], \"contour\": [{\"colorbar\": {\"outlinewidth\": 0, \"ticks\": \"\"}, \"colorscale\": [[0.0, \"#0d0887\"], [0.1111111111111111, \"#46039f\"], [0.2222222222222222, \"#7201a8\"], [0.3333333333333333, \"#9c179e\"], [0.4444444444444444, \"#bd3786\"], [0.5555555555555556, \"#d8576b\"], [0.6666666666666666, \"#ed7953\"], [0.7777777777777778, \"#fb9f3a\"], [0.8888888888888888, \"#fdca26\"], [1.0, \"#f0f921\"]], \"type\": \"contour\"}], \"contourcarpet\": [{\"colorbar\": {\"outlinewidth\": 0, \"ticks\": \"\"}, \"type\": \"contourcarpet\"}], \"heatmap\": [{\"colorbar\": {\"outlinewidth\": 0, \"ticks\": \"\"}, \"colorscale\": [[0.0, \"#0d0887\"], [0.1111111111111111, \"#46039f\"], [0.2222222222222222, \"#7201a8\"], [0.3333333333333333, \"#9c179e\"], [0.4444444444444444, \"#bd3786\"], [0.5555555555555556, \"#d8576b\"], [0.6666666666666666, \"#ed7953\"], [0.7777777777777778, \"#fb9f3a\"], [0.8888888888888888, \"#fdca26\"], [1.0, \"#f0f921\"]], \"type\": \"heatmap\"}], \"heatmapgl\": [{\"colorbar\": {\"outlinewidth\": 0, \"ticks\": \"\"}, \"colorscale\": [[0.0, \"#0d0887\"], [0.1111111111111111, \"#46039f\"], [0.2222222222222222, \"#7201a8\"], [0.3333333333333333, \"#9c179e\"], [0.4444444444444444, \"#bd3786\"], [0.5555555555555556, \"#d8576b\"], [0.6666666666666666, \"#ed7953\"], [0.7777777777777778, \"#fb9f3a\"], [0.8888888888888888, \"#fdca26\"], [1.0, \"#f0f921\"]], \"type\": \"heatmapgl\"}], \"histogram\": [{\"marker\": {\"colorbar\": {\"outlinewidth\": 0, \"ticks\": \"\"}}, \"type\": \"histogram\"}], \"histogram2d\": [{\"colorbar\": {\"outlinewidth\": 0, \"ticks\": \"\"}, \"colorscale\": [[0.0, \"#0d0887\"], [0.1111111111111111, \"#46039f\"], [0.2222222222222222, \"#7201a8\"], [0.3333333333333333, \"#9c179e\"], [0.4444444444444444, \"#bd3786\"], [0.5555555555555556, \"#d8576b\"], [0.6666666666666666, \"#ed7953\"], [0.7777777777777778, \"#fb9f3a\"], [0.8888888888888888, \"#fdca26\"], [1.0, \"#f0f921\"]], \"type\": \"histogram2d\"}], \"histogram2dcontour\": [{\"colorbar\": {\"outlinewidth\": 0, \"ticks\": \"\"}, \"colorscale\": [[0.0, \"#0d0887\"], [0.1111111111111111, \"#46039f\"], [0.2222222222222222, \"#7201a8\"], [0.3333333333333333, \"#9c179e\"], [0.4444444444444444, \"#bd3786\"], [0.5555555555555556, \"#d8576b\"], [0.6666666666666666, \"#ed7953\"], [0.7777777777777778, \"#fb9f3a\"], [0.8888888888888888, \"#fdca26\"], [1.0, \"#f0f921\"]], \"type\": \"histogram2dcontour\"}], \"mesh3d\": [{\"colorbar\": {\"outlinewidth\": 0, \"ticks\": \"\"}, \"type\": \"mesh3d\"}], \"parcoords\": [{\"line\": {\"colorbar\": {\"outlinewidth\": 0, \"ticks\": \"\"}}, \"type\": \"parcoords\"}], \"pie\": [{\"automargin\": true, \"type\": \"pie\"}], \"scatter\": [{\"marker\": {\"colorbar\": {\"outlinewidth\": 0, \"ticks\": \"\"}}, \"type\": \"scatter\"}], \"scatter3d\": [{\"line\": {\"colorbar\": {\"outlinewidth\": 0, \"ticks\": \"\"}}, \"marker\": {\"colorbar\": {\"outlinewidth\": 0, \"ticks\": \"\"}}, \"type\": \"scatter3d\"}], \"scattercarpet\": [{\"marker\": {\"colorbar\": {\"outlinewidth\": 0, \"ticks\": \"\"}}, \"type\": \"scattercarpet\"}], \"scattergeo\": [{\"marker\": {\"colorbar\": {\"outlinewidth\": 0, \"ticks\": \"\"}}, \"type\": \"scattergeo\"}], \"scattergl\": [{\"marker\": {\"colorbar\": {\"outlinewidth\": 0, \"ticks\": \"\"}}, \"type\": \"scattergl\"}], \"scattermapbox\": [{\"marker\": {\"colorbar\": {\"outlinewidth\": 0, \"ticks\": \"\"}}, \"type\": \"scattermapbox\"}], \"scatterpolar\": [{\"marker\": {\"colorbar\": {\"outlinewidth\": 0, \"ticks\": \"\"}}, \"type\": \"scatterpolar\"}], \"scatterpolargl\": [{\"marker\": {\"colorbar\": {\"outlinewidth\": 0, \"ticks\": \"\"}}, \"type\": \"scatterpolargl\"}], \"scatterternary\": [{\"marker\": {\"colorbar\": {\"outlinewidth\": 0, \"ticks\": \"\"}}, \"type\": \"scatterternary\"}], \"surface\": [{\"colorbar\": {\"outlinewidth\": 0, \"ticks\": \"\"}, \"colorscale\": [[0.0, \"#0d0887\"], [0.1111111111111111, \"#46039f\"], [0.2222222222222222, \"#7201a8\"], [0.3333333333333333, \"#9c179e\"], [0.4444444444444444, \"#bd3786\"], [0.5555555555555556, \"#d8576b\"], [0.6666666666666666, \"#ed7953\"], [0.7777777777777778, \"#fb9f3a\"], [0.8888888888888888, \"#fdca26\"], [1.0, \"#f0f921\"]], \"type\": \"surface\"}], \"table\": [{\"cells\": {\"fill\": {\"color\": \"#EBF0F8\"}, \"line\": {\"color\": \"white\"}}, \"header\": {\"fill\": {\"color\": \"#C8D4E3\"}, \"line\": {\"color\": \"white\"}}, \"type\": \"table\"}]}, \"layout\": {\"annotationdefaults\": {\"arrowcolor\": \"#2a3f5f\", \"arrowhead\": 0, \"arrowwidth\": 1}, \"autotypenumbers\": \"strict\", \"coloraxis\": {\"colorbar\": {\"outlinewidth\": 0, \"ticks\": \"\"}}, \"colorscale\": {\"diverging\": [[0, \"#8e0152\"], [0.1, \"#c51b7d\"], [0.2, \"#de77ae\"], [0.3, \"#f1b6da\"], [0.4, \"#fde0ef\"], [0.5, \"#f7f7f7\"], [0.6, \"#e6f5d0\"], [0.7, \"#b8e186\"], [0.8, \"#7fbc41\"], [0.9, \"#4d9221\"], [1, \"#276419\"]], \"sequential\": [[0.0, \"#0d0887\"], [0.1111111111111111, \"#46039f\"], [0.2222222222222222, \"#7201a8\"], [0.3333333333333333, \"#9c179e\"], [0.4444444444444444, \"#bd3786\"], [0.5555555555555556, \"#d8576b\"], [0.6666666666666666, \"#ed7953\"], [0.7777777777777778, \"#fb9f3a\"], [0.8888888888888888, \"#fdca26\"], [1.0, \"#f0f921\"]], \"sequentialminus\": [[0.0, \"#0d0887\"], [0.1111111111111111, \"#46039f\"], [0.2222222222222222, \"#7201a8\"], [0.3333333333333333, \"#9c179e\"], [0.4444444444444444, \"#bd3786\"], [0.5555555555555556, \"#d8576b\"], [0.6666666666666666, \"#ed7953\"], [0.7777777777777778, \"#fb9f3a\"], [0.8888888888888888, \"#fdca26\"], [1.0, \"#f0f921\"]]}, \"colorway\": [\"#636efa\", \"#EF553B\", \"#00cc96\", \"#ab63fa\", \"#FFA15A\", \"#19d3f3\", \"#FF6692\", \"#B6E880\", \"#FF97FF\", \"#FECB52\"], \"font\": {\"color\": \"#2a3f5f\"}, \"geo\": {\"bgcolor\": \"white\", \"lakecolor\": \"white\", \"landcolor\": \"#E5ECF6\", \"showlakes\": true, \"showland\": true, \"subunitcolor\": \"white\"}, \"hoverlabel\": {\"align\": \"left\"}, \"hovermode\": \"closest\", \"mapbox\": {\"style\": \"light\"}, \"paper_bgcolor\": \"white\", \"plot_bgcolor\": \"#E5ECF6\", \"polar\": {\"angularaxis\": {\"gridcolor\": \"white\", \"linecolor\": \"white\", \"ticks\": \"\"}, \"bgcolor\": \"#E5ECF6\", \"radialaxis\": {\"gridcolor\": \"white\", \"linecolor\": \"white\", \"ticks\": \"\"}}, \"scene\": {\"xaxis\": {\"backgroundcolor\": \"#E5ECF6\", \"gridcolor\": \"white\", \"gridwidth\": 2, \"linecolor\": \"white\", \"showbackground\": true, \"ticks\": \"\", \"zerolinecolor\": \"white\"}, \"yaxis\": {\"backgroundcolor\": \"#E5ECF6\", \"gridcolor\": \"white\", \"gridwidth\": 2, \"linecolor\": \"white\", \"showbackground\": true, \"ticks\": \"\", \"zerolinecolor\": \"white\"}, \"zaxis\": {\"backgroundcolor\": \"#E5ECF6\", \"gridcolor\": \"white\", \"gridwidth\": 2, \"linecolor\": \"white\", \"showbackground\": true, \"ticks\": \"\", \"zerolinecolor\": \"white\"}}, \"shapedefaults\": {\"line\": {\"color\": \"#2a3f5f\"}}, \"ternary\": {\"aaxis\": {\"gridcolor\": \"white\", \"linecolor\": \"white\", \"ticks\": \"\"}, \"baxis\": {\"gridcolor\": \"white\", \"linecolor\": \"white\", \"ticks\": \"\"}, \"bgcolor\": \"#E5ECF6\", \"caxis\": {\"gridcolor\": \"white\", \"linecolor\": \"white\", \"ticks\": \"\"}}, \"title\": {\"x\": 0.05}, \"xaxis\": {\"automargin\": true, \"gridcolor\": \"white\", \"linecolor\": \"white\", \"ticks\": \"\", \"title\": {\"standoff\": 15}, \"zerolinecolor\": \"white\", \"zerolinewidth\": 2}, \"yaxis\": {\"automargin\": true, \"gridcolor\": \"white\", \"linecolor\": \"white\", \"ticks\": \"\", \"title\": {\"standoff\": 15}, \"zerolinecolor\": \"white\", \"zerolinewidth\": 2}}}, \"title\": {\"font\": {\"size\": 16}, \"text\": \"Paramiters of forcampingcz/Adform componet are: 0.9111762845610993corr. coeff \"}},                        {\"responsive\": true}                    ).then(function(){\n",
       "                            \n",
       "var gd = document.getElementById('665e0f6e-9a43-4776-b0a3-8f722ab153ae');\n",
       "var x = new MutationObserver(function (mutations, observer) {{\n",
       "        var display = window.getComputedStyle(gd).display;\n",
       "        if (!display || display === 'none') {{\n",
       "            console.log([gd, 'removed!']);\n",
       "            Plotly.purge(gd);\n",
       "            observer.disconnect();\n",
       "        }}\n",
       "}});\n",
       "\n",
       "// Listen for the removal of the full notebook cells\n",
       "var notebookContainer = gd.closest('#notebook-container');\n",
       "if (notebookContainer) {{\n",
       "    x.observe(notebookContainer, {childList: true});\n",
       "}}\n",
       "\n",
       "// Listen for the clearing of the current output cell\n",
       "var outputEl = gd.closest('.output');\n",
       "if (outputEl) {{\n",
       "    x.observe(outputEl, {childList: true});\n",
       "}}\n",
       "\n",
       "                        })                };                });            </script>        </div>"
      ]
     },
     "metadata": {},
     "output_type": "display_data"
    }
   ],
   "source": [
    "weeks = 12 # TODO It need to be get from statistics dictionary\n",
    "import plotly.graph_objects as go\n",
    "fig = go.Figure()\n",
    "    # Add traces\n",
    "#x=np.linspace(0, zzz_df.Max_week_invest.to_list()[0], num=100)\n",
    "fig.add_trace( go.Scatter(x = (result.loc[component.value]['X']) ,\n",
    "               y = (result.loc[component.value]['Y']),\n",
    "               mode = 'markers',\n",
    "               name = f'Real data for last {weeks} weeks'))\n",
    "\n",
    "fig.add_trace( go.Scatter(x = [(result.loc[component.value]['Invest_last_week']).tolist()],\n",
    "               y = [(result.loc[component.value]['Prof_last_week']).tolist()],\n",
    "               mode='markers',\n",
    "               name='Last week'))\n",
    "\n",
    "fig.add_trace( go.Scatter(x = [(result.loc[component.value]['Invest_prev_week']).tolist()],\n",
    "               y = [(result.loc[component.value]['Prof_prev_week']).tolist()],\n",
    "               mode='markers',\n",
    "               name='Previous week'))\n",
    "\n",
    "try:\n",
    "    fig.add_trace( go.Scatter(x = result.loc[component.value]['Regr_X'] ,\n",
    "               y = result.loc[component.value]['Regt_Y'],\n",
    "               mode='lines',\n",
    "               name='Regression'))\n",
    "\n",
    "    fig.add_trace( go.Scatter(x = list(result.loc[component.value]['Regr_X']),\n",
    "               y = list(result.loc[component.value]['Up_line_Y']),\n",
    "               mode='lines',\n",
    "               name='Upper confidence interval'))\n",
    "    \n",
    "    fig.add_trace( go.Scatter(x = list(result.loc[component.value]['Regr_X']),\n",
    "               y = list(result.loc[component.value]['Down_line_Y']),\n",
    "               mode='lines',\n",
    "               name='Upper confidence interval'))\n",
    "    \n",
    "    fig.add_trace( go.Scatter(x = [(result.loc[component.value]['opt_invest']).tolist()],\n",
    "               y = [result.loc[component.value]['Prof_last_week'] + result.loc[component.value]['profit_change']],\n",
    "               mode='markers',\n",
    "               name='Optimal point next week'))\n",
    "except:\n",
    "    pass\n",
    "\n",
    "fig.update_layout( title_text= f\"Paramiters of {component_menu[component.value][0]} componet are: {result.loc[component.value]['Corr_coeff']}corr. coeff \", \n",
    "                  title_font=dict(size=16))\n",
    "fig.show()"
   ]
  },
  {
   "cell_type": "code",
   "execution_count": null,
   "metadata": {},
   "outputs": [],
   "source": []
  }
 ],
 "metadata": {
  "hide_input": false,
  "kernelspec": {
   "display_name": "Python 3",
   "language": "python",
   "name": "python3"
  },
  "language_info": {
   "codemirror_mode": {
    "name": "ipython",
    "version": 3
   },
   "file_extension": ".py",
   "mimetype": "text/x-python",
   "name": "python",
   "nbconvert_exporter": "python",
   "pygments_lexer": "ipython3",
   "version": "3.8.5"
  },
  "toc": {
   "base_numbering": 1,
   "nav_menu": {},
   "number_sections": true,
   "sideBar": true,
   "skip_h1_title": false,
   "title_cell": "Table of Contents",
   "title_sidebar": "Contents",
   "toc_cell": false,
   "toc_position": {},
   "toc_section_display": true,
   "toc_window_display": false
  },
  "varInspector": {
   "cols": {
    "lenName": 16,
    "lenType": 16,
    "lenVar": 40
   },
   "kernels_config": {
    "python": {
     "delete_cmd_postfix": "",
     "delete_cmd_prefix": "del ",
     "library": "var_list.py",
     "varRefreshCmd": "print(var_dic_list())"
    },
    "r": {
     "delete_cmd_postfix": ") ",
     "delete_cmd_prefix": "rm(",
     "library": "var_list.r",
     "varRefreshCmd": "cat(var_dic_list()) "
    }
   },
   "oldHeight": 574.4,
   "position": {
    "height": "40px",
    "left": "1252.4px",
    "right": "20px",
    "top": "120px",
    "width": "250px"
   },
   "types_to_exclude": [
    "module",
    "function",
    "builtin_function_or_method",
    "instance",
    "_Feature"
   ],
   "varInspector_section_display": "none",
   "window_display": true
  }
 },
 "nbformat": 4,
 "nbformat_minor": 4
}
