{
 "cells": [
  {
   "cell_type": "code",
   "execution_count": null,
   "metadata": {},
   "outputs": [],
   "source": []
  },
  {
   "cell_type": "markdown",
   "metadata": {},
   "source": [
    "### TODO\n",
    "* Read all files into the list\n",
    "* Check it out\n",
    "* Choose files one by one\n",
    "     * get info: platform, channels, business units\n",
    "     * "
   ]
  },
  {
   "cell_type": "code",
   "execution_count": 1,
   "metadata": {
    "ExecuteTime": {
     "end_time": "2021-01-25T09:28:37.338039Z",
     "start_time": "2021-01-25T09:28:34.698888Z"
    }
   },
   "outputs": [],
   "source": [
    "import os\n",
    "import pandas as pd\n",
    "import math\n",
    "import matplotlib.pyplot as plt\n",
    "import numpy as np\n",
    "from scipy.optimize import curve_fit\n",
    "import scipy\n",
    "import scipy.stats as stat\n",
    "import xlsxwriter\n",
    "from pathlib import Path"
   ]
  },
  {
   "cell_type": "code",
   "execution_count": 2,
   "metadata": {
    "ExecuteTime": {
     "end_time": "2021-01-25T09:28:37.563052Z",
     "start_time": "2021-01-25T09:28:37.560052Z"
    }
   },
   "outputs": [],
   "source": [
    "time_window_regr = 12 # number of weeks for regression"
   ]
  },
  {
   "cell_type": "code",
   "execution_count": 3,
   "metadata": {
    "ExecuteTime": {
     "end_time": "2021-01-25T09:28:37.781065Z",
     "start_time": "2021-01-25T09:28:37.771064Z"
    }
   },
   "outputs": [
    {
     "data": {
      "text/plain": [
       "['4Camping.csv',\n",
       " '4home.csv',\n",
       " 'aliatic.csv',\n",
       " 'apotek.csv',\n",
       " 'audiopartner.csv',\n",
       " 'aurio.csv',\n",
       " 'axa-assistance.csv',\n",
       " 'bezvasport.csv',\n",
       " 'bluestyle.csv',\n",
       " 'brw.csv',\n",
       " 'cocochocosk.csv',\n",
       " 'CoolStuff.csv',\n",
       " 'czechnutrition.csv',\n",
       " 'decodoma.csv',\n",
       " 'Econea.csv',\n",
       " 'eyerim.csv',\n",
       " 'FactCool.csv',\n",
       " 'fitplus.csv',\n",
       " 'hartman.csv',\n",
       " 'hptronic.csv',\n",
       " 'istepcesro.csv',\n",
       " 'ketodiet.csv',\n",
       " 'krmimkvalitne.csv',\n",
       " 'muziker.csv',\n",
       " 'nafigatecosmetics.csv',\n",
       " 'packwaysro.csv',\n",
       " 'selsey.csv',\n",
       " 'semahead.csv',\n",
       " 'skodaautodigilab.csv',\n",
       " 'superbet.csv',\n",
       " 'superzoo.csv',\n",
       " 'upcsk.csv',\n",
       " 'vemzu.csv',\n",
       " 'vodafone.csv']"
      ]
     },
     "execution_count": 3,
     "metadata": {},
     "output_type": "execute_result"
    }
   ],
   "source": [
    "list_files = os.listdir(\"./input\")\n",
    "list_files"
   ]
  },
  {
   "cell_type": "code",
   "execution_count": 4,
   "metadata": {
    "ExecuteTime": {
     "end_time": "2021-01-25T09:28:38.005077Z",
     "start_time": "2021-01-25T09:28:38.001077Z"
    }
   },
   "outputs": [],
   "source": [
    "mypath = Path().absolute()\n",
    "folder = 'output\\\\'\n",
    "img_folder = folder + 'img\\\\'"
   ]
  },
  {
   "cell_type": "code",
   "execution_count": 5,
   "metadata": {
    "ExecuteTime": {
     "end_time": "2021-01-25T09:28:38.365098Z",
     "start_time": "2021-01-25T09:28:38.361098Z"
    }
   },
   "outputs": [
    {
     "data": {
      "text/plain": [
       "'output\\\\'"
      ]
     },
     "execution_count": 5,
     "metadata": {},
     "output_type": "execute_result"
    }
   ],
   "source": [
    "folder"
   ]
  },
  {
   "cell_type": "code",
   "execution_count": 6,
   "metadata": {
    "ExecuteTime": {
     "end_time": "2021-01-25T09:28:39.118141Z",
     "start_time": "2021-01-25T09:28:39.114141Z"
    }
   },
   "outputs": [],
   "source": [
    "# execute for all files\n",
    "for i in list_files:\n",
    "    pass"
   ]
  },
  {
   "cell_type": "markdown",
   "metadata": {},
   "source": [
    "include image if regression available\n",
    "add only new lines if it need (different numbers for raw with images and blank lines "
   ]
  },
  {
   "cell_type": "code",
   "execution_count": 8,
   "metadata": {
    "ExecuteTime": {
     "end_time": "2021-01-25T09:29:17.787353Z",
     "start_time": "2021-01-25T09:29:17.781352Z"
    }
   },
   "outputs": [],
   "source": [
    "# Data type description for dataset columns\n",
    "\n",
    "DateTimeID = ['periodStartDate']\n",
    "\n",
    "usecols = [\n",
    "    \"account\",\n",
    "    \"adCampaign\", \"platformCode\",\"currencyCode\", \"channelCode\", \"marketingInvestment\",\n",
    "    \"impressions\", \"clicks\", \"visits\", \"conversions\", \"deliveries\",\n",
    "    \"netRevenue\", \"grossProfit\", \"adGroup\", \"periodStartDate\",\"businessUnit\"\n",
    "          ]\n",
    "\n",
    "dtype = {\n",
    "    'account': str,\n",
    "    'adCampaign' : str,\n",
    "    'platformCode' : str,\n",
    "    'businessUnit':str,\n",
    "    'currencyCode':str,\n",
    "    'channelCode' : str,\n",
    "    'impressions' : int,\n",
    "    'clicks' : int,\n",
    "    'visits' : int,\n",
    "    'conversions' : int,\n",
    "    'deliveries' : int,\n",
    "    'netRevenue' : float,\n",
    "    'grossProfit' : float,\n",
    "    'adGroup' : str,\n",
    "    'marketingInvestment': float\n",
    "}"
   ]
  },
  {
   "cell_type": "code",
   "execution_count": 9,
   "metadata": {
    "ExecuteTime": {
     "end_time": "2021-01-25T09:29:18.441390Z",
     "start_time": "2021-01-25T09:29:18.436390Z"
    }
   },
   "outputs": [],
   "source": [
    "# function for genetic algorithm to minimize (sum of squared error)\n",
    "def sumOfSquaredError(parameterTuple):\n",
    "    function = log_f # it's bad staff #TODO\n",
    "    warnings.filterwarnings(\"ignore\") # do not print warnings by genetic algorithm\n",
    "    val = function(t_train, *parameterTuple)\n",
    "    return np.sum((y_train - val) ** 2.0)"
   ]
  },
  {
   "cell_type": "code",
   "execution_count": 10,
   "metadata": {
    "ExecuteTime": {
     "end_time": "2021-01-25T09:29:19.202434Z",
     "start_time": "2021-01-25T09:29:19.185433Z"
    }
   },
   "outputs": [],
   "source": [
    "def select_agg_resample_df(df, index, granularity, use_nan):\n",
    "    \"\"\"Function for select and group  data in dataframe\n",
    "    input: pandas dataframe, name of index, granularity['week','month'] default as in dataframe\n",
    "    return: aggregated dataframe with extra column with indexes [ROI, CPI, CPC]\"\"\"\n",
    "    group_df = df.groupby(['periodStartDate']).agg({\n",
    "    'netRevenue': 'sum',\n",
    "    'marketingInvestment': 'sum', \n",
    "    'visits': 'sum', \n",
    "    'conversions': 'sum',\n",
    "    'deliveries': 'sum', \n",
    "    'impressions': 'sum', \n",
    "    'clicks': 'sum', \n",
    "    'grossProfit': 'sum' })   \n",
    "\n",
    "    if granularity == 'week':\n",
    "        group_agg_df = group_df.resample('W-MON').agg('sum')\n",
    "    elif granularity == 'month':\n",
    "        group_agg_df = group_df.resample('M', convention='end').agg('sum')\n",
    "    elif granularity == 'day':\n",
    "        group_agg_df = group_df\n",
    "    else:\n",
    "        raise ValueError(\"Incorrect aggregation period, shuld be 'day', 'week' or 'month'\")\n",
    "\n",
    "    if use_nan == False:\n",
    "        group_agg_df.fillna(0)\n",
    "    else:\n",
    "        pass\n",
    "    return group_agg_df"
   ]
  },
  {
   "cell_type": "code",
   "execution_count": 11,
   "metadata": {
    "ExecuteTime": {
     "end_time": "2021-01-25T09:29:19.913474Z",
     "start_time": "2021-01-25T09:29:19.904474Z"
    }
   },
   "outputs": [],
   "source": [
    "# function for search initial value for regression parameters\n",
    "from scipy.optimize import differential_evolution\n",
    "import warnings\n",
    "def generate_Initial_Parameters(t_train, y_train,function):\n",
    "    # min and max used for bounds\n",
    "    maxX = max(t_train)\n",
    "    minX = min(t_train)\n",
    "    maxY = max(y_train)\n",
    "    minY = min(y_train)\n",
    "    maxXY = max(maxX, maxY)\n",
    "\n",
    "    parameterBounds = []\n",
    "    parameterBounds.append([-maxXY, maxXY]) # seach bounds for a\n",
    "    parameterBounds.append([-maxXY, maxXY]) # seach bounds for b\n",
    "    #parameterBounds.append([-maxXY, maxXY]) # seach bounds for c\n",
    "\n",
    "    # \"seed\" the numpy random number generator for repeatable results\n",
    "    result = differential_evolution(sumOfSquaredError, parameterBounds, seed=3)\n",
    "    return result.x"
   ]
  },
  {
   "cell_type": "code",
   "execution_count": 12,
   "metadata": {
    "ExecuteTime": {
     "end_time": "2021-01-25T09:29:20.626515Z",
     "start_time": "2021-01-25T09:29:20.617515Z"
    }
   },
   "outputs": [],
   "source": [
    "def regression_calc(df, function):\n",
    "    \"\"\"Calculate paramiters of regression function\n",
    "    input: pandas dataframe [x,y]\n",
    "    output: list[paramiters], list[std diviation err of paramiters]\"\"\"\n",
    "    from scipy.optimize import curve_fit\n",
    "    t_train = df[df.columns[0]]  #\n",
    "    y_train = df[df.columns[1]]\n",
    "    geneticParameters = generate_Initial_Parameters(t_train, y_train, log_f)\n",
    "    popt, pcov = curve_fit(log_f, t_train, y_train, geneticParameters)\n",
    "    #popt, pcov = curve_fit(function, t_train, y_train)\n",
    "    error  = np.sqrt(np.diag(pcov))\n",
    "    return popt, error"
   ]
  },
  {
   "cell_type": "code",
   "execution_count": 13,
   "metadata": {
    "ExecuteTime": {
     "end_time": "2021-01-25T09:29:21.238550Z",
     "start_time": "2021-01-25T09:29:21.234550Z"
    }
   },
   "outputs": [],
   "source": [
    "def filter_df(df, alpha):\n",
    "    return df.ewm(alpha=alpha, adjust=False).mean()"
   ]
  },
  {
   "cell_type": "code",
   "execution_count": 14,
   "metadata": {
    "ExecuteTime": {
     "end_time": "2021-01-25T09:29:21.940590Z",
     "start_time": "2021-01-25T09:29:21.932590Z"
    }
   },
   "outputs": [],
   "source": [
    "# regression functions definition\n",
    "def log_f(x, a, b):\n",
    "    return a * (1-np.exp(-x/b)) #a * (1 - np.exp((x/b)))\n",
    "\n",
    "def line_f(x, a, b):\n",
    "    return a * x + b\n",
    "\n",
    "def sine_f(x, a, b):\n",
    "    return a * np.sin(b * x)"
   ]
  },
  {
   "cell_type": "code",
   "execution_count": 15,
   "metadata": {
    "ExecuteTime": {
     "end_time": "2021-01-25T09:29:22.742636Z",
     "start_time": "2021-01-25T09:29:22.721635Z"
    }
   },
   "outputs": [],
   "source": [
    "def save_chart(sorted_df, name, R_std):\n",
    "    fig, ax = plt.subplots(figsize=(6, 4))\n",
    "    fig.subplots_adjust(bottom=0.15, left=0.2)\n",
    "    x = np.linspace(0,sorted_df['marketingInvestment'].max(),20)\n",
    "    ax.scatter(sorted_df['marketingInvestment'], sorted_df['grossProfit'])\n",
    "    ax.plot(x,log_f(x, *regr)- 2*R_std)\n",
    "    ax.plot(x,log_f(x, *regr)+ 2*R_std)\n",
    "    ax.plot(x,log_f(x, *regr))\n",
    "    ax.set_xlabel(f'Investment {name[1]}')\n",
    "    ax.set_ylabel(f'Profit {name[1]}')\n",
    "    ax.set_title(name[0])\n",
    "    plt.savefig( name[0] + '.jpg', dpi=150, pad_inches=0.1)  \n",
    "    plt.close()\n",
    "    #plt.show()\n"
   ]
  },
  {
   "cell_type": "code",
   "execution_count": 16,
   "metadata": {
    "ExecuteTime": {
     "end_time": "2021-01-25T09:29:26.180833Z",
     "start_time": "2021-01-25T09:29:24.284724Z"
    }
   },
   "outputs": [
    {
     "data": {
      "text/html": [
       "<div>\n",
       "<style scoped>\n",
       "    .dataframe tbody tr th:only-of-type {\n",
       "        vertical-align: middle;\n",
       "    }\n",
       "\n",
       "    .dataframe tbody tr th {\n",
       "        vertical-align: top;\n",
       "    }\n",
       "\n",
       "    .dataframe thead th {\n",
       "        text-align: right;\n",
       "    }\n",
       "</style>\n",
       "<table border=\"1\" class=\"dataframe\">\n",
       "  <thead>\n",
       "    <tr style=\"text-align: right;\">\n",
       "      <th></th>\n",
       "      <th>account</th>\n",
       "      <th>businessUnit</th>\n",
       "      <th>platformCode</th>\n",
       "      <th>channelCode</th>\n",
       "      <th>adCampaign</th>\n",
       "      <th>marketingInvestment</th>\n",
       "      <th>impressions</th>\n",
       "      <th>clicks</th>\n",
       "      <th>visits</th>\n",
       "      <th>conversions</th>\n",
       "      <th>deliveries</th>\n",
       "      <th>netRevenue</th>\n",
       "      <th>grossProfit</th>\n",
       "      <th>currencyCode</th>\n",
       "      <th>adGroup</th>\n",
       "      <th>periodStartDate</th>\n",
       "    </tr>\n",
       "  </thead>\n",
       "  <tbody>\n",
       "    <tr>\n",
       "      <th>0</th>\n",
       "      <td>forhome</td>\n",
       "      <td>forhomecz</td>\n",
       "      <td>(direct)</td>\n",
       "      <td>direct</td>\n",
       "      <td>NaN</td>\n",
       "      <td>0.0</td>\n",
       "      <td>0</td>\n",
       "      <td>0</td>\n",
       "      <td>988</td>\n",
       "      <td>33</td>\n",
       "      <td>33</td>\n",
       "      <td>25309.0</td>\n",
       "      <td>9617.42</td>\n",
       "      <td>CZK</td>\n",
       "      <td>NaN</td>\n",
       "      <td>2020-01-21</td>\n",
       "    </tr>\n",
       "    <tr>\n",
       "      <th>1</th>\n",
       "      <td>forhome</td>\n",
       "      <td>forhomecz</td>\n",
       "      <td>notset</td>\n",
       "      <td>referral</td>\n",
       "      <td>NaN</td>\n",
       "      <td>0.0</td>\n",
       "      <td>0</td>\n",
       "      <td>0</td>\n",
       "      <td>11</td>\n",
       "      <td>1</td>\n",
       "      <td>1</td>\n",
       "      <td>418.0</td>\n",
       "      <td>158.84</td>\n",
       "      <td>CZK</td>\n",
       "      <td>NaN</td>\n",
       "      <td>2020-01-21</td>\n",
       "    </tr>\n",
       "    <tr>\n",
       "      <th>2</th>\n",
       "      <td>forhome</td>\n",
       "      <td>forhomecz</td>\n",
       "      <td>notset</td>\n",
       "      <td>referral</td>\n",
       "      <td>NaN</td>\n",
       "      <td>0.0</td>\n",
       "      <td>0</td>\n",
       "      <td>0</td>\n",
       "      <td>12</td>\n",
       "      <td>0</td>\n",
       "      <td>0</td>\n",
       "      <td>0.0</td>\n",
       "      <td>0.00</td>\n",
       "      <td>CZK</td>\n",
       "      <td>NaN</td>\n",
       "      <td>2020-01-21</td>\n",
       "    </tr>\n",
       "    <tr>\n",
       "      <th>3</th>\n",
       "      <td>forhome</td>\n",
       "      <td>forhomecz</td>\n",
       "      <td>notset</td>\n",
       "      <td>referral</td>\n",
       "      <td>NaN</td>\n",
       "      <td>0.0</td>\n",
       "      <td>0</td>\n",
       "      <td>0</td>\n",
       "      <td>6</td>\n",
       "      <td>0</td>\n",
       "      <td>0</td>\n",
       "      <td>0.0</td>\n",
       "      <td>0.00</td>\n",
       "      <td>CZK</td>\n",
       "      <td>NaN</td>\n",
       "      <td>2020-01-21</td>\n",
       "    </tr>\n",
       "    <tr>\n",
       "      <th>4</th>\n",
       "      <td>forhome</td>\n",
       "      <td>forhomecz</td>\n",
       "      <td>notset</td>\n",
       "      <td>referral</td>\n",
       "      <td>NaN</td>\n",
       "      <td>0.0</td>\n",
       "      <td>0</td>\n",
       "      <td>0</td>\n",
       "      <td>1</td>\n",
       "      <td>0</td>\n",
       "      <td>0</td>\n",
       "      <td>0.0</td>\n",
       "      <td>0.00</td>\n",
       "      <td>CZK</td>\n",
       "      <td>NaN</td>\n",
       "      <td>2020-01-21</td>\n",
       "    </tr>\n",
       "  </tbody>\n",
       "</table>\n",
       "</div>"
      ],
      "text/plain": [
       "   account businessUnit platformCode channelCode adCampaign  \\\n",
       "0  forhome    forhomecz     (direct)      direct        NaN   \n",
       "1  forhome    forhomecz       notset    referral        NaN   \n",
       "2  forhome    forhomecz       notset    referral        NaN   \n",
       "3  forhome    forhomecz       notset    referral        NaN   \n",
       "4  forhome    forhomecz       notset    referral        NaN   \n",
       "\n",
       "   marketingInvestment  impressions  clicks  visits  conversions  deliveries  \\\n",
       "0                  0.0            0       0     988           33          33   \n",
       "1                  0.0            0       0      11            1           1   \n",
       "2                  0.0            0       0      12            0           0   \n",
       "3                  0.0            0       0       6            0           0   \n",
       "4                  0.0            0       0       1            0           0   \n",
       "\n",
       "   netRevenue  grossProfit currencyCode adGroup periodStartDate  \n",
       "0     25309.0      9617.42          CZK     NaN      2020-01-21  \n",
       "1       418.0       158.84          CZK     NaN      2020-01-21  \n",
       "2         0.0         0.00          CZK     NaN      2020-01-21  \n",
       "3         0.0         0.00          CZK     NaN      2020-01-21  \n",
       "4         0.0         0.00          CZK     NaN      2020-01-21  "
      ]
     },
     "execution_count": 16,
     "metadata": {},
     "output_type": "execute_result"
    }
   ],
   "source": [
    "df = pd.read_csv('input\\\\'+ list_files[1],\n",
    "                 sep=\"\\t\",\n",
    "                 infer_datetime_format=True,\n",
    "                 usecols=usecols,\n",
    "                 dtype=dtype,\n",
    "                 parse_dates=DateTimeID)\n",
    "\n",
    "df['periodStartDate'] = pd.to_datetime(df['periodStartDate'])\n",
    "\n",
    "df.head(5)"
   ]
  },
  {
   "cell_type": "code",
   "execution_count": 57,
   "metadata": {
    "ExecuteTime": {
     "end_time": "2021-01-24T22:13:49.601260Z",
     "start_time": "2021-01-24T22:13:49.595260Z"
    }
   },
   "outputs": [
    {
     "data": {
      "text/plain": [
       "(394472, 16)"
      ]
     },
     "execution_count": 57,
     "metadata": {},
     "output_type": "execute_result"
    }
   ],
   "source": [
    "df.shape"
   ]
  },
  {
   "cell_type": "code",
   "execution_count": 58,
   "metadata": {
    "ExecuteTime": {
     "end_time": "2021-01-24T22:13:52.978453Z",
     "start_time": "2021-01-24T22:13:52.975453Z"
    }
   },
   "outputs": [],
   "source": [
    "#list_files[6]"
   ]
  },
  {
   "cell_type": "code",
   "execution_count": 59,
   "metadata": {
    "ExecuteTime": {
     "end_time": "2021-01-24T22:13:56.876676Z",
     "start_time": "2021-01-24T22:13:56.663664Z"
    }
   },
   "outputs": [],
   "source": [
    "platform_code = df['platformCode'].unique().tolist()\n",
    "platform_code.sort()\n",
    "business_unit_code = df['businessUnit'].unique().tolist()\n",
    "business_unit_code.sort()\n",
    "channel_code_code = df['channelCode'].unique().tolist()\n",
    "channel_code_code.sort()\n",
    "currency_code_code = df['currencyCode'].unique().tolist()\n",
    "currency_code_code.sort()\n",
    "account_code = df['account'].unique().tolist()\n",
    "\n"
   ]
  },
  {
   "cell_type": "code",
   "execution_count": 27,
   "metadata": {
    "ExecuteTime": {
     "end_time": "2021-01-22T22:37:28.378013Z",
     "start_time": "2021-01-22T22:37:28.372013Z"
    }
   },
   "outputs": [
    {
     "data": {
      "text/plain": [
       "['forhome']"
      ]
     },
     "execution_count": 27,
     "metadata": {},
     "output_type": "execute_result"
    }
   ],
   "source": [
    "account_code"
   ]
  },
  {
   "cell_type": "code",
   "execution_count": 28,
   "metadata": {
    "ExecuteTime": {
     "end_time": "2021-01-22T22:37:51.235321Z",
     "start_time": "2021-01-22T22:37:31.267179Z"
    }
   },
   "outputs": [
    {
     "name": "stdout",
     "output_type": "stream",
     "text": [
      "forhomecz business unit AdWords platform has \t0.967032967032967 correlation coefficient\n",
      "Regression calculated successfully\n",
      "forhomecz business unit Biano platform has \t1.0 correlation coefficient\n",
      "Regression calculated successfully\n",
      "forhomecz business unit DogNet platform has \t0.967032967032967 correlation coefficient\n",
      "Regression calculated successfully\n",
      "forhomecz business unit FacebookBusinessAdsManager platform has \t0.9725274725274725 correlation coefficient\n",
      "Regression calculated successfully\n",
      "forhomecz business unit Favi platform has \t0.9835164835164836 correlation coefficient\n",
      "Regression calculated successfully\n",
      "forhomecz business unit HeurekaCz platform has \t0.9835164835164836 correlation coefficient\n",
      "Regression calculated successfully\n",
      "forhomecz business unit RtbHouse platform has \t0.9945054945054945 correlation coefficient\n",
      "Regression calculated successfully\n",
      "forhomecz business unit Sklik platform has \t0.9945054945054945 correlation coefficient\n",
      "Regression calculated successfully\n",
      "forhomecz business unit SkrzCz platform has \t0.9615384615384615 correlation coefficient\n",
      "Regression calculated successfully\n",
      "forhomecz business unit ZboziCz platform has \t0.9340659340659341 correlation coefficient\n",
      "Regression calculated successfully\n"
     ]
    }
   ],
   "source": [
    "#select window for regression \n",
    "excel_coll = 0\n",
    "precision = 3\n",
    "\n",
    "workbook = xlsxwriter.Workbook( 'campaign_' + account_code[0]+'_corr.xlsx') #folder + \n",
    "bold = workbook.add_format({'bold': True})\n",
    "\n",
    "\n",
    "df_time_selected = df[df['periodStartDate'] >= df['periodStartDate'].max() - pd.DateOffset(weeks=time_window_regr)] \n",
    "\n",
    "#df_time_selected = filter_df(df_time_selected, 0.1)\n",
    "\n",
    "for i in business_unit_code:\n",
    "    df_selected = df_time_selected[df_time_selected['businessUnit'] == i]\n",
    "    worksheet = workbook.add_worksheet(i)\n",
    "    \n",
    "    worksheet.set_column('A:A', 30)\n",
    "    worksheet.set_column('B:B', 10)\n",
    "    worksheet.set_column('C:C', 15)\n",
    "    worksheet.set_column('D:D', 15)\n",
    "    worksheet.set_column('E:E', 15)\n",
    "    worksheet.set_column('F:F', 15)\n",
    "    worksheet.set_column('G:G', 40)\n",
    "\n",
    "    worksheet.write('A1', 'Name', bold)\n",
    "    worksheet.write('B1', 'Corr coeff.', bold)\n",
    "    worksheet.write('C1', 'a', bold)\n",
    "    worksheet.write('D1', 'b', bold)\n",
    "    worksheet.write('E1', 'c', bold)\n",
    "    worksheet.write('F1', 'R-std', bold)\n",
    "    worksheet.write('G1', 'Chart', bold)\n",
    "    \n",
    "    excel_row  = 2\n",
    "    \n",
    "    for z in platform_code:\n",
    "        df_platform = df_selected[df_selected['platformCode'] == z]\n",
    "        df_business_selected_agg = select_agg_resample_df(df_platform, 'periodStartDate', 'week', use_nan = False)\n",
    "        df_business_selected_agg = filter_df(df_business_selected_agg, 0.05)\n",
    "        sper_crr, _=stat.spearmanr(df_business_selected_agg['marketingInvestment'], df_business_selected_agg['grossProfit'])\n",
    "        if sper_crr> 0.75:\n",
    "            print (i + ' business unit '+ z + ' platform has \\t'+ str(sper_crr) + ' correlation coefficient')\n",
    "\n",
    "            try:\n",
    "                sorted_df = df_business_selected_agg.sort_values( by=['marketingInvestment'], ascending=False )\n",
    "                t_train = sorted_df['marketingInvestment']\n",
    "                y_train = sorted_df['grossProfit']\n",
    "                \n",
    "                regr, err = regression_calc(sorted_df[['marketingInvestment','grossProfit']],log_f)\n",
    "                \n",
    "                R = sorted_df['grossProfit'] - log_f(sorted_df['marketingInvestment'], *regr)\n",
    "                R_std = R.describe()['std']\n",
    "                \n",
    "                ing_name = [i+z, currency_code_code]\n",
    "                save_chart(sorted_df, ing_name, R_std)\n",
    "                             \n",
    "                a,b = regr\n",
    "                #print(a,b,c)\n",
    "                worksheet.write('A'+str(excel_row), z)\n",
    "                worksheet.write('B'+str(excel_row), str(np.round(sper_crr, precision)))\n",
    "                \n",
    "                worksheet.write('C'+str(excel_row), str(np.round(a, precision)))\n",
    "                worksheet.write('D'+str(excel_row), str(np.round(b, precision)))\n",
    "                #worksheet.write('E'+str(excel_row), str(np.round(c, precision)))\n",
    "                \n",
    "                \n",
    "                worksheet.write('F'+str(excel_row), str(np.round(R_std, precision)))\n",
    "                \n",
    "                worksheet.insert_image('G'+ str(excel_row), i + z + '.jpg', {'x_scale': 0.5, 'y_scale': 0.5})\n",
    "                \n",
    "                excel_row = excel_row + 10\n",
    "                print('Regression calculated successfully')\n",
    "            except:\n",
    "                print(\"Regression wasn't calculated\")\n",
    "                worksheet.write('A'+ str(excel_row), z)\n",
    "                excel_row = excel_row + 1\n",
    "\n",
    "        else:\n",
    "            pass\n",
    "\n",
    "workbook.close()"
   ]
  },
  {
   "cell_type": "code",
   "execution_count": null,
   "metadata": {
    "ExecuteTime": {
     "end_time": "2021-01-20T22:25:38.630987Z",
     "start_time": "2021-01-20T22:25:38.625987Z"
    }
   },
   "outputs": [],
   "source": []
  },
  {
   "cell_type": "code",
   "execution_count": 29,
   "metadata": {
    "ExecuteTime": {
     "end_time": "2021-01-22T22:37:53.087427Z",
     "start_time": "2021-01-22T22:37:53.081426Z"
    }
   },
   "outputs": [],
   "source": [
    "sper_corr, _ = stat.spearmanr(df_business_selected_agg['marketingInvestment'], df_business_selected_agg['grossProfit'])"
   ]
  },
  {
   "cell_type": "code",
   "execution_count": 33,
   "metadata": {
    "ExecuteTime": {
     "end_time": "2021-01-22T22:40:46.660354Z",
     "start_time": "2021-01-22T22:40:44.823249Z"
    }
   },
   "outputs": [],
   "source": [
    "df_time_selected = df[df['periodStartDate'] >= df['periodStartDate'].max() - pd.DateOffset(weeks=time_window_regr)] \n",
    "\n",
    "df_business_selected = df_time_selected[df_time_selected['businessUnit'] == 'forhomecz']\n",
    "\n",
    "df_business_selected = df_business_selected[df_business_selected['platformCode'] == 'AdWords']\n",
    "\n",
    "df_business_selected_agg = select_agg_resample_df(df_business_selected, 'periodStartDate', 'week', use_nan = False)\n",
    "\n",
    "df_business_selected_agg_filtered = filter_df(df_business_selected_agg, 0.01)\n",
    "\n",
    "sorted_df = df_business_selected_agg_filtered.sort_values( by=['marketingInvestment'], ascending=False )\n",
    "\n",
    "t_train = sorted_df['marketingInvestment']\n",
    "\n",
    "y_train = sorted_df['grossProfit']\n",
    "\n",
    "try:\n",
    "    regr, err = regression_calc(sorted_df[['marketingInvestment','grossProfit']],log_f)\n",
    "except:\n",
    "    print(\"Regression wasn't calculated\")\n",
    "\n",
    "#save_chart(sorted_df,['Hello','CZK'] )"
   ]
  },
  {
   "cell_type": "code",
   "execution_count": 37,
   "metadata": {
    "ExecuteTime": {
     "end_time": "2021-01-22T22:43:57.102247Z",
     "start_time": "2021-01-22T22:43:57.097247Z"
    }
   },
   "outputs": [],
   "source": [
    "from sklearn.svm import SVR"
   ]
  },
  {
   "cell_type": "code",
   "execution_count": 40,
   "metadata": {
    "ExecuteTime": {
     "end_time": "2021-01-24T22:01:21.645479Z",
     "start_time": "2021-01-24T22:01:21.642479Z"
    }
   },
   "outputs": [],
   "source": [
    "#model = SVR(kernel='poly')"
   ]
  },
  {
   "cell_type": "code",
   "execution_count": 41,
   "metadata": {
    "ExecuteTime": {
     "end_time": "2021-01-24T22:01:29.527930Z",
     "start_time": "2021-01-24T22:01:29.523930Z"
    }
   },
   "outputs": [],
   "source": [
    "#model.fit(t_train,y_train)"
   ]
  },
  {
   "cell_type": "code",
   "execution_count": 472,
   "metadata": {
    "ExecuteTime": {
     "end_time": "2021-01-21T14:59:42.611487Z",
     "start_time": "2021-01-21T14:59:42.601487Z"
    }
   },
   "outputs": [
    {
     "data": {
      "text/plain": [
       "array([28421.02059206,  5191.6475058 ,  1961.10326005])"
      ]
     },
     "execution_count": 472,
     "metadata": {},
     "output_type": "execute_result"
    }
   ],
   "source": [
    "regr"
   ]
  },
  {
   "cell_type": "code",
   "execution_count": 473,
   "metadata": {
    "ExecuteTime": {
     "end_time": "2021-01-21T14:59:44.516596Z",
     "start_time": "2021-01-21T14:59:44.209579Z"
    }
   },
   "outputs": [
    {
     "data": {
      "text/plain": [
       "<matplotlib.collections.PathCollection at 0x151183d0>"
      ]
     },
     "execution_count": 473,
     "metadata": {},
     "output_type": "execute_result"
    },
    {
     "data": {
      "image/png": "[encoded data removed]",
      "text/plain": [
       "<Figure size 432x288 with 1 Axes>"
      ]
     },
     "metadata": {
      "needs_background": "light"
     },
     "output_type": "display_data"
    }
   ],
   "source": [
    "plt.scatter(sorted_df['marketingInvestment'], sorted_df['grossProfit'])"
   ]
  },
  {
   "cell_type": "code",
   "execution_count": 474,
   "metadata": {
    "ExecuteTime": {
     "end_time": "2021-01-21T14:59:46.739723Z",
     "start_time": "2021-01-21T14:59:46.731723Z"
    }
   },
   "outputs": [
    {
     "data": {
      "text/plain": [
       "array([28421.02059206,  5191.6475058 ,  1961.10326005])"
      ]
     },
     "execution_count": 474,
     "metadata": {},
     "output_type": "execute_result"
    }
   ],
   "source": [
    "regr"
   ]
  },
  {
   "cell_type": "code",
   "execution_count": 475,
   "metadata": {
    "ExecuteTime": {
     "end_time": "2021-01-21T14:59:48.322814Z",
     "start_time": "2021-01-21T14:59:48.316814Z"
    }
   },
   "outputs": [],
   "source": [
    "R = sorted_df['grossProfit'] - log_f(sorted_df['marketingInvestment'], *regr)"
   ]
  },
  {
   "cell_type": "code",
   "execution_count": 476,
   "metadata": {
    "ExecuteTime": {
     "end_time": "2021-01-21T14:59:50.195921Z",
     "start_time": "2021-01-21T14:59:49.841901Z"
    }
   },
   "outputs": [
    {
     "data": {
      "text/plain": [
       "<matplotlib.collections.PathCollection at 0x13b9b8b0>"
      ]
     },
     "execution_count": 476,
     "metadata": {},
     "output_type": "execute_result"
    },
    {
     "data": {
      "image/png": "[encoded data removed]",
      "text/plain": [
       "<Figure size 432x288 with 1 Axes>"
      ]
     },
     "metadata": {
      "needs_background": "light"
     },
     "output_type": "display_data"
    }
   ],
   "source": [
    "plt.scatter(sorted_df['marketingInvestment'], R)"
   ]
  },
  {
   "cell_type": "code",
   "execution_count": 483,
   "metadata": {
    "ExecuteTime": {
     "end_time": "2021-01-21T15:09:55.824561Z",
     "start_time": "2021-01-21T15:09:55.804560Z"
    }
   },
   "outputs": [
    {
     "data": {
      "text/plain": [
       "233.5728188679163"
      ]
     },
     "execution_count": 483,
     "metadata": {},
     "output_type": "execute_result"
    }
   ],
   "source": [
    "R.describe()['std']"
   ]
  },
  {
   "cell_type": "code",
   "execution_count": 22,
   "metadata": {
    "ExecuteTime": {
     "end_time": "2021-01-25T10:10:36.065102Z",
     "start_time": "2021-01-25T10:10:35.655079Z"
    }
   },
   "outputs": [
    {
     "data": {
      "image/png": "[encoded data removed]",
      "text/plain": [
       "<Figure size 432x288 with 1 Axes>"
      ]
     },
     "metadata": {
      "needs_background": "light"
     },
     "output_type": "display_data"
    }
   ],
   "source": [
    "fig, ax = plt.subplots(figsize=(6, 4))\n",
    "fig.subplots_adjust(bottom=0.15, left=0.2)\n",
    "x = np.linspace(0,sorted_df['marketingInvestment'].max(),20)\n",
    "ax.scatter(sorted_df['marketingInvestment'], sorted_df['grossProfit'])\n",
    "ax.plot(x,log_f(x, *regr))\n",
    "ax.set_xlabel(f'Investment')\n",
    "ax.set_ylabel(f'Revenue')\n",
    "ax.set_title('Title')\n",
    "#plt.savefig( name[0] + '.jpg', dpi=150, pad_inches=0.1)  \n",
    "#plt.close()\n",
    "plt.show()"
   ]
  },
  {
   "cell_type": "code",
   "execution_count": 24,
   "metadata": {
    "ExecuteTime": {
     "end_time": "2021-01-25T10:10:57.496328Z",
     "start_time": "2021-01-25T10:10:57.484327Z"
    }
   },
   "outputs": [
    {
     "data": {
      "text/plain": [
       "26629.264751216742"
      ]
     },
     "execution_count": 24,
     "metadata": {},
     "output_type": "execute_result"
    }
   ],
   "source": [
    "sorted_df['netRevenue'].describe()[1]"
   ]
  },
  {
   "cell_type": "code",
   "execution_count": 428,
   "metadata": {
    "ExecuteTime": {
     "end_time": "2021-01-21T13:42:08.122266Z",
     "start_time": "2021-01-21T13:42:08.112265Z"
    }
   },
   "outputs": [
    {
     "data": {
      "text/plain": [
       "20450.413334746103"
      ]
     },
     "execution_count": 428,
     "metadata": {},
     "output_type": "execute_result"
    }
   ],
   "source": [
    "R.describe()[2]"
   ]
  },
  {
   "cell_type": "code",
   "execution_count": null,
   "metadata": {
    "ExecuteTime": {
     "end_time": "2021-01-20T18:00:53.060029Z",
     "start_time": "2021-01-20T17:59:41.480Z"
    }
   },
   "outputs": [],
   "source": [
    "statistics_R2 = []\n",
    "\n",
    "statistics_R2.append(np.concatenate((regr, err), axis=0))\n",
    "\n",
    "statistics_R2_df = pd.DataFrame(statistics_R2, columns = regr_name)\n",
    "\n",
    "statistics_R2_df = statistics_R2_df.set_index([pd.Index(platform_code)])"
   ]
  },
  {
   "cell_type": "code",
   "execution_count": null,
   "metadata": {},
   "outputs": [],
   "source": []
  },
  {
   "cell_type": "code",
   "execution_count": 63,
   "metadata": {
    "ExecuteTime": {
     "end_time": "2021-01-25T09:11:38.510766Z",
     "start_time": "2021-01-25T09:11:38.352757Z"
    }
   },
   "outputs": [],
   "source": [
    "df_time_selected = df[df['periodStartDate'] >= df['periodStartDate'].max() - pd.DateOffset(weeks=time_window_regr)] \n",
    "\n",
    "df_business_selected = df_time_selected[df_time_selected['businessUnit'] == 'forhomecz']\n",
    "\n",
    "df_business_selected = df_business_selected[df_business_selected['platformCode'] == 'AdWords']\n",
    "\n",
    "ad_campaign_code = df['adCampaign'].unique().tolist()\n",
    "#campaign_code.sort()\n",
    "\n",
    "#campaign_code"
   ]
  },
  {
   "cell_type": "code",
   "execution_count": null,
   "metadata": {},
   "outputs": [],
   "source": []
  },
  {
   "cell_type": "code",
   "execution_count": null,
   "metadata": {},
   "outputs": [],
   "source": []
  },
  {
   "cell_type": "code",
   "execution_count": null,
   "metadata": {},
   "outputs": [],
   "source": []
  },
  {
   "cell_type": "code",
   "execution_count": 191,
   "metadata": {
    "ExecuteTime": {
     "end_time": "2021-01-25T21:46:57.441939Z",
     "start_time": "2021-01-25T21:46:50.262528Z"
    }
   },
   "outputs": [
    {
     "data": {
      "text/html": [
       "<div>\n",
       "<style scoped>\n",
       "    .dataframe tbody tr th:only-of-type {\n",
       "        vertical-align: middle;\n",
       "    }\n",
       "\n",
       "    .dataframe tbody tr th {\n",
       "        vertical-align: top;\n",
       "    }\n",
       "\n",
       "    .dataframe thead th {\n",
       "        text-align: right;\n",
       "    }\n",
       "</style>\n",
       "<table border=\"1\" class=\"dataframe\">\n",
       "  <thead>\n",
       "    <tr style=\"text-align: right;\">\n",
       "      <th></th>\n",
       "      <th>account</th>\n",
       "      <th>businessUnit</th>\n",
       "      <th>platformCode</th>\n",
       "      <th>channelCode</th>\n",
       "      <th>adCampaign</th>\n",
       "      <th>marketingInvestment</th>\n",
       "      <th>impressions</th>\n",
       "      <th>clicks</th>\n",
       "      <th>visits</th>\n",
       "      <th>conversions</th>\n",
       "      <th>deliveries</th>\n",
       "      <th>netRevenue</th>\n",
       "      <th>grossProfit</th>\n",
       "      <th>currencyCode</th>\n",
       "      <th>adGroup</th>\n",
       "      <th>periodStartDate</th>\n",
       "    </tr>\n",
       "  </thead>\n",
       "  <tbody>\n",
       "    <tr>\n",
       "      <th>0</th>\n",
       "      <td>vodafoneczechrepublicas</td>\n",
       "      <td>vodafonecz-leady</td>\n",
       "      <td>unpaid</td>\n",
       "      <td>notset</td>\n",
       "      <td>NaN</td>\n",
       "      <td>0.0</td>\n",
       "      <td>0</td>\n",
       "      <td>0</td>\n",
       "      <td>0</td>\n",
       "      <td>0</td>\n",
       "      <td>0</td>\n",
       "      <td>0.0</td>\n",
       "      <td>0.0</td>\n",
       "      <td>CZK</td>\n",
       "      <td>-</td>\n",
       "      <td>2020-01-23</td>\n",
       "    </tr>\n",
       "    <tr>\n",
       "      <th>1</th>\n",
       "      <td>vodafoneczechrepublicas</td>\n",
       "      <td>vodafonecz-leady</td>\n",
       "      <td>unpaid</td>\n",
       "      <td>direct</td>\n",
       "      <td>NaN</td>\n",
       "      <td>0.0</td>\n",
       "      <td>0</td>\n",
       "      <td>0</td>\n",
       "      <td>0</td>\n",
       "      <td>11</td>\n",
       "      <td>11</td>\n",
       "      <td>0.0</td>\n",
       "      <td>0.0</td>\n",
       "      <td>CZK</td>\n",
       "      <td>-</td>\n",
       "      <td>2020-01-23</td>\n",
       "    </tr>\n",
       "    <tr>\n",
       "      <th>2</th>\n",
       "      <td>vodafoneczechrepublicas</td>\n",
       "      <td>vodafonecz-leady</td>\n",
       "      <td>unpaid</td>\n",
       "      <td>email</td>\n",
       "      <td>NaN</td>\n",
       "      <td>0.0</td>\n",
       "      <td>0</td>\n",
       "      <td>0</td>\n",
       "      <td>0</td>\n",
       "      <td>0</td>\n",
       "      <td>0</td>\n",
       "      <td>0.0</td>\n",
       "      <td>0.0</td>\n",
       "      <td>CZK</td>\n",
       "      <td>-</td>\n",
       "      <td>2020-01-23</td>\n",
       "    </tr>\n",
       "    <tr>\n",
       "      <th>3</th>\n",
       "      <td>vodafoneczechrepublicas</td>\n",
       "      <td>vodafonecz-leady</td>\n",
       "      <td>unpaid</td>\n",
       "      <td>internal</td>\n",
       "      <td>NaN</td>\n",
       "      <td>0.0</td>\n",
       "      <td>0</td>\n",
       "      <td>0</td>\n",
       "      <td>0</td>\n",
       "      <td>0</td>\n",
       "      <td>0</td>\n",
       "      <td>0.0</td>\n",
       "      <td>0.0</td>\n",
       "      <td>CZK</td>\n",
       "      <td>-</td>\n",
       "      <td>2020-01-23</td>\n",
       "    </tr>\n",
       "    <tr>\n",
       "      <th>4</th>\n",
       "      <td>vodafoneczechrepublicas</td>\n",
       "      <td>vodafonecz-leady</td>\n",
       "      <td>AdWords</td>\n",
       "      <td>naturalsearch-google</td>\n",
       "      <td>NaN</td>\n",
       "      <td>0.0</td>\n",
       "      <td>0</td>\n",
       "      <td>0</td>\n",
       "      <td>18864</td>\n",
       "      <td>8</td>\n",
       "      <td>8</td>\n",
       "      <td>0.0</td>\n",
       "      <td>0.0</td>\n",
       "      <td>CZK</td>\n",
       "      <td>-</td>\n",
       "      <td>2020-01-23</td>\n",
       "    </tr>\n",
       "  </tbody>\n",
       "</table>\n",
       "</div>"
      ],
      "text/plain": [
       "                   account      businessUnit platformCode  \\\n",
       "0  vodafoneczechrepublicas  vodafonecz-leady       unpaid   \n",
       "1  vodafoneczechrepublicas  vodafonecz-leady       unpaid   \n",
       "2  vodafoneczechrepublicas  vodafonecz-leady       unpaid   \n",
       "3  vodafoneczechrepublicas  vodafonecz-leady       unpaid   \n",
       "4  vodafoneczechrepublicas  vodafonecz-leady      AdWords   \n",
       "\n",
       "            channelCode adCampaign  marketingInvestment  impressions  clicks  \\\n",
       "0                notset        NaN                  0.0            0       0   \n",
       "1                direct        NaN                  0.0            0       0   \n",
       "2                 email        NaN                  0.0            0       0   \n",
       "3              internal        NaN                  0.0            0       0   \n",
       "4  naturalsearch-google        NaN                  0.0            0       0   \n",
       "\n",
       "   visits  conversions  deliveries  netRevenue  grossProfit currencyCode  \\\n",
       "0       0            0           0         0.0          0.0          CZK   \n",
       "1       0           11          11         0.0          0.0          CZK   \n",
       "2       0            0           0         0.0          0.0          CZK   \n",
       "3       0            0           0         0.0          0.0          CZK   \n",
       "4   18864            8           8         0.0          0.0          CZK   \n",
       "\n",
       "  adGroup periodStartDate  \n",
       "0       -      2020-01-23  \n",
       "1       -      2020-01-23  \n",
       "2       -      2020-01-23  \n",
       "3       -      2020-01-23  \n",
       "4       -      2020-01-23  "
      ]
     },
     "execution_count": 191,
     "metadata": {},
     "output_type": "execute_result"
    }
   ],
   "source": [
    "df = pd.read_csv('input\\\\'+ list_files[33],\n",
    "                 sep=\"\\t\",\n",
    "                 infer_datetime_format=True,\n",
    "                 usecols=usecols,\n",
    "                 dtype=dtype,\n",
    "                 parse_dates=DateTimeID)\n",
    "\n",
    "df['periodStartDate'] = pd.to_datetime(df['periodStartDate'])\n",
    "\n",
    "df.head(5)"
   ]
  },
  {
   "cell_type": "code",
   "execution_count": 192,
   "metadata": {
    "ExecuteTime": {
     "end_time": "2021-01-25T21:47:01.334162Z",
     "start_time": "2021-01-25T21:47:00.620121Z"
    }
   },
   "outputs": [],
   "source": [
    "platform_code = df['platformCode'].unique().tolist()\n",
    "platform_code.sort()\n",
    "business_unit_code = df['businessUnit'].unique().tolist()\n",
    "business_unit_code.sort()\n",
    "channel_code_code = df['channelCode'].unique().tolist()\n",
    "channel_code_code.sort()\n",
    "currency_code_code = df['currencyCode'].unique().tolist()\n",
    "currency_code_code.sort()\n",
    "account_code = df['account'].unique().tolist()\n"
   ]
  },
  {
   "cell_type": "code",
   "execution_count": null,
   "metadata": {
    "ExecuteTime": {
     "end_time": "2021-01-25T14:33:55.520779Z",
     "start_time": "2021-01-25T14:33:55.513779Z"
    }
   },
   "outputs": [],
   "source": []
  },
  {
   "cell_type": "code",
   "execution_count": 193,
   "metadata": {
    "ExecuteTime": {
     "end_time": "2021-01-25T21:59:51.262199Z",
     "start_time": "2021-01-25T21:47:04.789359Z"
    }
   },
   "outputs": [],
   "source": [
    "#select window for regression \n",
    "excel_coll = 0\n",
    "precision = 3\n",
    "\n",
    "workbook = xlsxwriter.Workbook(folder + account_code[0]+' Add campaign corr.xlsx') #folder + \n",
    "bold = workbook.add_format({'bold': True})\n",
    "\n",
    "\n",
    "df_time_selected = df[df['periodStartDate'] >= df['periodStartDate'].max() - pd.DateOffset(weeks=time_window_regr)] \n",
    "\n",
    "#df_time_selected = filter_df(df_time_selected, 0.1)\n",
    "\n",
    "worksheet = workbook.add_worksheet('Campaign')\n",
    "\n",
    "excel_row  = 2\n",
    "\n",
    "for i in business_unit_code:\n",
    "    df_selected = df_time_selected[df_time_selected['businessUnit'] == i]\n",
    "    #worksheet = workbook.add_worksheet(i)\n",
    "    worksheet.set_column('A:A', 20)\n",
    "    worksheet.set_column('B:B', 20)\n",
    "    worksheet.set_column('C:C', 30)\n",
    "    worksheet.set_column('D:D', 40)\n",
    "    worksheet.set_column('E:E', 10)\n",
    "    worksheet.set_column('F:F', 10)\n",
    "    worksheet.set_column('G:G', 15)\n",
    "    worksheet.set_column('H:H', 15)\n",
    "    worksheet.set_column('I:I', 15)\n",
    "    worksheet.set_column('J:J', 15)\n",
    "    worksheet.set_column('K:K', 40)\n",
    "\n",
    "    worksheet.write('A1', 'Client', bold)\n",
    "    worksheet.write('B1', 'Business unit', bold)\n",
    "    worksheet.write('C1', 'Platform', bold)\n",
    "    worksheet.write('D1', 'Campaign', bold)\n",
    "    worksheet.write('E1', 'Corr coeff.', bold)\n",
    "    worksheet.write('F1', 'Pr. value', bold)\n",
    "    worksheet.write('G1', 'a', bold)\n",
    "    worksheet.write('H1', 'b', bold)\n",
    "    worksheet.write('I1', 'Mean', bold)\n",
    "    worksheet.write('J1', 'R-std', bold)\n",
    "    worksheet.write('K1', 'Chart', bold)\n",
    "    \n",
    "    \n",
    "    \n",
    "    worksheet.write('A'+str(excel_row),i)\n",
    "    \n",
    "    for z in platform_code:\n",
    "        df_platform = df_selected[df_selected['platformCode'] == z]\n",
    "        \n",
    "        ad_campaign_code = df_platform['adCampaign'].unique().tolist()\n",
    "        \n",
    "        for y in ad_campaign_code:\n",
    "            \n",
    "            df_platform = df_selected[df_selected['adCampaign'] == y]\n",
    "                \n",
    "            df_business_selected_agg = select_agg_resample_df(df_platform, 'periodStartDate', 'week', use_nan = False)\n",
    "            df_business_selected_agg = filter_df(df_business_selected_agg, 0.2)\n",
    "            \n",
    "        \n",
    "            sper_crr, P_value = stat.spearmanr(df_business_selected_agg['marketingInvestment'],                       df_business_selected_agg['grossProfit'])\n",
    "            if sper_crr> 0.9:\n",
    "                print (y + ' Add campaign' + i + ' business unit '+ z + ' platform has \\t'+ str(sper_crr) + ' corr coefficient')\n",
    "\n",
    "                try:\n",
    "                    sorted_df = df_business_selected_agg.sort_values( by=['marketingInvestment'], ascending=False )\n",
    "                    t_train = sorted_df['marketingInvestment']\n",
    "                    y_train = sorted_df['grossProfit']\n",
    "                \n",
    "                    regr, err = regression_calc(sorted_df[['marketingInvestment','grossProfit']],log_f)\n",
    "                \n",
    "                    R = sorted_df['grossProfit'] - log_f(sorted_df['marketingInvestment'], *regr)\n",
    "                    R_std = R.describe()['std']\n",
    "                    \n",
    "                    Y_mean = sorted_df['grossProfit'].describe()[1]\n",
    "                    \n",
    "                    ing_name = [y + i + z, currency_code_code]\n",
    "                    save_chart(sorted_df, ing_name, R_std)\n",
    "                             \n",
    "                    a,b = regr\n",
    "                    #print(a,b,c)\n",
    "                    worksheet.write('A'+str(excel_row),account_code[0])\n",
    "                    \n",
    "                    worksheet.write('B'+str(excel_row),i)\n",
    "                    \n",
    "                    worksheet.write('C'+str(excel_row), z)\n",
    "                    \n",
    "                    worksheet.write('D'+str(excel_row), y)\n",
    "                    \n",
    "                    worksheet.write('E'+str(excel_row), str(np.round(sper_crr, precision)))\n",
    "                    \n",
    "                    worksheet.write('F'+str(excel_row), str(np.round(P_value, 7)))\n",
    "                \n",
    "                    worksheet.write('G'+str(excel_row), str(np.round(a, precision)))\n",
    "                    \n",
    "                    worksheet.write('H'+str(excel_row), str(np.round(b, precision)))                \n",
    "                \n",
    "                    worksheet.write('I'+str(excel_row), str(np.round(Y_mean, precision)))\n",
    "                    \n",
    "                    worksheet.write('J'+str(excel_row), str(np.round(R_std, precision)))\n",
    "                \n",
    "                    worksheet.insert_image('K'+ str(excel_row), y + i + z + '.jpg', {'x_scale': 0.5, 'y_scale': 0.5})\n",
    "                \n",
    "                    excel_row = excel_row + 10\n",
    "                    print('Regression calculated successfully')\n",
    "                except:\n",
    "                    print(\"Regression wasn't calculated\")\n",
    "                   # worksheet.write('A'+ str(excel_row), z)\n",
    "                   # excel_row = excel_row + 1\n",
    "\n",
    "            else:\n",
    "                pass\n",
    "\n",
    "workbook.close()"
   ]
  },
  {
   "cell_type": "code",
   "execution_count": null,
   "metadata": {},
   "outputs": [],
   "source": []
  },
  {
   "cell_type": "code",
   "execution_count": null,
   "metadata": {},
   "outputs": [],
   "source": []
  }
 ],
 "metadata": {
  "hide_input": false,
  "kernelspec": {
   "display_name": "Python 3",
   "language": "python",
   "name": "python3"
  },
  "language_info": {
   "codemirror_mode": {
    "name": "ipython",
    "version": 3
   },
   "file_extension": ".py",
   "mimetype": "text/x-python",
   "name": "python",
   "nbconvert_exporter": "python",
   "pygments_lexer": "ipython3",
   "version": "3.8.5"
  },
  "toc": {
   "base_numbering": 1,
   "nav_menu": {},
   "number_sections": true,
   "sideBar": true,
   "skip_h1_title": false,
   "title_cell": "Table of Contents",
   "title_sidebar": "Contents",
   "toc_cell": false,
   "toc_position": {},
   "toc_section_display": true,
   "toc_window_display": false
  },
  "varInspector": {
   "cols": {
    "lenName": 16,
    "lenType": 16,
    "lenVar": 40
   },
   "kernels_config": {
    "python": {
     "delete_cmd_postfix": "",
     "delete_cmd_prefix": "del ",
     "library": "var_list.py",
     "varRefreshCmd": "print(var_dic_list())"
    },
    "r": {
     "delete_cmd_postfix": ") ",
     "delete_cmd_prefix": "rm(",
     "library": "var_list.r",
     "varRefreshCmd": "cat(var_dic_list()) "
    }
   },
   "types_to_exclude": [
    "module",
    "function",
    "builtin_function_or_method",
    "instance",
    "_Feature"
   ],
   "window_display": false
  }
 },
 "nbformat": 4,
 "nbformat_minor": 4
}
