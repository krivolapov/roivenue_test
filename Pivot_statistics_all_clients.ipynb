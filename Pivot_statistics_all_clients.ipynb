{
 "cells": [
  {
   "cell_type": "code",
   "execution_count": null,
   "metadata": {},
   "outputs": [],
   "source": []
  },
  {
   "cell_type": "markdown",
   "metadata": {},
   "source": [
    "### TODO\n",
    "* Read all files into the list\n",
    "* Check it out\n",
    "* Choose files one by one\n",
    "     * get info: platform, channels, business units\n",
    "     * "
   ]
  },
  {
   "cell_type": "code",
   "execution_count": 72,
   "metadata": {
    "ExecuteTime": {
     "end_time": "2021-01-20T19:34:44.994157Z",
     "start_time": "2021-01-20T19:34:44.986157Z"
    }
   },
   "outputs": [],
   "source": [
    "import os\n",
    "import pandas as pd\n",
    "import math\n",
    "import matplotlib.pyplot as plt\n",
    "import numpy as np\n",
    "from scipy.optimize import curve_fit\n",
    "import scipy\n",
    "import scipy.stats as stat\n",
    "import xlsxwriter\n",
    "from pathlib import Path"
   ]
  },
  {
   "cell_type": "code",
   "execution_count": 2,
   "metadata": {
    "ExecuteTime": {
     "end_time": "2021-01-20T17:59:43.511051Z",
     "start_time": "2021-01-20T17:59:43.508051Z"
    }
   },
   "outputs": [],
   "source": [
    "time_window_regr = 12 # number of weeks for regression"
   ]
  },
  {
   "cell_type": "code",
   "execution_count": 259,
   "metadata": {
    "ExecuteTime": {
     "end_time": "2021-01-20T22:26:32.013041Z",
     "start_time": "2021-01-20T22:26:32.003040Z"
    }
   },
   "outputs": [
    {
     "data": {
      "text/plain": [
       "['cocochocosk.csv',\n",
       " 'eyerim.csv',\n",
       " 'fitplus.csv',\n",
       " 'hartman.csv',\n",
       " 'hptronic.csv',\n",
       " 'istepcesro.csv',\n",
       " 'ketodiet.csv',\n",
       " 'krmimkvalitne.csv',\n",
       " 'muziker.csv',\n",
       " 'nafigatecosmetics.csv',\n",
       " 'packwaysro.csv',\n",
       " 'selsey.csv',\n",
       " 'semahead.csv',\n",
       " 'skodaautodigilab.csv',\n",
       " 'superbet.csv',\n",
       " 'superzoo.csv']"
      ]
     },
     "execution_count": 259,
     "metadata": {},
     "output_type": "execute_result"
    }
   ],
   "source": [
    "list_files = os.listdir(\"./input\")\n",
    "list_files"
   ]
  },
  {
   "cell_type": "code",
   "execution_count": 83,
   "metadata": {
    "ExecuteTime": {
     "end_time": "2021-01-20T20:29:57.763993Z",
     "start_time": "2021-01-20T20:29:57.752992Z"
    }
   },
   "outputs": [],
   "source": [
    "mypath = Path().absolute()\n",
    "folder = 'output\\\\'\n",
    "img_folder = folder + 'img\\\\'"
   ]
  },
  {
   "cell_type": "code",
   "execution_count": 82,
   "metadata": {
    "ExecuteTime": {
     "end_time": "2021-01-20T19:47:35.273215Z",
     "start_time": "2021-01-20T19:47:35.260214Z"
    }
   },
   "outputs": [
    {
     "data": {
      "text/plain": [
       "'output\\\\'"
      ]
     },
     "execution_count": 82,
     "metadata": {},
     "output_type": "execute_result"
    }
   ],
   "source": [
    "folder"
   ]
  },
  {
   "cell_type": "code",
   "execution_count": 4,
   "metadata": {
    "ExecuteTime": {
     "end_time": "2021-01-20T17:59:43.534052Z",
     "start_time": "2021-01-20T17:59:43.531052Z"
    }
   },
   "outputs": [],
   "source": [
    "# execute for all files\n",
    "for i in list_files:\n",
    "    pass"
   ]
  },
  {
   "cell_type": "markdown",
   "metadata": {},
   "source": [
    "include image if regression available\n",
    "add only new lines if it need (different numbers for raw with images and blank lines "
   ]
  },
  {
   "cell_type": "code",
   "execution_count": 5,
   "metadata": {
    "ExecuteTime": {
     "end_time": "2021-01-20T17:59:43.544053Z",
     "start_time": "2021-01-20T17:59:43.537052Z"
    }
   },
   "outputs": [],
   "source": [
    "# Data type description for dataset columns\n",
    "\n",
    "DateTimeID = ['periodStartDate']\n",
    "\n",
    "usecols = [\n",
    "    \"account\",\n",
    "    \"adCampaign\", \"platformCode\",\"currencyCode\", \"channelCode\", \"marketingInvestment\",\n",
    "    \"impressions\", \"clicks\", \"visits\", \"conversions\", \"deliveries\",\n",
    "    \"netRevenue\", \"grossProfit\", \"adGroup\", \"periodStartDate\",\"businessUnit\"\n",
    "          ]\n",
    "\n",
    "dtype = {\n",
    "    'account': str,\n",
    "    'adCampaign' : str,\n",
    "    'platformCode' : str,\n",
    "    'businessUnit':str,\n",
    "    'currencyCode':str,\n",
    "    'channelCode' : str,\n",
    "    'impressions' : int,\n",
    "    'clicks' : int,\n",
    "    'visits' : int,\n",
    "    'conversions' : int,\n",
    "    'deliveries' : int,\n",
    "    'netRevenue' : float,\n",
    "    'grossProfit' : float,\n",
    "    'adGroup' : str,\n",
    "    'marketingInvestment': float\n",
    "}"
   ]
  },
  {
   "cell_type": "code",
   "execution_count": 6,
   "metadata": {
    "ExecuteTime": {
     "end_time": "2021-01-20T17:59:43.551053Z",
     "start_time": "2021-01-20T17:59:43.546053Z"
    }
   },
   "outputs": [],
   "source": [
    "# function for genetic algorithm to minimize (sum of squared error)\n",
    "def sumOfSquaredError(parameterTuple):\n",
    "    function = log_f # it's bad staff #TODO\n",
    "    warnings.filterwarnings(\"ignore\") # do not print warnings by genetic algorithm\n",
    "    val = function(t_train, *parameterTuple)\n",
    "    return np.sum((y_train - val) ** 2.0)"
   ]
  },
  {
   "cell_type": "code",
   "execution_count": 7,
   "metadata": {
    "ExecuteTime": {
     "end_time": "2021-01-20T17:59:43.562054Z",
     "start_time": "2021-01-20T17:59:43.553053Z"
    }
   },
   "outputs": [],
   "source": [
    "def select_agg_resample_df(df, index, granularity, use_nan):\n",
    "    \"\"\"Function for select and group  data in dataframe\n",
    "    input: pandas dataframe, name of index, granularity['week','month'] default as in dataframe\n",
    "    return: aggregated dataframe with extra column with indexes [ROI, CPI, CPC]\"\"\"\n",
    "    group_df = df.groupby(['periodStartDate']).agg({\n",
    "    'netRevenue': 'sum',\n",
    "    'marketingInvestment': 'sum', \n",
    "    'visits': 'sum', \n",
    "    'conversions': 'sum',\n",
    "    'deliveries': 'sum', \n",
    "    'impressions': 'sum', \n",
    "    'clicks': 'sum', \n",
    "    'grossProfit': 'sum' })   \n",
    "\n",
    "    if granularity == 'week':\n",
    "        group_agg_df = group_df.resample('W-MON').agg('sum')\n",
    "    elif granularity == 'month':\n",
    "        group_agg_df = group_df.resample('M', convention='end').agg('sum')\n",
    "    elif granularity == 'day':\n",
    "        group_agg_df = group_df\n",
    "    else:\n",
    "        raise ValueError(\"Incorrect aggregation period, shuld be 'day', 'week' or 'month'\")\n",
    "\n",
    "    if use_nan == False:\n",
    "        group_agg_df.fillna(0)\n",
    "    else:\n",
    "        pass\n",
    "    return group_agg_df"
   ]
  },
  {
   "cell_type": "code",
   "execution_count": 54,
   "metadata": {
    "ExecuteTime": {
     "end_time": "2021-01-20T19:02:13.655547Z",
     "start_time": "2021-01-20T19:02:13.645546Z"
    }
   },
   "outputs": [],
   "source": [
    "# function for search initial value for regression parameters\n",
    "from scipy.optimize import differential_evolution\n",
    "import warnings\n",
    "def generate_Initial_Parameters(t_train, y_train,function):\n",
    "    # min and max used for bounds\n",
    "    maxX = max(t_train)\n",
    "    minX = min(t_train)\n",
    "    maxY = max(y_train)\n",
    "    minY = min(y_train)\n",
    "    maxXY = max(maxX, maxY)\n",
    "\n",
    "    parameterBounds = []\n",
    "    parameterBounds.append([-maxXY, maxXY]) # seach bounds for a\n",
    "    parameterBounds.append([-maxXY, maxXY]) # seach bounds for b\n",
    "    parameterBounds.append([-maxXY, maxXY]) # seach bounds for c\n",
    "\n",
    "    # \"seed\" the numpy random number generator for repeatable results\n",
    "    result = differential_evolution(sumOfSquaredError, parameterBounds, seed=3)\n",
    "    return result.x"
   ]
  },
  {
   "cell_type": "code",
   "execution_count": 55,
   "metadata": {
    "ExecuteTime": {
     "end_time": "2021-01-20T19:02:14.993624Z",
     "start_time": "2021-01-20T19:02:14.987623Z"
    }
   },
   "outputs": [],
   "source": [
    "def regression_calc(df, function):\n",
    "    \"\"\"Calculate paramiters of regression function\n",
    "    input: pandas dataframe [x,y]\n",
    "    output: list[paramiters], list[std diviation err of paramiters]\"\"\"\n",
    "    from scipy.optimize import curve_fit\n",
    "    t_train = df[df.columns[0]]  #\n",
    "    y_train = df[df.columns[1]]\n",
    "    geneticParameters = generate_Initial_Parameters(t_train, y_train, function)\n",
    "    popt, pcov = curve_fit(function, t_train, y_train, geneticParameters)\n",
    "    #popt, pcov = curve_fit(function, t_train, y_train)\n",
    "    error  = np.sqrt(np.diag(pcov))\n",
    "    return popt, error"
   ]
  },
  {
   "cell_type": "code",
   "execution_count": 56,
   "metadata": {
    "ExecuteTime": {
     "end_time": "2021-01-20T19:02:16.248695Z",
     "start_time": "2021-01-20T19:02:16.244695Z"
    }
   },
   "outputs": [],
   "source": [
    "def filter_df(df, alpha):\n",
    "    return df.ewm(alpha=alpha, adjust=False).mean()"
   ]
  },
  {
   "cell_type": "code",
   "execution_count": 57,
   "metadata": {
    "ExecuteTime": {
     "end_time": "2021-01-20T19:02:17.497767Z",
     "start_time": "2021-01-20T19:02:17.492766Z"
    }
   },
   "outputs": [],
   "source": [
    "# regression functions definition\n",
    "def log_f(x, a, b, c):\n",
    "    return a * (1-np.exp(-x/b))+ c  #a * (1 - np.exp((x/b)))\n",
    "\n",
    "def line_f(x, a, b):\n",
    "    return a * x + b\n",
    "\n",
    "def sine_f(x, a, b):\n",
    "    return a * np.sin(b * x)"
   ]
  },
  {
   "cell_type": "code",
   "execution_count": 130,
   "metadata": {
    "ExecuteTime": {
     "end_time": "2021-01-20T20:55:01.281989Z",
     "start_time": "2021-01-20T20:55:01.273988Z"
    }
   },
   "outputs": [],
   "source": [
    "def save_chart(sorted_df, name):\n",
    "    fig, ax = plt.subplots(figsize=(6, 4))\n",
    "    fig.subplots_adjust(bottom=0.15, left=0.2)\n",
    "    x = np.linspace(0,sorted_df['marketingInvestment'].max(),20)\n",
    "    ax.scatter(sorted_df['marketingInvestment'], sorted_df['netRevenue'])\n",
    "    ax.plot(x,log_f(x, *regr))\n",
    "    ax.set_xlabel(f'Investment {name[1]}')\n",
    "    ax.set_ylabel(f'Revenue {name[1]}')\n",
    "    ax.set_title(name[0])\n",
    "    plt.savefig( name[0] + '.jpg', dpi=150, pad_inches=0.1)  \n",
    "    plt.close()\n",
    "    #plt.show()\n"
   ]
  },
  {
   "cell_type": "code",
   "execution_count": 359,
   "metadata": {
    "ExecuteTime": {
     "end_time": "2021-01-20T22:45:38.742630Z",
     "start_time": "2021-01-20T22:45:33.983358Z"
    }
   },
   "outputs": [],
   "source": [
    "df = pd.read_csv('input\\\\'+ list_files[15],\n",
    "                 sep=\"\\t\",\n",
    "                 infer_datetime_format=True,\n",
    "                 usecols=usecols,\n",
    "                 dtype=dtype,\n",
    "                 parse_dates=DateTimeID)\n",
    "\n",
    "df['periodStartDate'] = pd.to_datetime(df['periodStartDate'])\n",
    "\n",
    "#df.head(5)"
   ]
  },
  {
   "cell_type": "code",
   "execution_count": 360,
   "metadata": {
    "ExecuteTime": {
     "end_time": "2021-01-20T22:45:40.139710Z",
     "start_time": "2021-01-20T22:45:40.134710Z"
    }
   },
   "outputs": [
    {
     "data": {
      "text/plain": [
       "(1030712, 16)"
      ]
     },
     "execution_count": 360,
     "metadata": {},
     "output_type": "execute_result"
    }
   ],
   "source": [
    "df.shape"
   ]
  },
  {
   "cell_type": "code",
   "execution_count": 361,
   "metadata": {
    "ExecuteTime": {
     "end_time": "2021-01-20T22:45:41.519789Z",
     "start_time": "2021-01-20T22:45:41.516789Z"
    }
   },
   "outputs": [],
   "source": [
    "#list_files[6]"
   ]
  },
  {
   "cell_type": "code",
   "execution_count": 362,
   "metadata": {
    "ExecuteTime": {
     "end_time": "2021-01-20T22:45:43.416897Z",
     "start_time": "2021-01-20T22:45:42.876866Z"
    }
   },
   "outputs": [],
   "source": [
    "platform_code = df['platformCode'].unique().tolist()\n",
    "platform_code.sort()\n",
    "business_unit_code = df['businessUnit'].unique().tolist()\n",
    "business_unit_code.sort()\n",
    "channel_code_code = df['channelCode'].unique().tolist()\n",
    "channel_code_code.sort()\n",
    "currency_code_code = df['currencyCode'].unique().tolist()\n",
    "currency_code_code.sort()\n",
    "account_code = df['account'].unique().tolist()\n"
   ]
  },
  {
   "cell_type": "code",
   "execution_count": 363,
   "metadata": {
    "ExecuteTime": {
     "end_time": "2021-01-20T22:45:44.803977Z",
     "start_time": "2021-01-20T22:45:44.797976Z"
    }
   },
   "outputs": [
    {
     "data": {
      "text/plain": [
       "['superzoo']"
      ]
     },
     "execution_count": 363,
     "metadata": {},
     "output_type": "execute_result"
    }
   ],
   "source": [
    "account_code"
   ]
  },
  {
   "cell_type": "code",
   "execution_count": 364,
   "metadata": {
    "ExecuteTime": {
     "end_time": "2021-01-20T22:46:02.557992Z",
     "start_time": "2021-01-20T22:45:46.649082Z"
    }
   },
   "outputs": [
    {
     "name": "stdout",
     "output_type": "stream",
     "text": [
      "ontariocz business unit AdWords platform has \t0.8626373626373626 correlation coefficient\n",
      "Regression calculated successfully\n",
      "superzoocz business unit CjAffiliate platform has \t0.9725274725274725 correlation coefficient\n",
      "Regression calculated successfully\n",
      "superzoocz business unit HeurekaCz platform has \t0.7912087912087913 correlation coefficient\n",
      "Regression calculated successfully\n",
      "superzoosk business unit AdWords platform has \t0.8571428571428571 correlation coefficient\n",
      "Regression calculated successfully\n"
     ]
    }
   ],
   "source": [
    "#select window for regression \n",
    "excel_coll = 0\n",
    "precision = 3\n",
    "\n",
    "workbook = xlsxwriter.Workbook(folder + account_code[0]+'_corr.xlsx')\n",
    "bold = workbook.add_format({'bold': True})\n",
    "\n",
    "\n",
    "df_time_selected = df[df['periodStartDate'] >= df['periodStartDate'].max() - pd.DateOffset(weeks=time_window_regr)] \n",
    "\n",
    "#df_time_selected = filter_df(df_time_selected, 0.1)\n",
    "\n",
    "for i in business_unit_code:\n",
    "    df_selected = df_time_selected[df_time_selected['businessUnit'] == i]\n",
    "    worksheet = workbook.add_worksheet(i)\n",
    "    \n",
    "    worksheet.set_column('A:A', 30)\n",
    "    worksheet.set_column('B:B', 15)\n",
    "    worksheet.set_column('C:C', 15)\n",
    "    worksheet.set_column('D:D', 15)\n",
    "    worksheet.set_column('E:E', 15)\n",
    "    worksheet.set_column('F:F', 15)\n",
    "    worksheet.set_column('G:G', 40)\n",
    "\n",
    "    worksheet.write('A1', 'Name', bold)\n",
    "    worksheet.write('B1', 'Spearman corr', bold)\n",
    "    worksheet.write('C1', 'a', bold)\n",
    "    worksheet.write('D1', 'b', bold)\n",
    "    worksheet.write('E1', 'c', bold)\n",
    "    worksheet.write('F1', 'none', bold)\n",
    "    worksheet.write('G1', 'Chart', bold)\n",
    "    \n",
    "    excel_row  = 2\n",
    "    \n",
    "    for z in platform_code:\n",
    "        df_platform = df_selected[df_selected['platformCode'] == z]\n",
    "        df_business_selected_agg = select_agg_resample_df(df_platform, 'periodStartDate', 'week', use_nan = False)\n",
    "        sper_crr, _=stat.spearmanr(df_business_selected_agg['marketingInvestment'], df_business_selected_agg['netRevenue'])\n",
    "        if sper_crr> 0.75:\n",
    "            print (i + ' business unit '+ z + ' platform has \\t'+ str(sper_crr) + ' correlation coefficient')\n",
    "\n",
    "            try:\n",
    "                sorted_df = df_business_selected_agg.sort_values( by=['marketingInvestment'], ascending=False )\n",
    "                t_train = sorted_df['marketingInvestment']\n",
    "                y_train = sorted_df['netRevenue']\n",
    "                \n",
    "                regr, err = regression_calc(sorted_df[['marketingInvestment','netRevenue']],log_f)\n",
    "                ing_name = [i+z, currency_code_code]\n",
    "                save_chart(sorted_df, ing_name)\n",
    "                \n",
    "                a,b,c = regr\n",
    "                #print(a,b,c)\n",
    "                worksheet.write('A'+str(excel_row), z)\n",
    "                worksheet.write('B'+str(excel_row), str(np.round(sper_crr, precision)))\n",
    "                \n",
    "                worksheet.write('C'+str(excel_row), str(np.round(a, precision)))\n",
    "                worksheet.write('D'+str(excel_row), str(np.round(b, precision)))\n",
    "                worksheet.write('E'+str(excel_row), str(np.round(c, precision)))\n",
    "                worksheet.insert_image('G'+ str(excel_row), i + z + '.jpg', {'x_scale': 0.5, 'y_scale': 0.5})\n",
    "                \n",
    "                excel_row = excel_row + 10\n",
    "                print('Regression calculated successfully')\n",
    "            except:\n",
    "                print(\"Regression wasn't calculated\")\n",
    "                worksheet.write('A'+ str(excel_row), z)\n",
    "                excel_row = excel_row + 1\n",
    "\n",
    "        else:\n",
    "            pass\n",
    "\n",
    "workbook.close()"
   ]
  },
  {
   "cell_type": "code",
   "execution_count": 365,
   "metadata": {
    "ExecuteTime": {
     "end_time": "2021-01-20T22:46:03.888068Z",
     "start_time": "2021-01-20T22:46:03.884068Z"
    }
   },
   "outputs": [],
   "source": [
    "#df_business_selected_agg['netRevenue'].plot()"
   ]
  },
  {
   "cell_type": "code",
   "execution_count": 258,
   "metadata": {
    "ExecuteTime": {
     "end_time": "2021-01-20T22:25:38.630987Z",
     "start_time": "2021-01-20T22:25:38.625987Z"
    }
   },
   "outputs": [],
   "source": [
    "#df_business_selected_agg['marketingInvestment'].plot()"
   ]
  },
  {
   "cell_type": "code",
   "execution_count": 254,
   "metadata": {
    "ExecuteTime": {
     "end_time": "2021-01-20T22:25:29.929490Z",
     "start_time": "2021-01-20T22:25:29.922489Z"
    }
   },
   "outputs": [],
   "source": [
    "df_business_selected_agg_filtered = filter_df(df_business_selected_agg, 0.1)\n",
    "#df_business_selected_agg_filtered['marketingInvestment'].plot()"
   ]
  },
  {
   "cell_type": "code",
   "execution_count": 255,
   "metadata": {
    "ExecuteTime": {
     "end_time": "2021-01-20T22:25:31.307569Z",
     "start_time": "2021-01-20T22:25:31.303568Z"
    }
   },
   "outputs": [],
   "source": [
    "\n",
    "spermn_corr = stat.spearmanr(df_business_selected_agg['marketingInvestment'], df_business_selected_agg['netRevenue'])"
   ]
  },
  {
   "cell_type": "code",
   "execution_count": 22,
   "metadata": {
    "ExecuteTime": {
     "end_time": "2021-01-20T18:00:46.935679Z",
     "start_time": "2021-01-20T18:00:46.702665Z"
    }
   },
   "outputs": [
    {
     "data": {
      "text/plain": [
       "SpearmanrResult(correlation=nan, pvalue=nan)"
      ]
     },
     "execution_count": 22,
     "metadata": {},
     "output_type": "execute_result"
    }
   ],
   "source": [
    "spermn_corr"
   ]
  },
  {
   "cell_type": "code",
   "execution_count": 23,
   "metadata": {
    "ExecuteTime": {
     "end_time": "2021-01-20T18:00:47.132690Z",
     "start_time": "2021-01-20T18:00:46.949679Z"
    }
   },
   "outputs": [
    {
     "data": {
      "text/plain": [
       "nan"
      ]
     },
     "execution_count": 23,
     "metadata": {},
     "output_type": "execute_result"
    }
   ],
   "source": [
    "sper_corr, _ = spermn_corr\n",
    "sper_corr"
   ]
  },
  {
   "cell_type": "code",
   "execution_count": 27,
   "metadata": {
    "ExecuteTime": {
     "end_time": "2021-01-20T18:02:49.884711Z",
     "start_time": "2021-01-20T18:02:45.233445Z"
    }
   },
   "outputs": [],
   "source": [
    "df_business_selected = df[df['businessUnit'] == 'kytarycz']\n",
    "df_business_selected = df_business_selected[df_business_selected['platformCode'] == 'AdWords']\n",
    "\n",
    "df_business_selected_agg = select_agg_resample_df(df_business_selected, 'periodStartDate', 'week', use_nan = False)\n",
    "\n",
    "sorted_df = df_business_selected_agg.sort_values( by=['marketingInvestment'], ascending=False )\n",
    "t_train = sorted_df['marketingInvestment']\n",
    "y_train = sorted_df['netRevenue']\n",
    "\n",
    "try:\n",
    "    regr, err = regression_calc(sorted_df[['marketingInvestment','netRevenue']],log_f)\n",
    "except:\n",
    "    print(\"Regression wasn't calculated\")\n",
    "\n",
    "save_chart(sorted_df,['Hello','CZK'] )"
   ]
  },
  {
   "cell_type": "code",
   "execution_count": 28,
   "metadata": {
    "ExecuteTime": {
     "end_time": "2021-01-20T18:06:43.772089Z",
     "start_time": "2021-01-20T18:06:43.763088Z"
    }
   },
   "outputs": [
    {
     "data": {
      "text/plain": [
       "array([-550539.41360935, -112226.06432739,  205807.23840565])"
      ]
     },
     "execution_count": 28,
     "metadata": {},
     "output_type": "execute_result"
    }
   ],
   "source": [
    "regr"
   ]
  },
  {
   "cell_type": "code",
   "execution_count": 26,
   "metadata": {
    "ExecuteTime": {
     "end_time": "2021-01-20T18:02:42.446286Z",
     "start_time": "2021-01-20T18:02:42.435285Z"
    }
   },
   "outputs": [],
   "source": []
  },
  {
   "cell_type": "code",
   "execution_count": null,
   "metadata": {
    "ExecuteTime": {
     "end_time": "2021-01-20T18:00:53.051028Z",
     "start_time": "2021-01-20T17:59:41.447Z"
    }
   },
   "outputs": [],
   "source": [
    "R = sorted_df['netRevenue'] - log_f(sorted_df['marketingInvestment'], *popt)"
   ]
  },
  {
   "cell_type": "code",
   "execution_count": null,
   "metadata": {
    "ExecuteTime": {
     "end_time": "2021-01-20T18:00:53.053029Z",
     "start_time": "2021-01-20T17:59:41.453Z"
    }
   },
   "outputs": [],
   "source": [
    "plt.scatter(sorted_df['marketingInvestment'], R)"
   ]
  },
  {
   "cell_type": "code",
   "execution_count": null,
   "metadata": {
    "ExecuteTime": {
     "end_time": "2021-01-20T18:00:53.054029Z",
     "start_time": "2021-01-20T17:59:41.461Z"
    }
   },
   "outputs": [],
   "source": []
  },
  {
   "cell_type": "code",
   "execution_count": null,
   "metadata": {
    "ExecuteTime": {
     "end_time": "2021-01-20T18:00:53.056029Z",
     "start_time": "2021-01-20T17:59:41.467Z"
    }
   },
   "outputs": [],
   "source": [
    "sorted_df['netRevenue'].describe()[2]"
   ]
  },
  {
   "cell_type": "code",
   "execution_count": null,
   "metadata": {
    "ExecuteTime": {
     "end_time": "2021-01-20T18:00:53.058029Z",
     "start_time": "2021-01-20T17:59:41.474Z"
    }
   },
   "outputs": [],
   "source": [
    "R.describe()[2]"
   ]
  },
  {
   "cell_type": "code",
   "execution_count": null,
   "metadata": {
    "ExecuteTime": {
     "end_time": "2021-01-20T18:00:53.060029Z",
     "start_time": "2021-01-20T17:59:41.480Z"
    }
   },
   "outputs": [],
   "source": [
    "statistics_R2 = []\n",
    "\n",
    "statistics_R2.append(np.concatenate((regr, err), axis=0))\n",
    "\n",
    "\n",
    "\n",
    "statistics_R2_df = pd.DataFrame(statistics_R2, columns = regr_name)\n",
    "statistics_R2_df = statistics_R2_df.set_index([pd.Index(platform_code)])"
   ]
  },
  {
   "cell_type": "code",
   "execution_count": null,
   "metadata": {
    "ExecuteTime": {
     "end_time": "2021-01-20T18:00:53.062029Z",
     "start_time": "2021-01-20T17:59:41.486Z"
    }
   },
   "outputs": [],
   "source": [
    "#log_f(sorted_df['marketingInvestment'], *popt)"
   ]
  },
  {
   "cell_type": "code",
   "execution_count": null,
   "metadata": {
    "ExecuteTime": {
     "end_time": "2021-01-20T16:54:35.472524Z",
     "start_time": "2021-01-20T16:54:35.465524Z"
    }
   },
   "outputs": [],
   "source": []
  },
  {
   "cell_type": "code",
   "execution_count": null,
   "metadata": {},
   "outputs": [],
   "source": []
  }
 ],
 "metadata": {
  "hide_input": false,
  "kernelspec": {
   "display_name": "Python 3",
   "language": "python",
   "name": "python3"
  },
  "language_info": {
   "codemirror_mode": {
    "name": "ipython",
    "version": 3
   },
   "file_extension": ".py",
   "mimetype": "text/x-python",
   "name": "python",
   "nbconvert_exporter": "python",
   "pygments_lexer": "ipython3",
   "version": "3.8.5"
  },
  "toc": {
   "base_numbering": 1,
   "nav_menu": {},
   "number_sections": true,
   "sideBar": true,
   "skip_h1_title": false,
   "title_cell": "Table of Contents",
   "title_sidebar": "Contents",
   "toc_cell": false,
   "toc_position": {},
   "toc_section_display": true,
   "toc_window_display": false
  },
  "varInspector": {
   "cols": {
    "lenName": 16,
    "lenType": 16,
    "lenVar": 40
   },
   "kernels_config": {
    "python": {
     "delete_cmd_postfix": "",
     "delete_cmd_prefix": "del ",
     "library": "var_list.py",
     "varRefreshCmd": "print(var_dic_list())"
    },
    "r": {
     "delete_cmd_postfix": ") ",
     "delete_cmd_prefix": "rm(",
     "library": "var_list.r",
     "varRefreshCmd": "cat(var_dic_list()) "
    }
   },
   "types_to_exclude": [
    "module",
    "function",
    "builtin_function_or_method",
    "instance",
    "_Feature"
   ],
   "window_display": false
  }
 },
 "nbformat": 4,
 "nbformat_minor": 4
}
