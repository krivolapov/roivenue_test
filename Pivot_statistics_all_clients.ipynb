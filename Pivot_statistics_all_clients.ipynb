{
 "cells": [
  {
   "cell_type": "code",
   "execution_count": null,
   "metadata": {},
   "outputs": [],
   "source": []
  },
  {
   "cell_type": "markdown",
   "metadata": {},
   "source": [
    "### TODO\n",
    "* Read all files into the list\n",
    "* Check it out\n",
    "* Choose files one by one\n",
    "     * get info: platform, channels, business units\n",
    "     * "
   ]
  },
  {
   "cell_type": "code",
   "execution_count": 1,
   "metadata": {
    "ExecuteTime": {
     "end_time": "2021-02-09T21:26:27.698558Z",
     "start_time": "2021-02-09T21:26:25.939457Z"
    }
   },
   "outputs": [],
   "source": [
    "import os\n",
    "import pandas as pd\n",
    "import math\n",
    "import matplotlib.pyplot as plt\n",
    "import numpy as np\n",
    "from scipy.optimize import curve_fit\n",
    "import scipy\n",
    "import scipy.stats as stat\n",
    "import xlsxwriter\n",
    "from pathlib import Path"
   ]
  },
  {
   "cell_type": "code",
   "execution_count": 2,
   "metadata": {
    "ExecuteTime": {
     "end_time": "2021-02-09T21:26:27.725559Z",
     "start_time": "2021-02-09T21:26:27.722559Z"
    }
   },
   "outputs": [],
   "source": [
    "time_window_regr = 12 # number of weeks for regression"
   ]
  },
  {
   "cell_type": "code",
   "execution_count": 3,
   "metadata": {
    "ExecuteTime": {
     "end_time": "2021-02-09T21:26:27.762561Z",
     "start_time": "2021-02-09T21:26:27.756561Z"
    }
   },
   "outputs": [],
   "source": [
    "list_files = os.listdir(\"./input\")\n",
    "mypath = Path().absolute()\n",
    "folder = 'output\\\\'\n",
    "img_folder = folder + 'img\\\\'"
   ]
  },
  {
   "cell_type": "code",
   "execution_count": 4,
   "metadata": {
    "ExecuteTime": {
     "end_time": "2021-02-09T21:26:27.794563Z",
     "start_time": "2021-02-09T21:26:27.790563Z"
    }
   },
   "outputs": [],
   "source": [
    "# execute for all files\n",
    "for i in list_files:\n",
    "    pass"
   ]
  },
  {
   "cell_type": "markdown",
   "metadata": {},
   "source": [
    "include image if regression available\n",
    "add only new lines if it need (different numbers for raw with images and blank lines "
   ]
  },
  {
   "cell_type": "code",
   "execution_count": 5,
   "metadata": {
    "ExecuteTime": {
     "end_time": "2021-02-09T21:26:28.822622Z",
     "start_time": "2021-02-09T21:26:28.814622Z"
    }
   },
   "outputs": [],
   "source": [
    "# Data type description for dataset columns\n",
    "DateTimeID = ['periodStartDate']\n",
    "\n",
    "usecols = [\n",
    "    \"account\",\n",
    "    \"adCampaign\", \"platformCode\",\"currencyCode\", \"channelCode\", \"marketingInvestment\",\n",
    "    \"impressions\", \"clicks\", \"visits\", \"conversions\", \"deliveries\",\n",
    "    \"netRevenue\", \"grossProfit\", \"adGroup\", \"periodStartDate\",\"businessUnit\"\n",
    "          ]\n",
    "\n",
    "dtype = {\n",
    "    'account': str,\n",
    "    'adCampaign' : str,\n",
    "    'platformCode' : str,\n",
    "    'businessUnit':str,\n",
    "    'currencyCode':str,\n",
    "    'channelCode' : str,\n",
    "    'impressions' : int,\n",
    "    'clicks' : int,\n",
    "    'visits' : int,\n",
    "    'conversions' : int,\n",
    "    'deliveries' : int,\n",
    "    'netRevenue' : float,\n",
    "    'grossProfit' : float,\n",
    "    'adGroup' : str,\n",
    "    'marketingInvestment': float\n",
    "}"
   ]
  },
  {
   "cell_type": "code",
   "execution_count": 6,
   "metadata": {
    "ExecuteTime": {
     "end_time": "2021-02-09T21:26:29.414656Z",
     "start_time": "2021-02-09T21:26:29.409656Z"
    }
   },
   "outputs": [],
   "source": [
    "# function for genetic algorithm to minimize (sum of squared error)\n",
    "def sumOfSquaredError(parameterTuple):\n",
    "    function = log_f # it's bad staff #TODO\n",
    "    warnings.filterwarnings(\"ignore\") # do not print warnings by genetic algorithm\n",
    "    val = function(t_train, *parameterTuple)\n",
    "    return np.sum((y_train - val) ** 2.0)"
   ]
  },
  {
   "cell_type": "code",
   "execution_count": 7,
   "metadata": {
    "ExecuteTime": {
     "end_time": "2021-02-09T21:26:29.953687Z",
     "start_time": "2021-02-09T21:26:29.945686Z"
    }
   },
   "outputs": [],
   "source": [
    "def select_agg_resample_df(df, index, granularity, use_nan):\n",
    "    \"\"\"Function for select and group  data in dataframe\n",
    "    input: pandas dataframe, name of index, granularity['week','month'] default as in dataframe\n",
    "    return: aggregated dataframe with extra column with indexes [ROI, CPI, CPC]\"\"\"\n",
    "    group_df = df.groupby(['periodStartDate']).agg({\n",
    "    'netRevenue': 'sum',\n",
    "    'marketingInvestment': 'sum', \n",
    "    'visits': 'sum', \n",
    "    'conversions': 'sum',\n",
    "    'deliveries': 'sum', \n",
    "    'impressions': 'sum', \n",
    "    'clicks': 'sum', \n",
    "    'grossProfit': 'sum' })   \n",
    "\n",
    "    if granularity == 'week':\n",
    "        group_agg_df = group_df.resample('W-MON').agg('sum')\n",
    "    elif granularity == 'month':\n",
    "        group_agg_df = group_df.resample('M', convention='end').agg('sum')\n",
    "    elif granularity == 'day':\n",
    "        group_agg_df = group_df\n",
    "    else:\n",
    "        raise ValueError(\"Incorrect aggregation period, shuld be 'day', 'week' or 'month'\")\n",
    "\n",
    "    if use_nan == False:\n",
    "        group_agg_df.fillna(0)\n",
    "    else:\n",
    "        pass\n",
    "    return group_agg_df"
   ]
  },
  {
   "cell_type": "code",
   "execution_count": 8,
   "metadata": {
    "ExecuteTime": {
     "end_time": "2021-02-09T21:26:30.510719Z",
     "start_time": "2021-02-09T21:26:30.503718Z"
    }
   },
   "outputs": [],
   "source": [
    "# function for search initial value for regression parameters\n",
    "from scipy.optimize import differential_evolution\n",
    "import warnings\n",
    "def generate_Initial_Parameters(t_train, y_train,function):\n",
    "    # min and max used for bounds\n",
    "    maxX = max(t_train)\n",
    "    minX = min(t_train)\n",
    "    maxY = max(y_train)\n",
    "    minY = min(y_train)\n",
    "    maxXY = max(maxX, maxY)\n",
    "\n",
    "    parameterBounds = []\n",
    "    parameterBounds.append([-maxXY, maxXY]) # seach bounds for a\n",
    "    parameterBounds.append([-maxXY, maxXY]) # seach bounds for b\n",
    "    #parameterBounds.append([-maxXY, maxXY]) # seach bounds for c\n",
    "\n",
    "    # \"seed\" the numpy random number generator for repeatable results\n",
    "    result = differential_evolution(sumOfSquaredError, parameterBounds, seed=3)\n",
    "    return result.x"
   ]
  },
  {
   "cell_type": "code",
   "execution_count": 9,
   "metadata": {
    "ExecuteTime": {
     "end_time": "2021-02-09T21:26:31.069751Z",
     "start_time": "2021-02-09T21:26:31.063750Z"
    }
   },
   "outputs": [],
   "source": [
    "def regression_calc(df, function):\n",
    "    \"\"\"Calculate paramiters of regression function\n",
    "    input: pandas dataframe [x,y]\n",
    "    output: list[paramiters], list[std diviation err of paramiters]\"\"\"\n",
    "    from scipy.optimize import curve_fit\n",
    "    t_train = df[df.columns[0]]  #\n",
    "    y_train = df[df.columns[1]]\n",
    "    geneticParameters = generate_Initial_Parameters(t_train, y_train, log_f)\n",
    "    popt, pcov = curve_fit(log_f, t_train, y_train, geneticParameters)\n",
    "    #popt, pcov = curve_fit(function, t_train, y_train)\n",
    "    error  = np.sqrt(np.diag(pcov))\n",
    "    return popt, error"
   ]
  },
  {
   "cell_type": "code",
   "execution_count": 10,
   "metadata": {
    "ExecuteTime": {
     "end_time": "2021-02-09T21:26:31.631783Z",
     "start_time": "2021-02-09T21:26:31.627782Z"
    }
   },
   "outputs": [],
   "source": [
    "def filter_df(df, alpha):\n",
    "    return df.ewm(alpha=alpha, adjust=False).mean()"
   ]
  },
  {
   "cell_type": "code",
   "execution_count": 35,
   "metadata": {
    "ExecuteTime": {
     "end_time": "2021-02-09T22:12:58.677193Z",
     "start_time": "2021-02-09T22:12:58.672192Z"
    }
   },
   "outputs": [],
   "source": [
    "# regression functions definition\n",
    "def log_f(x, a, b):\n",
    "    return a * (1-np.exp(-x/b)) #a * (1 - np.exp((x/b)))\n",
    "\n",
    "def line_f(x, a, b):\n",
    "    return a * x + b\n",
    "\n",
    "def sine_f(x, a, b):\n",
    "    return a * np.sin(b * x)"
   ]
  },
  {
   "cell_type": "code",
   "execution_count": 12,
   "metadata": {
    "ExecuteTime": {
     "end_time": "2021-02-09T21:26:32.897855Z",
     "start_time": "2021-02-09T21:26:32.881854Z"
    }
   },
   "outputs": [],
   "source": [
    "def save_chart(sorted_df, name, R_std):\n",
    "    fig, ax = plt.subplots(figsize=(6, 4))\n",
    "    fig.subplots_adjust(bottom=0.15, left=0.2)\n",
    "    x = np.linspace(0,sorted_df['marketingInvestment'].max(),20)\n",
    "    ax.scatter(sorted_df['marketingInvestment'], sorted_df['grossProfit'])\n",
    "    ax.plot(x,log_f(x, *regr)- 2*R_std)\n",
    "    ax.plot(x,log_f(x, *regr)+ 2*R_std)\n",
    "    ax.plot(x,log_f(x, *regr))\n",
    "    ax.set_xlabel(f'Investment {name[1]}')\n",
    "    ax.set_ylabel(f'Profit {name[1]}')\n",
    "    ax.set_title(name[0])\n",
    "    plt.savefig( name[0] + '.jpg', dpi=150, pad_inches=0.1)  \n",
    "    plt.close()\n",
    "    #plt.show()\n"
   ]
  },
  {
   "cell_type": "code",
   "execution_count": 13,
   "metadata": {
    "ExecuteTime": {
     "end_time": "2021-02-09T21:26:33.878911Z",
     "start_time": "2021-02-09T21:26:33.858910Z"
    }
   },
   "outputs": [
    {
     "data": {
      "text/plain": [
       "'audiopartner.csv'"
      ]
     },
     "execution_count": 13,
     "metadata": {},
     "output_type": "execute_result"
    }
   ],
   "source": [
    "list_files[4]"
   ]
  },
  {
   "cell_type": "code",
   "execution_count": 14,
   "metadata": {
    "ExecuteTime": {
     "end_time": "2021-02-09T21:18:32.457375Z",
     "start_time": "2021-02-09T21:18:29.622213Z"
    },
    "code_folding": []
   },
   "outputs": [
    {
     "data": {
      "text/html": [
       "<div>\n",
       "<style scoped>\n",
       "    .dataframe tbody tr th:only-of-type {\n",
       "        vertical-align: middle;\n",
       "    }\n",
       "\n",
       "    .dataframe tbody tr th {\n",
       "        vertical-align: top;\n",
       "    }\n",
       "\n",
       "    .dataframe thead th {\n",
       "        text-align: right;\n",
       "    }\n",
       "</style>\n",
       "<table border=\"1\" class=\"dataframe\">\n",
       "  <thead>\n",
       "    <tr style=\"text-align: right;\">\n",
       "      <th></th>\n",
       "      <th>account</th>\n",
       "      <th>businessUnit</th>\n",
       "      <th>platformCode</th>\n",
       "      <th>channelCode</th>\n",
       "      <th>adCampaign</th>\n",
       "      <th>marketingInvestment</th>\n",
       "      <th>impressions</th>\n",
       "      <th>clicks</th>\n",
       "      <th>visits</th>\n",
       "      <th>conversions</th>\n",
       "      <th>deliveries</th>\n",
       "      <th>netRevenue</th>\n",
       "      <th>grossProfit</th>\n",
       "      <th>currencyCode</th>\n",
       "      <th>adGroup</th>\n",
       "      <th>periodStartDate</th>\n",
       "    </tr>\n",
       "  </thead>\n",
       "  <tbody>\n",
       "    <tr>\n",
       "      <th>0</th>\n",
       "      <td>audiopartner</td>\n",
       "      <td>kytaryro</td>\n",
       "      <td>Compari</td>\n",
       "      <td>compari</td>\n",
       "      <td>NaN</td>\n",
       "      <td>0.00</td>\n",
       "      <td>0</td>\n",
       "      <td>0</td>\n",
       "      <td>63</td>\n",
       "      <td>2</td>\n",
       "      <td>1</td>\n",
       "      <td>20417.11</td>\n",
       "      <td>-1144.32</td>\n",
       "      <td>CZK</td>\n",
       "      <td>(not set)</td>\n",
       "      <td>2020-01-21</td>\n",
       "    </tr>\n",
       "    <tr>\n",
       "      <th>1</th>\n",
       "      <td>audiopartner</td>\n",
       "      <td>kytaryro</td>\n",
       "      <td>unpaid</td>\n",
       "      <td>direct</td>\n",
       "      <td>NaN</td>\n",
       "      <td>0.00</td>\n",
       "      <td>0</td>\n",
       "      <td>0</td>\n",
       "      <td>0</td>\n",
       "      <td>10</td>\n",
       "      <td>9</td>\n",
       "      <td>58887.13</td>\n",
       "      <td>14298.72</td>\n",
       "      <td>CZK</td>\n",
       "      <td>(not set)</td>\n",
       "      <td>2020-01-21</td>\n",
       "    </tr>\n",
       "    <tr>\n",
       "      <th>2</th>\n",
       "      <td>audiopartner</td>\n",
       "      <td>kytaryro</td>\n",
       "      <td>AdWords</td>\n",
       "      <td>googleadsdsother</td>\n",
       "      <td>NaN</td>\n",
       "      <td>0.00</td>\n",
       "      <td>0</td>\n",
       "      <td>0</td>\n",
       "      <td>2</td>\n",
       "      <td>0</td>\n",
       "      <td>0</td>\n",
       "      <td>0.00</td>\n",
       "      <td>0.00</td>\n",
       "      <td>CZK</td>\n",
       "      <td>(not set)</td>\n",
       "      <td>2020-01-21</td>\n",
       "    </tr>\n",
       "    <tr>\n",
       "      <th>3</th>\n",
       "      <td>audiopartner</td>\n",
       "      <td>kytaryro</td>\n",
       "      <td>unpaid</td>\n",
       "      <td>organic</td>\n",
       "      <td>NaN</td>\n",
       "      <td>0.00</td>\n",
       "      <td>0</td>\n",
       "      <td>0</td>\n",
       "      <td>0</td>\n",
       "      <td>5</td>\n",
       "      <td>5</td>\n",
       "      <td>5961.50</td>\n",
       "      <td>735.00</td>\n",
       "      <td>CZK</td>\n",
       "      <td>(not set)</td>\n",
       "      <td>2020-01-21</td>\n",
       "    </tr>\n",
       "    <tr>\n",
       "      <th>4</th>\n",
       "      <td>audiopartner</td>\n",
       "      <td>kytaryro</td>\n",
       "      <td>Compari</td>\n",
       "      <td>compari</td>\n",
       "      <td>-</td>\n",
       "      <td>198.18</td>\n",
       "      <td>0</td>\n",
       "      <td>106</td>\n",
       "      <td>0</td>\n",
       "      <td>0</td>\n",
       "      <td>0</td>\n",
       "      <td>0.00</td>\n",
       "      <td>0.00</td>\n",
       "      <td>CZK</td>\n",
       "      <td>NaN</td>\n",
       "      <td>2020-01-21</td>\n",
       "    </tr>\n",
       "  </tbody>\n",
       "</table>\n",
       "</div>"
      ],
      "text/plain": [
       "        account businessUnit platformCode       channelCode adCampaign  \\\n",
       "0  audiopartner     kytaryro      Compari           compari        NaN   \n",
       "1  audiopartner     kytaryro       unpaid            direct        NaN   \n",
       "2  audiopartner     kytaryro      AdWords  googleadsdsother        NaN   \n",
       "3  audiopartner     kytaryro       unpaid           organic        NaN   \n",
       "4  audiopartner     kytaryro      Compari           compari          -   \n",
       "\n",
       "   marketingInvestment  impressions  clicks  visits  conversions  deliveries  \\\n",
       "0                 0.00            0       0      63            2           1   \n",
       "1                 0.00            0       0       0           10           9   \n",
       "2                 0.00            0       0       2            0           0   \n",
       "3                 0.00            0       0       0            5           5   \n",
       "4               198.18            0     106       0            0           0   \n",
       "\n",
       "   netRevenue  grossProfit currencyCode    adGroup periodStartDate  \n",
       "0    20417.11     -1144.32          CZK  (not set)      2020-01-21  \n",
       "1    58887.13     14298.72          CZK  (not set)      2020-01-21  \n",
       "2        0.00         0.00          CZK  (not set)      2020-01-21  \n",
       "3     5961.50       735.00          CZK  (not set)      2020-01-21  \n",
       "4        0.00         0.00          CZK        NaN      2020-01-21  "
      ]
     },
     "execution_count": 14,
     "metadata": {},
     "output_type": "execute_result"
    }
   ],
   "source": [
    "df = pd.read_csv('input\\\\'+ list_files[4],\n",
    "                 sep=\"\\t\",\n",
    "                 infer_datetime_format=True,\n",
    "                 usecols=usecols,\n",
    "                 dtype=dtype,\n",
    "                 parse_dates=DateTimeID)\n",
    "\n",
    "df['periodStartDate'] = pd.to_datetime(df['periodStartDate'])\n",
    "\n",
    "df.head(5)"
   ]
  },
  {
   "cell_type": "code",
   "execution_count": 15,
   "metadata": {
    "ExecuteTime": {
     "end_time": "2021-02-09T21:18:32.522379Z",
     "start_time": "2021-02-09T21:18:32.510378Z"
    }
   },
   "outputs": [
    {
     "data": {
      "text/plain": [
       "(580441, 16)"
      ]
     },
     "execution_count": 15,
     "metadata": {},
     "output_type": "execute_result"
    }
   ],
   "source": [
    "df.shape"
   ]
  },
  {
   "cell_type": "code",
   "execution_count": 16,
   "metadata": {
    "ExecuteTime": {
     "end_time": "2021-02-09T21:18:32.880400Z",
     "start_time": "2021-02-09T21:18:32.876399Z"
    }
   },
   "outputs": [],
   "source": [
    "#list_files[6]"
   ]
  },
  {
   "cell_type": "code",
   "execution_count": 17,
   "metadata": {
    "ExecuteTime": {
     "end_time": "2021-02-09T21:18:33.770451Z",
     "start_time": "2021-02-09T21:18:33.451432Z"
    }
   },
   "outputs": [],
   "source": [
    "platform_code = df['platformCode'].unique().tolist()\n",
    "platform_code.sort()\n",
    "business_unit_code = df['businessUnit'].unique().tolist()\n",
    "business_unit_code.sort()\n",
    "channel_code_code = df['channelCode'].unique().tolist()\n",
    "channel_code_code.sort()\n",
    "currency_code_code = df['currencyCode'].unique().tolist()\n",
    "currency_code_code.sort()\n",
    "account_code = df['account'].unique().tolist()"
   ]
  },
  {
   "cell_type": "code",
   "execution_count": 18,
   "metadata": {
    "ExecuteTime": {
     "end_time": "2021-02-09T21:18:34.014465Z",
     "start_time": "2021-02-09T21:18:34.009464Z"
    }
   },
   "outputs": [
    {
     "data": {
      "text/plain": [
       "['audiopartner']"
      ]
     },
     "execution_count": 18,
     "metadata": {},
     "output_type": "execute_result"
    }
   ],
   "source": [
    "account_code"
   ]
  },
  {
   "cell_type": "code",
   "execution_count": 19,
   "metadata": {
    "ExecuteTime": {
     "end_time": "2021-02-09T21:18:34.614499Z",
     "start_time": "2021-02-09T21:18:34.601498Z"
    }
   },
   "outputs": [
    {
     "data": {
      "text/plain": [
       "Timestamp('2020-01-21 00:00:00')"
      ]
     },
     "execution_count": 19,
     "metadata": {},
     "output_type": "execute_result"
    }
   ],
   "source": [
    "df['periodStartDate'].min()"
   ]
  },
  {
   "cell_type": "code",
   "execution_count": 20,
   "metadata": {
    "ExecuteTime": {
     "end_time": "2021-02-09T21:18:35.240535Z",
     "start_time": "2021-02-09T21:18:35.229534Z"
    }
   },
   "outputs": [
    {
     "data": {
      "text/plain": [
       "Timestamp('2021-01-18 00:00:00')"
      ]
     },
     "execution_count": 20,
     "metadata": {},
     "output_type": "execute_result"
    }
   ],
   "source": [
    "df['periodStartDate'].max()"
   ]
  },
  {
   "cell_type": "code",
   "execution_count": 21,
   "metadata": {
    "ExecuteTime": {
     "end_time": "2021-02-09T21:19:23.433291Z",
     "start_time": "2021-02-09T21:18:35.885572Z"
    }
   },
   "outputs": [
    {
     "name": "stdout",
     "output_type": "stream",
     "text": [
      "kytaryat business unit AdWords platform has \t1.0 correlation coefficient\n",
      "Regression calculated successfully\n",
      "kytarycz business unit AdWords platform has \t1.0 correlation coefficient\n",
      "Regression calculated successfully\n",
      "kytarycz business unit DogNet platform has \t0.9945054945054945 correlation coefficient\n",
      "Regression calculated successfully\n",
      "kytarycz business unit FacebookBusinessAdsManager platform has \t0.9583102199603798 correlation coefficient\n",
      "Regression calculated successfully\n",
      "kytarycz business unit HeurekaCz platform has \t0.9065934065934067 correlation coefficient\n",
      "Regression calculated successfully\n",
      "kytarycz business unit Sklik platform has \t0.9780219780219779 correlation coefficient\n",
      "Regression calculated successfully\n",
      "kytarycz business unit ZboziCz platform has \t1.0 correlation coefficient\n",
      "Regression calculated successfully\n",
      "kytaryde business unit AdWords platform has \t0.989010989010989 correlation coefficient\n",
      "Regression calculated successfully\n",
      "kytaryde business unit Idealo platform has \t0.9505494505494506 correlation coefficient\n",
      "Regression calculated successfully\n",
      "kytaryfr business unit AdWords platform has \t0.9835164835164836 correlation coefficient\n",
      "Regression calculated successfully\n",
      "kytaryhu business unit AdWords platform has \t0.8956043956043955 correlation coefficient\n",
      "Regression calculated successfully\n",
      "kytaryhu business unit Arukereso platform has \t0.9505494505494506 correlation coefficient\n",
      "Regression calculated successfully\n",
      "kytaryhu business unit FacebookBusinessAdsManager platform has \t0.8571428571428571 correlation coefficient\n",
      "Regression calculated successfully\n",
      "kytaryit business unit AdWords platform has \t0.9835164835164836 correlation coefficient\n",
      "Regression calculated successfully\n",
      "kytarypl business unit AdWords platform has \t0.9945054945054945 correlation coefficient\n",
      "Regression calculated successfully\n",
      "kytarypl business unit Ceneo platform has \t0.9835164835164836 correlation coefficient\n",
      "Regression calculated successfully\n",
      "kytarypl business unit FacebookBusinessAdsManager platform has \t0.9025945094975671 correlation coefficient\n",
      "Regression calculated successfully\n",
      "kytaryro business unit AdWords platform has \t1.0 correlation coefficient\n",
      "Regression calculated successfully\n",
      "kytaryro business unit Compari platform has \t0.9065934065934067 correlation coefficient\n",
      "Regression calculated successfully\n",
      "kytaryro business unit FacebookBusinessAdsManager platform has \t0.7967346596182229 correlation coefficient\n",
      "Regression calculated successfully\n",
      "kytarysk business unit AdWords platform has \t0.9780219780219779 correlation coefficient\n",
      "Regression calculated successfully\n",
      "kytarysk business unit FacebookBusinessAdsManager platform has \t0.7637362637362637 correlation coefficient\n",
      "Regression calculated successfully\n",
      "kytarysk business unit HeurekaSk platform has \t0.9835164835164836 correlation coefficient\n",
      "Regression calculated successfully\n",
      "kytaryuk business unit AdWords platform has \t0.9725274725274725 correlation coefficient\n",
      "Regression calculated successfully\n"
     ]
    }
   ],
   "source": [
    "#select window for regression \n",
    "excel_coll = 0\n",
    "precision = 3\n",
    "\n",
    "workbook = xlsxwriter.Workbook( 'campaign_' + account_code[0]+'_corr.xlsx') #folder + \n",
    "bold = workbook.add_format({'bold': True})\n",
    "\n",
    "\n",
    "df_time_selected = df[df['periodStartDate'] >= df['periodStartDate'].max() - pd.DateOffset(weeks=time_window_regr)] \n",
    "\n",
    "#df_time_selected = filter_df(df_time_selected, 0.1)\n",
    "\n",
    "for i in business_unit_code:\n",
    "    df_selected = df_time_selected[df_time_selected['businessUnit'] == i]\n",
    "    worksheet = workbook.add_worksheet(i)\n",
    "    \n",
    "    worksheet.set_column('A:A', 30)\n",
    "    worksheet.set_column('B:B', 10)\n",
    "    worksheet.set_column('C:C', 15)\n",
    "    worksheet.set_column('D:D', 15)\n",
    "    worksheet.set_column('E:E', 15)\n",
    "    worksheet.set_column('F:F', 15)\n",
    "    worksheet.set_column('G:G', 40)\n",
    "\n",
    "    worksheet.write('A1', 'Name', bold)\n",
    "    worksheet.write('B1', 'Corr coeff.', bold)\n",
    "    worksheet.write('C1', 'a', bold)\n",
    "    worksheet.write('D1', 'b', bold)\n",
    "    worksheet.write('E1', 'c', bold)\n",
    "    worksheet.write('F1', 'R-std', bold)\n",
    "    worksheet.write('G1', 'Chart', bold)\n",
    "    \n",
    "    excel_row  = 2\n",
    "    \n",
    "    for z in platform_code:\n",
    "        df_platform = df_selected[df_selected['platformCode'] == z]\n",
    "        df_business_selected_agg = select_agg_resample_df(df_platform, 'periodStartDate', 'week', use_nan = False)\n",
    "        df_business_selected_agg = filter_df(df_business_selected_agg, 0.05)\n",
    "        sper_crr, _=stat.spearmanr(df_business_selected_agg['marketingInvestment'], df_business_selected_agg['grossProfit'])\n",
    "        if sper_crr> 0.75:\n",
    "            print (i + ' business unit '+ z + ' platform has \\t'+ str(sper_crr) + ' correlation coefficient')\n",
    "\n",
    "            try:\n",
    "                sorted_df = df_business_selected_agg.sort_values( by=['marketingInvestment'], ascending=False )\n",
    "                t_train = sorted_df['marketingInvestment']\n",
    "                y_train = sorted_df['grossProfit']\n",
    "                \n",
    "                regr, err = regression_calc(sorted_df[['marketingInvestment','grossProfit']],log_f)\n",
    "                \n",
    "                R = sorted_df['grossProfit'] - log_f(sorted_df['marketingInvestment'], *regr)\n",
    "                R_std = R.describe()['std']\n",
    "                \n",
    "                ing_name = [i+z, currency_code_code]\n",
    "                save_chart(sorted_df, ing_name, R_std)\n",
    "                             \n",
    "                a,b = regr\n",
    "                #print(a,b,c)\n",
    "                worksheet.write('A'+str(excel_row), z)\n",
    "                worksheet.write('B'+str(excel_row), str(np.round(sper_crr, precision)))\n",
    "                \n",
    "                worksheet.write('C'+str(excel_row), str(np.round(a, precision)))\n",
    "                worksheet.write('D'+str(excel_row), str(np.round(b, precision)))\n",
    "                #worksheet.write('E'+str(excel_row), str(np.round(c, precision)))\n",
    "                \n",
    "                \n",
    "                worksheet.write('F'+str(excel_row), str(np.round(R_std, precision)))\n",
    "                \n",
    "                worksheet.insert_image('G'+ str(excel_row), i + z + '.jpg', {'x_scale': 0.5, 'y_scale': 0.5})\n",
    "                \n",
    "                excel_row = excel_row + 10\n",
    "                print('Regression calculated successfully')\n",
    "            except:\n",
    "                print(\"Regression wasn't calculated\")\n",
    "                worksheet.write('A'+ str(excel_row), z)\n",
    "                excel_row = excel_row + 1\n",
    "\n",
    "        else:\n",
    "            pass\n",
    "\n",
    "workbook.close()"
   ]
  },
  {
   "cell_type": "code",
   "execution_count": null,
   "metadata": {
    "ExecuteTime": {
     "end_time": "2021-01-20T22:25:38.630987Z",
     "start_time": "2021-01-20T22:25:38.625987Z"
    }
   },
   "outputs": [],
   "source": []
  },
  {
   "cell_type": "code",
   "execution_count": 22,
   "metadata": {
    "ExecuteTime": {
     "end_time": "2021-02-09T21:19:23.635303Z",
     "start_time": "2021-02-09T21:19:23.630302Z"
    }
   },
   "outputs": [],
   "source": [
    "sper_corr, _ = stat.spearmanr(df_business_selected_agg['marketingInvestment'], df_business_selected_agg['grossProfit'])"
   ]
  },
  {
   "cell_type": "code",
   "execution_count": 23,
   "metadata": {
    "ExecuteTime": {
     "end_time": "2021-02-09T21:19:23.926319Z",
     "start_time": "2021-02-09T21:19:23.839314Z"
    }
   },
   "outputs": [
    {
     "name": "stdout",
     "output_type": "stream",
     "text": [
      "Regression wasn't calculated\n"
     ]
    }
   ],
   "source": [
    "df_time_selected = df[df['periodStartDate'] >= df['periodStartDate'].max() - pd.DateOffset(weeks=time_window_regr)] \n",
    "\n",
    "df_business_selected = df_time_selected[df_time_selected['businessUnit'] == 'forhomecz']\n",
    "\n",
    "df_business_selected = df_business_selected[df_business_selected['platformCode'] == 'AdWords']\n",
    "\n",
    "df_business_selected_agg = select_agg_resample_df(df_business_selected, 'periodStartDate', 'week', use_nan = False)\n",
    "\n",
    "df_business_selected_agg_filtered = filter_df(df_business_selected_agg, 0.01)\n",
    "\n",
    "sorted_df = df_business_selected_agg_filtered.sort_values( by=['marketingInvestment'], ascending=False )\n",
    "\n",
    "t_train = sorted_df['marketingInvestment']\n",
    "\n",
    "y_train = sorted_df['grossProfit']\n",
    "\n",
    "try:\n",
    "    regr, err = regression_calc(sorted_df[['marketingInvestment','grossProfit']],log_f)\n",
    "except:\n",
    "    print(\"Regression wasn't calculated\")\n",
    "\n",
    "#save_chart(sorted_df,['Hello','CZK'] )"
   ]
  },
  {
   "cell_type": "code",
   "execution_count": 24,
   "metadata": {
    "ExecuteTime": {
     "end_time": "2021-02-09T21:19:25.206393Z",
     "start_time": "2021-02-09T21:19:24.120330Z"
    }
   },
   "outputs": [],
   "source": [
    "from sklearn.svm import SVR"
   ]
  },
  {
   "cell_type": "code",
   "execution_count": 25,
   "metadata": {
    "ExecuteTime": {
     "end_time": "2021-02-09T20:52:13.125043Z",
     "start_time": "2021-02-09T20:52:13.122043Z"
    }
   },
   "outputs": [],
   "source": [
    "#model = SVR(kernel='poly')"
   ]
  },
  {
   "cell_type": "code",
   "execution_count": 26,
   "metadata": {
    "ExecuteTime": {
     "end_time": "2021-02-09T20:52:13.135043Z",
     "start_time": "2021-02-09T20:52:13.128043Z"
    }
   },
   "outputs": [],
   "source": [
    "#model.fit(t_train,y_train)"
   ]
  },
  {
   "cell_type": "code",
   "execution_count": 27,
   "metadata": {
    "ExecuteTime": {
     "end_time": "2021-02-09T20:52:13.150044Z",
     "start_time": "2021-02-09T20:52:13.137044Z"
    }
   },
   "outputs": [
    {
     "data": {
      "text/plain": [
       "array([-24910.84808962, -22927.71539662])"
      ]
     },
     "execution_count": 27,
     "metadata": {},
     "output_type": "execute_result"
    }
   ],
   "source": [
    "regr"
   ]
  },
  {
   "cell_type": "code",
   "execution_count": 28,
   "metadata": {
    "ExecuteTime": {
     "end_time": "2021-02-09T20:52:13.458062Z",
     "start_time": "2021-02-09T20:52:13.155045Z"
    }
   },
   "outputs": [
    {
     "data": {
      "text/plain": [
       "<matplotlib.collections.PathCollection at 0xd724c40>"
      ]
     },
     "execution_count": 28,
     "metadata": {},
     "output_type": "execute_result"
    },
    {
     "data": {
      "image/png": "[encoded data removed]",
      "text/plain": [
       "<Figure size 432x288 with 1 Axes>"
      ]
     },
     "metadata": {
      "needs_background": "light"
     },
     "output_type": "display_data"
    }
   ],
   "source": [
    "plt.scatter(sorted_df['marketingInvestment'], sorted_df['grossProfit'])"
   ]
  },
  {
   "cell_type": "code",
   "execution_count": 29,
   "metadata": {
    "ExecuteTime": {
     "end_time": "2021-02-09T20:52:13.466062Z",
     "start_time": "2021-02-09T20:52:13.460062Z"
    }
   },
   "outputs": [
    {
     "data": {
      "text/plain": [
       "array([-24910.84808962, -22927.71539662])"
      ]
     },
     "execution_count": 29,
     "metadata": {},
     "output_type": "execute_result"
    }
   ],
   "source": [
    "regr"
   ]
  },
  {
   "cell_type": "code",
   "execution_count": 30,
   "metadata": {
    "ExecuteTime": {
     "end_time": "2021-02-09T20:52:13.475063Z",
     "start_time": "2021-02-09T20:52:13.468062Z"
    }
   },
   "outputs": [],
   "source": [
    "R = sorted_df['grossProfit'] - log_f(sorted_df['marketingInvestment'], *regr)"
   ]
  },
  {
   "cell_type": "code",
   "execution_count": 31,
   "metadata": {
    "ExecuteTime": {
     "end_time": "2021-02-09T20:52:13.769080Z",
     "start_time": "2021-02-09T20:52:13.478063Z"
    }
   },
   "outputs": [
    {
     "data": {
      "text/plain": [
       "<matplotlib.collections.PathCollection at 0xd6fae20>"
      ]
     },
     "execution_count": 31,
     "metadata": {},
     "output_type": "execute_result"
    },
    {
     "data": {
      "image/png": "[encoded data removed]",
      "text/plain": [
       "<Figure size 432x288 with 1 Axes>"
      ]
     },
     "metadata": {
      "needs_background": "light"
     },
     "output_type": "display_data"
    }
   ],
   "source": [
    "plt.scatter(sorted_df['marketingInvestment'], R)"
   ]
  },
  {
   "cell_type": "code",
   "execution_count": 32,
   "metadata": {
    "ExecuteTime": {
     "end_time": "2021-02-09T20:52:13.780080Z",
     "start_time": "2021-02-09T20:52:13.771080Z"
    }
   },
   "outputs": [
    {
     "data": {
      "text/plain": [
       "nan"
      ]
     },
     "execution_count": 32,
     "metadata": {},
     "output_type": "execute_result"
    }
   ],
   "source": [
    "R.describe()['std']"
   ]
  },
  {
   "cell_type": "code",
   "execution_count": 33,
   "metadata": {
    "ExecuteTime": {
     "end_time": "2021-02-09T20:52:14.116100Z",
     "start_time": "2021-02-09T20:52:13.783080Z"
    }
   },
   "outputs": [
    {
     "data": {
      "image/png": "[encoded data removed]",
      "text/plain": [
       "<Figure size 432x288 with 1 Axes>"
      ]
     },
     "metadata": {
      "needs_background": "light"
     },
     "output_type": "display_data"
    }
   ],
   "source": [
    "fig, ax = plt.subplots(figsize=(6, 4))\n",
    "fig.subplots_adjust(bottom=0.15, left=0.2)\n",
    "x = np.linspace(0,sorted_df['marketingInvestment'].max(),20)\n",
    "ax.scatter(sorted_df['marketingInvestment'], sorted_df['grossProfit'])\n",
    "ax.plot(x,log_f(x, *regr))\n",
    "ax.set_xlabel(f'Investment')\n",
    "ax.set_ylabel(f'Revenue')\n",
    "ax.set_title('Title')\n",
    "#plt.savefig( name[0] + '.jpg', dpi=150, pad_inches=0.1)  \n",
    "#plt.close()\n",
    "plt.show()"
   ]
  },
  {
   "cell_type": "code",
   "execution_count": 34,
   "metadata": {
    "ExecuteTime": {
     "end_time": "2021-02-09T20:52:14.130100Z",
     "start_time": "2021-02-09T20:52:14.118100Z"
    }
   },
   "outputs": [
    {
     "data": {
      "text/plain": [
       "nan"
      ]
     },
     "execution_count": 34,
     "metadata": {},
     "output_type": "execute_result"
    }
   ],
   "source": [
    "sorted_df['netRevenue'].describe()[1]"
   ]
  },
  {
   "cell_type": "code",
   "execution_count": 35,
   "metadata": {
    "ExecuteTime": {
     "end_time": "2021-02-09T20:52:14.143101Z",
     "start_time": "2021-02-09T20:52:14.133100Z"
    }
   },
   "outputs": [
    {
     "data": {
      "text/plain": [
       "nan"
      ]
     },
     "execution_count": 35,
     "metadata": {},
     "output_type": "execute_result"
    }
   ],
   "source": [
    "R.describe()[2]"
   ]
  },
  {
   "cell_type": "code",
   "execution_count": 36,
   "metadata": {
    "ExecuteTime": {
     "end_time": "2021-02-09T20:52:15.655188Z",
     "start_time": "2021-02-09T20:52:14.146101Z"
    }
   },
   "outputs": [
    {
     "ename": "NameError",
     "evalue": "name 'regr_name' is not defined",
     "output_type": "error",
     "traceback": [
      "\u001b[1;31m---------------------------------------------------------------------------\u001b[0m",
      "\u001b[1;31mNameError\u001b[0m                                 Traceback (most recent call last)",
      "\u001b[1;32m<ipython-input-36-c2e6cec61409>\u001b[0m in \u001b[0;36m<module>\u001b[1;34m\u001b[0m\n\u001b[0;32m      3\u001b[0m \u001b[0mstatistics_R2\u001b[0m\u001b[1;33m.\u001b[0m\u001b[0mappend\u001b[0m\u001b[1;33m(\u001b[0m\u001b[0mnp\u001b[0m\u001b[1;33m.\u001b[0m\u001b[0mconcatenate\u001b[0m\u001b[1;33m(\u001b[0m\u001b[1;33m(\u001b[0m\u001b[0mregr\u001b[0m\u001b[1;33m,\u001b[0m \u001b[0merr\u001b[0m\u001b[1;33m)\u001b[0m\u001b[1;33m,\u001b[0m \u001b[0maxis\u001b[0m\u001b[1;33m=\u001b[0m\u001b[1;36m0\u001b[0m\u001b[1;33m)\u001b[0m\u001b[1;33m)\u001b[0m\u001b[1;33m\u001b[0m\u001b[1;33m\u001b[0m\u001b[0m\n\u001b[0;32m      4\u001b[0m \u001b[1;33m\u001b[0m\u001b[0m\n\u001b[1;32m----> 5\u001b[1;33m \u001b[0mstatistics_R2_df\u001b[0m \u001b[1;33m=\u001b[0m \u001b[0mpd\u001b[0m\u001b[1;33m.\u001b[0m\u001b[0mDataFrame\u001b[0m\u001b[1;33m(\u001b[0m\u001b[0mstatistics_R2\u001b[0m\u001b[1;33m,\u001b[0m \u001b[0mcolumns\u001b[0m \u001b[1;33m=\u001b[0m \u001b[0mregr_name\u001b[0m\u001b[1;33m)\u001b[0m\u001b[1;33m\u001b[0m\u001b[1;33m\u001b[0m\u001b[0m\n\u001b[0m\u001b[0;32m      6\u001b[0m \u001b[1;33m\u001b[0m\u001b[0m\n\u001b[0;32m      7\u001b[0m \u001b[0mstatistics_R2_df\u001b[0m \u001b[1;33m=\u001b[0m \u001b[0mstatistics_R2_df\u001b[0m\u001b[1;33m.\u001b[0m\u001b[0mset_index\u001b[0m\u001b[1;33m(\u001b[0m\u001b[1;33m[\u001b[0m\u001b[0mpd\u001b[0m\u001b[1;33m.\u001b[0m\u001b[0mIndex\u001b[0m\u001b[1;33m(\u001b[0m\u001b[0mplatform_code\u001b[0m\u001b[1;33m)\u001b[0m\u001b[1;33m]\u001b[0m\u001b[1;33m)\u001b[0m\u001b[1;33m\u001b[0m\u001b[1;33m\u001b[0m\u001b[0m\n",
      "\u001b[1;31mNameError\u001b[0m: name 'regr_name' is not defined"
     ]
    }
   ],
   "source": [
    "statistics_R2 = []\n",
    "\n",
    "statistics_R2.append(np.concatenate((regr, err), axis=0))\n",
    "\n",
    "statistics_R2_df = pd.DataFrame(statistics_R2, columns = regr_name)\n",
    "\n",
    "statistics_R2_df = statistics_R2_df.set_index([pd.Index(platform_code)])"
   ]
  },
  {
   "cell_type": "code",
   "execution_count": null,
   "metadata": {},
   "outputs": [],
   "source": []
  },
  {
   "cell_type": "code",
   "execution_count": null,
   "metadata": {
    "ExecuteTime": {
     "end_time": "2021-02-09T20:52:15.852199Z",
     "start_time": "2021-02-09T20:51:18.891Z"
    }
   },
   "outputs": [],
   "source": [
    "df_time_selected = df[df['periodStartDate'] >= df['periodStartDate'].max() - pd.DateOffset(weeks=time_window_regr)] \n",
    "\n",
    "df_business_selected = df_time_selected[df_time_selected['businessUnit'] == 'forhomecz']\n",
    "\n",
    "df_business_selected = df_business_selected[df_business_selected['platformCode'] == 'AdWords']\n",
    "\n",
    "ad_campaign_code = df['adCampaign'].unique().tolist()\n",
    "#campaign_code.sort()\n",
    "\n",
    "#campaign_code"
   ]
  },
  {
   "cell_type": "code",
   "execution_count": null,
   "metadata": {},
   "outputs": [],
   "source": []
  },
  {
   "cell_type": "code",
   "execution_count": null,
   "metadata": {},
   "outputs": [],
   "source": []
  },
  {
   "cell_type": "markdown",
   "metadata": {},
   "source": [
    "## Collect regression parameters for individual Adds Campaign\n",
    "### Collect all data for all clients into one file"
   ]
  },
  {
   "cell_type": "code",
   "execution_count": 37,
   "metadata": {
    "ExecuteTime": {
     "end_time": "2021-02-09T20:52:39.238536Z",
     "start_time": "2021-02-09T20:52:39.232536Z"
    }
   },
   "outputs": [],
   "source": [
    "excel_coll = 0\n",
    "excel_row  = 2"
   ]
  },
  {
   "cell_type": "code",
   "execution_count": 38,
   "metadata": {
    "ExecuteTime": {
     "end_time": "2021-02-09T20:52:39.249537Z",
     "start_time": "2021-02-09T20:52:39.241537Z"
    }
   },
   "outputs": [
    {
     "data": {
      "text/plain": [
       "2"
      ]
     },
     "execution_count": 38,
     "metadata": {},
     "output_type": "execute_result"
    }
   ],
   "source": [
    "workbook = xlsxwriter.Workbook('All cients all channels statistics.xlsx', \n",
    "                               {'nan_inf_to_errors': True})\n",
    "\n",
    "worksheet = workbook.add_worksheet('channels')\n",
    "bold = workbook.add_format({'bold': True})\n",
    "\n",
    "excel_row"
   ]
  },
  {
   "cell_type": "markdown",
   "metadata": {},
   "source": [
    "### Starts here"
   ]
  },
  {
   "cell_type": "code",
   "execution_count": null,
   "metadata": {
    "ExecuteTime": {
     "start_time": "2021-02-09T20:52:58.222Z"
    }
   },
   "outputs": [],
   "source": [
    "df = pd.read_csv('input\\\\'+ list_files[0],\n",
    "                 sep=\"\\t\",\n",
    "                 infer_datetime_format=True,\n",
    "                 usecols=usecols,\n",
    "                 dtype=dtype,\n",
    "                 parse_dates=DateTimeID)\n",
    "\n",
    "df['periodStartDate'] = pd.to_datetime(df['periodStartDate'])\n",
    "\n",
    "df.head(5)"
   ]
  },
  {
   "cell_type": "code",
   "execution_count": null,
   "metadata": {
    "ExecuteTime": {
     "start_time": "2021-02-09T20:52:58.228Z"
    }
   },
   "outputs": [],
   "source": [
    "platform_code = df['platformCode'].unique().tolist()\n",
    "platform_code.sort()\n",
    "business_unit_code = df['businessUnit'].unique().tolist()\n",
    "business_unit_code.sort()\n",
    "channel_code_code = df['channelCode'].unique().tolist()\n",
    "channel_code_code.sort()\n",
    "currency_code_code = df['currencyCode'].unique().tolist()\n",
    "currency_code_code.sort()\n",
    "account_code = df['account'].unique().tolist()\n",
    "#channel_code_code"
   ]
  },
  {
   "cell_type": "code",
   "execution_count": 19,
   "metadata": {
    "ExecuteTime": {
     "end_time": "2021-02-09T21:51:15.175637Z",
     "start_time": "2021-02-09T21:48:16.212400Z"
    }
   },
   "outputs": [
    {
     "name": "stdout",
     "output_type": "stream",
     "text": [
      "Ads-DIS Add campaignforcampingcz business unit AdWords platform has \t0.9578947368421055 corr coefficient\n",
      "Ads-PLA-PRO Add campaignforcampingcz business unit AdWords platform has \t0.967032967032967 corr coefficient\n",
      "Ads-SEA-BRA Add campaignforcampingcz business unit AdWords platform has \t1.0 corr coefficient\n",
      "Ads-SEA-GEN Add campaignforcampingcz business unit AdWords platform has \t0.9835164835164836 corr coefficient\n",
      "Ads-SEA-PRO Add campaignforcampingcz business unit AdWords platform has \t0.9725274725274725 corr coefficient\n",
      "Sklik-BRAND Add campaignforcampingcz business unit AdWords platform has \t0.9615384615384615 corr coefficient\n",
      "Sklik-DIS Add campaignforcampingcz business unit AdWords platform has \t0.9615384615384615 corr coefficient\n",
      "Sklik-PLA Add campaignforcampingcz business unit AdWords platform has \t0.9835164835164836 corr coefficient\n",
      "Sklik-SEA-BRA Add campaignforcampingcz business unit AdWords platform has \t0.9065934065934067 corr coefficient\n",
      "adform Add campaignforcampingcz business unit AdWords platform has \t0.919309222636411 corr coefficient\n",
      "heureka Add campaignforcampingcz business unit AdWords platform has \t0.9065934065934067 corr coefficient\n",
      "Ads-DIS Add campaignforcampingcz business unit Adform platform has \t0.9578947368421055 corr coefficient\n",
      "Ads-PLA-PRO Add campaignforcampingcz business unit Adform platform has \t0.967032967032967 corr coefficient\n",
      "Ads-SEA-BRA Add campaignforcampingcz business unit Adform platform has \t1.0 corr coefficient\n",
      "Ads-SEA-GEN Add campaignforcampingcz business unit Adform platform has \t0.9835164835164836 corr coefficient\n",
      "Ads-SEA-PRO Add campaignforcampingcz business unit Adform platform has \t0.9725274725274725 corr coefficient\n",
      "Sklik-BRAND Add campaignforcampingcz business unit Adform platform has \t0.9615384615384615 corr coefficient\n",
      "Sklik-DIS Add campaignforcampingcz business unit Adform platform has \t0.9615384615384615 corr coefficient\n",
      "Sklik-PLA Add campaignforcampingcz business unit Adform platform has \t0.9835164835164836 corr coefficient\n",
      "Sklik-SEA-BRA Add campaignforcampingcz business unit Adform platform has \t0.9065934065934067 corr coefficient\n",
      "adform Add campaignforcampingcz business unit Adform platform has \t0.919309222636411 corr coefficient\n",
      "heureka Add campaignforcampingcz business unit Adform platform has \t0.9065934065934067 corr coefficient\n",
      "Ads-DIS Add campaignforcampingcz business unit CjAffiliate platform has \t0.9578947368421055 corr coefficient\n",
      "Ads-PLA-PRO Add campaignforcampingcz business unit CjAffiliate platform has \t0.967032967032967 corr coefficient\n",
      "Ads-SEA-BRA Add campaignforcampingcz business unit CjAffiliate platform has \t1.0 corr coefficient\n",
      "Ads-SEA-GEN Add campaignforcampingcz business unit CjAffiliate platform has \t0.9835164835164836 corr coefficient\n",
      "Ads-SEA-PRO Add campaignforcampingcz business unit CjAffiliate platform has \t0.9725274725274725 corr coefficient\n",
      "Sklik-BRAND Add campaignforcampingcz business unit CjAffiliate platform has \t0.9615384615384615 corr coefficient\n",
      "Sklik-DIS Add campaignforcampingcz business unit CjAffiliate platform has \t0.9615384615384615 corr coefficient\n",
      "Sklik-PLA Add campaignforcampingcz business unit CjAffiliate platform has \t0.9835164835164836 corr coefficient\n",
      "Sklik-SEA-BRA Add campaignforcampingcz business unit CjAffiliate platform has \t0.9065934065934067 corr coefficient\n",
      "adform Add campaignforcampingcz business unit CjAffiliate platform has \t0.919309222636411 corr coefficient\n",
      "heureka Add campaignforcampingcz business unit CjAffiliate platform has \t0.9065934065934067 corr coefficient\n",
      "Ads-DIS Add campaignforcampingcz business unit Criteo platform has \t0.9578947368421055 corr coefficient\n",
      "Ads-PLA-PRO Add campaignforcampingcz business unit Criteo platform has \t0.967032967032967 corr coefficient\n",
      "Ads-SEA-BRA Add campaignforcampingcz business unit Criteo platform has \t1.0 corr coefficient\n",
      "Ads-SEA-GEN Add campaignforcampingcz business unit Criteo platform has \t0.9835164835164836 corr coefficient\n",
      "Ads-SEA-PRO Add campaignforcampingcz business unit Criteo platform has \t0.9725274725274725 corr coefficient\n",
      "Sklik-BRAND Add campaignforcampingcz business unit Criteo platform has \t0.9615384615384615 corr coefficient\n",
      "Sklik-DIS Add campaignforcampingcz business unit Criteo platform has \t0.9615384615384615 corr coefficient\n",
      "Sklik-PLA Add campaignforcampingcz business unit Criteo platform has \t0.9835164835164836 corr coefficient\n",
      "Sklik-SEA-BRA Add campaignforcampingcz business unit Criteo platform has \t0.9065934065934067 corr coefficient\n",
      "adform Add campaignforcampingcz business unit Criteo platform has \t0.919309222636411 corr coefficient\n",
      "heureka Add campaignforcampingcz business unit Criteo platform has \t0.9065934065934067 corr coefficient\n",
      "Ads-DIS Add campaignforcampingcz business unit FacebookBusinessAdsManager platform has \t0.9578947368421055 corr coefficient\n",
      "Ads-PLA-PRO Add campaignforcampingcz business unit FacebookBusinessAdsManager platform has \t0.967032967032967 corr coefficient\n",
      "Ads-SEA-BRA Add campaignforcampingcz business unit FacebookBusinessAdsManager platform has \t1.0 corr coefficient\n",
      "Ads-SEA-GEN Add campaignforcampingcz business unit FacebookBusinessAdsManager platform has \t0.9835164835164836 corr coefficient\n",
      "Ads-SEA-PRO Add campaignforcampingcz business unit FacebookBusinessAdsManager platform has \t0.9725274725274725 corr coefficient\n",
      "Sklik-BRAND Add campaignforcampingcz business unit FacebookBusinessAdsManager platform has \t0.9615384615384615 corr coefficient\n",
      "Sklik-DIS Add campaignforcampingcz business unit FacebookBusinessAdsManager platform has \t0.9615384615384615 corr coefficient\n",
      "Sklik-PLA Add campaignforcampingcz business unit FacebookBusinessAdsManager platform has \t0.9835164835164836 corr coefficient\n",
      "Sklik-SEA-BRA Add campaignforcampingcz business unit FacebookBusinessAdsManager platform has \t0.9065934065934067 corr coefficient\n",
      "adform Add campaignforcampingcz business unit FacebookBusinessAdsManager platform has \t0.919309222636411 corr coefficient\n",
      "heureka Add campaignforcampingcz business unit FacebookBusinessAdsManager platform has \t0.9065934065934067 corr coefficient\n",
      "Ads-DIS Add campaignforcampingcz business unit Favi platform has \t0.9578947368421055 corr coefficient\n",
      "Ads-PLA-PRO Add campaignforcampingcz business unit Favi platform has \t0.967032967032967 corr coefficient\n",
      "Ads-SEA-BRA Add campaignforcampingcz business unit Favi platform has \t1.0 corr coefficient\n",
      "Ads-SEA-GEN Add campaignforcampingcz business unit Favi platform has \t0.9835164835164836 corr coefficient\n",
      "Ads-SEA-PRO Add campaignforcampingcz business unit Favi platform has \t0.9725274725274725 corr coefficient\n",
      "Sklik-BRAND Add campaignforcampingcz business unit Favi platform has \t0.9615384615384615 corr coefficient\n",
      "Sklik-DIS Add campaignforcampingcz business unit Favi platform has \t0.9615384615384615 corr coefficient\n",
      "Sklik-PLA Add campaignforcampingcz business unit Favi platform has \t0.9835164835164836 corr coefficient\n",
      "Sklik-SEA-BRA Add campaignforcampingcz business unit Favi platform has \t0.9065934065934067 corr coefficient\n",
      "adform Add campaignforcampingcz business unit Favi platform has \t0.919309222636411 corr coefficient\n",
      "heureka Add campaignforcampingcz business unit Favi platform has \t0.9065934065934067 corr coefficient\n",
      "Ads-DIS Add campaignforcampingcz business unit HeurekaCz platform has \t0.9578947368421055 corr coefficient\n",
      "Ads-PLA-PRO Add campaignforcampingcz business unit HeurekaCz platform has \t0.967032967032967 corr coefficient\n",
      "Ads-SEA-BRA Add campaignforcampingcz business unit HeurekaCz platform has \t1.0 corr coefficient\n",
      "Ads-SEA-GEN Add campaignforcampingcz business unit HeurekaCz platform has \t0.9835164835164836 corr coefficient\n",
      "Ads-SEA-PRO Add campaignforcampingcz business unit HeurekaCz platform has \t0.9725274725274725 corr coefficient\n",
      "Sklik-BRAND Add campaignforcampingcz business unit HeurekaCz platform has \t0.9615384615384615 corr coefficient\n",
      "Sklik-DIS Add campaignforcampingcz business unit HeurekaCz platform has \t0.9615384615384615 corr coefficient\n",
      "Sklik-PLA Add campaignforcampingcz business unit HeurekaCz platform has \t0.9835164835164836 corr coefficient\n",
      "Sklik-SEA-BRA Add campaignforcampingcz business unit HeurekaCz platform has \t0.9065934065934067 corr coefficient\n",
      "adform Add campaignforcampingcz business unit HeurekaCz platform has \t0.919309222636411 corr coefficient\n"
     ]
    },
    {
     "name": "stdout",
     "output_type": "stream",
     "text": [
      "heureka Add campaignforcampingcz business unit HeurekaCz platform has \t0.9065934065934067 corr coefficient\n",
      "Ads-DIS Add campaignforcampingcz business unit Sklik platform has \t0.9578947368421055 corr coefficient\n",
      "Ads-PLA-PRO Add campaignforcampingcz business unit Sklik platform has \t0.967032967032967 corr coefficient\n",
      "Ads-SEA-BRA Add campaignforcampingcz business unit Sklik platform has \t1.0 corr coefficient\n",
      "Ads-SEA-GEN Add campaignforcampingcz business unit Sklik platform has \t0.9835164835164836 corr coefficient\n",
      "Ads-SEA-PRO Add campaignforcampingcz business unit Sklik platform has \t0.9725274725274725 corr coefficient\n",
      "Sklik-BRAND Add campaignforcampingcz business unit Sklik platform has \t0.9615384615384615 corr coefficient\n",
      "Sklik-DIS Add campaignforcampingcz business unit Sklik platform has \t0.9615384615384615 corr coefficient\n",
      "Sklik-PLA Add campaignforcampingcz business unit Sklik platform has \t0.9835164835164836 corr coefficient\n",
      "Sklik-SEA-BRA Add campaignforcampingcz business unit Sklik platform has \t0.9065934065934067 corr coefficient\n",
      "adform Add campaignforcampingcz business unit Sklik platform has \t0.919309222636411 corr coefficient\n",
      "heureka Add campaignforcampingcz business unit Sklik platform has \t0.9065934065934067 corr coefficient\n",
      "Ads-DIS Add campaignforcampingcz business unit ZboziCz platform has \t0.9578947368421055 corr coefficient\n",
      "Ads-PLA-PRO Add campaignforcampingcz business unit ZboziCz platform has \t0.967032967032967 corr coefficient\n",
      "Ads-SEA-BRA Add campaignforcampingcz business unit ZboziCz platform has \t1.0 corr coefficient\n",
      "Ads-SEA-GEN Add campaignforcampingcz business unit ZboziCz platform has \t0.9835164835164836 corr coefficient\n",
      "Ads-SEA-PRO Add campaignforcampingcz business unit"
     ]
    },
    {
     "data": {
      "text/html": [
       "<b>limit_output extension: Maximum message size of 10000 exceeded with 10059 characters</b>"
      ]
     },
     "metadata": {},
     "output_type": "display_data"
    }
   ],
   "source": [
    "#select window for regression \n",
    "#xcel_coll = 0\n",
    "\n",
    "precision = 3\n",
    "\n",
    "#workbook = xlsxwriter.Workbook(folder + account_code[0]+' Add campaign corr.xlsx', {'nan_inf_to_errors': True}) #folder + \n",
    "\n",
    "#bold = workbook.add_format({'bold': True})\n",
    "\n",
    "#xlsxwriter.Workbook(path, {'strings_to_urls': False, 'nan_inf_to_errors': True}\n",
    "\n",
    "df_time_selected = df[df['periodStartDate'] >= df['periodStartDate'].max() - pd.DateOffset(weeks=time_window_regr)] \n",
    "\n",
    "#df_time_selected = filter_df(df_time_selected, 0.1)\n",
    "\n",
    "\n",
    "\n",
    "#excel_row  = 2\n",
    "\n",
    "for i in business_unit_code:\n",
    "    df_selected = df_time_selected[df_time_selected['businessUnit'] == i]\n",
    "    #worksheet = workbook.add_worksheet(i)\n",
    "    worksheet.set_column('A:A', 20)\n",
    "    worksheet.set_column('B:B', 20)\n",
    "    worksheet.set_column('C:C', 30)\n",
    "    worksheet.set_column('D:D', 40)\n",
    "    worksheet.set_column('E:E', 10)\n",
    "    worksheet.set_column('F:F', 10)\n",
    "    worksheet.set_column('G:G', 15)\n",
    "    worksheet.set_column('H:H', 15)\n",
    "    worksheet.set_column('I:I', 15)\n",
    "    worksheet.set_column('J:J', 15)\n",
    "    worksheet.set_column('K:K', 40)\n",
    "\n",
    "    worksheet.write('A1', 'Client', bold)\n",
    "    worksheet.write('B1', 'Business unit', bold)\n",
    "    worksheet.write('C1', 'Platform', bold)\n",
    "    worksheet.write('D1', 'Channel', bold)\n",
    "    worksheet.write('E1', 'Corr coeff.', bold)\n",
    "    worksheet.write('F1', 'Pr. value', bold)\n",
    "    worksheet.write('G1', 'a', bold)\n",
    "    worksheet.write('H1', 'b', bold)\n",
    "    worksheet.write('I1', 'Mean', bold)\n",
    "    worksheet.write('J1', 'R-std', bold)\n",
    "    #worksheet.write('K1', 'Chart', bold)\n",
    "    \n",
    "    \n",
    "    \n",
    "    worksheet.write('A'+str(excel_row),i)\n",
    "    \n",
    "    for z in platform_code:\n",
    "        df_platform = df_selected[df_selected['platformCode'] == z]\n",
    "        \n",
    "        ad_campaign_code = df_platform['adCampaign'].unique().tolist()\n",
    "        \n",
    "        for y in channel_code_code:\n",
    "            \n",
    "            df_platform = df_selected[df_selected['channelCode'] == y]\n",
    "                \n",
    "            df_business_selected_agg = select_agg_resample_df(df_platform, 'periodStartDate', 'week', use_nan = False)\n",
    "            df_business_selected_agg = filter_df(df_business_selected_agg, 0.2)\n",
    "            \n",
    "        \n",
    "            sper_crr, P_value = stat.spearmanr(df_business_selected_agg['marketingInvestment'],                       df_business_selected_agg['grossProfit'])\n",
    "            if sper_crr> 0.9:\n",
    "                print (y + ' Add campaign' + i + ' business unit '+ z + ' platform has \\t'+ str(sper_crr) + ' corr coefficient')\n",
    "\n",
    "                try:\n",
    "                    sorted_df = df_business_selected_agg.sort_values( by=['marketingInvestment'], ascending=False )\n",
    "                    t_train = sorted_df['marketingInvestment']\n",
    "                    y_train = sorted_df['grossProfit']\n",
    "                    \n",
    "                    worksheet.write('A'+str(excel_row),account_code[0])\n",
    "                    \n",
    "                    worksheet.write('B'+str(excel_row), i)\n",
    "                    \n",
    "                    worksheet.write('C'+str(excel_row), z)\n",
    "                    \n",
    "                    worksheet.write('D'+str(excel_row), y)                    \n",
    "                    \n",
    "                    \n",
    "                \n",
    "                    regr, err = regression_calc(sorted_df[['marketingInvestment','grossProfit']],log_f)\n",
    "                \n",
    "                    R = sorted_df['grossProfit'] - log_f(sorted_df['marketingInvestment'], *regr)\n",
    "                    R_std = R.describe()['std']\n",
    "                    \n",
    "                    Y_mean = sorted_df['grossProfit'].describe()[1]\n",
    "                    \n",
    "                    #ing_name = [y + i + z, currency_code_code]\n",
    "                    #save_chart(sorted_df, ing_name, R_std)\n",
    "                             \n",
    "                    a,b = regr\n",
    "                    #print(a,b,c)\n",
    "\n",
    "                    \n",
    "                    worksheet.write('E'+str(excel_row), str(np.round(sper_crr, precision)))\n",
    "                    \n",
    "                    worksheet.write('F'+str(excel_row), str(np.round(P_value, 7)))\n",
    "                \n",
    "                    worksheet.write('G'+str(excel_row), str(np.round(a, precision)))\n",
    "                    \n",
    "                    worksheet.write('H'+str(excel_row), str(np.round(b, precision)))                \n",
    "                \n",
    "                    worksheet.write('I'+str(excel_row), str(np.round(Y_mean, precision)))\n",
    "                    \n",
    "                    worksheet.write('J'+str(excel_row), str(np.round(R_std, precision)))\n",
    "                \n",
    "                    #worksheet.insert_image('K'+ str(excel_row), y + i + z + '.jpg', {'x_scale': 0.5, 'y_scale': 0.5})\n",
    "                \n",
    "                    #excel_row = excel_row + 1 # 10 for image included\n",
    "                    #print('Regression calculated successfully')\n",
    "                except:\n",
    "                    print(\"Regression wasn't calculated\")\n",
    "                    # worksheet.write('A'+ str(excel_row), z)\n",
    "                    #worksheet.write('A'+str(excel_row),account_code[0])\n",
    "                    \n",
    "                    #worksheet.write('B'+str(excel_row),i)\n",
    "                    \n",
    "                    #worksheet.write('C'+str(excel_row), z)\n",
    "                    \n",
    "                    #worksheet.write('D'+str(excel_row), y)\n",
    "                    #excel_row = excel_row + 1\n",
    "                    # excel_row = excel_row + 1\n",
    "                excel_row = excel_row + 1\n",
    "\n",
    "            else:\n",
    "                worksheet.write('A'+str(excel_row),account_code[0])\n",
    "                    \n",
    "                worksheet.write('B'+str(excel_row),i)\n",
    "                    \n",
    "                worksheet.write('C'+str(excel_row), z)\n",
    "                    \n",
    "                worksheet.write('D'+str(excel_row), y)\n",
    "                excel_row = excel_row + 1\n",
    "                pass\n",
    "\n",
    "#workbook.close()"
   ]
  },
  {
   "cell_type": "code",
   "execution_count": null,
   "metadata": {},
   "outputs": [],
   "source": []
  },
  {
   "cell_type": "code",
   "execution_count": null,
   "metadata": {
    "ExecuteTime": {
     "start_time": "2021-02-09T20:52:58.239Z"
    }
   },
   "outputs": [],
   "source": [
    "workbook.close()"
   ]
  },
  {
   "cell_type": "code",
   "execution_count": null,
   "metadata": {},
   "outputs": [],
   "source": []
  },
  {
   "cell_type": "markdown",
   "metadata": {},
   "source": [
    "## Collect regression parameters for individual Platform"
   ]
  },
  {
   "cell_type": "code",
   "execution_count": 30,
   "metadata": {
    "ExecuteTime": {
     "end_time": "2021-02-09T21:56:44.339464Z",
     "start_time": "2021-02-09T21:56:43.452413Z"
    }
   },
   "outputs": [
    {
     "data": {
      "text/html": [
       "<div>\n",
       "<style scoped>\n",
       "    .dataframe tbody tr th:only-of-type {\n",
       "        vertical-align: middle;\n",
       "    }\n",
       "\n",
       "    .dataframe tbody tr th {\n",
       "        vertical-align: top;\n",
       "    }\n",
       "\n",
       "    .dataframe thead th {\n",
       "        text-align: right;\n",
       "    }\n",
       "</style>\n",
       "<table border=\"1\" class=\"dataframe\">\n",
       "  <thead>\n",
       "    <tr style=\"text-align: right;\">\n",
       "      <th></th>\n",
       "      <th>account</th>\n",
       "      <th>businessUnit</th>\n",
       "      <th>platformCode</th>\n",
       "      <th>channelCode</th>\n",
       "      <th>adCampaign</th>\n",
       "      <th>marketingInvestment</th>\n",
       "      <th>impressions</th>\n",
       "      <th>clicks</th>\n",
       "      <th>visits</th>\n",
       "      <th>conversions</th>\n",
       "      <th>deliveries</th>\n",
       "      <th>netRevenue</th>\n",
       "      <th>grossProfit</th>\n",
       "      <th>currencyCode</th>\n",
       "      <th>adGroup</th>\n",
       "      <th>periodStartDate</th>\n",
       "    </tr>\n",
       "  </thead>\n",
       "  <tbody>\n",
       "    <tr>\n",
       "      <th>0</th>\n",
       "      <td>forcamping</td>\n",
       "      <td>forcampingcz</td>\n",
       "      <td>unpaid</td>\n",
       "      <td>notset</td>\n",
       "      <td>NaN</td>\n",
       "      <td>0.0</td>\n",
       "      <td>0</td>\n",
       "      <td>0</td>\n",
       "      <td>0</td>\n",
       "      <td>5</td>\n",
       "      <td>5</td>\n",
       "      <td>10724.79</td>\n",
       "      <td>10724.79</td>\n",
       "      <td>CZK</td>\n",
       "      <td>-</td>\n",
       "      <td>2020-01-21</td>\n",
       "    </tr>\n",
       "    <tr>\n",
       "      <th>1</th>\n",
       "      <td>forcamping</td>\n",
       "      <td>forcampingcz</td>\n",
       "      <td>unpaid</td>\n",
       "      <td>direct</td>\n",
       "      <td>NaN</td>\n",
       "      <td>0.0</td>\n",
       "      <td>0</td>\n",
       "      <td>0</td>\n",
       "      <td>0</td>\n",
       "      <td>22</td>\n",
       "      <td>22</td>\n",
       "      <td>48687.03</td>\n",
       "      <td>48687.03</td>\n",
       "      <td>CZK</td>\n",
       "      <td>-</td>\n",
       "      <td>2020-01-21</td>\n",
       "    </tr>\n",
       "    <tr>\n",
       "      <th>2</th>\n",
       "      <td>forcamping</td>\n",
       "      <td>forcampingcz</td>\n",
       "      <td>HeurekaCz</td>\n",
       "      <td>heureka</td>\n",
       "      <td>NaN</td>\n",
       "      <td>0.0</td>\n",
       "      <td>0</td>\n",
       "      <td>0</td>\n",
       "      <td>51</td>\n",
       "      <td>2</td>\n",
       "      <td>2</td>\n",
       "      <td>3342.98</td>\n",
       "      <td>3342.98</td>\n",
       "      <td>CZK</td>\n",
       "      <td>-</td>\n",
       "      <td>2020-01-21</td>\n",
       "    </tr>\n",
       "    <tr>\n",
       "      <th>3</th>\n",
       "      <td>forcamping</td>\n",
       "      <td>forcampingcz</td>\n",
       "      <td>unpaid</td>\n",
       "      <td>organic</td>\n",
       "      <td>NaN</td>\n",
       "      <td>0.0</td>\n",
       "      <td>0</td>\n",
       "      <td>0</td>\n",
       "      <td>0</td>\n",
       "      <td>59</td>\n",
       "      <td>59</td>\n",
       "      <td>121605.97</td>\n",
       "      <td>121605.97</td>\n",
       "      <td>CZK</td>\n",
       "      <td>-</td>\n",
       "      <td>2020-01-21</td>\n",
       "    </tr>\n",
       "    <tr>\n",
       "      <th>4</th>\n",
       "      <td>forcamping</td>\n",
       "      <td>forcampingcz</td>\n",
       "      <td>ZboziCz</td>\n",
       "      <td>zbozi</td>\n",
       "      <td>NaN</td>\n",
       "      <td>0.0</td>\n",
       "      <td>0</td>\n",
       "      <td>0</td>\n",
       "      <td>83</td>\n",
       "      <td>3</td>\n",
       "      <td>3</td>\n",
       "      <td>3604.96</td>\n",
       "      <td>3604.96</td>\n",
       "      <td>CZK</td>\n",
       "      <td>-</td>\n",
       "      <td>2020-01-21</td>\n",
       "    </tr>\n",
       "  </tbody>\n",
       "</table>\n",
       "</div>"
      ],
      "text/plain": [
       "      account  businessUnit platformCode channelCode adCampaign  \\\n",
       "0  forcamping  forcampingcz       unpaid      notset        NaN   \n",
       "1  forcamping  forcampingcz       unpaid      direct        NaN   \n",
       "2  forcamping  forcampingcz    HeurekaCz     heureka        NaN   \n",
       "3  forcamping  forcampingcz       unpaid     organic        NaN   \n",
       "4  forcamping  forcampingcz      ZboziCz       zbozi        NaN   \n",
       "\n",
       "   marketingInvestment  impressions  clicks  visits  conversions  deliveries  \\\n",
       "0                  0.0            0       0       0            5           5   \n",
       "1                  0.0            0       0       0           22          22   \n",
       "2                  0.0            0       0      51            2           2   \n",
       "3                  0.0            0       0       0           59          59   \n",
       "4                  0.0            0       0      83            3           3   \n",
       "\n",
       "   netRevenue  grossProfit currencyCode adGroup periodStartDate  \n",
       "0    10724.79     10724.79          CZK       -      2020-01-21  \n",
       "1    48687.03     48687.03          CZK       -      2020-01-21  \n",
       "2     3342.98      3342.98          CZK       -      2020-01-21  \n",
       "3   121605.97    121605.97          CZK       -      2020-01-21  \n",
       "4     3604.96      3604.96          CZK       -      2020-01-21  "
      ]
     },
     "execution_count": 30,
     "metadata": {},
     "output_type": "execute_result"
    }
   ],
   "source": [
    "df = pd.read_csv('input\\\\'+ list_files[0],\n",
    "                 sep=\"\\t\",\n",
    "                 infer_datetime_format=True,\n",
    "                 usecols=usecols,\n",
    "                 dtype=dtype,\n",
    "                 parse_dates=DateTimeID)\n",
    "\n",
    "df['periodStartDate'] = pd.to_datetime(df['periodStartDate'])\n",
    "\n",
    "df.head(5)"
   ]
  },
  {
   "cell_type": "code",
   "execution_count": 31,
   "metadata": {
    "ExecuteTime": {
     "end_time": "2021-02-09T21:56:44.895495Z",
     "start_time": "2021-02-09T21:56:44.868494Z"
    }
   },
   "outputs": [
    {
     "data": {
      "text/plain": [
       "['forcampingcz']"
      ]
     },
     "execution_count": 31,
     "metadata": {},
     "output_type": "execute_result"
    }
   ],
   "source": [
    "business_unit_code = df['businessUnit'].unique().tolist()\n",
    "business_unit_code"
   ]
  },
  {
   "cell_type": "code",
   "execution_count": 32,
   "metadata": {
    "ExecuteTime": {
     "end_time": "2021-02-09T21:56:58.548276Z",
     "start_time": "2021-02-09T21:56:45.375523Z"
    }
   },
   "outputs": [
    {
     "name": "stdout",
     "output_type": "stream",
     "text": [
      "forcampingcz business unit AdWords platform has \t0.8571428571428571 corr coefficient\n",
      "Regression calculated successfully\n",
      "forcampingcz business unit Adform platform has \t0.9081660805438483 corr coefficient\n",
      "Regression calculated successfully\n",
      "forcampingcz business unit CjAffiliate platform has \t0.825188065671118 corr coefficient\n",
      "Regression calculated successfully\n",
      "forcampingcz business unit Criteo platform has \t0.8571428571428571 corr coefficient\n",
      "Regression calculated successfully\n",
      "forcampingcz business unit HeurekaCz platform has \t0.9780219780219779 corr coefficient\n",
      "Regression calculated successfully\n",
      "forcampingcz business unit Sklik platform has \t0.901098901098901 corr coefficient\n",
      "Regression calculated successfully\n",
      "forcampingcz business unit ZboziCz platform has \t0.9285714285714285 corr coefficient\n",
      "Regression calculated successfully\n"
     ]
    }
   ],
   "source": [
    "#select window for regression \n",
    "excel_coll = 0\n",
    "precision  = 3\n",
    "corr_thld  = 0.8\n",
    "aws_alpha  = 0.15\n",
    "\n",
    "platform_code = df['platformCode'].unique().tolist()\n",
    "platform_code.sort()\n",
    "business_unit_code = df['businessUnit'].unique().tolist()\n",
    "business_unit_code.sort()\n",
    "channel_code_code = df['channelCode'].unique().tolist()\n",
    "channel_code_code.sort()\n",
    "currency_code_code = df['currencyCode'].unique().tolist()\n",
    "currency_code_code.sort()\n",
    "account_code = df['account'].unique().tolist()\n",
    "\n",
    "\n",
    "dropped_ch = ['Not tracked','notset','unpaid']\n",
    "\n",
    "workbook = xlsxwriter.Workbook(folder + account_code[0]+' platform corr.xlsx') #folder + \n",
    "\n",
    "bold = workbook.add_format({'bold': True})\n",
    "\n",
    "df_time_selected = df[df['periodStartDate'] >= df['periodStartDate'].max() - pd.DateOffset(weeks=time_window_regr)] \n",
    "\n",
    "worksheet = workbook.add_worksheet('Platform')\n",
    "\n",
    "excel_row  = 2\n",
    "\n",
    "output = pd.DataFrame()\n",
    "\n",
    "for i in business_unit_code:\n",
    "    df_selected = df_time_selected[df_time_selected['businessUnit'] == i]\n",
    "    #worksheet = workbook.add_worksheet(i)\n",
    "    worksheet.set_column('A:A', 20)\n",
    "    worksheet.set_column('B:B', 20)\n",
    "    worksheet.set_column('C:C', 30)\n",
    "    worksheet.set_column('D:D', 10)\n",
    "    worksheet.set_column('E:E', 10)\n",
    "    worksheet.set_column('F:F', 10)\n",
    "    worksheet.set_column('G:G', 15)\n",
    "    worksheet.set_column('H:H', 15)\n",
    "    worksheet.set_column('I:I', 15)\n",
    "    worksheet.set_column('J:J', 15)\n",
    "    worksheet.set_column('K:K', 15)\n",
    "    worksheet.set_column('L:L', 15)\n",
    "\n",
    "    worksheet.write('A1', 'Client', bold)\n",
    "    worksheet.write('B1', 'Business unit', bold)\n",
    "    worksheet.write('C1', 'Platform', bold)\n",
    "    #worksheet.write('D1', 'Campaign', bold)\n",
    "    worksheet.write('E1', 'Corr coeff.', bold)\n",
    "    worksheet.write('F1', 'Pr. value', bold)\n",
    "    worksheet.write('G1', 'a', bold)\n",
    "    worksheet.write('H1', 'b', bold)\n",
    "    worksheet.write('I1', 'Mean', bold)\n",
    "    worksheet.write('J1', 'R-std', bold)\n",
    "    worksheet.write('K1', 'Invest', bold)\n",
    "    worksheet.write('L1', 'Profit', bold)\n",
    "      \n",
    "    worksheet.write('A'+str(excel_row),i)\n",
    "    \n",
    "    for z in platform_code:\n",
    "        df_platform = df_selected[df_selected['platformCode'] == z]\n",
    "                       \n",
    "        df_business_selected_agg = select_agg_resample_df(df_platform, 'periodStartDate', 'week', use_nan = False)\n",
    "        \n",
    "        df_business_selected_agg_filter = filter_df(df_business_selected_agg, aws_alpha)\n",
    "        \n",
    "        # add dataframe for materialize interim results \n",
    "        \n",
    "        temp_dict = dict([('Client',''),\n",
    "                          ('Business unit',''),\n",
    "                          ('Platform',''),\n",
    "                          ('Corr coeff.', 0),\n",
    "                          ('Pr. value', 0),\n",
    "                          ('a',0),\n",
    "                          ('b',0),\n",
    "                          ('Mean',0),\n",
    "                          ('R-std',0),\n",
    "                          ('Invest',0),\n",
    "                          ('Profit',0)])\n",
    "        \n",
    "        temp_dict['Client'] = account_code[0]\n",
    "        temp_dict['Business unit'] = i\n",
    "        temp_dict['Platform'] = z\n",
    "        \n",
    "        temp_dict['Profit'] = np.round(df_business_selected_agg['grossProfit'].sum(), 2)\n",
    "        temp_dict['Invest'] = np.round(df_business_selected_agg['marketingInvestment'].sum(), 2)\n",
    "        \n",
    "        sper_crr, P_value = stat.spearmanr(df_business_selected_agg_filter['marketingInvestment'],                       df_business_selected_agg_filter['grossProfit'])\n",
    "               \n",
    "        if sper_crr> corr_thld:\n",
    "            temp_dict['Corr coeff.'] = sper_crr\n",
    "            temp_dict['Pr. value'] = P_value\n",
    "            print (i + ' business unit '+ z + ' platform has \\t'+ str(sper_crr) + ' corr coefficient')\n",
    "\n",
    "            try:\n",
    "                sorted_df = df_business_selected_agg_filter.sort_values( by=['marketingInvestment'], ascending=False )\n",
    "                t_train = sorted_df['marketingInvestment']\n",
    "                y_train = sorted_df['grossProfit']\n",
    "                \n",
    "                regr, err = regression_calc(sorted_df[['marketingInvestment','grossProfit']],log_f)\n",
    "                \n",
    "                R = sorted_df['grossProfit'] - log_f(sorted_df['marketingInvestment'], *regr)\n",
    "                R_std = R.describe()['std']\n",
    "                    \n",
    "                Y_mean = sorted_df['grossProfit'].describe()[1]\n",
    "                \n",
    "                name = i + ' ' + z +' '\n",
    "                ing_name = [name, currency_code_code]\n",
    "                #save_chart(sorted_df, ing_name, R_std)\n",
    "                             \n",
    "                a,b = regr\n",
    "                temp_dict['a'] = a\n",
    "                temp_dict['b'] = b\n",
    "                temp_dict['R-std'] = R_std\n",
    "                temp_dict['Mean'] = Y_mean\n",
    "                \n",
    "                #print(a,b,c)\n",
    "                worksheet.write('A'+str(excel_row), account_code[0])          \n",
    "                worksheet.write('B'+str(excel_row), i) \n",
    "                worksheet.write('C'+str(excel_row), z)\n",
    "                    \n",
    "                #worksheet.write('D'+str(excel_row), y)                    \n",
    "                worksheet.write('E'+str(excel_row), str(np.round(sper_crr, precision)))                    \n",
    "                worksheet.write('F'+str(excel_row), str(np.round(P_value, 7)))             \n",
    "                worksheet.write('G'+str(excel_row), str(np.round(a, precision)))                   \n",
    "                worksheet.write('H'+str(excel_row), str(np.round(b, precision)))                                \n",
    "                worksheet.write('I'+str(excel_row), str(np.round(Y_mean, precision)))                    \n",
    "                worksheet.write('J'+str(excel_row), str(np.round(R_std, precision)))               \n",
    "                worksheet.write('K'+str(excel_row), str(np.round(df_business_selected_agg['marketingInvestment'].sum(), 2)))        \n",
    "                worksheet.write('L'+str(excel_row), str(np.round(df_business_selected_agg['grossProfit'].sum(), 2)))\n",
    "                \n",
    "                excel_row = excel_row + 1\n",
    "                print('Regression calculated successfully')\n",
    "            except:\n",
    "                print(\"Regression wasn't calculated\")\n",
    "                # worksheet.write('A'+ str(excel_row), z)\n",
    "                # excel_row = excel_row + 1\n",
    "                worksheet.write('A'+str(excel_row),account_code[0])           \n",
    "                worksheet.write('B'+str(excel_row), i)    \n",
    "                worksheet.write('C'+str(excel_row), z) \n",
    "                worksheet.write('K'+str(excel_row), str(np.round(df_business_selected_agg['marketingInvestment'].sum(), 2)))\n",
    "                worksheet.write('L'+str(excel_row), str(np.round(df_business_selected_agg['grossProfit'].sum(), 2)))\n",
    "                \n",
    "                temp_dict['a'] = 0\n",
    "                temp_dict['b'] = 0\n",
    "            \n",
    "                excel_row = excel_row + 1\n",
    "\n",
    "        else:\n",
    "            worksheet.write('A'+str(excel_row), account_code[0])       \n",
    "            worksheet.write('B'+str(excel_row), i)        \n",
    "            worksheet.write('C'+str(excel_row), z)\n",
    "            worksheet.write('K'+str(excel_row), str(np.round(df_business_selected_agg['marketingInvestment'].sum(), 2)))    \n",
    "            worksheet.write('L'+str(excel_row), str(np.round(df_business_selected_agg['grossProfit'].sum(), 2)))\n",
    "            \n",
    "            excel_row = excel_row + 1\n",
    "            \n",
    "            temp_dict['a'] = 0\n",
    "            temp_dict['b'] = 0\n",
    "                        \n",
    "        output = output.append(temp_dict, ignore_index=True)\n",
    "\n",
    "worksheet = workbook.add_worksheet('Settings')\n",
    "\n",
    "worksheet.set_column('A:A', 25)\n",
    "worksheet.set_column('B:B', 15)\n",
    "worksheet.set_column('C:C', 20)\n",
    "worksheet.set_column('D:D', 20)\n",
    "worksheet.set_column('E:E', 10)\n",
    "\n",
    "worksheet.write('A1', 'Alpha (AWS filter coef.)', bold)\n",
    "worksheet.write('B1', 'Corr. threshold', bold)\n",
    "worksheet.write('C1', 'Time window [week]', bold)\n",
    "worksheet.write('D1', 'Dropped channel.', bold)\n",
    "#worksheet.write('E1', 'Corr coeff.', bold)\n",
    "\n",
    "worksheet.write('A2',aws_alpha)\n",
    "worksheet.write('B2',corr_thld)\n",
    "worksheet.write('C2',time_window_regr)\n",
    "\n",
    "for i in range(len(dropped_ch)):\n",
    "    worksheet.write('D'+ str(i + 2), dropped_ch[i])\n",
    "\n",
    "worksheet = workbook.add_worksheet('Summary')\n",
    "\n",
    "worksheet.set_column('A:A', 15)\n",
    "worksheet.set_column('B:B', 25)\n",
    "worksheet.set_column('C:C', 25)\n",
    "worksheet.set_column('D:D', 25)\n",
    "worksheet.set_column('E:E', 25)\n",
    "worksheet.set_column('F:F', 25)\n",
    "worksheet.set_column('G:G', 25)\n",
    "worksheet.set_column('H:H', 12)\n",
    "\n",
    "worksheet.write('A1', 'Client', bold)\n",
    "worksheet.write('B1', 'Investment under control', bold)\n",
    "worksheet.write('C1', 'Non-controlled investment', bold)\n",
    "worksheet.write('D1', 'Controlled investment, [%]', bold)\n",
    "worksheet.write('E1', 'Profit under control', bold)\n",
    "worksheet.write('F1', 'Non-controlled profit', bold)\n",
    "worksheet.write('G1', 'Controlled profit, [%]', bold)\n",
    "worksheet.write('H1', 'Level', bold)\n",
    "\n",
    "\n",
    "filterd_out = output[~output['Platform'].isin(dropped_ch)]\n",
    "\n",
    "corr_df = filterd_out[filterd_out['Corr coeff.'] > corr_thld]\n",
    "\n",
    "non_corr_df = filterd_out[filterd_out['Corr coeff.'] <= corr_thld]\n",
    "\n",
    "control_inv = corr_df['Invest'].sum()\n",
    "\n",
    "non_control_inv = non_corr_df['Invest'].sum()\n",
    "\n",
    "control_prof = corr_df['Profit'].sum()\n",
    "\n",
    "non_control_iprof = non_corr_df['Profit'].sum()\n",
    "\n",
    "worksheet.write('A2',account_code[0])\n",
    "worksheet.write('B2',control_inv)\n",
    "worksheet.write('C2',non_control_inv)\n",
    "worksheet.write('D2',str(np.round((control_inv/(non_control_inv + control_inv))*100, 1)))\n",
    "worksheet.write('E2',control_prof)\n",
    "worksheet.write('F2',non_control_iprof)\n",
    "worksheet.write('G2',str(np.round((control_prof/(non_control_iprof + control_prof))*100, 1)))\n",
    "worksheet.write('H2', 'Platform', bold)\n",
    "\n",
    "workbook.close()"
   ]
  },
  {
   "cell_type": "code",
   "execution_count": 34,
   "metadata": {
    "ExecuteTime": {
     "end_time": "2021-02-09T21:57:10.585965Z",
     "start_time": "2021-02-09T21:57:10.559963Z"
    }
   },
   "outputs": [
    {
     "data": {
      "text/html": [
       "<div>\n",
       "<style scoped>\n",
       "    .dataframe tbody tr th:only-of-type {\n",
       "        vertical-align: middle;\n",
       "    }\n",
       "\n",
       "    .dataframe tbody tr th {\n",
       "        vertical-align: top;\n",
       "    }\n",
       "\n",
       "    .dataframe thead th {\n",
       "        text-align: right;\n",
       "    }\n",
       "</style>\n",
       "<table border=\"1\" class=\"dataframe\">\n",
       "  <thead>\n",
       "    <tr style=\"text-align: right;\">\n",
       "      <th></th>\n",
       "      <th>Business unit</th>\n",
       "      <th>Client</th>\n",
       "      <th>Corr coeff.</th>\n",
       "      <th>Invest</th>\n",
       "      <th>Mean</th>\n",
       "      <th>Platform</th>\n",
       "      <th>Pr. value</th>\n",
       "      <th>Profit</th>\n",
       "      <th>R-std</th>\n",
       "      <th>a</th>\n",
       "      <th>b</th>\n",
       "    </tr>\n",
       "  </thead>\n",
       "  <tbody>\n",
       "    <tr>\n",
       "      <th>0</th>\n",
       "      <td>forcampingcz</td>\n",
       "      <td>forcamping</td>\n",
       "      <td>0.857143</td>\n",
       "      <td>2498886.33</td>\n",
       "      <td>1.347713e+06</td>\n",
       "      <td>AdWords</td>\n",
       "      <td>1.809341e-04</td>\n",
       "      <td>24723808.49</td>\n",
       "      <td>127506.490168</td>\n",
       "      <td>-3.522408e+10</td>\n",
       "      <td>-3.525688e+09</td>\n",
       "    </tr>\n",
       "    <tr>\n",
       "      <th>1</th>\n",
       "      <td>forcampingcz</td>\n",
       "      <td>forcamping</td>\n",
       "      <td>0.908166</td>\n",
       "      <td>141055.05</td>\n",
       "      <td>6.057012e+02</td>\n",
       "      <td>Adform</td>\n",
       "      <td>1.763031e-05</td>\n",
       "      <td>11858.65</td>\n",
       "      <td>145.862185</td>\n",
       "      <td>2.706003e+06</td>\n",
       "      <td>3.204112e+07</td>\n",
       "    </tr>\n",
       "    <tr>\n",
       "      <th>2</th>\n",
       "      <td>forcampingcz</td>\n",
       "      <td>forcamping</td>\n",
       "      <td>0.825188</td>\n",
       "      <td>129781.24</td>\n",
       "      <td>1.742531e+05</td>\n",
       "      <td>CjAffiliate</td>\n",
       "      <td>5.147121e-04</td>\n",
       "      <td>3336740.70</td>\n",
       "      <td>56797.853131</td>\n",
       "      <td>2.237580e+05</td>\n",
       "      <td>4.842359e+02</td>\n",
       "    </tr>\n",
       "    <tr>\n",
       "      <th>3</th>\n",
       "      <td>forcampingcz</td>\n",
       "      <td>forcamping</td>\n",
       "      <td>0.857143</td>\n",
       "      <td>72745.85</td>\n",
       "      <td>7.748536e+04</td>\n",
       "      <td>Criteo</td>\n",
       "      <td>1.809341e-04</td>\n",
       "      <td>1255595.11</td>\n",
       "      <td>3495.615452</td>\n",
       "      <td>1.394357e+05</td>\n",
       "      <td>5.112210e+03</td>\n",
       "    </tr>\n",
       "    <tr>\n",
       "      <th>4</th>\n",
       "      <td>forcampingcz</td>\n",
       "      <td>forcamping</td>\n",
       "      <td>0.000000</td>\n",
       "      <td>599074.98</td>\n",
       "      <td>0.000000e+00</td>\n",
       "      <td>FacebookBusinessAdsManager</td>\n",
       "      <td>0.000000e+00</td>\n",
       "      <td>1064498.45</td>\n",
       "      <td>0.000000</td>\n",
       "      <td>0.000000e+00</td>\n",
       "      <td>0.000000e+00</td>\n",
       "    </tr>\n",
       "    <tr>\n",
       "      <th>5</th>\n",
       "      <td>forcampingcz</td>\n",
       "      <td>forcamping</td>\n",
       "      <td>0.000000</td>\n",
       "      <td>11584.09</td>\n",
       "      <td>0.000000e+00</td>\n",
       "      <td>Favi</td>\n",
       "      <td>0.000000e+00</td>\n",
       "      <td>75762.98</td>\n",
       "      <td>0.000000</td>\n",
       "      <td>0.000000e+00</td>\n",
       "      <td>0.000000e+00</td>\n",
       "    </tr>\n",
       "    <tr>\n",
       "      <th>6</th>\n",
       "      <td>forcampingcz</td>\n",
       "      <td>forcamping</td>\n",
       "      <td>0.978022</td>\n",
       "      <td>253309.52</td>\n",
       "      <td>4.431343e+05</td>\n",
       "      <td>HeurekaCz</td>\n",
       "      <td>7.757814e-09</td>\n",
       "      <td>8828597.69</td>\n",
       "      <td>43520.632068</td>\n",
       "      <td>1.247685e+06</td>\n",
       "      <td>2.549573e+04</td>\n",
       "    </tr>\n",
       "    <tr>\n",
       "      <th>7</th>\n",
       "      <td>forcampingcz</td>\n",
       "      <td>forcamping</td>\n",
       "      <td>0.901099</td>\n",
       "      <td>447646.55</td>\n",
       "      <td>1.936951e+05</td>\n",
       "      <td>Sklik</td>\n",
       "      <td>2.613862e-05</td>\n",
       "      <td>4013801.63</td>\n",
       "      <td>20717.569022</td>\n",
       "      <td>-7.292164e+09</td>\n",
       "      <td>-8.616597e+08</td>\n",
       "    </tr>\n",
       "    <tr>\n",
       "      <th>8</th>\n",
       "      <td>forcampingcz</td>\n",
       "      <td>forcamping</td>\n",
       "      <td>0.928571</td>\n",
       "      <td>38701.50</td>\n",
       "      <td>1.484100e+05</td>\n",
       "      <td>ZboziCz</td>\n",
       "      <td>4.607427e-06</td>\n",
       "      <td>2860389.32</td>\n",
       "      <td>11529.378777</td>\n",
       "      <td>-5.495873e+05</td>\n",
       "      <td>-8.500254e+03</td>\n",
       "    </tr>\n",
       "  </tbody>\n",
       "</table>\n",
       "</div>"
      ],
      "text/plain": [
       "  Business unit      Client  Corr coeff.      Invest          Mean  \\\n",
       "0  forcampingcz  forcamping     0.857143  2498886.33  1.347713e+06   \n",
       "1  forcampingcz  forcamping     0.908166   141055.05  6.057012e+02   \n",
       "2  forcampingcz  forcamping     0.825188   129781.24  1.742531e+05   \n",
       "3  forcampingcz  forcamping     0.857143    72745.85  7.748536e+04   \n",
       "4  forcampingcz  forcamping     0.000000   599074.98  0.000000e+00   \n",
       "5  forcampingcz  forcamping     0.000000    11584.09  0.000000e+00   \n",
       "6  forcampingcz  forcamping     0.978022   253309.52  4.431343e+05   \n",
       "7  forcampingcz  forcamping     0.901099   447646.55  1.936951e+05   \n",
       "8  forcampingcz  forcamping     0.928571    38701.50  1.484100e+05   \n",
       "\n",
       "                     Platform     Pr. value       Profit          R-std  \\\n",
       "0                     AdWords  1.809341e-04  24723808.49  127506.490168   \n",
       "1                      Adform  1.763031e-05     11858.65     145.862185   \n",
       "2                 CjAffiliate  5.147121e-04   3336740.70   56797.853131   \n",
       "3                      Criteo  1.809341e-04   1255595.11    3495.615452   \n",
       "4  FacebookBusinessAdsManager  0.000000e+00   1064498.45       0.000000   \n",
       "5                        Favi  0.000000e+00     75762.98       0.000000   \n",
       "6                   HeurekaCz  7.757814e-09   8828597.69   43520.632068   \n",
       "7                       Sklik  2.613862e-05   4013801.63   20717.569022   \n",
       "8                     ZboziCz  4.607427e-06   2860389.32   11529.378777   \n",
       "\n",
       "              a             b  \n",
       "0 -3.522408e+10 -3.525688e+09  \n",
       "1  2.706003e+06  3.204112e+07  \n",
       "2  2.237580e+05  4.842359e+02  \n",
       "3  1.394357e+05  5.112210e+03  \n",
       "4  0.000000e+00  0.000000e+00  \n",
       "5  0.000000e+00  0.000000e+00  \n",
       "6  1.247685e+06  2.549573e+04  \n",
       "7 -7.292164e+09 -8.616597e+08  \n",
       "8 -5.495873e+05 -8.500254e+03  "
      ]
     },
     "execution_count": 34,
     "metadata": {},
     "output_type": "execute_result"
    }
   ],
   "source": [
    "filterd_out"
   ]
  },
  {
   "cell_type": "markdown",
   "metadata": {},
   "source": [
    "## Collect regression parameters for individual Campaign"
   ]
  },
  {
   "cell_type": "code",
   "execution_count": 27,
   "metadata": {
    "ExecuteTime": {
     "end_time": "2021-02-09T21:19:45.110531Z",
     "start_time": "2021-02-09T21:19:37.854116Z"
    }
   },
   "outputs": [
    {
     "data": {
      "text/html": [
       "<div>\n",
       "<style scoped>\n",
       "    .dataframe tbody tr th:only-of-type {\n",
       "        vertical-align: middle;\n",
       "    }\n",
       "\n",
       "    .dataframe tbody tr th {\n",
       "        vertical-align: top;\n",
       "    }\n",
       "\n",
       "    .dataframe thead th {\n",
       "        text-align: right;\n",
       "    }\n",
       "</style>\n",
       "<table border=\"1\" class=\"dataframe\">\n",
       "  <thead>\n",
       "    <tr style=\"text-align: right;\">\n",
       "      <th></th>\n",
       "      <th>account</th>\n",
       "      <th>businessUnit</th>\n",
       "      <th>platformCode</th>\n",
       "      <th>channelCode</th>\n",
       "      <th>adCampaign</th>\n",
       "      <th>marketingInvestment</th>\n",
       "      <th>impressions</th>\n",
       "      <th>clicks</th>\n",
       "      <th>visits</th>\n",
       "      <th>conversions</th>\n",
       "      <th>deliveries</th>\n",
       "      <th>netRevenue</th>\n",
       "      <th>grossProfit</th>\n",
       "      <th>currencyCode</th>\n",
       "      <th>adGroup</th>\n",
       "      <th>periodStartDate</th>\n",
       "    </tr>\n",
       "  </thead>\n",
       "  <tbody>\n",
       "    <tr>\n",
       "      <th>0</th>\n",
       "      <td>vodafoneczechrepublicas</td>\n",
       "      <td>vodafonecz-leady</td>\n",
       "      <td>unpaid</td>\n",
       "      <td>notset</td>\n",
       "      <td>NaN</td>\n",
       "      <td>0.0</td>\n",
       "      <td>0</td>\n",
       "      <td>0</td>\n",
       "      <td>0</td>\n",
       "      <td>0</td>\n",
       "      <td>0</td>\n",
       "      <td>0.0</td>\n",
       "      <td>0.0</td>\n",
       "      <td>CZK</td>\n",
       "      <td>-</td>\n",
       "      <td>2020-01-23</td>\n",
       "    </tr>\n",
       "    <tr>\n",
       "      <th>1</th>\n",
       "      <td>vodafoneczechrepublicas</td>\n",
       "      <td>vodafonecz-leady</td>\n",
       "      <td>unpaid</td>\n",
       "      <td>direct</td>\n",
       "      <td>NaN</td>\n",
       "      <td>0.0</td>\n",
       "      <td>0</td>\n",
       "      <td>0</td>\n",
       "      <td>0</td>\n",
       "      <td>11</td>\n",
       "      <td>11</td>\n",
       "      <td>0.0</td>\n",
       "      <td>0.0</td>\n",
       "      <td>CZK</td>\n",
       "      <td>-</td>\n",
       "      <td>2020-01-23</td>\n",
       "    </tr>\n",
       "    <tr>\n",
       "      <th>2</th>\n",
       "      <td>vodafoneczechrepublicas</td>\n",
       "      <td>vodafonecz-leady</td>\n",
       "      <td>unpaid</td>\n",
       "      <td>email</td>\n",
       "      <td>NaN</td>\n",
       "      <td>0.0</td>\n",
       "      <td>0</td>\n",
       "      <td>0</td>\n",
       "      <td>0</td>\n",
       "      <td>0</td>\n",
       "      <td>0</td>\n",
       "      <td>0.0</td>\n",
       "      <td>0.0</td>\n",
       "      <td>CZK</td>\n",
       "      <td>-</td>\n",
       "      <td>2020-01-23</td>\n",
       "    </tr>\n",
       "    <tr>\n",
       "      <th>3</th>\n",
       "      <td>vodafoneczechrepublicas</td>\n",
       "      <td>vodafonecz-leady</td>\n",
       "      <td>unpaid</td>\n",
       "      <td>internal</td>\n",
       "      <td>NaN</td>\n",
       "      <td>0.0</td>\n",
       "      <td>0</td>\n",
       "      <td>0</td>\n",
       "      <td>0</td>\n",
       "      <td>0</td>\n",
       "      <td>0</td>\n",
       "      <td>0.0</td>\n",
       "      <td>0.0</td>\n",
       "      <td>CZK</td>\n",
       "      <td>-</td>\n",
       "      <td>2020-01-23</td>\n",
       "    </tr>\n",
       "    <tr>\n",
       "      <th>4</th>\n",
       "      <td>vodafoneczechrepublicas</td>\n",
       "      <td>vodafonecz-leady</td>\n",
       "      <td>AdWords</td>\n",
       "      <td>naturalsearch-google</td>\n",
       "      <td>NaN</td>\n",
       "      <td>0.0</td>\n",
       "      <td>0</td>\n",
       "      <td>0</td>\n",
       "      <td>18864</td>\n",
       "      <td>8</td>\n",
       "      <td>8</td>\n",
       "      <td>0.0</td>\n",
       "      <td>0.0</td>\n",
       "      <td>CZK</td>\n",
       "      <td>-</td>\n",
       "      <td>2020-01-23</td>\n",
       "    </tr>\n",
       "  </tbody>\n",
       "</table>\n",
       "</div>"
      ],
      "text/plain": [
       "                   account      businessUnit platformCode  \\\n",
       "0  vodafoneczechrepublicas  vodafonecz-leady       unpaid   \n",
       "1  vodafoneczechrepublicas  vodafonecz-leady       unpaid   \n",
       "2  vodafoneczechrepublicas  vodafonecz-leady       unpaid   \n",
       "3  vodafoneczechrepublicas  vodafonecz-leady       unpaid   \n",
       "4  vodafoneczechrepublicas  vodafonecz-leady      AdWords   \n",
       "\n",
       "            channelCode adCampaign  marketingInvestment  impressions  clicks  \\\n",
       "0                notset        NaN                  0.0            0       0   \n",
       "1                direct        NaN                  0.0            0       0   \n",
       "2                 email        NaN                  0.0            0       0   \n",
       "3              internal        NaN                  0.0            0       0   \n",
       "4  naturalsearch-google        NaN                  0.0            0       0   \n",
       "\n",
       "   visits  conversions  deliveries  netRevenue  grossProfit currencyCode  \\\n",
       "0       0            0           0         0.0          0.0          CZK   \n",
       "1       0           11          11         0.0          0.0          CZK   \n",
       "2       0            0           0         0.0          0.0          CZK   \n",
       "3       0            0           0         0.0          0.0          CZK   \n",
       "4   18864            8           8         0.0          0.0          CZK   \n",
       "\n",
       "  adGroup periodStartDate  \n",
       "0       -      2020-01-23  \n",
       "1       -      2020-01-23  \n",
       "2       -      2020-01-23  \n",
       "3       -      2020-01-23  \n",
       "4       -      2020-01-23  "
      ]
     },
     "execution_count": 27,
     "metadata": {},
     "output_type": "execute_result"
    }
   ],
   "source": [
    "df = pd.read_csv('input\\\\'+ list_files[33],\n",
    "                 sep=\"\\t\",\n",
    "                 infer_datetime_format=True,\n",
    "                 usecols=usecols,\n",
    "                 dtype=dtype,\n",
    "                 parse_dates=DateTimeID)\n",
    "\n",
    "df['periodStartDate'] = pd.to_datetime(df['periodStartDate'])\n",
    "\n",
    "df.head(5)"
   ]
  },
  {
   "cell_type": "code",
   "execution_count": null,
   "metadata": {
    "ExecuteTime": {
     "start_time": "2021-02-09T21:19:08.782Z"
    }
   },
   "outputs": [],
   "source": [
    "#select window for regression \n",
    "excel_coll = 0\n",
    "precision  = 3\n",
    "corr_thld  = 0.8\n",
    "aws_alpha  = 0.15\n",
    "\n",
    "platform_code = df['platformCode'].unique().tolist()\n",
    "platform_code.sort()\n",
    "business_unit_code = df['businessUnit'].unique().tolist()\n",
    "business_unit_code.sort()\n",
    "channel_code_code = df['channelCode'].unique().tolist()\n",
    "channel_code_code.sort()\n",
    "currency_code_code = df['currencyCode'].unique().tolist()\n",
    "currency_code_code.sort()\n",
    "account_code = df['account'].unique().tolist()\n",
    "\n",
    "\n",
    "dropped_ch = ['Not tracked','notset','unpaid']\n",
    "\n",
    "workbook = xlsxwriter.Workbook(folder + account_code[0]+' Campaign corr.xlsx',  {'nan_inf_to_errors': True}) #folder + \n",
    "\n",
    "bold = workbook.add_format({'bold': True})\n",
    "\n",
    "df_time_selected = df[df['periodStartDate'] >= df['periodStartDate'].max() - pd.DateOffset(weeks=time_window_regr)] \n",
    "\n",
    "worksheet = workbook.add_worksheet('Platform')\n",
    "\n",
    "excel_row  = 2\n",
    "\n",
    "output = pd.DataFrame()\n",
    "\n",
    "for i in business_unit_code:\n",
    "    df_selected = df_time_selected[df_time_selected['businessUnit'] == i]\n",
    "    #worksheet = workbook.add_worksheet(i)\n",
    "    worksheet.set_column('A:A', 20)\n",
    "    worksheet.set_column('B:B', 20)\n",
    "    worksheet.set_column('C:C', 30)\n",
    "    worksheet.set_column('D:D', 10)\n",
    "    worksheet.set_column('E:E', 10)\n",
    "    worksheet.set_column('F:F', 10)\n",
    "    worksheet.set_column('G:G', 15)\n",
    "    worksheet.set_column('H:H', 15)\n",
    "    worksheet.set_column('I:I', 15)\n",
    "    worksheet.set_column('J:J', 15)\n",
    "    worksheet.set_column('K:K', 15)\n",
    "    worksheet.set_column('L:L', 15)\n",
    "\n",
    "    worksheet.write('A1', 'Client', bold)\n",
    "    worksheet.write('B1', 'Business unit', bold)\n",
    "    worksheet.write('C1', 'Campaign', bold)\n",
    "    #worksheet.write('D1', 'Campaign', bold)\n",
    "    worksheet.write('E1', 'Corr coeff.', bold)\n",
    "    worksheet.write('F1', 'Pr. value', bold)\n",
    "    worksheet.write('G1', 'a', bold)\n",
    "    worksheet.write('H1', 'b', bold)\n",
    "    worksheet.write('I1', 'Mean', bold)\n",
    "    worksheet.write('J1', 'R-std', bold)\n",
    "    worksheet.write('K1', 'Invest', bold)\n",
    "    worksheet.write('L1', 'Profit', bold)\n",
    "      \n",
    "    worksheet.write('A'+str(excel_row),i)\n",
    "    \n",
    "    campaign_code = df['adCampaign'].unique().tolist()\n",
    "    #campaign_code.sort()\n",
    "    \n",
    "    for z in campaign_code:\n",
    "        df_platform = df_selected[df_selected['adCampaign'] == z]\n",
    "                       \n",
    "        df_business_selected_agg = select_agg_resample_df(df_platform, 'periodStartDate', 'week', use_nan = False)\n",
    "        \n",
    "        df_business_selected_agg_filter = filter_df(df_business_selected_agg, aws_alpha)\n",
    "        \n",
    "        # add dataframe for materialize interim results \n",
    "        \n",
    "        temp_dict = dict([('Client',''),\n",
    "                          ('Business unit',''),\n",
    "                          ('Campaign',''),\n",
    "                          ('Corr coeff.', 0),\n",
    "                          ('Pr. value', 0),\n",
    "                          ('a',0),\n",
    "                          ('b',0),\n",
    "                          ('Mean',0),\n",
    "                          ('R-std',0),\n",
    "                          ('Invest',0),\n",
    "                          ('Profit',0)])\n",
    "        \n",
    "        temp_dict['Client'] = account_code[0]\n",
    "        temp_dict['Business unit'] = i\n",
    "        temp_dict['Platform'] = z\n",
    "        \n",
    "        temp_dict['Profit'] = np.round(df_business_selected_agg['grossProfit'].sum(), 2)\n",
    "        temp_dict['Invest'] = np.round(df_business_selected_agg['marketingInvestment'].sum(), 2)\n",
    "        \n",
    "        sper_crr, P_value = stat.spearmanr(df_business_selected_agg_filter['marketingInvestment'],                       df_business_selected_agg_filter['grossProfit'])\n",
    "               \n",
    "        if sper_crr> corr_thld:\n",
    "            temp_dict['Corr coeff.'] = sper_crr\n",
    "            temp_dict['Pr. value'] = P_value\n",
    "            print (i + ' business unit '+ z + ' platform has \\t'+ str(sper_crr) + ' corr coefficient')\n",
    "\n",
    "            try:\n",
    "                sorted_df = df_business_selected_agg_filter.sort_values( by=['marketingInvestment'], ascending=False )\n",
    "                t_train = sorted_df['marketingInvestment']\n",
    "                y_train = sorted_df['grossProfit']       \n",
    "                regr, err = regression_calc(sorted_df[['marketingInvestment','grossProfit']],log_f)               \n",
    "                R = sorted_df['grossProfit'] - log_f(sorted_df['marketingInvestment'], *regr)\n",
    "                R_std = R.describe()['std']    \n",
    "                Y_mean = sorted_df['grossProfit'].describe()[1]\n",
    "                name = i + ' ' + z +' '\n",
    "                \n",
    "                ing_name = [name, currency_code_code]\n",
    "                #save_chart(sorted_df, ing_name, R_std)\n",
    "                             \n",
    "                a,b = regr\n",
    "                temp_dict['a'] = a\n",
    "                temp_dict['b'] = b\n",
    "                temp_dict['R-std'] = R_std\n",
    "                temp_dict['Mean'] = Y_mean\n",
    "                \n",
    "                #print(a,b,c)\n",
    "                worksheet.write('A'+str(excel_row), account_code[0])          \n",
    "                worksheet.write('B'+str(excel_row), i) \n",
    "                worksheet.write('C'+str(excel_row), z)\n",
    "                    \n",
    "                #worksheet.write('D'+str(excel_row), y)                    \n",
    "                worksheet.write('E'+str(excel_row), str(np.round(sper_crr, precision)))                    \n",
    "                worksheet.write('F'+str(excel_row), str(np.round(P_value, 7)))             \n",
    "                worksheet.write('G'+str(excel_row), str(np.round(a, precision)))                   \n",
    "                worksheet.write('H'+str(excel_row), str(np.round(b, precision)))                                \n",
    "                worksheet.write('I'+str(excel_row), str(np.round(Y_mean, precision)))                    \n",
    "                worksheet.write('J'+str(excel_row), str(np.round(R_std, precision)))               \n",
    "                worksheet.write('K'+str(excel_row), str(np.round(df_business_selected_agg['marketingInvestment'].sum(), 2)))        \n",
    "                worksheet.write('L'+str(excel_row), str(np.round(df_business_selected_agg['grossProfit'].sum(), 2)))\n",
    "                \n",
    "                excel_row = excel_row + 1\n",
    "                print('Regression calculated successfully')\n",
    "            except:\n",
    "                print(\"Regression wasn't calculated\")\n",
    "                # worksheet.write('A'+ str(excel_row), z)\n",
    "                # excel_row = excel_row + 1\n",
    "                worksheet.write('A'+str(excel_row),account_code[0])           \n",
    "                worksheet.write('B'+str(excel_row), i)    \n",
    "                worksheet.write('C'+str(excel_row), z) \n",
    "                worksheet.write('K'+str(excel_row), str(np.round(df_business_selected_agg['marketingInvestment'].sum(), 2)))\n",
    "                worksheet.write('L'+str(excel_row), str(np.round(df_business_selected_agg['grossProfit'].sum(), 2)))\n",
    "                \n",
    "                temp_dict['a'] = 0\n",
    "                temp_dict['b'] = 0\n",
    "            \n",
    "                excel_row = excel_row + 1\n",
    "\n",
    "        else:\n",
    "            worksheet.write('A'+str(excel_row), account_code[0])       \n",
    "            worksheet.write('B'+str(excel_row), i)        \n",
    "            worksheet.write('C'+str(excel_row), z)\n",
    "            worksheet.write('K'+str(excel_row), str(np.round(df_business_selected_agg['marketingInvestment'].sum(), 2)))    \n",
    "            worksheet.write('L'+str(excel_row), str(np.round(df_business_selected_agg['grossProfit'].sum(), 2)))\n",
    "            \n",
    "            excel_row = excel_row + 1\n",
    "            \n",
    "            temp_dict['a'] = 0\n",
    "            temp_dict['b'] = 0\n",
    "                        \n",
    "        output = output.append(temp_dict, ignore_index=True)\n",
    "\n",
    "worksheet = workbook.add_worksheet('Settings')\n",
    "\n",
    "worksheet.set_column('A:A', 25)\n",
    "worksheet.set_column('B:B', 15)\n",
    "worksheet.set_column('C:C', 20)\n",
    "worksheet.set_column('D:D', 20)\n",
    "worksheet.set_column('E:E', 10)\n",
    "\n",
    "worksheet.write('A1', 'Alpha (AWS filter coef.)', bold)\n",
    "worksheet.write('B1', 'Corr. threshold', bold)\n",
    "worksheet.write('C1', 'Time window [week]', bold)\n",
    "worksheet.write('D1', 'Dropped channel.', bold)\n",
    "#worksheet.write('E1', 'Corr coeff.', bold)\n",
    "\n",
    "worksheet.write('A2',aws_alpha)\n",
    "worksheet.write('B2',corr_thld)\n",
    "worksheet.write('C2',time_window_regr)\n",
    "\n",
    "for i in range(len(dropped_ch)):\n",
    "    worksheet.write('D'+ str(i + 2), dropped_ch[i])\n",
    "\n",
    "worksheet = workbook.add_worksheet('Summary')\n",
    "\n",
    "worksheet.set_column('A:A', 15)\n",
    "worksheet.set_column('B:B', 25)\n",
    "worksheet.set_column('C:C', 25)\n",
    "worksheet.set_column('D:D', 25)\n",
    "worksheet.set_column('E:E', 25)\n",
    "worksheet.set_column('F:F', 25)\n",
    "worksheet.set_column('G:G', 25)\n",
    "worksheet.set_column('H:H', 12)\n",
    "\n",
    "worksheet.write('A1', 'Client', bold)\n",
    "worksheet.write('B1', 'Investment under control', bold)\n",
    "worksheet.write('C1', 'Non-controlled investment', bold)\n",
    "worksheet.write('D1', 'Controlled investment, [%]', bold)\n",
    "worksheet.write('E1', 'Profit under control', bold)\n",
    "worksheet.write('F1', 'Non-controlled profit', bold)\n",
    "worksheet.write('G1', 'Controlled profit, [%]', bold)\n",
    "worksheet.write('H1', 'Level', bold)\n",
    "\n",
    "\n",
    "filterd_out = output[~output['Platform'].isin(dropped_ch)]\n",
    "\n",
    "corr_df = filterd_out[filterd_out['Corr coeff.'] > corr_thld]\n",
    "\n",
    "non_corr_df = filterd_out[filterd_out['Corr coeff.'] <= corr_thld]\n",
    "\n",
    "control_inv = corr_df['Invest'].sum()\n",
    "\n",
    "non_control_inv = non_corr_df['Invest'].sum()\n",
    "\n",
    "control_prof = corr_df['Profit'].sum()\n",
    "\n",
    "non_control_iprof = non_corr_df['Profit'].sum()\n",
    "\n",
    "worksheet.write('A2',account_code[0])\n",
    "worksheet.write('B2',control_inv)\n",
    "worksheet.write('C2',non_control_inv)\n",
    "worksheet.write('D2',str(np.round((control_inv/(non_control_inv + control_inv))*100, 1)))\n",
    "worksheet.write('E2',control_prof)\n",
    "worksheet.write('F2',non_control_iprof)\n",
    "worksheet.write('G2',str(np.round((control_prof/(non_control_iprof + control_prof))*100, 1)))\n",
    "worksheet.write('H2', 'Platform', bold)\n",
    "\n",
    "workbook.close()"
   ]
  },
  {
   "cell_type": "code",
   "execution_count": null,
   "metadata": {},
   "outputs": [],
   "source": []
  },
  {
   "cell_type": "code",
   "execution_count": null,
   "metadata": {},
   "outputs": [],
   "source": []
  },
  {
   "cell_type": "code",
   "execution_count": null,
   "metadata": {
    "ExecuteTime": {
     "start_time": "2021-02-09T21:19:08.791Z"
    }
   },
   "outputs": [],
   "source": [
    "writer = pd.ExcelWriter('pandas_simple.xlsx', engine='xlsxwriter')"
   ]
  },
  {
   "cell_type": "code",
   "execution_count": null,
   "metadata": {
    "ExecuteTime": {
     "start_time": "2021-02-09T21:19:08.795Z"
    }
   },
   "outputs": [],
   "source": [
    "filterd_out = output[~output['Platform'].isin(dropped_ch)]\n",
    "filterd_out = filterd_out.reset_index()"
   ]
  },
  {
   "cell_type": "code",
   "execution_count": null,
   "metadata": {
    "ExecuteTime": {
     "start_time": "2021-02-09T21:19:08.800Z"
    }
   },
   "outputs": [],
   "source": [
    "filterd_out.to_excel(writer, sheet_name='Sheet1')\n",
    "workbook  = writer.book\n",
    "worksheet = writer.sheets['Sheet1']\n",
    "\n",
    "worksheet.set_column('A:A', 20)\n",
    "worksheet.set_column('B:B', 20)\n",
    "worksheet.set_column('C:C', 20)\n",
    "worksheet.set_column('D:D', 20)\n",
    "worksheet.set_column('E:E', 20)\n",
    "worksheet.set_column('F:F', 20)\n",
    "worksheet.set_column('G:G', 20)\n",
    "worksheet.set_column('H:H', 20)\n",
    "worksheet.set_column('I:I', 20)\n",
    "worksheet.set_column('J:J', 20)\n",
    "worksheet.set_column('K:K', 20)\n",
    "worksheet.set_column('L:L', 20)\n",
    "\n",
    "filterd_out.to_excel(writer, sheet_name='Sheet2')\n",
    "workbook  = writer.book\n",
    "worksheet = writer.sheets['Sheet2']\n",
    "\n",
    "worksheet.set_column('A:A', 20)\n",
    "worksheet.set_column('B:B', 20)\n",
    "worksheet.set_column('C:C', 20)\n",
    "worksheet.set_column('D:D', 20)\n",
    "worksheet.set_column('E:E', 20)\n",
    "worksheet.set_column('F:F', 20)\n",
    "worksheet.set_column('G:G', 20)\n",
    "worksheet.set_column('H:H', 20)\n",
    "worksheet.set_column('I:I', 20)\n",
    "worksheet.set_column('J:J', 20)\n",
    "worksheet.set_column('K:K', 20)\n",
    "worksheet.set_column('L:L', 20)"
   ]
  },
  {
   "cell_type": "code",
   "execution_count": null,
   "metadata": {
    "ExecuteTime": {
     "start_time": "2021-02-09T21:19:08.806Z"
    }
   },
   "outputs": [],
   "source": [
    "#corr_df = filterd_out[filterd_out['Corr coeff.'] > corr_thld]\n",
    "#corr_df"
   ]
  },
  {
   "cell_type": "code",
   "execution_count": null,
   "metadata": {
    "ExecuteTime": {
     "start_time": "2021-02-09T21:19:08.810Z"
    }
   },
   "outputs": [],
   "source": [
    "corr_df['Invest'].sum()"
   ]
  },
  {
   "cell_type": "code",
   "execution_count": null,
   "metadata": {
    "ExecuteTime": {
     "start_time": "2021-02-09T21:19:08.815Z"
    }
   },
   "outputs": [],
   "source": [
    "#non_corr_df = filterd_out[filterd_out['Corr coeff.'] <= corr_thld]\n",
    "#non_corr_df"
   ]
  },
  {
   "cell_type": "code",
   "execution_count": null,
   "metadata": {
    "ExecuteTime": {
     "start_time": "2021-02-09T21:19:08.820Z"
    }
   },
   "outputs": [],
   "source": [
    "non_corr_df['Invest'].sum()"
   ]
  },
  {
   "cell_type": "code",
   "execution_count": null,
   "metadata": {
    "ExecuteTime": {
     "start_time": "2021-02-09T21:19:08.824Z"
    }
   },
   "outputs": [],
   "source": [
    "workbook.close()"
   ]
  },
  {
   "cell_type": "code",
   "execution_count": null,
   "metadata": {
    "ExecuteTime": {
     "start_time": "2021-02-09T21:19:08.829Z"
    }
   },
   "outputs": [],
   "source": [
    "output.tail()"
   ]
  },
  {
   "cell_type": "code",
   "execution_count": null,
   "metadata": {
    "ExecuteTime": {
     "start_time": "2021-02-09T21:19:08.834Z"
    }
   },
   "outputs": [],
   "source": [
    "#filterd_out = output[~output['Platform'].isin(dropped_ch)]"
   ]
  },
  {
   "cell_type": "code",
   "execution_count": null,
   "metadata": {
    "ExecuteTime": {
     "start_time": "2021-02-09T21:19:08.839Z"
    }
   },
   "outputs": [],
   "source": [
    "#filterd_out.reset_index().tail(20)"
   ]
  },
  {
   "cell_type": "code",
   "execution_count": null,
   "metadata": {
    "ExecuteTime": {
     "start_time": "2021-02-09T21:19:08.844Z"
    }
   },
   "outputs": [],
   "source": [
    "#filterd_out['Platform'].unique().tolist()"
   ]
  },
  {
   "cell_type": "code",
   "execution_count": null,
   "metadata": {
    "ExecuteTime": {
     "end_time": "2021-02-02T22:06:34.571557Z",
     "start_time": "2021-02-02T22:06:34.537555Z"
    }
   },
   "outputs": [],
   "source": []
  },
  {
   "cell_type": "code",
   "execution_count": null,
   "metadata": {
    "ExecuteTime": {
     "start_time": "2021-02-09T21:19:08.851Z"
    }
   },
   "outputs": [],
   "source": [
    "filterd_bad = output[output['Platform'].isin(dropped_ch)]\n",
    "#filterd_bad"
   ]
  },
  {
   "cell_type": "code",
   "execution_count": null,
   "metadata": {
    "ExecuteTime": {
     "start_time": "2021-02-09T21:19:08.856Z"
    }
   },
   "outputs": [],
   "source": [
    "dropped_ch"
   ]
  },
  {
   "cell_type": "code",
   "execution_count": null,
   "metadata": {},
   "outputs": [],
   "source": []
  }
 ],
 "metadata": {
  "hide_input": false,
  "kernelspec": {
   "display_name": "Python 3",
   "language": "python",
   "name": "python3"
  },
  "language_info": {
   "codemirror_mode": {
    "name": "ipython",
    "version": 3
   },
   "file_extension": ".py",
   "mimetype": "text/x-python",
   "name": "python",
   "nbconvert_exporter": "python",
   "pygments_lexer": "ipython3",
   "version": "3.8.5"
  },
  "toc": {
   "base_numbering": 1,
   "nav_menu": {},
   "number_sections": true,
   "sideBar": true,
   "skip_h1_title": false,
   "title_cell": "Table of Contents",
   "title_sidebar": "Contents",
   "toc_cell": false,
   "toc_position": {},
   "toc_section_display": true,
   "toc_window_display": true
  },
  "varInspector": {
   "cols": {
    "lenName": 16,
    "lenType": 16,
    "lenVar": 40
   },
   "kernels_config": {
    "python": {
     "delete_cmd_postfix": "",
     "delete_cmd_prefix": "del ",
     "library": "var_list.py",
     "varRefreshCmd": "print(var_dic_list())"
    },
    "r": {
     "delete_cmd_postfix": ") ",
     "delete_cmd_prefix": "rm(",
     "library": "var_list.r",
     "varRefreshCmd": "cat(var_dic_list()) "
    }
   },
   "types_to_exclude": [
    "module",
    "function",
    "builtin_function_or_method",
    "instance",
    "_Feature"
   ],
   "window_display": false
  }
 },
 "nbformat": 4,
 "nbformat_minor": 4
}
