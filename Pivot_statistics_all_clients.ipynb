{
 "cells": [
  {
   "cell_type": "code",
   "execution_count": null,
   "metadata": {},
   "outputs": [],
   "source": []
  },
  {
   "cell_type": "markdown",
   "metadata": {},
   "source": [
    "### TODO\n",
    "* Read all files into the list\n",
    "* Check it out\n",
    "* Choose files one by one\n",
    "     * get info: platform, channels, business units\n",
    "     * "
   ]
  },
  {
   "cell_type": "code",
   "execution_count": null,
   "metadata": {
    "ExecuteTime": {
     "end_time": "2021-02-08T08:38:39.335446Z",
     "start_time": "2021-02-08T08:38:36.623291Z"
    }
   },
   "outputs": [],
   "source": [
    "import os\n",
    "import pandas as pd\n",
    "import math\n",
    "import matplotlib.pyplot as plt\n",
    "import numpy as np\n",
    "from scipy.optimize import curve_fit\n",
    "import scipy\n",
    "import scipy.stats as stat\n",
    "import xlsxwriter\n",
    "from pathlib import Path"
   ]
  },
  {
   "cell_type": "code",
   "execution_count": null,
   "metadata": {
    "ExecuteTime": {
     "end_time": "2021-02-08T08:38:39.432452Z",
     "start_time": "2021-02-08T08:38:39.429452Z"
    }
   },
   "outputs": [],
   "source": [
    "time_window_regr = 12 # number of weeks for regression"
   ]
  },
  {
   "cell_type": "code",
   "execution_count": null,
   "metadata": {
    "ExecuteTime": {
     "end_time": "2021-02-08T08:38:39.531458Z",
     "start_time": "2021-02-08T08:38:39.526457Z"
    }
   },
   "outputs": [],
   "source": [
    "list_files = os.listdir(\"./input\")\n",
    "#list_files"
   ]
  },
  {
   "cell_type": "code",
   "execution_count": null,
   "metadata": {
    "ExecuteTime": {
     "end_time": "2021-02-08T08:38:39.621463Z",
     "start_time": "2021-02-08T08:38:39.617463Z"
    }
   },
   "outputs": [],
   "source": [
    "mypath = Path().absolute()\n",
    "folder = 'output\\\\'\n",
    "img_folder = folder + 'img\\\\'"
   ]
  },
  {
   "cell_type": "code",
   "execution_count": null,
   "metadata": {
    "ExecuteTime": {
     "end_time": "2021-02-08T08:38:39.732469Z",
     "start_time": "2021-02-08T08:38:39.723469Z"
    }
   },
   "outputs": [],
   "source": [
    "folder"
   ]
  },
  {
   "cell_type": "code",
   "execution_count": null,
   "metadata": {
    "ExecuteTime": {
     "end_time": "2021-02-08T08:38:40.924537Z",
     "start_time": "2021-02-08T08:38:40.917537Z"
    }
   },
   "outputs": [],
   "source": [
    "# execute for all files\n",
    "for i in list_files:\n",
    "    pass"
   ]
  },
  {
   "cell_type": "markdown",
   "metadata": {},
   "source": [
    "include image if regression available\n",
    "add only new lines if it need (different numbers for raw with images and blank lines "
   ]
  },
  {
   "cell_type": "code",
   "execution_count": null,
   "metadata": {
    "ExecuteTime": {
     "end_time": "2021-02-08T08:38:43.112662Z",
     "start_time": "2021-02-08T08:38:43.094661Z"
    }
   },
   "outputs": [],
   "source": [
    "# Data type description for dataset columns\n",
    "\n",
    "DateTimeID = ['periodStartDate']\n",
    "\n",
    "usecols = [\n",
    "    \"account\",\n",
    "    \"adCampaign\", \"platformCode\",\"currencyCode\", \"channelCode\", \"marketingInvestment\",\n",
    "    \"impressions\", \"clicks\", \"visits\", \"conversions\", \"deliveries\",\n",
    "    \"netRevenue\", \"grossProfit\", \"adGroup\", \"periodStartDate\",\"businessUnit\"\n",
    "          ]\n",
    "\n",
    "dtype = {\n",
    "    'account': str,\n",
    "    'adCampaign' : str,\n",
    "    'platformCode' : str,\n",
    "    'businessUnit':str,\n",
    "    'currencyCode':str,\n",
    "    'channelCode' : str,\n",
    "    'impressions' : int,\n",
    "    'clicks' : int,\n",
    "    'visits' : int,\n",
    "    'conversions' : int,\n",
    "    'deliveries' : int,\n",
    "    'netRevenue' : float,\n",
    "    'grossProfit' : float,\n",
    "    'adGroup' : str,\n",
    "    'marketingInvestment': float\n",
    "}"
   ]
  },
  {
   "cell_type": "code",
   "execution_count": null,
   "metadata": {
    "ExecuteTime": {
     "end_time": "2021-02-08T08:38:43.934710Z",
     "start_time": "2021-02-08T08:38:43.925709Z"
    }
   },
   "outputs": [],
   "source": [
    "# function for genetic algorithm to minimize (sum of squared error)\n",
    "def sumOfSquaredError(parameterTuple):\n",
    "    function = log_f # it's bad staff #TODO\n",
    "    warnings.filterwarnings(\"ignore\") # do not print warnings by genetic algorithm\n",
    "    val = function(t_train, *parameterTuple)\n",
    "    return np.sum((y_train - val) ** 2.0)"
   ]
  },
  {
   "cell_type": "code",
   "execution_count": null,
   "metadata": {
    "ExecuteTime": {
     "end_time": "2021-02-08T08:38:44.740756Z",
     "start_time": "2021-02-08T08:38:44.726755Z"
    }
   },
   "outputs": [],
   "source": [
    "def select_agg_resample_df(df, index, granularity, use_nan):\n",
    "    \"\"\"Function for select and group  data in dataframe\n",
    "    input: pandas dataframe, name of index, granularity['week','month'] default as in dataframe\n",
    "    return: aggregated dataframe with extra column with indexes [ROI, CPI, CPC]\"\"\"\n",
    "    group_df = df.groupby(['periodStartDate']).agg({\n",
    "    'netRevenue': 'sum',\n",
    "    'marketingInvestment': 'sum', \n",
    "    'visits': 'sum', \n",
    "    'conversions': 'sum',\n",
    "    'deliveries': 'sum', \n",
    "    'impressions': 'sum', \n",
    "    'clicks': 'sum', \n",
    "    'grossProfit': 'sum' })   \n",
    "\n",
    "    if granularity == 'week':\n",
    "        group_agg_df = group_df.resample('W-MON').agg('sum')\n",
    "    elif granularity == 'month':\n",
    "        group_agg_df = group_df.resample('M', convention='end').agg('sum')\n",
    "    elif granularity == 'day':\n",
    "        group_agg_df = group_df\n",
    "    else:\n",
    "        raise ValueError(\"Incorrect aggregation period, shuld be 'day', 'week' or 'month'\")\n",
    "\n",
    "    if use_nan == False:\n",
    "        group_agg_df.fillna(0)\n",
    "    else:\n",
    "        pass\n",
    "    return group_agg_df"
   ]
  },
  {
   "cell_type": "code",
   "execution_count": null,
   "metadata": {
    "ExecuteTime": {
     "end_time": "2021-02-08T08:38:45.604805Z",
     "start_time": "2021-02-08T08:38:45.593804Z"
    }
   },
   "outputs": [],
   "source": [
    "# function for search initial value for regression parameters\n",
    "from scipy.optimize import differential_evolution\n",
    "import warnings\n",
    "def generate_Initial_Parameters(t_train, y_train,function):\n",
    "    # min and max used for bounds\n",
    "    maxX = max(t_train)\n",
    "    minX = min(t_train)\n",
    "    maxY = max(y_train)\n",
    "    minY = min(y_train)\n",
    "    maxXY = max(maxX, maxY)\n",
    "\n",
    "    parameterBounds = []\n",
    "    parameterBounds.append([-maxXY, maxXY]) # seach bounds for a\n",
    "    parameterBounds.append([-maxXY, maxXY]) # seach bounds for b\n",
    "    #parameterBounds.append([-maxXY, maxXY]) # seach bounds for c\n",
    "\n",
    "    # \"seed\" the numpy random number generator for repeatable results\n",
    "    result = differential_evolution(sumOfSquaredError, parameterBounds, seed=3)\n",
    "    return result.x"
   ]
  },
  {
   "cell_type": "code",
   "execution_count": null,
   "metadata": {
    "ExecuteTime": {
     "end_time": "2021-02-08T08:38:46.598862Z",
     "start_time": "2021-02-08T08:38:46.582861Z"
    }
   },
   "outputs": [],
   "source": [
    "def regression_calc(df, function):\n",
    "    \"\"\"Calculate paramiters of regression function\n",
    "    input: pandas dataframe [x,y]\n",
    "    output: list[paramiters], list[std diviation err of paramiters]\"\"\"\n",
    "    from scipy.optimize import curve_fit\n",
    "    t_train = df[df.columns[0]]  #\n",
    "    y_train = df[df.columns[1]]\n",
    "    geneticParameters = generate_Initial_Parameters(t_train, y_train, log_f)\n",
    "    popt, pcov = curve_fit(log_f, t_train, y_train, geneticParameters)\n",
    "    #popt, pcov = curve_fit(function, t_train, y_train)\n",
    "    error  = np.sqrt(np.diag(pcov))\n",
    "    return popt, error"
   ]
  },
  {
   "cell_type": "code",
   "execution_count": null,
   "metadata": {
    "ExecuteTime": {
     "end_time": "2021-02-08T08:38:47.542916Z",
     "start_time": "2021-02-08T08:38:47.536916Z"
    }
   },
   "outputs": [],
   "source": [
    "def filter_df(df, alpha):\n",
    "    return df.ewm(alpha=alpha, adjust=False).mean()"
   ]
  },
  {
   "cell_type": "code",
   "execution_count": null,
   "metadata": {
    "ExecuteTime": {
     "end_time": "2021-02-08T08:38:48.329961Z",
     "start_time": "2021-02-08T08:38:48.315960Z"
    }
   },
   "outputs": [],
   "source": [
    "# regression functions definition\n",
    "def log_f(x, a, b):\n",
    "    return a * (1-np.exp(-x/b)) #a * (1 - np.exp((x/b)))\n",
    "\n",
    "def line_f(x, a, b):\n",
    "    return a * x + b\n",
    "\n",
    "def sine_f(x, a, b):\n",
    "    return a * np.sin(b * x)"
   ]
  },
  {
   "cell_type": "code",
   "execution_count": null,
   "metadata": {
    "ExecuteTime": {
     "end_time": "2021-02-08T08:38:49.084004Z",
     "start_time": "2021-02-08T08:38:49.071003Z"
    }
   },
   "outputs": [],
   "source": [
    "def save_chart(sorted_df, name, R_std):\n",
    "    fig, ax = plt.subplots(figsize=(6, 4))\n",
    "    fig.subplots_adjust(bottom=0.15, left=0.2)\n",
    "    x = np.linspace(0,sorted_df['marketingInvestment'].max(),20)\n",
    "    ax.scatter(sorted_df['marketingInvestment'], sorted_df['grossProfit'])\n",
    "    ax.plot(x,log_f(x, *regr)- 2*R_std)\n",
    "    ax.plot(x,log_f(x, *regr)+ 2*R_std)\n",
    "    ax.plot(x,log_f(x, *regr))\n",
    "    ax.set_xlabel(f'Investment {name[1]}')\n",
    "    ax.set_ylabel(f'Profit {name[1]}')\n",
    "    ax.set_title(name[0])\n",
    "    plt.savefig( name[0] + '.jpg', dpi=150, pad_inches=0.1)  \n",
    "    plt.close()\n",
    "    #plt.show()\n"
   ]
  },
  {
   "cell_type": "code",
   "execution_count": null,
   "metadata": {
    "ExecuteTime": {
     "end_time": "2021-02-08T08:38:50.063060Z",
     "start_time": "2021-02-08T08:38:50.053059Z"
    }
   },
   "outputs": [],
   "source": [
    "list_files[4]"
   ]
  },
  {
   "cell_type": "code",
   "execution_count": null,
   "metadata": {
    "ExecuteTime": {
     "end_time": "2021-02-08T08:38:53.698268Z",
     "start_time": "2021-02-08T08:38:50.868106Z"
    }
   },
   "outputs": [],
   "source": [
    "df = pd.read_csv('input\\\\'+ list_files[4],\n",
    "                 sep=\"\\t\",\n",
    "                 infer_datetime_format=True,\n",
    "                 usecols=usecols,\n",
    "                 dtype=dtype,\n",
    "                 parse_dates=DateTimeID)\n",
    "\n",
    "df['periodStartDate'] = pd.to_datetime(df['periodStartDate'])\n",
    "\n",
    "df.head(5)"
   ]
  },
  {
   "cell_type": "code",
   "execution_count": null,
   "metadata": {
    "ExecuteTime": {
     "end_time": "2021-02-08T08:38:57.777501Z",
     "start_time": "2021-02-08T08:38:57.767501Z"
    }
   },
   "outputs": [],
   "source": [
    "df.shape"
   ]
  },
  {
   "cell_type": "code",
   "execution_count": null,
   "metadata": {
    "ExecuteTime": {
     "end_time": "2021-02-08T08:38:58.665552Z",
     "start_time": "2021-02-08T08:38:58.661552Z"
    }
   },
   "outputs": [],
   "source": [
    "#list_files[6]"
   ]
  },
  {
   "cell_type": "code",
   "execution_count": null,
   "metadata": {
    "ExecuteTime": {
     "end_time": "2021-02-08T08:38:59.711612Z",
     "start_time": "2021-02-08T08:38:59.391594Z"
    }
   },
   "outputs": [],
   "source": [
    "platform_code = df['platformCode'].unique().tolist()\n",
    "platform_code.sort()\n",
    "business_unit_code = df['businessUnit'].unique().tolist()\n",
    "business_unit_code.sort()\n",
    "channel_code_code = df['channelCode'].unique().tolist()\n",
    "channel_code_code.sort()\n",
    "currency_code_code = df['currencyCode'].unique().tolist()\n",
    "currency_code_code.sort()\n",
    "account_code = df['account'].unique().tolist()"
   ]
  },
  {
   "cell_type": "code",
   "execution_count": null,
   "metadata": {
    "ExecuteTime": {
     "end_time": "2021-02-08T08:39:00.940682Z",
     "start_time": "2021-02-08T08:39:00.928682Z"
    }
   },
   "outputs": [],
   "source": [
    "account_code"
   ]
  },
  {
   "cell_type": "code",
   "execution_count": null,
   "metadata": {
    "ExecuteTime": {
     "end_time": "2021-02-01T12:01:48.795485Z",
     "start_time": "2021-02-01T12:01:48.777484Z"
    }
   },
   "outputs": [],
   "source": [
    "df['periodStartDate'].min()"
   ]
  },
  {
   "cell_type": "code",
   "execution_count": null,
   "metadata": {
    "ExecuteTime": {
     "end_time": "2021-02-01T12:02:19.211224Z",
     "start_time": "2021-02-01T12:02:19.192223Z"
    }
   },
   "outputs": [],
   "source": [
    "df['periodStartDate'].max()"
   ]
  },
  {
   "cell_type": "code",
   "execution_count": null,
   "metadata": {
    "ExecuteTime": {
     "end_time": "2021-01-31T20:59:37.050025Z",
     "start_time": "2021-01-31T20:59:20.162059Z"
    }
   },
   "outputs": [],
   "source": [
    "#select window for regression \n",
    "excel_coll = 0\n",
    "precision = 3\n",
    "\n",
    "workbook = xlsxwriter.Workbook( 'campaign_' + account_code[0]+'_corr.xlsx') #folder + \n",
    "bold = workbook.add_format({'bold': True})\n",
    "\n",
    "\n",
    "df_time_selected = df[df['periodStartDate'] >= df['periodStartDate'].max() - pd.DateOffset(weeks=time_window_regr)] \n",
    "\n",
    "#df_time_selected = filter_df(df_time_selected, 0.1)\n",
    "\n",
    "for i in business_unit_code:\n",
    "    df_selected = df_time_selected[df_time_selected['businessUnit'] == i]\n",
    "    worksheet = workbook.add_worksheet(i)\n",
    "    \n",
    "    worksheet.set_column('A:A', 30)\n",
    "    worksheet.set_column('B:B', 10)\n",
    "    worksheet.set_column('C:C', 15)\n",
    "    worksheet.set_column('D:D', 15)\n",
    "    worksheet.set_column('E:E', 15)\n",
    "    worksheet.set_column('F:F', 15)\n",
    "    worksheet.set_column('G:G', 40)\n",
    "\n",
    "    worksheet.write('A1', 'Name', bold)\n",
    "    worksheet.write('B1', 'Corr coeff.', bold)\n",
    "    worksheet.write('C1', 'a', bold)\n",
    "    worksheet.write('D1', 'b', bold)\n",
    "    worksheet.write('E1', 'c', bold)\n",
    "    worksheet.write('F1', 'R-std', bold)\n",
    "    worksheet.write('G1', 'Chart', bold)\n",
    "    \n",
    "    excel_row  = 2\n",
    "    \n",
    "    for z in platform_code:\n",
    "        df_platform = df_selected[df_selected['platformCode'] == z]\n",
    "        df_business_selected_agg = select_agg_resample_df(df_platform, 'periodStartDate', 'week', use_nan = False)\n",
    "        df_business_selected_agg = filter_df(df_business_selected_agg, 0.05)\n",
    "        sper_crr, _=stat.spearmanr(df_business_selected_agg['marketingInvestment'], df_business_selected_agg['grossProfit'])\n",
    "        if sper_crr> 0.75:\n",
    "            print (i + ' business unit '+ z + ' platform has \\t'+ str(sper_crr) + ' correlation coefficient')\n",
    "\n",
    "            try:\n",
    "                sorted_df = df_business_selected_agg.sort_values( by=['marketingInvestment'], ascending=False )\n",
    "                t_train = sorted_df['marketingInvestment']\n",
    "                y_train = sorted_df['grossProfit']\n",
    "                \n",
    "                regr, err = regression_calc(sorted_df[['marketingInvestment','grossProfit']],log_f)\n",
    "                \n",
    "                R = sorted_df['grossProfit'] - log_f(sorted_df['marketingInvestment'], *regr)\n",
    "                R_std = R.describe()['std']\n",
    "                \n",
    "                ing_name = [i+z, currency_code_code]\n",
    "                save_chart(sorted_df, ing_name, R_std)\n",
    "                             \n",
    "                a,b = regr\n",
    "                #print(a,b,c)\n",
    "                worksheet.write('A'+str(excel_row), z)\n",
    "                worksheet.write('B'+str(excel_row), str(np.round(sper_crr, precision)))\n",
    "                \n",
    "                worksheet.write('C'+str(excel_row), str(np.round(a, precision)))\n",
    "                worksheet.write('D'+str(excel_row), str(np.round(b, precision)))\n",
    "                #worksheet.write('E'+str(excel_row), str(np.round(c, precision)))\n",
    "                \n",
    "                \n",
    "                worksheet.write('F'+str(excel_row), str(np.round(R_std, precision)))\n",
    "                \n",
    "                worksheet.insert_image('G'+ str(excel_row), i + z + '.jpg', {'x_scale': 0.5, 'y_scale': 0.5})\n",
    "                \n",
    "                excel_row = excel_row + 10\n",
    "                print('Regression calculated successfully')\n",
    "            except:\n",
    "                print(\"Regression wasn't calculated\")\n",
    "                worksheet.write('A'+ str(excel_row), z)\n",
    "                excel_row = excel_row + 1\n",
    "\n",
    "        else:\n",
    "            pass\n",
    "\n",
    "workbook.close()"
   ]
  },
  {
   "cell_type": "code",
   "execution_count": null,
   "metadata": {
    "ExecuteTime": {
     "end_time": "2021-01-20T22:25:38.630987Z",
     "start_time": "2021-01-20T22:25:38.625987Z"
    }
   },
   "outputs": [],
   "source": []
  },
  {
   "cell_type": "code",
   "execution_count": null,
   "metadata": {
    "ExecuteTime": {
     "end_time": "2021-01-31T20:59:37.056025Z",
     "start_time": "2021-01-31T20:59:37.052025Z"
    }
   },
   "outputs": [],
   "source": [
    "sper_corr, _ = stat.spearmanr(df_business_selected_agg['marketingInvestment'], df_business_selected_agg['grossProfit'])"
   ]
  },
  {
   "cell_type": "code",
   "execution_count": null,
   "metadata": {
    "ExecuteTime": {
     "end_time": "2021-01-31T20:59:37.165031Z",
     "start_time": "2021-01-31T20:59:37.064025Z"
    }
   },
   "outputs": [],
   "source": [
    "df_time_selected = df[df['periodStartDate'] >= df['periodStartDate'].max() - pd.DateOffset(weeks=time_window_regr)] \n",
    "\n",
    "df_business_selected = df_time_selected[df_time_selected['businessUnit'] == 'forhomecz']\n",
    "\n",
    "df_business_selected = df_business_selected[df_business_selected['platformCode'] == 'AdWords']\n",
    "\n",
    "df_business_selected_agg = select_agg_resample_df(df_business_selected, 'periodStartDate', 'week', use_nan = False)\n",
    "\n",
    "df_business_selected_agg_filtered = filter_df(df_business_selected_agg, 0.01)\n",
    "\n",
    "sorted_df = df_business_selected_agg_filtered.sort_values( by=['marketingInvestment'], ascending=False )\n",
    "\n",
    "t_train = sorted_df['marketingInvestment']\n",
    "\n",
    "y_train = sorted_df['grossProfit']\n",
    "\n",
    "try:\n",
    "    regr, err = regression_calc(sorted_df[['marketingInvestment','grossProfit']],log_f)\n",
    "except:\n",
    "    print(\"Regression wasn't calculated\")\n",
    "\n",
    "#save_chart(sorted_df,['Hello','CZK'] )"
   ]
  },
  {
   "cell_type": "code",
   "execution_count": null,
   "metadata": {
    "ExecuteTime": {
     "end_time": "2021-01-31T20:59:38.327098Z",
     "start_time": "2021-01-31T20:59:37.170032Z"
    }
   },
   "outputs": [],
   "source": [
    "from sklearn.svm import SVR"
   ]
  },
  {
   "cell_type": "code",
   "execution_count": null,
   "metadata": {
    "ExecuteTime": {
     "end_time": "2021-01-31T20:59:38.332098Z",
     "start_time": "2021-01-31T20:59:38.329098Z"
    }
   },
   "outputs": [],
   "source": [
    "#model = SVR(kernel='poly')"
   ]
  },
  {
   "cell_type": "code",
   "execution_count": null,
   "metadata": {
    "ExecuteTime": {
     "end_time": "2021-01-31T20:59:38.342099Z",
     "start_time": "2021-01-31T20:59:38.335098Z"
    }
   },
   "outputs": [],
   "source": [
    "#model.fit(t_train,y_train)"
   ]
  },
  {
   "cell_type": "code",
   "execution_count": null,
   "metadata": {
    "ExecuteTime": {
     "end_time": "2021-01-31T20:59:38.352099Z",
     "start_time": "2021-01-31T20:59:38.345099Z"
    }
   },
   "outputs": [],
   "source": [
    "regr"
   ]
  },
  {
   "cell_type": "code",
   "execution_count": null,
   "metadata": {
    "ExecuteTime": {
     "end_time": "2021-01-31T20:59:38.624115Z",
     "start_time": "2021-01-31T20:59:38.354099Z"
    }
   },
   "outputs": [],
   "source": [
    "plt.scatter(sorted_df['marketingInvestment'], sorted_df['grossProfit'])"
   ]
  },
  {
   "cell_type": "code",
   "execution_count": null,
   "metadata": {
    "ExecuteTime": {
     "end_time": "2021-01-31T20:59:38.632115Z",
     "start_time": "2021-01-31T20:59:38.626115Z"
    }
   },
   "outputs": [],
   "source": [
    "regr"
   ]
  },
  {
   "cell_type": "code",
   "execution_count": null,
   "metadata": {
    "ExecuteTime": {
     "end_time": "2021-01-31T20:59:38.641116Z",
     "start_time": "2021-01-31T20:59:38.635115Z"
    }
   },
   "outputs": [],
   "source": [
    "R = sorted_df['grossProfit'] - log_f(sorted_df['marketingInvestment'], *regr)"
   ]
  },
  {
   "cell_type": "code",
   "execution_count": null,
   "metadata": {
    "ExecuteTime": {
     "end_time": "2021-01-31T20:59:38.909131Z",
     "start_time": "2021-01-31T20:59:38.645116Z"
    }
   },
   "outputs": [],
   "source": [
    "plt.scatter(sorted_df['marketingInvestment'], R)"
   ]
  },
  {
   "cell_type": "code",
   "execution_count": null,
   "metadata": {
    "ExecuteTime": {
     "end_time": "2021-01-31T20:59:38.924132Z",
     "start_time": "2021-01-31T20:59:38.911131Z"
    }
   },
   "outputs": [],
   "source": [
    "R.describe()['std']"
   ]
  },
  {
   "cell_type": "code",
   "execution_count": null,
   "metadata": {
    "ExecuteTime": {
     "end_time": "2021-01-31T20:59:39.242150Z",
     "start_time": "2021-01-31T20:59:38.926132Z"
    }
   },
   "outputs": [],
   "source": [
    "fig, ax = plt.subplots(figsize=(6, 4))\n",
    "fig.subplots_adjust(bottom=0.15, left=0.2)\n",
    "x = np.linspace(0,sorted_df['marketingInvestment'].max(),20)\n",
    "ax.scatter(sorted_df['marketingInvestment'], sorted_df['grossProfit'])\n",
    "ax.plot(x,log_f(x, *regr))\n",
    "ax.set_xlabel(f'Investment')\n",
    "ax.set_ylabel(f'Revenue')\n",
    "ax.set_title('Title')\n",
    "#plt.savefig( name[0] + '.jpg', dpi=150, pad_inches=0.1)  \n",
    "#plt.close()\n",
    "plt.show()"
   ]
  },
  {
   "cell_type": "code",
   "execution_count": null,
   "metadata": {
    "ExecuteTime": {
     "end_time": "2021-01-31T20:59:39.253151Z",
     "start_time": "2021-01-31T20:59:39.244150Z"
    }
   },
   "outputs": [],
   "source": [
    "sorted_df['netRevenue'].describe()[1]"
   ]
  },
  {
   "cell_type": "code",
   "execution_count": null,
   "metadata": {
    "ExecuteTime": {
     "end_time": "2021-01-31T20:59:39.264151Z",
     "start_time": "2021-01-31T20:59:39.255151Z"
    }
   },
   "outputs": [],
   "source": [
    "R.describe()[2]"
   ]
  },
  {
   "cell_type": "code",
   "execution_count": null,
   "metadata": {
    "ExecuteTime": {
     "end_time": "2021-01-31T20:59:40.721235Z",
     "start_time": "2021-01-31T20:59:39.267151Z"
    }
   },
   "outputs": [],
   "source": [
    "statistics_R2 = []\n",
    "\n",
    "statistics_R2.append(np.concatenate((regr, err), axis=0))\n",
    "\n",
    "statistics_R2_df = pd.DataFrame(statistics_R2, columns = regr_name)\n",
    "\n",
    "statistics_R2_df = statistics_R2_df.set_index([pd.Index(platform_code)])"
   ]
  },
  {
   "cell_type": "code",
   "execution_count": null,
   "metadata": {},
   "outputs": [],
   "source": []
  },
  {
   "cell_type": "code",
   "execution_count": null,
   "metadata": {
    "ExecuteTime": {
     "end_time": "2021-01-31T20:59:40.749236Z",
     "start_time": "2021-01-31T20:59:17.182Z"
    }
   },
   "outputs": [],
   "source": [
    "df_time_selected = df[df['periodStartDate'] >= df['periodStartDate'].max() - pd.DateOffset(weeks=time_window_regr)] \n",
    "\n",
    "df_business_selected = df_time_selected[df_time_selected['businessUnit'] == 'forhomecz']\n",
    "\n",
    "df_business_selected = df_business_selected[df_business_selected['platformCode'] == 'AdWords']\n",
    "\n",
    "ad_campaign_code = df['adCampaign'].unique().tolist()\n",
    "#campaign_code.sort()\n",
    "\n",
    "#campaign_code"
   ]
  },
  {
   "cell_type": "code",
   "execution_count": null,
   "metadata": {},
   "outputs": [],
   "source": []
  },
  {
   "cell_type": "code",
   "execution_count": null,
   "metadata": {},
   "outputs": [],
   "source": []
  },
  {
   "cell_type": "markdown",
   "metadata": {},
   "source": [
    "## Collect regression parameters for individual Adds Campaign\n",
    "### Collect all data for all clients into one file"
   ]
  },
  {
   "cell_type": "code",
   "execution_count": null,
   "metadata": {
    "ExecuteTime": {
     "end_time": "2021-01-31T20:59:40.751236Z",
     "start_time": "2021-01-31T20:59:17.383Z"
    }
   },
   "outputs": [],
   "source": [
    "excel_coll = 0\n",
    "excel_row  = 2"
   ]
  },
  {
   "cell_type": "code",
   "execution_count": null,
   "metadata": {
    "ExecuteTime": {
     "end_time": "2021-01-31T20:59:40.752236Z",
     "start_time": "2021-01-31T20:59:17.389Z"
    }
   },
   "outputs": [],
   "source": [
    "workbook = xlsxwriter.Workbook('All cients all channels statistics.xlsx', \n",
    "                               {'nan_inf_to_errors': True})\n",
    "\n",
    "worksheet = workbook.add_worksheet('channels')\n",
    "bold = workbook.add_format({'bold': True})\n",
    "\n",
    "excel_row"
   ]
  },
  {
   "cell_type": "markdown",
   "metadata": {},
   "source": [
    "### Starts here"
   ]
  },
  {
   "cell_type": "code",
   "execution_count": null,
   "metadata": {
    "ExecuteTime": {
     "end_time": "2021-01-31T20:59:40.753236Z",
     "start_time": "2021-01-31T20:59:17.598Z"
    }
   },
   "outputs": [],
   "source": [
    "df = pd.read_csv('input\\\\'+ list_files[34],\n",
    "                 sep=\"\\t\",\n",
    "                 infer_datetime_format=True,\n",
    "                 usecols=usecols,\n",
    "                 dtype=dtype,\n",
    "                 parse_dates=DateTimeID)\n",
    "\n",
    "df['periodStartDate'] = pd.to_datetime(df['periodStartDate'])\n",
    "\n",
    "df.head(5)"
   ]
  },
  {
   "cell_type": "code",
   "execution_count": null,
   "metadata": {
    "ExecuteTime": {
     "end_time": "2021-01-31T20:59:40.754237Z",
     "start_time": "2021-01-31T20:59:17.602Z"
    }
   },
   "outputs": [],
   "source": [
    "platform_code = df['platformCode'].unique().tolist()\n",
    "platform_code.sort()\n",
    "business_unit_code = df['businessUnit'].unique().tolist()\n",
    "business_unit_code.sort()\n",
    "channel_code_code = df['channelCode'].unique().tolist()\n",
    "channel_code_code.sort()\n",
    "currency_code_code = df['currencyCode'].unique().tolist()\n",
    "currency_code_code.sort()\n",
    "account_code = df['account'].unique().tolist()\n",
    "#channel_code_code"
   ]
  },
  {
   "cell_type": "code",
   "execution_count": null,
   "metadata": {
    "ExecuteTime": {
     "end_time": "2021-01-31T20:59:40.756237Z",
     "start_time": "2021-01-31T20:59:17.606Z"
    }
   },
   "outputs": [],
   "source": [
    "#select window for regression \n",
    "#xcel_coll = 0\n",
    "\n",
    "precision = 3\n",
    "\n",
    "#workbook = xlsxwriter.Workbook(folder + account_code[0]+' Add campaign corr.xlsx', {'nan_inf_to_errors': True}) #folder + \n",
    "\n",
    "#bold = workbook.add_format({'bold': True})\n",
    "\n",
    "#xlsxwriter.Workbook(path, {'strings_to_urls': False, 'nan_inf_to_errors': True}\n",
    "\n",
    "df_time_selected = df[df['periodStartDate'] >= df['periodStartDate'].max() - pd.DateOffset(weeks=time_window_regr)] \n",
    "\n",
    "#df_time_selected = filter_df(df_time_selected, 0.1)\n",
    "\n",
    "\n",
    "\n",
    "#excel_row  = 2\n",
    "\n",
    "for i in business_unit_code:\n",
    "    df_selected = df_time_selected[df_time_selected['businessUnit'] == i]\n",
    "    #worksheet = workbook.add_worksheet(i)\n",
    "    worksheet.set_column('A:A', 20)\n",
    "    worksheet.set_column('B:B', 20)\n",
    "    worksheet.set_column('C:C', 30)\n",
    "    worksheet.set_column('D:D', 40)\n",
    "    worksheet.set_column('E:E', 10)\n",
    "    worksheet.set_column('F:F', 10)\n",
    "    worksheet.set_column('G:G', 15)\n",
    "    worksheet.set_column('H:H', 15)\n",
    "    worksheet.set_column('I:I', 15)\n",
    "    worksheet.set_column('J:J', 15)\n",
    "    worksheet.set_column('K:K', 40)\n",
    "\n",
    "    worksheet.write('A1', 'Client', bold)\n",
    "    worksheet.write('B1', 'Business unit', bold)\n",
    "    worksheet.write('C1', 'Platform', bold)\n",
    "    worksheet.write('D1', 'Channel', bold)\n",
    "    worksheet.write('E1', 'Corr coeff.', bold)\n",
    "    worksheet.write('F1', 'Pr. value', bold)\n",
    "    worksheet.write('G1', 'a', bold)\n",
    "    worksheet.write('H1', 'b', bold)\n",
    "    worksheet.write('I1', 'Mean', bold)\n",
    "    worksheet.write('J1', 'R-std', bold)\n",
    "    #worksheet.write('K1', 'Chart', bold)\n",
    "    \n",
    "    \n",
    "    \n",
    "    worksheet.write('A'+str(excel_row),i)\n",
    "    \n",
    "    for z in platform_code:\n",
    "        df_platform = df_selected[df_selected['platformCode'] == z]\n",
    "        \n",
    "        ad_campaign_code = df_platform['adCampaign'].unique().tolist()\n",
    "        \n",
    "        for y in channel_code_code:\n",
    "            \n",
    "            df_platform = df_selected[df_selected['channelCode'] == y]\n",
    "                \n",
    "            df_business_selected_agg = select_agg_resample_df(df_platform, 'periodStartDate', 'week', use_nan = False)\n",
    "            df_business_selected_agg = filter_df(df_business_selected_agg, 0.2)\n",
    "            \n",
    "        \n",
    "            sper_crr, P_value = stat.spearmanr(df_business_selected_agg['marketingInvestment'],                       df_business_selected_agg['grossProfit'])\n",
    "            if sper_crr> 0.9:\n",
    "                #print (y + ' Add campaign' + i + ' business unit '+ z + ' platform has \\t'+ str(sper_crr) + ' corr coefficient')\n",
    "\n",
    "                try:\n",
    "                    sorted_df = df_business_selected_agg.sort_values( by=['marketingInvestment'], ascending=False )\n",
    "                    t_train = sorted_df['marketingInvestment']\n",
    "                    y_train = sorted_df['grossProfit']\n",
    "                    \n",
    "                    worksheet.write('A'+str(excel_row),account_code[0])\n",
    "                    \n",
    "                    worksheet.write('B'+str(excel_row), i)\n",
    "                    \n",
    "                    worksheet.write('C'+str(excel_row), z)\n",
    "                    \n",
    "                    worksheet.write('D'+str(excel_row), y)                    \n",
    "                    \n",
    "                    \n",
    "                \n",
    "                    regr, err = regression_calc(sorted_df[['marketingInvestment','grossProfit']],log_f)\n",
    "                \n",
    "                    R = sorted_df['grossProfit'] - log_f(sorted_df['marketingInvestment'], *regr)\n",
    "                    R_std = R.describe()['std']\n",
    "                    \n",
    "                    Y_mean = sorted_df['grossProfit'].describe()[1]\n",
    "                    \n",
    "                    #ing_name = [y + i + z, currency_code_code]\n",
    "                    #save_chart(sorted_df, ing_name, R_std)\n",
    "                             \n",
    "                    a,b = regr\n",
    "                    #print(a,b,c)\n",
    "\n",
    "                    \n",
    "                    worksheet.write('E'+str(excel_row), str(np.round(sper_crr, precision)))\n",
    "                    \n",
    "                    worksheet.write('F'+str(excel_row), str(np.round(P_value, 7)))\n",
    "                \n",
    "                    worksheet.write('G'+str(excel_row), str(np.round(a, precision)))\n",
    "                    \n",
    "                    worksheet.write('H'+str(excel_row), str(np.round(b, precision)))                \n",
    "                \n",
    "                    worksheet.write('I'+str(excel_row), str(np.round(Y_mean, precision)))\n",
    "                    \n",
    "                    worksheet.write('J'+str(excel_row), str(np.round(R_std, precision)))\n",
    "                \n",
    "                    #worksheet.insert_image('K'+ str(excel_row), y + i + z + '.jpg', {'x_scale': 0.5, 'y_scale': 0.5})\n",
    "                \n",
    "                    #excel_row = excel_row + 1 # 10 for image included\n",
    "                    #print('Regression calculated successfully')\n",
    "                except:\n",
    "                    print(\"Regression wasn't calculated\")\n",
    "                    # worksheet.write('A'+ str(excel_row), z)\n",
    "                    #worksheet.write('A'+str(excel_row),account_code[0])\n",
    "                    \n",
    "                    #worksheet.write('B'+str(excel_row),i)\n",
    "                    \n",
    "                    #worksheet.write('C'+str(excel_row), z)\n",
    "                    \n",
    "                    #worksheet.write('D'+str(excel_row), y)\n",
    "                    #excel_row = excel_row + 1\n",
    "                    # excel_row = excel_row + 1\n",
    "                excel_row = excel_row + 1\n",
    "\n",
    "            else:\n",
    "                worksheet.write('A'+str(excel_row),account_code[0])\n",
    "                    \n",
    "                worksheet.write('B'+str(excel_row),i)\n",
    "                    \n",
    "                worksheet.write('C'+str(excel_row), z)\n",
    "                    \n",
    "                worksheet.write('D'+str(excel_row), y)\n",
    "                excel_row = excel_row + 1\n",
    "                pass\n",
    "\n",
    "#workbook.close()"
   ]
  },
  {
   "cell_type": "code",
   "execution_count": null,
   "metadata": {},
   "outputs": [],
   "source": []
  },
  {
   "cell_type": "code",
   "execution_count": null,
   "metadata": {
    "ExecuteTime": {
     "end_time": "2021-01-31T20:59:40.757237Z",
     "start_time": "2021-01-31T20:59:17.612Z"
    }
   },
   "outputs": [],
   "source": [
    "workbook.close()"
   ]
  },
  {
   "cell_type": "code",
   "execution_count": null,
   "metadata": {},
   "outputs": [],
   "source": []
  },
  {
   "cell_type": "markdown",
   "metadata": {},
   "source": [
    "## Collect regression parameters for individual Platform"
   ]
  },
  {
   "cell_type": "code",
   "execution_count": null,
   "metadata": {
    "ExecuteTime": {
     "end_time": "2021-02-03T11:15:07.578783Z",
     "start_time": "2021-02-03T11:15:00.085355Z"
    }
   },
   "outputs": [],
   "source": [
    "df = pd.read_csv('input\\\\'+ list_files[33],\n",
    "                 sep=\"\\t\",\n",
    "                 infer_datetime_format=True,\n",
    "                 usecols=usecols,\n",
    "                 dtype=dtype,\n",
    "                 parse_dates=DateTimeID)\n",
    "\n",
    "df['periodStartDate'] = pd.to_datetime(df['periodStartDate'])\n",
    "\n",
    "df.head(5)"
   ]
  },
  {
   "cell_type": "code",
   "execution_count": null,
   "metadata": {
    "ExecuteTime": {
     "end_time": "2021-02-03T11:15:15.705248Z",
     "start_time": "2021-02-03T11:15:10.694962Z"
    }
   },
   "outputs": [],
   "source": [
    "#select window for regression \n",
    "excel_coll = 0\n",
    "precision  = 3\n",
    "corr_thld  = 0.8\n",
    "aws_alpha  = 0.15\n",
    "\n",
    "platform_code = df['platformCode'].unique().tolist()\n",
    "platform_code.sort()\n",
    "business_unit_code = df['businessUnit'].unique().tolist()\n",
    "business_unit_code.sort()\n",
    "channel_code_code = df['channelCode'].unique().tolist()\n",
    "channel_code_code.sort()\n",
    "currency_code_code = df['currencyCode'].unique().tolist()\n",
    "currency_code_code.sort()\n",
    "account_code = df['account'].unique().tolist()\n",
    "\n",
    "\n",
    "dropped_ch = ['Not tracked','notset','unpaid']\n",
    "\n",
    "workbook = xlsxwriter.Workbook(folder + account_code[0]+' platform corr.xlsx') #folder + \n",
    "\n",
    "bold = workbook.add_format({'bold': True})\n",
    "\n",
    "df_time_selected = df[df['periodStartDate'] >= df['periodStartDate'].max() - pd.DateOffset(weeks=time_window_regr)] \n",
    "\n",
    "worksheet = workbook.add_worksheet('Platform')\n",
    "\n",
    "excel_row  = 2\n",
    "\n",
    "output = pd.DataFrame()\n",
    "\n",
    "for i in business_unit_code:\n",
    "    df_selected = df_time_selected[df_time_selected['businessUnit'] == i]\n",
    "    #worksheet = workbook.add_worksheet(i)\n",
    "    worksheet.set_column('A:A', 20)\n",
    "    worksheet.set_column('B:B', 20)\n",
    "    worksheet.set_column('C:C', 30)\n",
    "    worksheet.set_column('D:D', 10)\n",
    "    worksheet.set_column('E:E', 10)\n",
    "    worksheet.set_column('F:F', 10)\n",
    "    worksheet.set_column('G:G', 15)\n",
    "    worksheet.set_column('H:H', 15)\n",
    "    worksheet.set_column('I:I', 15)\n",
    "    worksheet.set_column('J:J', 15)\n",
    "    worksheet.set_column('K:K', 15)\n",
    "    worksheet.set_column('L:L', 15)\n",
    "\n",
    "    worksheet.write('A1', 'Client', bold)\n",
    "    worksheet.write('B1', 'Business unit', bold)\n",
    "    worksheet.write('C1', 'Platform', bold)\n",
    "    #worksheet.write('D1', 'Campaign', bold)\n",
    "    worksheet.write('E1', 'Corr coeff.', bold)\n",
    "    worksheet.write('F1', 'Pr. value', bold)\n",
    "    worksheet.write('G1', 'a', bold)\n",
    "    worksheet.write('H1', 'b', bold)\n",
    "    worksheet.write('I1', 'Mean', bold)\n",
    "    worksheet.write('J1', 'R-std', bold)\n",
    "    worksheet.write('K1', 'Invest', bold)\n",
    "    worksheet.write('L1', 'Profit', bold)\n",
    "      \n",
    "    worksheet.write('A'+str(excel_row),i)\n",
    "    \n",
    "    for z in platform_code:\n",
    "        df_platform = df_selected[df_selected['platformCode'] == z]\n",
    "                       \n",
    "        df_business_selected_agg = select_agg_resample_df(df_platform, 'periodStartDate', 'week', use_nan = False)\n",
    "        \n",
    "        df_business_selected_agg_filter = filter_df(df_business_selected_agg, aws_alpha)\n",
    "        \n",
    "        # add dataframe for materialize interim results \n",
    "        \n",
    "        temp_dict = dict([('Client',''),\n",
    "                          ('Business unit',''),\n",
    "                          ('Platform',''),\n",
    "                          ('Corr coeff.', 0),\n",
    "                          ('Pr. value', 0),\n",
    "                          ('a',0),\n",
    "                          ('b',0),\n",
    "                          ('Mean',0),\n",
    "                          ('R-std',0),\n",
    "                          ('Invest',0),\n",
    "                          ('Profit',0)])\n",
    "        \n",
    "        temp_dict['Client'] = account_code[0]\n",
    "        temp_dict['Business unit'] = i\n",
    "        temp_dict['Platform'] = z\n",
    "        \n",
    "        temp_dict['Profit'] = np.round(df_business_selected_agg['grossProfit'].sum(), 2)\n",
    "        temp_dict['Invest'] = np.round(df_business_selected_agg['marketingInvestment'].sum(), 2)\n",
    "        \n",
    "        sper_crr, P_value = stat.spearmanr(df_business_selected_agg_filter['marketingInvestment'],                       df_business_selected_agg_filter['grossProfit'])\n",
    "               \n",
    "        if sper_crr> corr_thld:\n",
    "            temp_dict['Corr coeff.'] = sper_crr\n",
    "            temp_dict['Pr. value'] = P_value\n",
    "            print (i + ' business unit '+ z + ' platform has \\t'+ str(sper_crr) + ' corr coefficient')\n",
    "\n",
    "            try:\n",
    "                sorted_df = df_business_selected_agg_filter.sort_values( by=['marketingInvestment'], ascending=False )\n",
    "                t_train = sorted_df['marketingInvestment']\n",
    "                y_train = sorted_df['grossProfit']\n",
    "                \n",
    "                regr, err = regression_calc(sorted_df[['marketingInvestment','grossProfit']],log_f)\n",
    "                \n",
    "                R = sorted_df['grossProfit'] - log_f(sorted_df['marketingInvestment'], *regr)\n",
    "                R_std = R.describe()['std']\n",
    "                    \n",
    "                Y_mean = sorted_df['grossProfit'].describe()[1]\n",
    "                \n",
    "                name = i + ' ' + z +' '\n",
    "                ing_name = [name, currency_code_code]\n",
    "                #save_chart(sorted_df, ing_name, R_std)\n",
    "                             \n",
    "                a,b = regr\n",
    "                temp_dict['a'] = a\n",
    "                temp_dict['b'] = b\n",
    "                temp_dict['R-std'] = R_std\n",
    "                temp_dict['Mean'] = Y_mean\n",
    "                \n",
    "                #print(a,b,c)\n",
    "                worksheet.write('A'+str(excel_row), account_code[0])          \n",
    "                worksheet.write('B'+str(excel_row), i) \n",
    "                worksheet.write('C'+str(excel_row), z)\n",
    "                    \n",
    "                #worksheet.write('D'+str(excel_row), y)                    \n",
    "                worksheet.write('E'+str(excel_row), str(np.round(sper_crr, precision)))                    \n",
    "                worksheet.write('F'+str(excel_row), str(np.round(P_value, 7)))             \n",
    "                worksheet.write('G'+str(excel_row), str(np.round(a, precision)))                   \n",
    "                worksheet.write('H'+str(excel_row), str(np.round(b, precision)))                                \n",
    "                worksheet.write('I'+str(excel_row), str(np.round(Y_mean, precision)))                    \n",
    "                worksheet.write('J'+str(excel_row), str(np.round(R_std, precision)))               \n",
    "                worksheet.write('K'+str(excel_row), str(np.round(df_business_selected_agg['marketingInvestment'].sum(), 2)))        \n",
    "                worksheet.write('L'+str(excel_row), str(np.round(df_business_selected_agg['grossProfit'].sum(), 2)))\n",
    "                \n",
    "                excel_row = excel_row + 1\n",
    "                print('Regression calculated successfully')\n",
    "            except:\n",
    "                print(\"Regression wasn't calculated\")\n",
    "                # worksheet.write('A'+ str(excel_row), z)\n",
    "                # excel_row = excel_row + 1\n",
    "                worksheet.write('A'+str(excel_row),account_code[0])           \n",
    "                worksheet.write('B'+str(excel_row), i)    \n",
    "                worksheet.write('C'+str(excel_row), z) \n",
    "                worksheet.write('K'+str(excel_row), str(np.round(df_business_selected_agg['marketingInvestment'].sum(), 2)))\n",
    "                worksheet.write('L'+str(excel_row), str(np.round(df_business_selected_agg['grossProfit'].sum(), 2)))\n",
    "                \n",
    "                temp_dict['a'] = 0\n",
    "                temp_dict['b'] = 0\n",
    "            \n",
    "                excel_row = excel_row + 1\n",
    "\n",
    "        else:\n",
    "            worksheet.write('A'+str(excel_row), account_code[0])       \n",
    "            worksheet.write('B'+str(excel_row), i)        \n",
    "            worksheet.write('C'+str(excel_row), z)\n",
    "            worksheet.write('K'+str(excel_row), str(np.round(df_business_selected_agg['marketingInvestment'].sum(), 2)))    \n",
    "            worksheet.write('L'+str(excel_row), str(np.round(df_business_selected_agg['grossProfit'].sum(), 2)))\n",
    "            \n",
    "            excel_row = excel_row + 1\n",
    "            \n",
    "            temp_dict['a'] = 0\n",
    "            temp_dict['b'] = 0\n",
    "                        \n",
    "        output = output.append(temp_dict, ignore_index=True)\n",
    "\n",
    "worksheet = workbook.add_worksheet('Settings')\n",
    "\n",
    "worksheet.set_column('A:A', 25)\n",
    "worksheet.set_column('B:B', 15)\n",
    "worksheet.set_column('C:C', 20)\n",
    "worksheet.set_column('D:D', 20)\n",
    "worksheet.set_column('E:E', 10)\n",
    "\n",
    "worksheet.write('A1', 'Alpha (AWS filter coef.)', bold)\n",
    "worksheet.write('B1', 'Corr. threshold', bold)\n",
    "worksheet.write('C1', 'Time window [week]', bold)\n",
    "worksheet.write('D1', 'Dropped channel.', bold)\n",
    "#worksheet.write('E1', 'Corr coeff.', bold)\n",
    "\n",
    "worksheet.write('A2',aws_alpha)\n",
    "worksheet.write('B2',corr_thld)\n",
    "worksheet.write('C2',time_window_regr)\n",
    "\n",
    "for i in range(len(dropped_ch)):\n",
    "    worksheet.write('D'+ str(i + 2), dropped_ch[i])\n",
    "\n",
    "worksheet = workbook.add_worksheet('Summary')\n",
    "\n",
    "worksheet.set_column('A:A', 15)\n",
    "worksheet.set_column('B:B', 25)\n",
    "worksheet.set_column('C:C', 25)\n",
    "worksheet.set_column('D:D', 25)\n",
    "worksheet.set_column('E:E', 25)\n",
    "worksheet.set_column('F:F', 25)\n",
    "worksheet.set_column('G:G', 25)\n",
    "worksheet.set_column('H:H', 12)\n",
    "\n",
    "worksheet.write('A1', 'Client', bold)\n",
    "worksheet.write('B1', 'Investment under control', bold)\n",
    "worksheet.write('C1', 'Non-controlled investment', bold)\n",
    "worksheet.write('D1', 'Controlled investment, [%]', bold)\n",
    "worksheet.write('E1', 'Profit under control', bold)\n",
    "worksheet.write('F1', 'Non-controlled profit', bold)\n",
    "worksheet.write('G1', 'Controlled profit, [%]', bold)\n",
    "worksheet.write('H1', 'Level', bold)\n",
    "\n",
    "\n",
    "filterd_out = output[~output['Platform'].isin(dropped_ch)]\n",
    "\n",
    "corr_df = filterd_out[filterd_out['Corr coeff.'] > corr_thld]\n",
    "\n",
    "non_corr_df = filterd_out[filterd_out['Corr coeff.'] <= corr_thld]\n",
    "\n",
    "control_inv = corr_df['Invest'].sum()\n",
    "\n",
    "non_control_inv = non_corr_df['Invest'].sum()\n",
    "\n",
    "control_prof = corr_df['Profit'].sum()\n",
    "\n",
    "non_control_iprof = non_corr_df['Profit'].sum()\n",
    "\n",
    "worksheet.write('A2',account_code[0])\n",
    "worksheet.write('B2',control_inv)\n",
    "worksheet.write('C2',non_control_inv)\n",
    "worksheet.write('D2',str(np.round((control_inv/(non_control_inv + control_inv))*100, 1)))\n",
    "worksheet.write('E2',control_prof)\n",
    "worksheet.write('F2',non_control_iprof)\n",
    "worksheet.write('G2',str(np.round((control_prof/(non_control_iprof + control_prof))*100, 1)))\n",
    "worksheet.write('H2', 'Platform', bold)\n",
    "\n",
    "workbook.close()"
   ]
  },
  {
   "cell_type": "code",
   "execution_count": null,
   "metadata": {
    "ExecuteTime": {
     "end_time": "2021-02-02T13:59:14.573583Z",
     "start_time": "2021-02-02T13:59:14.567582Z"
    }
   },
   "outputs": [],
   "source": []
  },
  {
   "cell_type": "markdown",
   "metadata": {},
   "source": [
    "## Collect regression parameters for individual Campaign"
   ]
  },
  {
   "cell_type": "code",
   "execution_count": null,
   "metadata": {
    "ExecuteTime": {
     "end_time": "2021-02-08T08:59:49.316085Z",
     "start_time": "2021-02-08T08:59:42.090672Z"
    }
   },
   "outputs": [],
   "source": [
    "df = pd.read_csv('input\\\\'+ list_files[33],\n",
    "                 sep=\"\\t\",\n",
    "                 infer_datetime_format=True,\n",
    "                 usecols=usecols,\n",
    "                 dtype=dtype,\n",
    "                 parse_dates=DateTimeID)\n",
    "\n",
    "df['periodStartDate'] = pd.to_datetime(df['periodStartDate'])\n",
    "\n",
    "df.head(5)"
   ]
  },
  {
   "cell_type": "code",
   "execution_count": null,
   "metadata": {
    "ExecuteTime": {
     "end_time": "2021-02-08T13:12:51.836476Z",
     "start_time": "2021-02-08T09:07:26.291223Z"
    }
   },
   "outputs": [],
   "source": [
    "#select window for regression \n",
    "excel_coll = 0\n",
    "precision  = 3\n",
    "corr_thld  = 0.8\n",
    "aws_alpha  = 0.15\n",
    "\n",
    "platform_code = df['platformCode'].unique().tolist()\n",
    "platform_code.sort()\n",
    "business_unit_code = df['businessUnit'].unique().tolist()\n",
    "business_unit_code.sort()\n",
    "channel_code_code = df['channelCode'].unique().tolist()\n",
    "channel_code_code.sort()\n",
    "currency_code_code = df['currencyCode'].unique().tolist()\n",
    "currency_code_code.sort()\n",
    "account_code = df['account'].unique().tolist()\n",
    "\n",
    "\n",
    "dropped_ch = ['Not tracked','notset','unpaid']\n",
    "\n",
    "workbook = xlsxwriter.Workbook(folder + account_code[0]+' Campaign corr.xlsx',  {'nan_inf_to_errors': True}) #folder + \n",
    "\n",
    "bold = workbook.add_format({'bold': True})\n",
    "\n",
    "df_time_selected = df[df['periodStartDate'] >= df['periodStartDate'].max() - pd.DateOffset(weeks=time_window_regr)] \n",
    "\n",
    "worksheet = workbook.add_worksheet('Platform')\n",
    "\n",
    "excel_row  = 2\n",
    "\n",
    "output = pd.DataFrame()\n",
    "\n",
    "for i in business_unit_code:\n",
    "    df_selected = df_time_selected[df_time_selected['businessUnit'] == i]\n",
    "    #worksheet = workbook.add_worksheet(i)\n",
    "    worksheet.set_column('A:A', 20)\n",
    "    worksheet.set_column('B:B', 20)\n",
    "    worksheet.set_column('C:C', 30)\n",
    "    worksheet.set_column('D:D', 10)\n",
    "    worksheet.set_column('E:E', 10)\n",
    "    worksheet.set_column('F:F', 10)\n",
    "    worksheet.set_column('G:G', 15)\n",
    "    worksheet.set_column('H:H', 15)\n",
    "    worksheet.set_column('I:I', 15)\n",
    "    worksheet.set_column('J:J', 15)\n",
    "    worksheet.set_column('K:K', 15)\n",
    "    worksheet.set_column('L:L', 15)\n",
    "\n",
    "    worksheet.write('A1', 'Client', bold)\n",
    "    worksheet.write('B1', 'Business unit', bold)\n",
    "    worksheet.write('C1', 'Campaign', bold)\n",
    "    #worksheet.write('D1', 'Campaign', bold)\n",
    "    worksheet.write('E1', 'Corr coeff.', bold)\n",
    "    worksheet.write('F1', 'Pr. value', bold)\n",
    "    worksheet.write('G1', 'a', bold)\n",
    "    worksheet.write('H1', 'b', bold)\n",
    "    worksheet.write('I1', 'Mean', bold)\n",
    "    worksheet.write('J1', 'R-std', bold)\n",
    "    worksheet.write('K1', 'Invest', bold)\n",
    "    worksheet.write('L1', 'Profit', bold)\n",
    "      \n",
    "    worksheet.write('A'+str(excel_row),i)\n",
    "    \n",
    "    campaign_code = df['adCampaign'].unique().tolist()\n",
    "    #campaign_code.sort()\n",
    "    \n",
    "    for z in campaign_code:\n",
    "        df_platform = df_selected[df_selected['adCampaign'] == z]\n",
    "                       \n",
    "        df_business_selected_agg = select_agg_resample_df(df_platform, 'periodStartDate', 'week', use_nan = False)\n",
    "        \n",
    "        df_business_selected_agg_filter = filter_df(df_business_selected_agg, aws_alpha)\n",
    "        \n",
    "        # add dataframe for materialize interim results \n",
    "        \n",
    "        temp_dict = dict([('Client',''),\n",
    "                          ('Business unit',''),\n",
    "                          ('Campaign',''),\n",
    "                          ('Corr coeff.', 0),\n",
    "                          ('Pr. value', 0),\n",
    "                          ('a',0),\n",
    "                          ('b',0),\n",
    "                          ('Mean',0),\n",
    "                          ('R-std',0),\n",
    "                          ('Invest',0),\n",
    "                          ('Profit',0)])\n",
    "        \n",
    "        temp_dict['Client'] = account_code[0]\n",
    "        temp_dict['Business unit'] = i\n",
    "        temp_dict['Platform'] = z\n",
    "        \n",
    "        temp_dict['Profit'] = np.round(df_business_selected_agg['grossProfit'].sum(), 2)\n",
    "        temp_dict['Invest'] = np.round(df_business_selected_agg['marketingInvestment'].sum(), 2)\n",
    "        \n",
    "        sper_crr, P_value = stat.spearmanr(df_business_selected_agg_filter['marketingInvestment'],                       df_business_selected_agg_filter['grossProfit'])\n",
    "               \n",
    "        if sper_crr> corr_thld:\n",
    "            temp_dict['Corr coeff.'] = sper_crr\n",
    "            temp_dict['Pr. value'] = P_value\n",
    "            print (i + ' business unit '+ z + ' platform has \\t'+ str(sper_crr) + ' corr coefficient')\n",
    "\n",
    "            try:\n",
    "                sorted_df = df_business_selected_agg_filter.sort_values( by=['marketingInvestment'], ascending=False )\n",
    "                t_train = sorted_df['marketingInvestment']\n",
    "                y_train = sorted_df['grossProfit']\n",
    "                \n",
    "                regr, err = regression_calc(sorted_df[['marketingInvestment','grossProfit']],log_f)\n",
    "                \n",
    "                R = sorted_df['grossProfit'] - log_f(sorted_df['marketingInvestment'], *regr)\n",
    "                R_std = R.describe()['std']\n",
    "                    \n",
    "                Y_mean = sorted_df['grossProfit'].describe()[1]\n",
    "                \n",
    "                name = i + ' ' + z +' '\n",
    "                ing_name = [name, currency_code_code]\n",
    "                #save_chart(sorted_df, ing_name, R_std)\n",
    "                             \n",
    "                a,b = regr\n",
    "                temp_dict['a'] = a\n",
    "                temp_dict['b'] = b\n",
    "                temp_dict['R-std'] = R_std\n",
    "                temp_dict['Mean'] = Y_mean\n",
    "                \n",
    "                #print(a,b,c)\n",
    "                worksheet.write('A'+str(excel_row), account_code[0])          \n",
    "                worksheet.write('B'+str(excel_row), i) \n",
    "                worksheet.write('C'+str(excel_row), z)\n",
    "                    \n",
    "                #worksheet.write('D'+str(excel_row), y)                    \n",
    "                worksheet.write('E'+str(excel_row), str(np.round(sper_crr, precision)))                    \n",
    "                worksheet.write('F'+str(excel_row), str(np.round(P_value, 7)))             \n",
    "                worksheet.write('G'+str(excel_row), str(np.round(a, precision)))                   \n",
    "                worksheet.write('H'+str(excel_row), str(np.round(b, precision)))                                \n",
    "                worksheet.write('I'+str(excel_row), str(np.round(Y_mean, precision)))                    \n",
    "                worksheet.write('J'+str(excel_row), str(np.round(R_std, precision)))               \n",
    "                worksheet.write('K'+str(excel_row), str(np.round(df_business_selected_agg['marketingInvestment'].sum(), 2)))        \n",
    "                worksheet.write('L'+str(excel_row), str(np.round(df_business_selected_agg['grossProfit'].sum(), 2)))\n",
    "                \n",
    "                excel_row = excel_row + 1\n",
    "                print('Regression calculated successfully')\n",
    "            except:\n",
    "                print(\"Regression wasn't calculated\")\n",
    "                # worksheet.write('A'+ str(excel_row), z)\n",
    "                # excel_row = excel_row + 1\n",
    "                worksheet.write('A'+str(excel_row),account_code[0])           \n",
    "                worksheet.write('B'+str(excel_row), i)    \n",
    "                worksheet.write('C'+str(excel_row), z) \n",
    "                worksheet.write('K'+str(excel_row), str(np.round(df_business_selected_agg['marketingInvestment'].sum(), 2)))\n",
    "                worksheet.write('L'+str(excel_row), str(np.round(df_business_selected_agg['grossProfit'].sum(), 2)))\n",
    "                \n",
    "                temp_dict['a'] = 0\n",
    "                temp_dict['b'] = 0\n",
    "            \n",
    "                excel_row = excel_row + 1\n",
    "\n",
    "        else:\n",
    "            worksheet.write('A'+str(excel_row), account_code[0])       \n",
    "            worksheet.write('B'+str(excel_row), i)        \n",
    "            worksheet.write('C'+str(excel_row), z)\n",
    "            worksheet.write('K'+str(excel_row), str(np.round(df_business_selected_agg['marketingInvestment'].sum(), 2)))    \n",
    "            worksheet.write('L'+str(excel_row), str(np.round(df_business_selected_agg['grossProfit'].sum(), 2)))\n",
    "            \n",
    "            excel_row = excel_row + 1\n",
    "            \n",
    "            temp_dict['a'] = 0\n",
    "            temp_dict['b'] = 0\n",
    "                        \n",
    "        output = output.append(temp_dict, ignore_index=True)\n",
    "\n",
    "worksheet = workbook.add_worksheet('Settings')\n",
    "\n",
    "worksheet.set_column('A:A', 25)\n",
    "worksheet.set_column('B:B', 15)\n",
    "worksheet.set_column('C:C', 20)\n",
    "worksheet.set_column('D:D', 20)\n",
    "worksheet.set_column('E:E', 10)\n",
    "\n",
    "worksheet.write('A1', 'Alpha (AWS filter coef.)', bold)\n",
    "worksheet.write('B1', 'Corr. threshold', bold)\n",
    "worksheet.write('C1', 'Time window [week]', bold)\n",
    "worksheet.write('D1', 'Dropped channel.', bold)\n",
    "#worksheet.write('E1', 'Corr coeff.', bold)\n",
    "\n",
    "worksheet.write('A2',aws_alpha)\n",
    "worksheet.write('B2',corr_thld)\n",
    "worksheet.write('C2',time_window_regr)\n",
    "\n",
    "for i in range(len(dropped_ch)):\n",
    "    worksheet.write('D'+ str(i + 2), dropped_ch[i])\n",
    "\n",
    "worksheet = workbook.add_worksheet('Summary')\n",
    "\n",
    "worksheet.set_column('A:A', 15)\n",
    "worksheet.set_column('B:B', 25)\n",
    "worksheet.set_column('C:C', 25)\n",
    "worksheet.set_column('D:D', 25)\n",
    "worksheet.set_column('E:E', 25)\n",
    "worksheet.set_column('F:F', 25)\n",
    "worksheet.set_column('G:G', 25)\n",
    "worksheet.set_column('H:H', 12)\n",
    "\n",
    "worksheet.write('A1', 'Client', bold)\n",
    "worksheet.write('B1', 'Investment under control', bold)\n",
    "worksheet.write('C1', 'Non-controlled investment', bold)\n",
    "worksheet.write('D1', 'Controlled investment, [%]', bold)\n",
    "worksheet.write('E1', 'Profit under control', bold)\n",
    "worksheet.write('F1', 'Non-controlled profit', bold)\n",
    "worksheet.write('G1', 'Controlled profit, [%]', bold)\n",
    "worksheet.write('H1', 'Level', bold)\n",
    "\n",
    "\n",
    "filterd_out = output[~output['Platform'].isin(dropped_ch)]\n",
    "\n",
    "corr_df = filterd_out[filterd_out['Corr coeff.'] > corr_thld]\n",
    "\n",
    "non_corr_df = filterd_out[filterd_out['Corr coeff.'] <= corr_thld]\n",
    "\n",
    "control_inv = corr_df['Invest'].sum()\n",
    "\n",
    "non_control_inv = non_corr_df['Invest'].sum()\n",
    "\n",
    "control_prof = corr_df['Profit'].sum()\n",
    "\n",
    "non_control_iprof = non_corr_df['Profit'].sum()\n",
    "\n",
    "worksheet.write('A2',account_code[0])\n",
    "worksheet.write('B2',control_inv)\n",
    "worksheet.write('C2',non_control_inv)\n",
    "worksheet.write('D2',str(np.round((control_inv/(non_control_inv + control_inv))*100, 1)))\n",
    "worksheet.write('E2',control_prof)\n",
    "worksheet.write('F2',non_control_iprof)\n",
    "worksheet.write('G2',str(np.round((control_prof/(non_control_iprof + control_prof))*100, 1)))\n",
    "worksheet.write('H2', 'Platform', bold)\n",
    "\n",
    "workbook.close()"
   ]
  },
  {
   "cell_type": "code",
   "execution_count": null,
   "metadata": {},
   "outputs": [],
   "source": []
  },
  {
   "cell_type": "code",
   "execution_count": null,
   "metadata": {},
   "outputs": [],
   "source": []
  },
  {
   "cell_type": "code",
   "execution_count": null,
   "metadata": {
    "ExecuteTime": {
     "end_time": "2021-02-03T09:07:20.678262Z",
     "start_time": "2021-02-03T09:07:20.675262Z"
    }
   },
   "outputs": [],
   "source": [
    "writer = pd.ExcelWriter('pandas_simple.xlsx', engine='xlsxwriter')"
   ]
  },
  {
   "cell_type": "code",
   "execution_count": null,
   "metadata": {
    "ExecuteTime": {
     "end_time": "2021-02-03T09:07:21.764324Z",
     "start_time": "2021-02-03T09:07:21.758324Z"
    }
   },
   "outputs": [],
   "source": [
    "filterd_out = output[~output['Platform'].isin(dropped_ch)]\n",
    "filterd_out = filterd_out.reset_index()"
   ]
  },
  {
   "cell_type": "code",
   "execution_count": null,
   "metadata": {
    "ExecuteTime": {
     "end_time": "2021-02-03T09:07:22.940391Z",
     "start_time": "2021-02-03T09:07:22.768381Z"
    }
   },
   "outputs": [],
   "source": [
    "filterd_out.to_excel(writer, sheet_name='Sheet1')\n",
    "workbook  = writer.book\n",
    "worksheet = writer.sheets['Sheet1']\n",
    "\n",
    "worksheet.set_column('A:A', 20)\n",
    "worksheet.set_column('B:B', 20)\n",
    "worksheet.set_column('C:C', 20)\n",
    "worksheet.set_column('D:D', 20)\n",
    "worksheet.set_column('E:E', 20)\n",
    "worksheet.set_column('F:F', 20)\n",
    "worksheet.set_column('G:G', 20)\n",
    "worksheet.set_column('H:H', 20)\n",
    "worksheet.set_column('I:I', 20)\n",
    "worksheet.set_column('J:J', 20)\n",
    "worksheet.set_column('K:K', 20)\n",
    "worksheet.set_column('L:L', 20)\n",
    "\n",
    "filterd_out.to_excel(writer, sheet_name='Sheet2')\n",
    "workbook  = writer.book\n",
    "worksheet = writer.sheets['Sheet2']\n",
    "\n",
    "worksheet.set_column('A:A', 20)\n",
    "worksheet.set_column('B:B', 20)\n",
    "worksheet.set_column('C:C', 20)\n",
    "worksheet.set_column('D:D', 20)\n",
    "worksheet.set_column('E:E', 20)\n",
    "worksheet.set_column('F:F', 20)\n",
    "worksheet.set_column('G:G', 20)\n",
    "worksheet.set_column('H:H', 20)\n",
    "worksheet.set_column('I:I', 20)\n",
    "worksheet.set_column('J:J', 20)\n",
    "worksheet.set_column('K:K', 20)\n",
    "worksheet.set_column('L:L', 20)"
   ]
  },
  {
   "cell_type": "code",
   "execution_count": null,
   "metadata": {
    "ExecuteTime": {
     "end_time": "2021-02-08T08:46:41.974052Z",
     "start_time": "2021-02-08T08:46:41.972052Z"
    }
   },
   "outputs": [],
   "source": [
    "#corr_df = filterd_out[filterd_out['Corr coeff.'] > corr_thld]\n",
    "#corr_df"
   ]
  },
  {
   "cell_type": "code",
   "execution_count": null,
   "metadata": {
    "ExecuteTime": {
     "end_time": "2021-02-03T09:40:17.444326Z",
     "start_time": "2021-02-03T09:40:17.436326Z"
    }
   },
   "outputs": [],
   "source": [
    "corr_df['Invest'].sum()"
   ]
  },
  {
   "cell_type": "code",
   "execution_count": null,
   "metadata": {
    "ExecuteTime": {
     "end_time": "2021-02-08T08:46:47.568372Z",
     "start_time": "2021-02-08T08:46:47.563371Z"
    }
   },
   "outputs": [],
   "source": [
    "#non_corr_df = filterd_out[filterd_out['Corr coeff.'] <= corr_thld]\n",
    "#non_corr_df"
   ]
  },
  {
   "cell_type": "code",
   "execution_count": null,
   "metadata": {
    "ExecuteTime": {
     "end_time": "2021-02-03T09:39:57.729199Z",
     "start_time": "2021-02-03T09:39:57.719198Z"
    }
   },
   "outputs": [],
   "source": [
    "non_corr_df['Invest'].sum()"
   ]
  },
  {
   "cell_type": "code",
   "execution_count": null,
   "metadata": {
    "ExecuteTime": {
     "end_time": "2021-02-03T09:07:24.231465Z",
     "start_time": "2021-02-03T09:07:24.038454Z"
    }
   },
   "outputs": [],
   "source": [
    "workbook.close()"
   ]
  },
  {
   "cell_type": "code",
   "execution_count": null,
   "metadata": {
    "ExecuteTime": {
     "end_time": "2021-02-02T22:27:46.427303Z",
     "start_time": "2021-02-02T22:27:46.392301Z"
    }
   },
   "outputs": [],
   "source": [
    "output.tail()"
   ]
  },
  {
   "cell_type": "code",
   "execution_count": null,
   "metadata": {
    "ExecuteTime": {
     "end_time": "2021-02-08T08:46:55.648834Z",
     "start_time": "2021-02-08T08:46:55.641834Z"
    }
   },
   "outputs": [],
   "source": [
    "#filterd_out = output[~output['Platform'].isin(dropped_ch)]"
   ]
  },
  {
   "cell_type": "code",
   "execution_count": null,
   "metadata": {
    "ExecuteTime": {
     "end_time": "2021-02-08T08:46:56.382876Z",
     "start_time": "2021-02-08T08:46:56.377876Z"
    }
   },
   "outputs": [],
   "source": [
    "#filterd_out.reset_index().tail(20)"
   ]
  },
  {
   "cell_type": "code",
   "execution_count": null,
   "metadata": {
    "ExecuteTime": {
     "end_time": "2021-02-03T09:06:40.017936Z",
     "start_time": "2021-02-03T09:06:40.014936Z"
    }
   },
   "outputs": [],
   "source": [
    "#filterd_out['Platform'].unique().tolist()"
   ]
  },
  {
   "cell_type": "code",
   "execution_count": null,
   "metadata": {
    "ExecuteTime": {
     "end_time": "2021-02-02T22:06:34.571557Z",
     "start_time": "2021-02-02T22:06:34.537555Z"
    }
   },
   "outputs": [],
   "source": []
  },
  {
   "cell_type": "code",
   "execution_count": null,
   "metadata": {
    "ExecuteTime": {
     "end_time": "2021-02-03T09:06:42.847098Z",
     "start_time": "2021-02-03T09:06:42.837097Z"
    }
   },
   "outputs": [],
   "source": [
    "filterd_bad = output[output['Platform'].isin(dropped_ch)]\n",
    "#filterd_bad"
   ]
  },
  {
   "cell_type": "code",
   "execution_count": null,
   "metadata": {
    "ExecuteTime": {
     "end_time": "2021-02-02T22:11:24.584145Z",
     "start_time": "2021-02-02T22:11:24.579145Z"
    }
   },
   "outputs": [],
   "source": [
    "dropped_ch"
   ]
  },
  {
   "cell_type": "code",
   "execution_count": null,
   "metadata": {},
   "outputs": [],
   "source": []
  }
 ],
 "metadata": {
  "hide_input": false,
  "kernelspec": {
   "display_name": "Python 3",
   "language": "python",
   "name": "python3"
  },
  "language_info": {
   "codemirror_mode": {
    "name": "ipython",
    "version": 3
   },
   "file_extension": ".py",
   "mimetype": "text/x-python",
   "name": "python",
   "nbconvert_exporter": "python",
   "pygments_lexer": "ipython3",
   "version": "3.8.5"
  },
  "toc": {
   "base_numbering": 1,
   "nav_menu": {},
   "number_sections": true,
   "sideBar": true,
   "skip_h1_title": false,
   "title_cell": "Table of Contents",
   "title_sidebar": "Contents",
   "toc_cell": false,
   "toc_position": {},
   "toc_section_display": true,
   "toc_window_display": false
  },
  "varInspector": {
   "cols": {
    "lenName": 16,
    "lenType": 16,
    "lenVar": 40
   },
   "kernels_config": {
    "python": {
     "delete_cmd_postfix": "",
     "delete_cmd_prefix": "del ",
     "library": "var_list.py",
     "varRefreshCmd": "print(var_dic_list())"
    },
    "r": {
     "delete_cmd_postfix": ") ",
     "delete_cmd_prefix": "rm(",
     "library": "var_list.r",
     "varRefreshCmd": "cat(var_dic_list()) "
    }
   },
   "types_to_exclude": [
    "module",
    "function",
    "builtin_function_or_method",
    "instance",
    "_Feature"
   ],
   "window_display": false
  }
 },
 "nbformat": 4,
 "nbformat_minor": 4
}
