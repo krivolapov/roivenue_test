{
 "cells": [
  {
   "cell_type": "markdown",
   "metadata": {},
   "source": [
    "# Processing of overall statistics for dataset \n",
    "\n",
    "Author: Maksim Krivolapov maksim.krivolapov@roivenue.com\n",
    "\n",
    "Goals:\n",
    "\n",
    "How to use it:"
   ]
  },
  {
   "cell_type": "code",
   "execution_count": null,
   "metadata": {
    "ExecuteTime": {
     "end_time": "2021-01-31T20:59:10.294494Z",
     "start_time": "2021-01-31T20:59:04.929187Z"
    }
   },
   "outputs": [],
   "source": [
    "import pandas as pd\n",
    "import math\n",
    "import matplotlib.pyplot as plt\n",
    "import numpy as np\n",
    "\n",
    "import ipywidgets as widgets\n",
    "import cufflinks as cf\n",
    "cf.go_offline()\n",
    "\n",
    "import plotly.express as px\n",
    "import plotly.graph_objects as go\n",
    "pd.options.plotting.backend = \"plotly\""
   ]
  },
  {
   "cell_type": "markdown",
   "metadata": {},
   "source": [
    "## ToDo\n",
    "1. Read CSV\n",
    "2. Parse data\n",
    "3. Get list of platforms, campaigns, channels\n",
    "4. Choose platforms\n",
    "5. Calculate statistics for every channel / campaign"
   ]
  },
  {
   "cell_type": "code",
   "execution_count": null,
   "metadata": {
    "ExecuteTime": {
     "end_time": "2021-01-31T20:59:10.304495Z",
     "start_time": "2021-01-31T20:59:10.297495Z"
    }
   },
   "outputs": [],
   "source": [
    "DateTimeID = ['periodStartDate']\n",
    "\n",
    "usecols = [\n",
    "    \"adCampaign\", \"platformCode\",\"currencyCode\", \"channelCode\", \"marketingInvestment\",\n",
    "    \"impressions\", \"clicks\", \"visits\", \"conversions\", \"deliveries\",\n",
    "    \"netRevenue\", \"grossProfit\", \"adGroup\", \"periodStartDate\",\"businessUnit\"\n",
    "          ]\n",
    "\n",
    "dtype = {\n",
    "    'adCampaign' : str,\n",
    "    'platformCode' : str,\n",
    "    'businessUnit':str,\n",
    "    'currencyCode':str,\n",
    "    'channelCode' : str,\n",
    "    'impressions' : int,\n",
    "    'clicks' : int,\n",
    "    'visits' : int,\n",
    "    'conversions' : int,\n",
    "    'deliveries' : int,\n",
    "    'netRevenue' : float,\n",
    "    'grossProfit' : float,\n",
    "    'adGroup' : str,\n",
    "    'marketingInvestment': float\n",
    "}"
   ]
  },
  {
   "cell_type": "code",
   "execution_count": null,
   "metadata": {
    "ExecuteTime": {
     "end_time": "2021-01-31T20:59:10.324496Z",
     "start_time": "2021-01-31T20:59:10.307495Z"
    }
   },
   "outputs": [],
   "source": [
    "#file_name = 'MarketingReport_3.csv'\n",
    "file_name = 'MarketingReport_new.csv'\n",
    "\n"
   ]
  },
  {
   "cell_type": "markdown",
   "metadata": {},
   "source": [
    "## Function's prototypes "
   ]
  },
  {
   "cell_type": "code",
   "execution_count": null,
   "metadata": {
    "ExecuteTime": {
     "end_time": "2021-01-31T20:59:10.342497Z",
     "start_time": "2021-01-31T20:59:10.327496Z"
    }
   },
   "outputs": [],
   "source": [
    "stat_name = ['Mean','Std','Med','Sqew','Kurtosis','Var','Iqr','Shapiro-stat','Shapiro-Pr']\n",
    "regr_name = ['a','b','c','a-err','b-err','c-err']\n",
    "r2_stat_name = ['R2-mean','R2-std','R2-norm','R2-chi-sqr'] # func [line, log] if line -> c=NaN"
   ]
  },
  {
   "cell_type": "code",
   "execution_count": null,
   "metadata": {
    "ExecuteTime": {
     "end_time": "2021-01-31T20:59:10.357498Z",
     "start_time": "2021-01-31T20:59:10.344497Z"
    }
   },
   "outputs": [],
   "source": [
    "def main_statistics(df, precision = 3):\n",
    "    \"\"\" Function input pandas series or numpy array\n",
    "        input: dataframe, precision -> digits after point\n",
    "        output: mean, std, median, skewness, kurtosis, variance, interquartile range, Shapiro-Wilk Test [Stat, Pr] \"\"\"\n",
    "    from scipy.stats import kurtosis, iqr, shapiro\n",
    "    result = []\n",
    "    count,mean, std, *all = df.describe()\n",
    "    result.append(np.round(mean, precision))\n",
    "    result.append(np.round(std, precision))\n",
    "    result.append(np.round(df.median(), precision))\n",
    "    result.append(np.round(df.skew(axis = 0, skipna = True), precision ))\n",
    "    result.append(np.round(kurtosis(df, fisher=True), precision ))\n",
    "    result.append(np.round(df.var(), precision))\n",
    "    result.append((np.round(iqr(df, axis=0, keepdims=True), precision)).item())\n",
    "    if len(df) > 2:\n",
    "        stat, p = shapiro(df)\n",
    "    else:\n",
    "        stat = np.nan\n",
    "        p = np.nan\n",
    "    result.append(np.round(stat,precision))\n",
    "    result.append(np.round(p,precision))\n",
    "    return result"
   ]
  },
  {
   "cell_type": "code",
   "execution_count": null,
   "metadata": {
    "ExecuteTime": {
     "end_time": "2021-01-31T20:59:10.366498Z",
     "start_time": "2021-01-31T20:59:10.360498Z"
    }
   },
   "outputs": [],
   "source": [
    "# regression functions definition\n",
    "def log_f(x, a, b, c):\n",
    "    return a * (1-np.exp(-x/b)) + c #a * (1 - np.exp((x/b)))\n",
    "\n",
    "def line_f(x, a, b):\n",
    "    return a * x + b\n",
    "\n",
    "def sine_f(x, a, b):\n",
    "    return a * np.sin(b * x)"
   ]
  },
  {
   "cell_type": "code",
   "execution_count": null,
   "metadata": {
    "ExecuteTime": {
     "end_time": "2021-01-31T20:59:10.373499Z",
     "start_time": "2021-01-31T20:59:10.368499Z"
    }
   },
   "outputs": [],
   "source": [
    "# function for genetic algorithm to minimize (sum of squared error)\n",
    "def sumOfSquaredError(parameterTuple):\n",
    "    function = regr_func # it's bad staff #TODO\n",
    "    warnings.filterwarnings(\"ignore\") # do not print warnings by genetic algorithm\n",
    "    val = function(t_train, *parameterTuple)\n",
    "    return np.sum((y_train - val) ** 2.0)"
   ]
  },
  {
   "cell_type": "code",
   "execution_count": null,
   "metadata": {
    "ExecuteTime": {
     "end_time": "2021-01-31T20:59:10.385500Z",
     "start_time": "2021-01-31T20:59:10.378499Z"
    }
   },
   "outputs": [],
   "source": [
    "# function for search initial value for regression parameters\n",
    "from scipy.optimize import differential_evolution\n",
    "import warnings\n",
    "def generate_Initial_Parameters(t_train, y_train,function):\n",
    "    # min and max used for bounds\n",
    "    maxX = max(t_train)\n",
    "    minX = min(t_train)\n",
    "    maxY = max(y_train)\n",
    "    minY = min(y_train)\n",
    "    maxXY = max(maxX, maxY)\n",
    "\n",
    "    parameterBounds = []\n",
    "    parameterBounds.append([-maxXY, maxXY]) # seach bounds for a\n",
    "    parameterBounds.append([-maxXY, maxXY]) # seach bounds for b\n",
    "    parameterBounds.append([-maxXY, maxXY]) # seach bounds for c\n",
    "\n",
    "    # \"seed\" the numpy random number generator for repeatable results\n",
    "    result = differential_evolution(sumOfSquaredError, parameterBounds, seed=3)\n",
    "    return result.x"
   ]
  },
  {
   "cell_type": "code",
   "execution_count": null,
   "metadata": {
    "ExecuteTime": {
     "end_time": "2021-01-31T20:59:10.394500Z",
     "start_time": "2021-01-31T20:59:10.389500Z"
    }
   },
   "outputs": [],
   "source": [
    "def regression_calc(df, function):\n",
    "    \"\"\"Calculate paramiters of regression function\n",
    "    input: pandas dataframe [x,y]\n",
    "    output: list[paramiters], list[std diviation err of paramiters]\"\"\"\n",
    "    from scipy.optimize import curve_fit\n",
    "    t_train = df[df.columns[0]]  #\n",
    "    y_train = df[df.columns[1]]\n",
    "    geneticParameters = generate_Initial_Parameters(t_train, y_train, function)\n",
    "    popt, pcov = curve_fit(function, t_train, y_train, geneticParameters)\n",
    "\n",
    "    error  = np.sqrt(np.diag(pcov))\n",
    "    return popt, error"
   ]
  },
  {
   "cell_type": "code",
   "execution_count": null,
   "metadata": {
    "ExecuteTime": {
     "end_time": "2021-01-31T20:59:10.401500Z",
     "start_time": "2021-01-31T20:59:10.396500Z"
    }
   },
   "outputs": [],
   "source": [
    "def select_business_unit(df, business_unit):\n",
    "    \"\"\"Select specific busines unti in dataframe \"\"\"\n",
    "    return df[df['businessUnit'] == business_unit]"
   ]
  },
  {
   "cell_type": "code",
   "execution_count": null,
   "metadata": {
    "ExecuteTime": {
     "end_time": "2021-01-31T20:59:10.413501Z",
     "start_time": "2021-01-31T20:59:10.407501Z"
    }
   },
   "outputs": [],
   "source": [
    "def r2_test(df, function, *args):\n",
    "    \"\"\"General statistics for residual norm R2\n",
    "    input: pandas dataframe[x,y], regression function, function arguments, argument's keywords\n",
    "    output: input dataframe + residual column , residual mean, residual std, residual normality test, Chi-squared test\"\"\"\n",
    "    result_df = df['residual'] = df[df.columns[1]] - df[df.columns[0]].apply(function(*args))\n",
    "    median = np.round(result_df['residual'].median(), precision)\n",
    "    return result_df"
   ]
  },
  {
   "cell_type": "code",
   "execution_count": null,
   "metadata": {
    "ExecuteTime": {
     "end_time": "2021-01-31T20:59:10.425502Z",
     "start_time": "2021-01-31T20:59:10.415501Z"
    }
   },
   "outputs": [],
   "source": [
    "def select_agg_resample_df(df, index, granularity, use_nan):\n",
    "    \"\"\"Function for select and group  data in dataframe\n",
    "    input: pandas dataframe, name of index, granularity['week','month'] default as in dataframe\n",
    "    return: aggregated dataframe with extra column with indexes [ROI, CPI, CPC]\"\"\"\n",
    "    group_df = df.groupby(['periodStartDate']).agg({\n",
    "    'netRevenue': 'sum','marketingInvestment': 'sum', 'visits': 'sum', 'conversions': 'sum',\n",
    "    'deliveries': 'sum', 'impressions': 'sum', 'clicks': 'sum', 'grossProfit': 'sum' })   \n",
    "\n",
    "    if granularity == 'week':\n",
    "        group_agg_df = group_df.resample('W-MON').agg('sum')\n",
    "    elif granularity == 'month':\n",
    "        group_agg_df = group_df.resample('M', convention='end').agg('sum')\n",
    "    elif granularity == 'day':\n",
    "        group_agg_df = group_df\n",
    "    else:\n",
    "        raise ValueError(\"Incorrect aggregation period, shuld be 'day', 'week' or 'month'\")\n",
    "\n",
    "    group_agg_df['ROI'] = (group_agg_df['netRevenue']/group_agg_df['marketingInvestment'])\n",
    "    group_agg_df['CPI'] = (group_agg_df['marketingInvestment']/group_agg_df['impressions'])\n",
    "    group_agg_df['CPC'] = (group_agg_df['marketingInvestment']/group_agg_df['clicks'])\n",
    "    group_agg_df['POI'] = (group_agg_df['marketingInvestment']/group_agg_df['grossProfit']) # Profit over investment\n",
    "\n",
    "    if use_nan == False:\n",
    "        group_agg_df.fillna(0)\n",
    "    else:\n",
    "        pass\n",
    "    return group_agg_df"
   ]
  },
  {
   "cell_type": "code",
   "execution_count": null,
   "metadata": {
    "ExecuteTime": {
     "end_time": "2021-01-31T20:59:10.435502Z",
     "start_time": "2021-01-31T20:59:10.427502Z"
    }
   },
   "outputs": [],
   "source": [
    "def stat_index_platform(df, platform_code, granularity, index, precision):\n",
    "    \"\"\"Calculate marketing indexis for all platforms\n",
    "    input: dataframe, granularity, index[ROI, CPI, CPC], precision\n",
    "    output: dataframe with statistics for all platforms\"\"\"\n",
    "    statistics_ROI = []\n",
    "    for i in platform_code:\n",
    "        new_df = df[df['platformCode'] == i]\n",
    "\n",
    "        selected_df = select_agg_resample_df(new_df, 'periodStartDate', granularity, use_nan = False)      \n",
    "\n",
    "        stat = main_statistics(selected_df[index], precision)\n",
    "\n",
    "        statistics_ROI.append(stat)\n",
    "        \n",
    "    statistics_df = pd.DataFrame(statistics_ROI, columns = stat_name)\n",
    "    statistics_df = statistics_df.set_index([pd.Index(platform_code)])\n",
    "    return statistics_df\n"
   ]
  },
  {
   "cell_type": "code",
   "execution_count": null,
   "metadata": {
    "ExecuteTime": {
     "end_time": "2021-01-14T13:48:30.591238Z",
     "start_time": "2021-01-14T13:48:26.168985Z"
    }
   },
   "outputs": [],
   "source": [
    "\n"
   ]
  },
  {
   "cell_type": "markdown",
   "metadata": {},
   "source": [
    "## Read Dataset"
   ]
  },
  {
   "cell_type": "code",
   "execution_count": null,
   "metadata": {
    "ExecuteTime": {
     "end_time": "2021-01-31T20:59:16.810867Z",
     "start_time": "2021-01-31T20:59:10.437503Z"
    }
   },
   "outputs": [],
   "source": [
    "df = pd.read_csv(file_name,\n",
    "                 sep=\"\\t\",\n",
    "                 infer_datetime_format=True,\n",
    "                 usecols=usecols,\n",
    "                 dtype=dtype,\n",
    "                 parse_dates=DateTimeID)\n",
    "\n",
    "df['periodStartDate'] = pd.to_datetime(df['periodStartDate'])\n",
    "\n",
    "platform_code = df.platformCode.unique().tolist()\n",
    "platform_code.sort()\n",
    "\n",
    "business_unit_code = df.businessUnit.unique().tolist()\n",
    "business_unit_code.sort()\n",
    "\n",
    "channel_code_code = df.channelCode.unique().tolist()\n",
    "channel_code_code.sort()\n",
    "\n",
    "currency_code_code = df.currencyCode.unique().tolist()\n",
    "currency_code_code.sort()\n",
    "\n",
    "df.head(5)"
   ]
  },
  {
   "cell_type": "code",
   "execution_count": null,
   "metadata": {
    "ExecuteTime": {
     "end_time": "2021-01-31T20:59:22.169174Z",
     "start_time": "2021-01-31T20:59:16.813867Z"
    }
   },
   "outputs": [],
   "source": [
    "for i in platform_code:\n",
    "    group_df = df[df['platformCode'] == i]\n",
    "    adgroups = group_df['adGroup'].unique()\n",
    "    channels = group_df['channelCode'].unique()\n",
    "    campaigns = group_df['adCampaign'].unique()\n",
    "        \n",
    "    print(f'Platform {i} has \\t{len(adgroups)} adgroups and \\t{len(channels)} channels and \\t{len(campaigns)} campaign')\n"
   ]
  },
  {
   "cell_type": "code",
   "execution_count": null,
   "metadata": {
    "ExecuteTime": {
     "end_time": "2021-01-31T20:59:22.178174Z",
     "start_time": "2021-01-31T20:59:22.173174Z"
    }
   },
   "outputs": [],
   "source": [
    "print(platform_code)"
   ]
  },
  {
   "cell_type": "code",
   "execution_count": null,
   "metadata": {
    "ExecuteTime": {
     "end_time": "2021-01-31T20:59:22.188175Z",
     "start_time": "2021-01-31T20:59:22.181174Z"
    }
   },
   "outputs": [],
   "source": [
    "print(business_unit_code)"
   ]
  },
  {
   "cell_type": "code",
   "execution_count": null,
   "metadata": {
    "ExecuteTime": {
     "end_time": "2021-01-31T20:59:22.235177Z",
     "start_time": "2021-01-31T20:59:22.192175Z"
    }
   },
   "outputs": [],
   "source": [
    "print(currency_code_code)"
   ]
  },
  {
   "cell_type": "markdown",
   "metadata": {},
   "source": [
    "## Settings"
   ]
  },
  {
   "cell_type": "code",
   "execution_count": null,
   "metadata": {
    "ExecuteTime": {
     "end_time": "2021-01-31T20:59:22.245178Z",
     "start_time": "2021-01-31T20:59:22.239178Z"
    }
   },
   "outputs": [],
   "source": [
    "independent_var = 'marketingInvestment'\n",
    "dependent_var   = 'grossProfit'#'netRevenue' # \n",
    "business_unit   = 'kytarycz'\n",
    "window_size     = 3 # window's size of filters"
   ]
  },
  {
   "cell_type": "code",
   "execution_count": null,
   "metadata": {
    "ExecuteTime": {
     "end_time": "2021-01-31T20:59:22.277180Z",
     "start_time": "2021-01-31T20:59:22.249178Z"
    },
    "scrolled": true
   },
   "outputs": [],
   "source": [
    "# Data source\n",
    "data_source = widgets.Dropdown(\n",
    "    options = ['platform','compaign','channel'],\n",
    "    value='platform',\n",
    "    description='Data source:',\n",
    "    disabled=False,\n",
    ")\n",
    "display(data_source)"
   ]
  },
  {
   "cell_type": "code",
   "execution_count": null,
   "metadata": {
    "ExecuteTime": {
     "end_time": "2021-01-13T22:31:48.299481Z",
     "start_time": "2021-01-13T22:31:46.466376Z"
    }
   },
   "outputs": [],
   "source": []
  },
  {
   "cell_type": "code",
   "execution_count": null,
   "metadata": {
    "ExecuteTime": {
     "end_time": "2021-01-31T20:59:22.299181Z",
     "start_time": "2021-01-31T20:59:22.280180Z"
    }
   },
   "outputs": [],
   "source": [
    "# platform code\n",
    "if 'All' not in business_unit_code: business_unit_code.insert(0, 'All')\n",
    "business_unit_choose = widgets.Dropdown(\n",
    "    options = business_unit_code,\n",
    "    value = 'All',\n",
    "    description='Business Unit:',\n",
    "    disabled=False,\n",
    ")\n",
    "display(business_unit_choose)"
   ]
  },
  {
   "cell_type": "code",
   "execution_count": null,
   "metadata": {
    "ExecuteTime": {
     "end_time": "2021-01-31T20:59:22.308181Z",
     "start_time": "2021-01-31T20:59:22.302181Z"
    }
   },
   "outputs": [],
   "source": [
    "business_unit_choose.value"
   ]
  },
  {
   "cell_type": "code",
   "execution_count": null,
   "metadata": {
    "ExecuteTime": {
     "end_time": "2021-01-31T20:59:22.339183Z",
     "start_time": "2021-01-31T20:59:22.319182Z"
    }
   },
   "outputs": [],
   "source": [
    "granularity = widgets.Dropdown(\n",
    "    options=['day', 'week', 'month'],\n",
    "    value='week',\n",
    "    description='Granularity:',\n",
    "    disabled=False,\n",
    ")\n",
    "display(granularity)"
   ]
  },
  {
   "cell_type": "code",
   "execution_count": null,
   "metadata": {
    "ExecuteTime": {
     "end_time": "2021-01-31T20:59:22.350184Z",
     "start_time": "2021-01-31T20:59:22.345184Z"
    }
   },
   "outputs": [],
   "source": [
    "granularity.value"
   ]
  },
  {
   "cell_type": "code",
   "execution_count": null,
   "metadata": {
    "ExecuteTime": {
     "end_time": "2021-01-31T20:59:22.373185Z",
     "start_time": "2021-01-31T20:59:22.353184Z"
    }
   },
   "outputs": [],
   "source": [
    "reggr_func = widgets.Dropdown(\n",
    "    options=['log', 'sin', 'line'],\n",
    "    value='log',\n",
    "    description='Granularity:',\n",
    "    disabled=False,\n",
    ")\n",
    "display(reggr_func)"
   ]
  },
  {
   "cell_type": "code",
   "execution_count": null,
   "metadata": {
    "ExecuteTime": {
     "end_time": "2021-01-31T20:59:22.394186Z",
     "start_time": "2021-01-31T20:59:22.377185Z"
    }
   },
   "outputs": [],
   "source": [
    "filter_method = widgets.Dropdown(\n",
    "    options = ['none','median','avrg','ewm'],\n",
    "    value = 'avrg',\n",
    "    description='Platform:',\n",
    "    disabled=False,\n",
    ")\n",
    "display(filter_method)"
   ]
  },
  {
   "cell_type": "code",
   "execution_count": null,
   "metadata": {
    "ExecuteTime": {
     "end_time": "2021-01-31T20:59:22.404187Z",
     "start_time": "2021-01-31T20:59:22.398187Z"
    }
   },
   "outputs": [],
   "source": [
    "filter_method.value"
   ]
  },
  {
   "cell_type": "code",
   "execution_count": null,
   "metadata": {
    "ExecuteTime": {
     "end_time": "2021-01-31T20:59:22.410187Z",
     "start_time": "2021-01-31T20:59:22.407187Z"
    }
   },
   "outputs": [],
   "source": [
    "window_size = 10"
   ]
  },
  {
   "cell_type": "code",
   "execution_count": null,
   "metadata": {
    "ExecuteTime": {
     "end_time": "2021-01-31T20:59:22.417188Z",
     "start_time": "2021-01-31T20:59:22.413187Z"
    }
   },
   "outputs": [],
   "source": [
    "regr_func = log_f"
   ]
  },
  {
   "cell_type": "markdown",
   "metadata": {},
   "source": [
    "## Aggregate data and calculate descriptive statistics for dataset"
   ]
  },
  {
   "cell_type": "code",
   "execution_count": null,
   "metadata": {
    "ExecuteTime": {
     "end_time": "2021-01-31T20:59:22.452190Z",
     "start_time": "2021-01-31T20:59:22.420188Z"
    }
   },
   "outputs": [],
   "source": [
    "#\n",
    "if business_unit_choose.value == 'All':\n",
    "    df_selected_unit = df\n",
    "else:\n",
    "    df_selected_unit = select_business_unit(df, business_unit_choose.value)\n",
    "df_selected_unit.head()"
   ]
  },
  {
   "cell_type": "code",
   "execution_count": null,
   "metadata": {
    "ExecuteTime": {
     "end_time": "2021-01-31T20:59:27.874500Z",
     "start_time": "2021-01-31T20:59:22.455190Z"
    }
   },
   "outputs": [],
   "source": [
    "# calculate statistics for selected busines unit(s)\n",
    "statistics_ROI_df = stat_index_platform(df_selected_unit, platform_code, granularity.value, 'ROI', 3)"
   ]
  },
  {
   "cell_type": "code",
   "execution_count": null,
   "metadata": {
    "ExecuteTime": {
     "end_time": "2021-01-31T20:59:27.914502Z",
     "start_time": "2021-01-31T20:59:27.876500Z"
    }
   },
   "outputs": [],
   "source": [
    "statistics_ROI_df"
   ]
  },
  {
   "cell_type": "markdown",
   "metadata": {
    "ExecuteTime": {
     "end_time": "2021-01-07T23:55:22.047328Z",
     "start_time": "2021-01-07T23:55:22.038328Z"
    }
   },
   "source": [
    "## Calculate regression's coefficients for chosen platform(s)"
   ]
  },
  {
   "cell_type": "code",
   "execution_count": null,
   "metadata": {
    "ExecuteTime": {
     "end_time": "2021-01-31T21:00:04.984622Z",
     "start_time": "2021-01-31T20:59:27.917502Z"
    }
   },
   "outputs": [],
   "source": [
    "statistics_R2 = []\n",
    "for i in platform_code:\n",
    "    new_df = df_selected_unit[df_selected_unit['platformCode'] == i]\n",
    "    selected_df_unfiltered = select_agg_resample_df(new_df, 'periodStartDate', 'day', use_nan = False)\n",
    "    if filter_method.value   == 'none':\n",
    "        selected_df_filtered = selected_df_unfiltered\n",
    "    elif filter_method.value == 'avrg':\n",
    "        selected_df_filtered = selected_df_unfiltered.rolling(window=window_size).mean()\n",
    "    elif filter_method.value == 'median':\n",
    "        pass\n",
    "    elif filter_method.value == 'ewm':\n",
    "        selected_df_filtered = selected_df_unfiltered.ewm(alpha=0.3, adjust=False).mean()\n",
    "    else:\n",
    "        pass\n",
    "    selected_df = select_agg_resample_df(selected_df_filtered, 'periodStartDate', granularity.value, use_nan = False)\n",
    "    if len(np.intersect1d(statistics_ROI_df.loc[i,:][0:2], [np.nan, np.inf, 0.0, 'Nan'])):\n",
    "        regr = [np.nan, np.nan, np.nan]\n",
    "        err = [np.nan, np.nan, np.nan]\n",
    "    else:\n",
    "        t_train = selected_df[independent_var]\n",
    "        y_train = selected_df[dependent_var]\n",
    "        \n",
    "        regr, err = regression_calc(selected_df[[independent_var,dependent_var]],log_f)\n",
    "\n",
    "    statistics_R2.append(np.concatenate((regr, err), axis=0))\n",
    "\n",
    "\n",
    "statistics_R2_df = pd.DataFrame(statistics_R2, columns = regr_name)\n",
    "statistics_R2_df = statistics_R2_df.set_index([pd.Index(platform_code)])"
   ]
  },
  {
   "cell_type": "code",
   "execution_count": null,
   "metadata": {
    "ExecuteTime": {
     "end_time": "2021-01-31T21:00:05.022625Z",
     "start_time": "2021-01-31T20:59:06.019Z"
    }
   },
   "outputs": [],
   "source": [
    "statistics_R2_df"
   ]
  },
  {
   "cell_type": "markdown",
   "metadata": {},
   "source": []
  },
  {
   "cell_type": "markdown",
   "metadata": {
    "ExecuteTime": {
     "end_time": "2021-01-07T17:25:55.763666Z",
     "start_time": "2021-01-07T17:25:55.748665Z"
    },
    "code_folding": []
   },
   "source": [
    "## Residual vector calculation "
   ]
  },
  {
   "cell_type": "code",
   "execution_count": null,
   "metadata": {
    "ExecuteTime": {
     "end_time": "2021-01-13T22:41:41.438407Z",
     "start_time": "2021-01-13T22:41:41.421406Z"
    }
   },
   "outputs": [],
   "source": []
  },
  {
   "cell_type": "markdown",
   "metadata": {
    "ExecuteTime": {
     "end_time": "2021-01-07T10:51:08.035805Z",
     "start_time": "2021-01-07T10:51:08.026805Z"
    }
   },
   "source": [
    "## Statistics of vector calculation\n",
    "\n",
    "* Correlation R vector with initial dataset\n",
    "* Statistics of R vector\n",
    "* Norm - test of R-vector"
   ]
  },
  {
   "cell_type": "code",
   "execution_count": null,
   "metadata": {
    "ExecuteTime": {
     "end_time": "2021-01-31T21:00:05.023625Z",
     "start_time": "2021-01-31T20:59:06.448Z"
    },
    "code_folding": [
     1
    ]
   },
   "outputs": [],
   "source": [
    "# platform code\n",
    "#if '__All__' not in platform_code: platform_code.insert(0, '__All__')\n",
    "platform = widgets.Dropdown(\n",
    "    options = platform_code,\n",
    "    value = platform_code[0],\n",
    "    description='Platform:',\n",
    "    disabled=False,\n",
    ")\n",
    "display(platform)"
   ]
  },
  {
   "cell_type": "code",
   "execution_count": null,
   "metadata": {
    "ExecuteTime": {
     "end_time": "2021-01-31T21:00:05.025625Z",
     "start_time": "2021-01-31T20:59:06.452Z"
    },
    "code_folding": [],
    "run_control": {
     "marked": false
    }
   },
   "outputs": [],
   "source": [
    "platform.value"
   ]
  },
  {
   "cell_type": "code",
   "execution_count": null,
   "metadata": {
    "ExecuteTime": {
     "end_time": "2021-01-31T21:00:05.027625Z",
     "start_time": "2021-01-31T20:59:06.456Z"
    }
   },
   "outputs": [],
   "source": [
    "new_df = df_selected_unit[df_selected_unit['platformCode'] == platform.value]\n",
    "#new_df['impressions']  = new_df['impressions'].rolling(window=10).mean()\n",
    "#new_df['impressions'] = new_df['impressions'].rolling(5).mean()\n",
    "df_selected_unit.head()\n"
   ]
  },
  {
   "cell_type": "code",
   "execution_count": null,
   "metadata": {
    "ExecuteTime": {
     "end_time": "2021-01-31T21:00:05.029625Z",
     "start_time": "2021-01-31T20:59:06.460Z"
    }
   },
   "outputs": [],
   "source": [
    "selected_df_unfiltered = select_agg_resample_df(new_df, 'periodStartDate', 'day', use_nan = False)\n",
    "if filter_method.value   == 'none':\n",
    "    selected_df_filtered = selected_df_unfiltered\n",
    "elif filter_method.value == 'avrg':\n",
    "    selected_df_filtered = selected_df_unfiltered.rolling(window=window_size).mean()\n",
    "elif filter_method.value == 'median':\n",
    "    pass\n",
    "else:\n",
    "    pass\n",
    "\n",
    "selected_df = select_agg_resample_df(selected_df_filtered, 'periodStartDate', granularity.value, use_nan = False)\n",
    "sorted_df = selected_df.sort_values(by = independent_var)\n",
    "selected_df.head()"
   ]
  },
  {
   "cell_type": "code",
   "execution_count": null,
   "metadata": {
    "ExecuteTime": {
     "end_time": "2021-01-31T21:00:05.031625Z",
     "start_time": "2021-01-31T20:59:06.465Z"
    }
   },
   "outputs": [],
   "source": [
    "filter_method.value"
   ]
  },
  {
   "cell_type": "code",
   "execution_count": null,
   "metadata": {
    "ExecuteTime": {
     "end_time": "2021-01-31T21:00:05.032625Z",
     "start_time": "2021-01-31T20:59:06.469Z"
    }
   },
   "outputs": [],
   "source": [
    "selected_df"
   ]
  },
  {
   "cell_type": "code",
   "execution_count": null,
   "metadata": {
    "ExecuteTime": {
     "end_time": "2021-01-31T21:00:05.034625Z",
     "start_time": "2021-01-31T20:59:06.474Z"
    }
   },
   "outputs": [],
   "source": [
    "fig1 = selected_df.plot()\n",
    "fig1.update_layout(title_text=\"Data distributions on \"+ platform.value+' plaform and '+business_unit_choose.value+' business unit', title_font=dict(size=16))\n",
    "fig1.update_layout(uniformtext_minsize=16, uniformtext_mode='hide')\n",
    "fig1.show()"
   ]
  },
  {
   "cell_type": "code",
   "execution_count": null,
   "metadata": {
    "ExecuteTime": {
     "end_time": "2021-01-31T21:00:05.036625Z",
     "start_time": "2021-01-31T20:59:06.477Z"
    }
   },
   "outputs": [],
   "source": [
    "fig6 = selected_df.plot(selected_df, x = selected_df.index, y = ['POI'])\n",
    "fig6.update_layout(title_text=\"Data distributions on \"+ platform.value+' plaform and '+business_unit_choose.value+' business unit', title_font=dict(size=20))\n",
    "fig6.update_layout(uniformtext_minsize=16, uniformtext_mode='hide')\n",
    "fig6.show()"
   ]
  },
  {
   "cell_type": "code",
   "execution_count": null,
   "metadata": {
    "ExecuteTime": {
     "end_time": "2021-01-31T21:00:05.037625Z",
     "start_time": "2021-01-31T20:59:06.481Z"
    }
   },
   "outputs": [],
   "source": [
    "R = sorted_df[dependent_var]-regr_func(sorted_df[independent_var], *(statistics_R2_df.loc[platform.value, ['a','b', 'c']]))\n",
    "upper = regr_func(sorted_df[independent_var],  *(statistics_R2_df.loc[platform.value, ['a','b','c']])) + 2*R.describe()[2]\n",
    "lower = regr_func(sorted_df[independent_var],  *(statistics_R2_df.loc[platform.value, ['a','b','c']])) - 2*R.describe()[2]"
   ]
  },
  {
   "cell_type": "code",
   "execution_count": null,
   "metadata": {
    "ExecuteTime": {
     "end_time": "2021-01-31T21:00:05.039626Z",
     "start_time": "2021-01-31T20:59:06.485Z"
    }
   },
   "outputs": [],
   "source": [
    "import kaleido\n",
    "import orca"
   ]
  },
  {
   "cell_type": "code",
   "execution_count": null,
   "metadata": {
    "ExecuteTime": {
     "end_time": "2021-01-31T21:00:05.040626Z",
     "start_time": "2021-01-31T20:59:06.490Z"
    }
   },
   "outputs": [],
   "source": [
    "import plotly.graph_objects as go\n",
    "fig3 = go.Figure()\n",
    "# Add traces\n",
    "fig3.add_trace(\n",
    "    go.Scatter(x=sorted_df[independent_var] ,\n",
    "               y=sorted_df[dependent_var],\n",
    "               mode='markers',\n",
    "               name='Polynomial regression (projection)'))\n",
    "\n",
    "fig3.add_trace(\n",
    "    go.Scatter(x=sorted_df[independent_var] ,\n",
    "               y=regr_func(sorted_df[independent_var],  *(statistics_R2_df.loc[platform.value, ['a','b','c']])),\n",
    "               mode='lines',\n",
    "               name='Polynomial regression (projection)'))\n",
    "fig3.add_trace(\n",
    "    go.Scatter(\n",
    "        x=sorted_df[independent_var] , # x, then x reversed\n",
    "        y=upper, # upper, then lower reversed\n",
    "        #fill='toself',\n",
    "       # fillcolor='rgba(0,100,80,0.2)',\n",
    "       # line=dict(color='rgba(255,255,255,0)'),\n",
    "       # hoverinfo=\"skip\",\n",
    "        name='Upper margin one sigma',\n",
    "        showlegend=True\n",
    "    ))\n",
    "fig3.add_trace(\n",
    "    go.Scatter(\n",
    "        x=sorted_df[independent_var] , # x, then x reversed\n",
    "        y=lower, # upper, then lower reversed\n",
    "        #fill='toself',\n",
    "       # fillcolor='rgba(0,100,80,0.2)',\n",
    "       # line=dict(color='rgba(255,255,255,0)'),\n",
    "       # hoverinfo=\"skip\",\n",
    "        name='Lower margin one sigma',\n",
    "        showlegend=True\n",
    "    ))\n",
    "\n",
    "fig3.update_layout(\n",
    "    title_text=\n",
    "dependent_var+' over '+independent_var+' on '+ platform.value+' plaform and '+business_unit_choose.value+' business unit',\n",
    "    title_font=dict(size=16))\n",
    "\n",
    "fig3.write_image(\"images/fig3.jpeg\")\n",
    "\n",
    "fig3.show()"
   ]
  },
  {
   "cell_type": "code",
   "execution_count": null,
   "metadata": {
    "ExecuteTime": {
     "end_time": "2021-01-31T21:00:05.042626Z",
     "start_time": "2021-01-31T20:59:06.493Z"
    }
   },
   "outputs": [],
   "source": [
    "log_f.__name__"
   ]
  },
  {
   "cell_type": "code",
   "execution_count": null,
   "metadata": {
    "ExecuteTime": {
     "end_time": "2021-01-31T21:00:05.044626Z",
     "start_time": "2021-01-31T20:59:06.498Z"
    }
   },
   "outputs": [],
   "source": [
    "statistics_R2_df.loc[ platform.value , ['a','b','c']]"
   ]
  },
  {
   "cell_type": "code",
   "execution_count": null,
   "metadata": {
    "ExecuteTime": {
     "end_time": "2021-01-31T21:00:05.045626Z",
     "start_time": "2021-01-31T20:59:06.502Z"
    }
   },
   "outputs": [],
   "source": [
    "R = selected_df[dependent_var]-regr_func(selected_df[independent_var],*(statistics_R2_df.loc[platform.value, ['a','b','c']]))"
   ]
  },
  {
   "cell_type": "code",
   "execution_count": null,
   "metadata": {
    "ExecuteTime": {
     "end_time": "2021-01-31T21:00:05.047626Z",
     "start_time": "2021-01-31T20:59:06.507Z"
    }
   },
   "outputs": [],
   "source": [
    "fig4 = go.Figure()\n",
    "# Add traces\n",
    "fig4.add_trace(\n",
    "    go.Scatter(x=sorted_df[independent_var] ,\n",
    "               y=R,\n",
    "               mode='markers',\n",
    "               name='Polynomial regression (projection)'))\n",
    "\n",
    "fig4.update_layout(\n",
    "    title_text=\n",
    "    f\"Residual vector\",\n",
    "    title_font=dict(size=20))\n",
    "fig4.show()"
   ]
  },
  {
   "cell_type": "code",
   "execution_count": null,
   "metadata": {
    "ExecuteTime": {
     "end_time": "2021-01-31T21:00:05.049626Z",
     "start_time": "2021-01-31T20:59:06.511Z"
    }
   },
   "outputs": [],
   "source": [
    "R.hist(bins= 5)"
   ]
  },
  {
   "cell_type": "code",
   "execution_count": null,
   "metadata": {
    "ExecuteTime": {
     "end_time": "2021-01-31T21:00:05.051626Z",
     "start_time": "2021-01-31T20:59:06.515Z"
    }
   },
   "outputs": [],
   "source": [
    "pd.Series(main_statistics(R,3), index =stat_name)"
   ]
  },
  {
   "cell_type": "code",
   "execution_count": null,
   "metadata": {
    "ExecuteTime": {
     "end_time": "2021-01-31T21:00:05.052626Z",
     "start_time": "2021-01-31T20:59:06.519Z"
    }
   },
   "outputs": [],
   "source": [
    "from plotly.subplots import make_subplots\n",
    "import plotly.graph_objects as go\n",
    "\n",
    "# Initialize figure with subplots\n",
    "fig = make_subplots(\n",
    "    rows=4, cols=1, subplot_titles=(\"Plot 1\", \"Plot 2\", \"Plot 3\", \"Plot 4\")\n",
    ")\n",
    "\n",
    "# Add traces\n",
    "fig.add_trace(go.Scatter(x=[1, 2, 3], y=[4, 5, 6]), row=1, col=1)\n",
    "fig.add_trace(go.Scatter(x=[1, 2, 3], y=[3.5, 4.5, 5.5]), row=1, col=1)\n",
    "\n",
    "fig.add_trace(go.Scatter(x=[20, 30, 40], y=[50, 60, 70]), row=2, col=1)\n",
    "fig.add_trace(go.Scatter(x=[300, 400, 500], y=[600, 700, 800]), row=3, col=1)\n",
    "fig.add_trace(go.Scatter(x=[4000, 5000, 6000], y=[7000, 8000, 9000]), row=4, col=1)\n",
    "\n",
    "# Update xaxis properties\n",
    "fig.update_xaxes(title_text=\"xaxis 1 title\", row=1, col=1)\n",
    "fig.update_xaxes(title_text=\"xaxis 2 title\", range=[10, 50], row=2, col=1)\n",
    "fig.update_xaxes(title_text=\"xaxis 3 title\", showgrid=False, row=3, col=1)\n",
    "fig.update_xaxes(title_text=\"xaxis 4 title\", type=\"log\", row=4, col=1)\n",
    "\n",
    "# Update yaxis properties\n",
    "fig.update_yaxes(title_text=\"yaxis 1 title\", row=1, col=1)\n",
    "fig.update_yaxes(title_text=\"yaxis 2 title\", range=[40, 80], row=2, col=1)\n",
    "fig.update_yaxes(title_text=\"yaxis 3 title\", showgrid=False, row=3, col=1)\n",
    "fig.update_yaxes(title_text=\"yaxis 4 title\", row=4, col=1)\n",
    "\n",
    "# Update title and height\n",
    "fig.update_layout(title_text=\"Customizing Subplot Axes\", height=1000, width=600)\n",
    "\n",
    "\n",
    "fig.show()"
   ]
  },
  {
   "cell_type": "code",
   "execution_count": null,
   "metadata": {
    "ExecuteTime": {
     "end_time": "2021-01-31T21:00:05.054626Z",
     "start_time": "2021-01-31T20:59:06.523Z"
    }
   },
   "outputs": [],
   "source": [
    "def optimization_func():\n",
    "    \"\"\"Input: df with statistics and regrettion coefficients, regrettion function, objective func, value of objective\n",
    "    Output:  optimal points in df \"\"\"\n",
    "    return result"
   ]
  },
  {
   "cell_type": "code",
   "execution_count": null,
   "metadata": {
    "ExecuteTime": {
     "end_time": "2021-01-31T21:00:05.056627Z",
     "start_time": "2021-01-31T20:59:06.527Z"
    }
   },
   "outputs": [],
   "source": [
    "df.info()"
   ]
  },
  {
   "cell_type": "code",
   "execution_count": null,
   "metadata": {
    "ExecuteTime": {
     "end_time": "2021-01-31T21:00:05.058627Z",
     "start_time": "2021-01-31T20:59:06.531Z"
    }
   },
   "outputs": [],
   "source": [
    "df.to_sparse().info()"
   ]
  },
  {
   "cell_type": "code",
   "execution_count": null,
   "metadata": {
    "ExecuteTime": {
     "end_time": "2021-01-31T21:00:05.059627Z",
     "start_time": "2021-01-31T20:59:06.535Z"
    }
   },
   "outputs": [],
   "source": [
    "df.info(memory_usage='deep')"
   ]
  },
  {
   "cell_type": "code",
   "execution_count": null,
   "metadata": {},
   "outputs": [],
   "source": []
  }
 ],
 "metadata": {
  "hide_input": false,
  "kernelspec": {
   "display_name": "Python 3",
   "language": "python",
   "name": "python3"
  },
  "language_info": {
   "codemirror_mode": {
    "name": "ipython",
    "version": 3
   },
   "file_extension": ".py",
   "mimetype": "text/x-python",
   "name": "python",
   "nbconvert_exporter": "python",
   "pygments_lexer": "ipython3",
   "version": "3.8.5"
  },
  "nbTranslate": {
   "displayLangs": [
    "*"
   ],
   "hotkey": "alt-t",
   "langInMainMenu": true,
   "sourceLang": "en",
   "targetLang": "fr",
   "useGoogleTranslate": true
  },
  "toc": {
   "base_numbering": 1,
   "nav_menu": {},
   "number_sections": true,
   "sideBar": true,
   "skip_h1_title": true,
   "title_cell": "Table of Contents",
   "title_sidebar": "Contents",
   "toc_cell": false,
   "toc_position": {},
   "toc_section_display": true,
   "toc_window_display": true
  },
  "varInspector": {
   "cols": {
    "lenName": 16,
    "lenType": 16,
    "lenVar": 40
   },
   "kernels_config": {
    "python": {
     "delete_cmd_postfix": "",
     "delete_cmd_prefix": "del ",
     "library": "var_list.py",
     "varRefreshCmd": "print(var_dic_list())"
    },
    "r": {
     "delete_cmd_postfix": ") ",
     "delete_cmd_prefix": "rm(",
     "library": "var_list.r",
     "varRefreshCmd": "cat(var_dic_list()) "
    }
   },
   "position": {
    "height": "609.4px",
    "left": "1152.4px",
    "right": "20px",
    "top": "120px",
    "width": "350px"
   },
   "types_to_exclude": [
    "module",
    "function",
    "builtin_function_or_method",
    "instance",
    "_Feature"
   ],
   "window_display": false
  }
 },
 "nbformat": 4,
 "nbformat_minor": 4
}
