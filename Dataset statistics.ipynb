{
 "cells": [
  {
   "cell_type": "markdown",
   "metadata": {},
   "source": [
    "# Processing of overall statistics for dataset \n",
    "\n",
    "Author: Maksim Krivolapov maksim.krivolapov@roivenue.com\n",
    "\n",
    "Goals:\n",
    "\n",
    "How to use it:"
   ]
  },
  {
   "cell_type": "code",
   "execution_count": 50,
   "metadata": {
    "ExecuteTime": {
     "end_time": "2021-01-20T14:35:11.220116Z",
     "start_time": "2021-01-20T14:35:11.192115Z"
    }
   },
   "outputs": [
    {
     "data": {
      "text/html": [
       "        <script type=\"text/javascript\">\n",
       "        window.PlotlyConfig = {MathJaxConfig: 'local'};\n",
       "        if (window.MathJax) {MathJax.Hub.Config({SVG: {font: \"STIX-Web\"}});}\n",
       "        if (typeof require !== 'undefined') {\n",
       "        require.undef(\"plotly\");\n",
       "        requirejs.config({\n",
       "            paths: {\n",
       "                'plotly': ['https://cdn.plot.ly/plotly-latest.min']\n",
       "            }\n",
       "        });\n",
       "        require(['plotly'], function(Plotly) {\n",
       "            window._Plotly = Plotly;\n",
       "        });\n",
       "        }\n",
       "        </script>\n",
       "        "
      ]
     },
     "metadata": {},
     "output_type": "display_data"
    }
   ],
   "source": [
    "import pandas as pd\n",
    "import math\n",
    "import matplotlib.pyplot as plt\n",
    "import numpy as np\n",
    "\n",
    "import ipywidgets as widgets\n",
    "import cufflinks as cf\n",
    "cf.go_offline()\n",
    "\n",
    "import plotly.express as px\n",
    "import plotly.graph_objects as go\n",
    "pd.options.plotting.backend = \"plotly\""
   ]
  },
  {
   "cell_type": "markdown",
   "metadata": {},
   "source": [
    "## ToDo\n",
    "1. Read CSV\n",
    "2. Parse data\n",
    "3. Get list of platforms, campaigns, channels\n",
    "4. Choose platforms\n",
    "5. Calculate statistics for every channel / campaign"
   ]
  },
  {
   "cell_type": "code",
   "execution_count": 51,
   "metadata": {
    "ExecuteTime": {
     "end_time": "2021-01-20T14:35:11.348123Z",
     "start_time": "2021-01-20T14:35:11.342123Z"
    }
   },
   "outputs": [],
   "source": [
    "DateTimeID = ['periodStartDate']\n",
    "\n",
    "usecols = [\n",
    "    \"adCampaign\", \"platformCode\",\"currencyCode\", \"channelCode\", \"marketingInvestment\",\n",
    "    \"impressions\", \"clicks\", \"visits\", \"conversions\", \"deliveries\",\n",
    "    \"netRevenue\", \"grossProfit\", \"adGroup\", \"periodStartDate\",\"businessUnit\"\n",
    "          ]\n",
    "\n",
    "dtype = {\n",
    "    'adCampaign' : str,\n",
    "    'platformCode' : str,\n",
    "    'businessUnit':str,\n",
    "    'currencyCode':str,\n",
    "    'channelCode' : str,\n",
    "    'impressions' : int,\n",
    "    'clicks' : int,\n",
    "    'visits' : int,\n",
    "    'conversions' : int,\n",
    "    'deliveries' : int,\n",
    "    'netRevenue' : float,\n",
    "    'grossProfit' : float,\n",
    "    'adGroup' : str,\n",
    "    'marketingInvestment': float\n",
    "}"
   ]
  },
  {
   "cell_type": "code",
   "execution_count": 52,
   "metadata": {
    "ExecuteTime": {
     "end_time": "2021-01-20T14:35:11.354124Z",
     "start_time": "2021-01-20T14:35:11.350124Z"
    }
   },
   "outputs": [],
   "source": [
    "#file_name = 'MarketingReport_3.csv'\n",
    "file_name = 'MarketingReport_new.csv'\n",
    "\n"
   ]
  },
  {
   "cell_type": "markdown",
   "metadata": {},
   "source": [
    "## Function's prototypes "
   ]
  },
  {
   "cell_type": "code",
   "execution_count": 53,
   "metadata": {
    "ExecuteTime": {
     "end_time": "2021-01-20T14:35:11.479131Z",
     "start_time": "2021-01-20T14:35:11.474131Z"
    }
   },
   "outputs": [],
   "source": [
    "stat_name = ['Mean','Std','Med','Sqew','Kurtosis','Var','Iqr','Shapiro-stat','Shapiro-Pr']\n",
    "regr_name = ['a','b','c','a-err','b-err','c-err']\n",
    "r2_stat_name = ['R2-mean','R2-std','R2-norm','R2-chi-sqr'] # func [line, log] if line -> c=NaN"
   ]
  },
  {
   "cell_type": "code",
   "execution_count": 54,
   "metadata": {
    "ExecuteTime": {
     "end_time": "2021-01-20T14:35:11.493132Z",
     "start_time": "2021-01-20T14:35:11.482131Z"
    }
   },
   "outputs": [],
   "source": [
    "def main_statistics(df, precision = 3):\n",
    "    \"\"\" Function input pandas series or numpy array\n",
    "        input: dataframe, precision -> digits after point\n",
    "        output: mean, std, median, skewness, kurtosis, variance, interquartile range, Shapiro-Wilk Test [Stat, Pr] \"\"\"\n",
    "    from scipy.stats import kurtosis, iqr, shapiro\n",
    "    result = []\n",
    "    count,mean, std, *all = df.describe()\n",
    "    result.append(np.round(mean, precision))\n",
    "    result.append(np.round(std, precision))\n",
    "    result.append(np.round(df.median(), precision))\n",
    "    result.append(np.round(df.skew(axis = 0, skipna = True), precision ))\n",
    "    result.append(np.round(kurtosis(df, fisher=True), precision ))\n",
    "    result.append(np.round(df.var(), precision))\n",
    "    result.append((np.round(iqr(df, axis=0, keepdims=True), precision)).item())\n",
    "    if len(df) > 2:\n",
    "        stat, p = shapiro(df)\n",
    "    else:\n",
    "        stat = np.nan\n",
    "        p = np.nan\n",
    "    result.append(np.round(stat,precision))\n",
    "    result.append(np.round(p,precision))\n",
    "    return result"
   ]
  },
  {
   "cell_type": "code",
   "execution_count": 55,
   "metadata": {
    "ExecuteTime": {
     "end_time": "2021-01-20T14:35:11.502132Z",
     "start_time": "2021-01-20T14:35:11.496132Z"
    }
   },
   "outputs": [],
   "source": [
    "# regression functions definition\n",
    "def log_f(x, a, b, c):\n",
    "    return a * (1-np.exp(-x/b)) + c #a * (1 - np.exp((x/b)))\n",
    "\n",
    "def line_f(x, a, b):\n",
    "    return a * x + b\n",
    "\n",
    "def sine_f(x, a, b):\n",
    "    return a * np.sin(b * x)"
   ]
  },
  {
   "cell_type": "code",
   "execution_count": 56,
   "metadata": {
    "ExecuteTime": {
     "end_time": "2021-01-20T14:35:11.514133Z",
     "start_time": "2021-01-20T14:35:11.505132Z"
    }
   },
   "outputs": [],
   "source": [
    "# function for genetic algorithm to minimize (sum of squared error)\n",
    "def sumOfSquaredError(parameterTuple):\n",
    "    function = regr_func # it's bad staff #TODO\n",
    "    warnings.filterwarnings(\"ignore\") # do not print warnings by genetic algorithm\n",
    "    val = function(t_train, *parameterTuple)\n",
    "    return np.sum((y_train - val) ** 2.0)"
   ]
  },
  {
   "cell_type": "code",
   "execution_count": 57,
   "metadata": {
    "ExecuteTime": {
     "end_time": "2021-01-20T14:35:11.525134Z",
     "start_time": "2021-01-20T14:35:11.517133Z"
    }
   },
   "outputs": [],
   "source": [
    "# function for search initial value for regression parameters\n",
    "from scipy.optimize import differential_evolution\n",
    "import warnings\n",
    "def generate_Initial_Parameters(t_train, y_train,function):\n",
    "    # min and max used for bounds\n",
    "    maxX = max(t_train)\n",
    "    minX = min(t_train)\n",
    "    maxY = max(y_train)\n",
    "    minY = min(y_train)\n",
    "    maxXY = max(maxX, maxY)\n",
    "\n",
    "    parameterBounds = []\n",
    "    parameterBounds.append([-maxXY, maxXY]) # seach bounds for a\n",
    "    parameterBounds.append([-maxXY, maxXY]) # seach bounds for b\n",
    "    parameterBounds.append([-maxXY, maxXY]) # seach bounds for c\n",
    "\n",
    "    # \"seed\" the numpy random number generator for repeatable results\n",
    "    result = differential_evolution(sumOfSquaredError, parameterBounds, seed=3)\n",
    "    return result.x"
   ]
  },
  {
   "cell_type": "code",
   "execution_count": 58,
   "metadata": {
    "ExecuteTime": {
     "end_time": "2021-01-20T14:35:11.536134Z",
     "start_time": "2021-01-20T14:35:11.530134Z"
    }
   },
   "outputs": [],
   "source": [
    "def regression_calc(df, function):\n",
    "    \"\"\"Calculate paramiters of regression function\n",
    "    input: pandas dataframe [x,y]\n",
    "    output: list[paramiters], list[std diviation err of paramiters]\"\"\"\n",
    "    from scipy.optimize import curve_fit\n",
    "    t_train = df[df.columns[0]]  #\n",
    "    y_train = df[df.columns[1]]\n",
    "    geneticParameters = generate_Initial_Parameters(t_train, y_train, function)\n",
    "    popt, pcov = curve_fit(function, t_train, y_train, geneticParameters)\n",
    "    #popt, pcov = curve_fit(function, t_train, y_train)\n",
    "    error  = np.sqrt(np.diag(pcov))\n",
    "    return popt, error"
   ]
  },
  {
   "cell_type": "code",
   "execution_count": 59,
   "metadata": {
    "ExecuteTime": {
     "end_time": "2021-01-20T14:35:11.545135Z",
     "start_time": "2021-01-20T14:35:11.540134Z"
    }
   },
   "outputs": [],
   "source": [
    "def select_business_unit(df, business_unit):\n",
    "    \"\"\"Select specific busines unti in dataframe \"\"\"\n",
    "    return df[df['businessUnit'] == business_unit]"
   ]
  },
  {
   "cell_type": "code",
   "execution_count": 60,
   "metadata": {
    "ExecuteTime": {
     "end_time": "2021-01-20T14:35:11.553135Z",
     "start_time": "2021-01-20T14:35:11.547135Z"
    }
   },
   "outputs": [],
   "source": [
    "def r2_test(df, function, *args):\n",
    "    \"\"\"General statistics for residual norm R2\n",
    "    input: pandas dataframe[x,y], regression function, function arguments, argument's keywords\n",
    "    output: input dataframe + residual column , residual mean, residual std, residual normality test, Chi-squared test\"\"\"\n",
    "    result_df = df['residual'] = df[df.columns[1]] - df[df.columns[0]].apply(function(*args))\n",
    "    median = np.round(result_df['residual'].median(), precision)\n",
    "    return result_df"
   ]
  },
  {
   "cell_type": "code",
   "execution_count": 61,
   "metadata": {
    "ExecuteTime": {
     "end_time": "2021-01-20T14:35:11.566136Z",
     "start_time": "2021-01-20T14:35:11.556135Z"
    }
   },
   "outputs": [],
   "source": [
    "def select_agg_resample_df(df, index, granularity, use_nan):\n",
    "    \"\"\"Function for select and group  data in dataframe\n",
    "    input: pandas dataframe, name of index, granularity['week','month'] default as in dataframe\n",
    "    return: aggregated dataframe with extra column with indexes [ROI, CPI, CPC]\"\"\"\n",
    "    group_df = df.groupby(['periodStartDate']).agg({\n",
    "    'netRevenue': 'sum','marketingInvestment': 'sum', 'visits': 'sum', 'conversions': 'sum',\n",
    "    'deliveries': 'sum', 'impressions': 'sum', 'clicks': 'sum', 'grossProfit': 'sum' })   \n",
    "\n",
    "    if granularity == 'week':\n",
    "        group_agg_df = group_df.resample('W-MON').agg('sum')\n",
    "    elif granularity == 'month':\n",
    "        group_agg_df = group_df.resample('M', convention='end').agg('sum')\n",
    "    elif granularity == 'day':\n",
    "        group_agg_df = group_df\n",
    "    else:\n",
    "        raise ValueError(\"Incorrect aggregation period, shuld be 'day', 'week' or 'month'\")\n",
    "\n",
    "    group_agg_df['ROI'] = (group_agg_df['netRevenue']/group_agg_df['marketingInvestment'])\n",
    "    group_agg_df['CPI'] = (group_agg_df['marketingInvestment']/group_agg_df['impressions'])\n",
    "    group_agg_df['CPC'] = (group_agg_df['marketingInvestment']/group_agg_df['clicks'])\n",
    "    group_agg_df['POI'] = (group_agg_df['marketingInvestment']/group_agg_df['grossProfit']) # Profit over investment\n",
    "\n",
    "    if use_nan == False:\n",
    "        group_agg_df.fillna(0)\n",
    "    else:\n",
    "        pass\n",
    "    return group_agg_df"
   ]
  },
  {
   "cell_type": "code",
   "execution_count": 62,
   "metadata": {
    "ExecuteTime": {
     "end_time": "2021-01-20T14:35:11.576136Z",
     "start_time": "2021-01-20T14:35:11.569136Z"
    }
   },
   "outputs": [],
   "source": [
    "def stat_index_platform(df, platform_code, granularity, index, precision):\n",
    "    \"\"\"Calculate marketing indexis for all platforms\n",
    "    input: dataframe, granularity, index[ROI, CPI, CPC], precision\n",
    "    output: dataframe with statistics for all platforms\"\"\"\n",
    "    statistics_ROI = []\n",
    "    for i in platform_code:\n",
    "        new_df = df[df['platformCode'] == i]\n",
    "\n",
    "        selected_df = select_agg_resample_df(new_df, 'periodStartDate', granularity, use_nan = False)      \n",
    "\n",
    "        stat = main_statistics(selected_df[index], precision)\n",
    "\n",
    "        statistics_ROI.append(stat)\n",
    "        \n",
    "    statistics_df = pd.DataFrame(statistics_ROI, columns = stat_name)\n",
    "    statistics_df = statistics_df.set_index([pd.Index(platform_code)])\n",
    "    return statistics_df\n"
   ]
  },
  {
   "cell_type": "code",
   "execution_count": null,
   "metadata": {
    "ExecuteTime": {
     "end_time": "2021-01-14T13:48:30.591238Z",
     "start_time": "2021-01-14T13:48:26.168985Z"
    }
   },
   "outputs": [],
   "source": [
    "\n"
   ]
  },
  {
   "cell_type": "markdown",
   "metadata": {},
   "source": [
    "## Read Dataset"
   ]
  },
  {
   "cell_type": "code",
   "execution_count": 83,
   "metadata": {
    "ExecuteTime": {
     "end_time": "2021-01-22T08:09:15.989143Z",
     "start_time": "2021-01-22T08:09:10.124808Z"
    }
   },
   "outputs": [
    {
     "data": {
      "text/html": [
       "<div>\n",
       "<style scoped>\n",
       "    .dataframe tbody tr th:only-of-type {\n",
       "        vertical-align: middle;\n",
       "    }\n",
       "\n",
       "    .dataframe tbody tr th {\n",
       "        vertical-align: top;\n",
       "    }\n",
       "\n",
       "    .dataframe thead th {\n",
       "        text-align: right;\n",
       "    }\n",
       "</style>\n",
       "<table border=\"1\" class=\"dataframe\">\n",
       "  <thead>\n",
       "    <tr style=\"text-align: right;\">\n",
       "      <th></th>\n",
       "      <th>businessUnit</th>\n",
       "      <th>platformCode</th>\n",
       "      <th>channelCode</th>\n",
       "      <th>adCampaign</th>\n",
       "      <th>marketingInvestment</th>\n",
       "      <th>impressions</th>\n",
       "      <th>clicks</th>\n",
       "      <th>visits</th>\n",
       "      <th>conversions</th>\n",
       "      <th>deliveries</th>\n",
       "      <th>netRevenue</th>\n",
       "      <th>grossProfit</th>\n",
       "      <th>currencyCode</th>\n",
       "      <th>adGroup</th>\n",
       "      <th>periodStartDate</th>\n",
       "    </tr>\n",
       "  </thead>\n",
       "  <tbody>\n",
       "    <tr>\n",
       "      <th>0</th>\n",
       "      <td>kytaryro</td>\n",
       "      <td>unpaid</td>\n",
       "      <td>direct</td>\n",
       "      <td>NaN</td>\n",
       "      <td>0.00</td>\n",
       "      <td>0</td>\n",
       "      <td>0</td>\n",
       "      <td>0</td>\n",
       "      <td>1</td>\n",
       "      <td>0</td>\n",
       "      <td>0.0</td>\n",
       "      <td>0.00</td>\n",
       "      <td>CZK</td>\n",
       "      <td>(not set)</td>\n",
       "      <td>2019-01-01</td>\n",
       "    </tr>\n",
       "    <tr>\n",
       "      <th>1</th>\n",
       "      <td>kytaryro</td>\n",
       "      <td>AdWords</td>\n",
       "      <td>googleadsdsother</td>\n",
       "      <td>NaN</td>\n",
       "      <td>0.00</td>\n",
       "      <td>0</td>\n",
       "      <td>0</td>\n",
       "      <td>2</td>\n",
       "      <td>0</td>\n",
       "      <td>0</td>\n",
       "      <td>0.0</td>\n",
       "      <td>0.00</td>\n",
       "      <td>CZK</td>\n",
       "      <td>(not set)</td>\n",
       "      <td>2019-01-01</td>\n",
       "    </tr>\n",
       "    <tr>\n",
       "      <th>2</th>\n",
       "      <td>kytaryro</td>\n",
       "      <td>unpaid</td>\n",
       "      <td>organic</td>\n",
       "      <td>NaN</td>\n",
       "      <td>0.00</td>\n",
       "      <td>0</td>\n",
       "      <td>0</td>\n",
       "      <td>0</td>\n",
       "      <td>1</td>\n",
       "      <td>1</td>\n",
       "      <td>1997.8</td>\n",
       "      <td>348.94</td>\n",
       "      <td>CZK</td>\n",
       "      <td>(not set)</td>\n",
       "      <td>2019-01-01</td>\n",
       "    </tr>\n",
       "    <tr>\n",
       "      <th>3</th>\n",
       "      <td>kytaryro</td>\n",
       "      <td>Compari</td>\n",
       "      <td>compari</td>\n",
       "      <td>-</td>\n",
       "      <td>116.77</td>\n",
       "      <td>0</td>\n",
       "      <td>65</td>\n",
       "      <td>0</td>\n",
       "      <td>0</td>\n",
       "      <td>0</td>\n",
       "      <td>0.0</td>\n",
       "      <td>0.00</td>\n",
       "      <td>CZK</td>\n",
       "      <td>NaN</td>\n",
       "      <td>2019-01-01</td>\n",
       "    </tr>\n",
       "    <tr>\n",
       "      <th>4</th>\n",
       "      <td>kytaryro</td>\n",
       "      <td>AdWords</td>\n",
       "      <td>googleadsdsother</td>\n",
       "      <td>(not set)</td>\n",
       "      <td>0.00</td>\n",
       "      <td>0</td>\n",
       "      <td>0</td>\n",
       "      <td>0</td>\n",
       "      <td>0</td>\n",
       "      <td>0</td>\n",
       "      <td>0.0</td>\n",
       "      <td>0.00</td>\n",
       "      <td>CZK</td>\n",
       "      <td>(not set)</td>\n",
       "      <td>2019-01-01</td>\n",
       "    </tr>\n",
       "  </tbody>\n",
       "</table>\n",
       "</div>"
      ],
      "text/plain": [
       "  businessUnit platformCode       channelCode adCampaign  marketingInvestment  \\\n",
       "0     kytaryro       unpaid            direct        NaN                 0.00   \n",
       "1     kytaryro      AdWords  googleadsdsother        NaN                 0.00   \n",
       "2     kytaryro       unpaid           organic        NaN                 0.00   \n",
       "3     kytaryro      Compari           compari          -               116.77   \n",
       "4     kytaryro      AdWords  googleadsdsother  (not set)                 0.00   \n",
       "\n",
       "   impressions  clicks  visits  conversions  deliveries  netRevenue  \\\n",
       "0            0       0       0            1           0         0.0   \n",
       "1            0       0       2            0           0         0.0   \n",
       "2            0       0       0            1           1      1997.8   \n",
       "3            0      65       0            0           0         0.0   \n",
       "4            0       0       0            0           0         0.0   \n",
       "\n",
       "   grossProfit currencyCode    adGroup periodStartDate  \n",
       "0         0.00          CZK  (not set)      2019-01-01  \n",
       "1         0.00          CZK  (not set)      2019-01-01  \n",
       "2       348.94          CZK  (not set)      2019-01-01  \n",
       "3         0.00          CZK        NaN      2019-01-01  \n",
       "4         0.00          CZK  (not set)      2019-01-01  "
      ]
     },
     "execution_count": 83,
     "metadata": {},
     "output_type": "execute_result"
    }
   ],
   "source": [
    "df = pd.read_csv(file_name,\n",
    "                 sep=\"\\t\",\n",
    "                 infer_datetime_format=True,\n",
    "                 usecols=usecols,\n",
    "                 dtype=dtype,\n",
    "                 parse_dates=DateTimeID)\n",
    "\n",
    "df['periodStartDate'] = pd.to_datetime(df['periodStartDate'])\n",
    "\n",
    "platform_code = df.platformCode.unique().tolist()\n",
    "platform_code.sort()\n",
    "\n",
    "business_unit_code = df.businessUnit.unique().tolist()\n",
    "business_unit_code.sort()\n",
    "\n",
    "channel_code_code = df.channelCode.unique().tolist()\n",
    "channel_code_code.sort()\n",
    "\n",
    "currency_code_code = df.currencyCode.unique().tolist()\n",
    "currency_code_code.sort()\n",
    "\n",
    "df.head(5)"
   ]
  },
  {
   "cell_type": "code",
   "execution_count": 84,
   "metadata": {
    "ExecuteTime": {
     "end_time": "2021-01-22T08:09:22.222500Z",
     "start_time": "2021-01-22T08:09:17.776245Z"
    }
   },
   "outputs": [
    {
     "name": "stdout",
     "output_type": "stream",
     "text": [
      "Platform AdWords has \t12594 adgroups and \t27 channels and \t1547 campaign\n",
      "Platform Adform has \t3 adgroups and \t1 channels and \t36 campaign\n",
      "Platform Adminis has \t3 adgroups and \t1 channels and \t16 campaign\n",
      "Platform Arukereso has \t2 adgroups and \t1 channels and \t110 campaign\n",
      "Platform Bing has \t1 adgroups and \t1 channels and \t1 campaign\n",
      "Platform Ceneo has \t3 adgroups and \t1 channels and \t70 campaign\n",
      "Platform CjAffiliate has \t2 adgroups and \t2 channels and \t82 campaign\n",
      "Platform Compari has \t3 adgroups and \t1 channels and \t97 campaign\n",
      "Platform DogNet has \t2 adgroups and \t1 channels and \t44 campaign\n",
      "Platform DoubleClick has \t3 adgroups and \t2 channels and \t14 campaign\n",
      "Platform FacebookBusinessAdsManager has \t37 adgroups and \t7 channels and \t284 campaign\n",
      "Platform HeurekaCz has \t3 adgroups and \t1 channels and \t453 campaign\n",
      "Platform HeurekaSk has \t83 adgroups and \t1 channels and \t331 campaign\n",
      "Platform Idealo has \t3 adgroups and \t2 channels and \t18 campaign\n",
      "Platform Internal has \t2 adgroups and \t4 channels and \t345 campaign\n",
      "Platform Not tracked has \t1 adgroups and \t1 channels and \t1 campaign\n",
      "Platform OfflineTV has \t1 adgroups and \t1 channels and \t1 campaign\n",
      "Platform Olcsobbat has \t1 adgroups and \t1 channels and \t101 campaign\n",
      "Platform OneSignal has \t1 adgroups and \t1 channels and \t33 campaign\n",
      "Platform Organic has \t2 adgroups and \t1 channels and \t1 campaign\n",
      "Platform Outdoor has \t1 adgroups and \t1 channels and \t19 campaign\n",
      "Platform POS has \t1 adgroups and \t1 channels and \t30 campaign\n",
      "Platform Pricespy has \t2 adgroups and \t1 channels and \t4 campaign\n",
      "Platform Print has \t1 adgroups and \t1 channels and \t7 campaign\n",
      "Platform Promo_materialy has \t1 adgroups and \t1 channels and \t13 campaign\n",
      "Platform Radio has \t1 adgroups and \t1 channels and \t13 campaign\n",
      "Platform RtbHouse has \t1 adgroups and \t1 channels and \t1 campaign\n",
      "Platform Samba has \t11 adgroups and \t3 channels and \t395 campaign\n",
      "Platform Silverpop has \t2 adgroups and \t1 channels and \t43 campaign\n",
      "Platform Sklik has \t705 adgroups and \t8 channels and \t112 campaign\n",
      "Platform Yottly has \t10 adgroups and \t1 channels and \t758 campaign\n",
      "Platform ZboziCz has \t3 adgroups and \t1 channels and \t10 campaign\n",
      "Platform notset has \t1 adgroups and \t2 channels and \t4 campaign\n",
      "Platform unpaid has \t5 adgroups and \t8 channels and \t170 campaign\n"
     ]
    }
   ],
   "source": [
    "for i in platform_code:\n",
    "    group_df = df[df['platformCode'] == i]\n",
    "    adgroups = group_df['adGroup'].unique()\n",
    "    channels = group_df['channelCode'].unique()\n",
    "    campaigns = group_df['adCampaign'].unique()\n",
    "        \n",
    "    print(f'Platform {i} has \\t{len(adgroups)} adgroups and \\t{len(channels)} channels and \\t{len(campaigns)} campaign')\n"
   ]
  },
  {
   "cell_type": "code",
   "execution_count": 65,
   "metadata": {
    "ExecuteTime": {
     "end_time": "2021-01-20T14:35:22.514762Z",
     "start_time": "2021-01-20T14:35:22.509762Z"
    }
   },
   "outputs": [
    {
     "name": "stdout",
     "output_type": "stream",
     "text": [
      "['AdWords', 'Adform', 'Adminis', 'Arukereso', 'Bing', 'Ceneo', 'CjAffiliate', 'Compari', 'DogNet', 'DoubleClick', 'FacebookBusinessAdsManager', 'HeurekaCz', 'HeurekaSk', 'Idealo', 'Internal', 'Not tracked', 'OfflineTV', 'Olcsobbat', 'OneSignal', 'Organic', 'Outdoor', 'POS', 'Pricespy', 'Print', 'Promo_materialy', 'Radio', 'RtbHouse', 'Samba', 'Silverpop', 'Sklik', 'Yottly', 'ZboziCz', 'notset', 'unpaid']\n"
     ]
    }
   ],
   "source": [
    "print(platform_code)"
   ]
  },
  {
   "cell_type": "code",
   "execution_count": 66,
   "metadata": {
    "ExecuteTime": {
     "end_time": "2021-01-20T14:35:22.523763Z",
     "start_time": "2021-01-20T14:35:22.517762Z"
    }
   },
   "outputs": [
    {
     "name": "stdout",
     "output_type": "stream",
     "text": [
      "['kytaryat', 'kytarycz', 'kytaryde', 'kytaryfr', 'kytaryhu', 'kytaryit', 'kytarypl', 'kytaryro', 'kytarysk', 'kytaryuk']\n"
     ]
    }
   ],
   "source": [
    "print(business_unit_code)"
   ]
  },
  {
   "cell_type": "code",
   "execution_count": 67,
   "metadata": {
    "ExecuteTime": {
     "end_time": "2021-01-20T14:35:22.531763Z",
     "start_time": "2021-01-20T14:35:22.526763Z"
    }
   },
   "outputs": [
    {
     "name": "stdout",
     "output_type": "stream",
     "text": [
      "['CZK']\n"
     ]
    }
   ],
   "source": [
    "print(currency_code_code)"
   ]
  },
  {
   "cell_type": "markdown",
   "metadata": {},
   "source": [
    "## Settings"
   ]
  },
  {
   "cell_type": "code",
   "execution_count": 68,
   "metadata": {
    "ExecuteTime": {
     "end_time": "2021-01-20T14:35:22.537763Z",
     "start_time": "2021-01-20T14:35:22.533763Z"
    }
   },
   "outputs": [],
   "source": [
    "independent_var = 'marketingInvestment'\n",
    "dependent_var   = 'grossProfit'#'netRevenue' # \n",
    "business_unit   = 'kytarycz'\n",
    "window_size     = 3 # window's size of filters"
   ]
  },
  {
   "cell_type": "code",
   "execution_count": 69,
   "metadata": {
    "ExecuteTime": {
     "end_time": "2021-01-20T14:35:22.565765Z",
     "start_time": "2021-01-20T14:35:22.543764Z"
    },
    "scrolled": true
   },
   "outputs": [
    {
     "data": {
      "application/vnd.jupyter.widget-view+json": {
       "model_id": "b1807e1dd308469b90cd48c9e26ccd81",
       "version_major": 2,
       "version_minor": 0
      },
      "text/plain": [
       "Dropdown(description='Data source:', options=('platform', 'compaign', 'channel'), value='platform')"
      ]
     },
     "metadata": {},
     "output_type": "display_data"
    }
   ],
   "source": [
    "# Data source\n",
    "data_source = widgets.Dropdown(\n",
    "    options = ['platform','compaign','channel'],\n",
    "    value='platform',\n",
    "    description='Data source:',\n",
    "    disabled=False,\n",
    ")\n",
    "display(data_source)"
   ]
  },
  {
   "cell_type": "code",
   "execution_count": null,
   "metadata": {
    "ExecuteTime": {
     "end_time": "2021-01-13T22:31:48.299481Z",
     "start_time": "2021-01-13T22:31:46.466376Z"
    }
   },
   "outputs": [],
   "source": []
  },
  {
   "cell_type": "code",
   "execution_count": 70,
   "metadata": {
    "ExecuteTime": {
     "end_time": "2021-01-20T14:35:22.597767Z",
     "start_time": "2021-01-20T14:35:22.572765Z"
    }
   },
   "outputs": [
    {
     "data": {
      "application/vnd.jupyter.widget-view+json": {
       "model_id": "de2f3ccc1a5e4e998e90a2d0474bcd54",
       "version_major": 2,
       "version_minor": 0
      },
      "text/plain": [
       "Dropdown(description='Business Unit:', options=('All', 'kytaryat', 'kytarycz', 'kytaryde', 'kytaryfr', 'kytary…"
      ]
     },
     "metadata": {},
     "output_type": "display_data"
    }
   ],
   "source": [
    "# platform code\n",
    "if 'All' not in business_unit_code: business_unit_code.insert(0, 'All')\n",
    "business_unit_choose = widgets.Dropdown(\n",
    "    options = business_unit_code,\n",
    "    value = 'All',\n",
    "    description='Business Unit:',\n",
    "    disabled=False,\n",
    ")\n",
    "display(business_unit_choose)"
   ]
  },
  {
   "cell_type": "code",
   "execution_count": 71,
   "metadata": {
    "ExecuteTime": {
     "end_time": "2021-01-20T14:35:22.607767Z",
     "start_time": "2021-01-20T14:35:22.601767Z"
    }
   },
   "outputs": [
    {
     "data": {
      "text/plain": [
       "'All'"
      ]
     },
     "execution_count": 71,
     "metadata": {},
     "output_type": "execute_result"
    }
   ],
   "source": [
    "business_unit_choose.value"
   ]
  },
  {
   "cell_type": "code",
   "execution_count": 72,
   "metadata": {
    "ExecuteTime": {
     "end_time": "2021-01-20T14:35:22.631769Z",
     "start_time": "2021-01-20T14:35:22.610768Z"
    }
   },
   "outputs": [
    {
     "data": {
      "application/vnd.jupyter.widget-view+json": {
       "model_id": "bc4e541eb9ea48de9df31f2466ab713a",
       "version_major": 2,
       "version_minor": 0
      },
      "text/plain": [
       "Dropdown(description='Granularity:', index=1, options=('day', 'week', 'month'), value='week')"
      ]
     },
     "metadata": {},
     "output_type": "display_data"
    }
   ],
   "source": [
    "granularity = widgets.Dropdown(\n",
    "    options=['day', 'week', 'month'],\n",
    "    value='week',\n",
    "    description='Granularity:',\n",
    "    disabled=False,\n",
    ")\n",
    "display(granularity)"
   ]
  },
  {
   "cell_type": "code",
   "execution_count": 73,
   "metadata": {
    "ExecuteTime": {
     "end_time": "2021-01-20T14:35:22.640769Z",
     "start_time": "2021-01-20T14:35:22.634769Z"
    }
   },
   "outputs": [
    {
     "data": {
      "text/plain": [
       "'week'"
      ]
     },
     "execution_count": 73,
     "metadata": {},
     "output_type": "execute_result"
    }
   ],
   "source": [
    "granularity.value"
   ]
  },
  {
   "cell_type": "code",
   "execution_count": 74,
   "metadata": {
    "ExecuteTime": {
     "end_time": "2021-01-20T14:35:22.661771Z",
     "start_time": "2021-01-20T14:35:22.643770Z"
    }
   },
   "outputs": [
    {
     "data": {
      "application/vnd.jupyter.widget-view+json": {
       "model_id": "e5d3e02010c747449dde56b5dee52da0",
       "version_major": 2,
       "version_minor": 0
      },
      "text/plain": [
       "Dropdown(description='Granularity:', options=('log', 'sin', 'line'), value='log')"
      ]
     },
     "metadata": {},
     "output_type": "display_data"
    }
   ],
   "source": [
    "reggr_func = widgets.Dropdown(\n",
    "    options=['log', 'sin', 'line'],\n",
    "    value='log',\n",
    "    description='Granularity:',\n",
    "    disabled=False,\n",
    ")\n",
    "display(reggr_func)"
   ]
  },
  {
   "cell_type": "code",
   "execution_count": 75,
   "metadata": {
    "ExecuteTime": {
     "end_time": "2021-01-20T14:35:22.681772Z",
     "start_time": "2021-01-20T14:35:22.664771Z"
    }
   },
   "outputs": [
    {
     "data": {
      "application/vnd.jupyter.widget-view+json": {
       "model_id": "795ae0f913fe40fbaf007e2410e9c65b",
       "version_major": 2,
       "version_minor": 0
      },
      "text/plain": [
       "Dropdown(description='Platform:', index=2, options=('none', 'median', 'avrg', 'ewm'), value='avrg')"
      ]
     },
     "metadata": {},
     "output_type": "display_data"
    }
   ],
   "source": [
    "filter_method = widgets.Dropdown(\n",
    "    options = ['none','median','avrg','ewm'],\n",
    "    value = 'avrg',\n",
    "    description='Platform:',\n",
    "    disabled=False,\n",
    ")\n",
    "display(filter_method)"
   ]
  },
  {
   "cell_type": "code",
   "execution_count": 76,
   "metadata": {
    "ExecuteTime": {
     "end_time": "2021-01-20T14:35:22.689772Z",
     "start_time": "2021-01-20T14:35:22.684772Z"
    }
   },
   "outputs": [
    {
     "data": {
      "text/plain": [
       "'avrg'"
      ]
     },
     "execution_count": 76,
     "metadata": {},
     "output_type": "execute_result"
    }
   ],
   "source": [
    "filter_method.value"
   ]
  },
  {
   "cell_type": "code",
   "execution_count": 77,
   "metadata": {
    "ExecuteTime": {
     "end_time": "2021-01-20T14:35:22.696773Z",
     "start_time": "2021-01-20T14:35:22.692772Z"
    }
   },
   "outputs": [],
   "source": [
    "window_size = 10"
   ]
  },
  {
   "cell_type": "code",
   "execution_count": 78,
   "metadata": {
    "ExecuteTime": {
     "end_time": "2021-01-20T14:35:22.703773Z",
     "start_time": "2021-01-20T14:35:22.699773Z"
    }
   },
   "outputs": [],
   "source": [
    "regr_func = log_f"
   ]
  },
  {
   "cell_type": "markdown",
   "metadata": {},
   "source": [
    "## Aggregate data and calculate descriptive statistics for dataset"
   ]
  },
  {
   "cell_type": "code",
   "execution_count": 79,
   "metadata": {
    "ExecuteTime": {
     "end_time": "2021-01-20T14:35:22.735775Z",
     "start_time": "2021-01-20T14:35:22.706773Z"
    }
   },
   "outputs": [
    {
     "data": {
      "text/html": [
       "<div>\n",
       "<style scoped>\n",
       "    .dataframe tbody tr th:only-of-type {\n",
       "        vertical-align: middle;\n",
       "    }\n",
       "\n",
       "    .dataframe tbody tr th {\n",
       "        vertical-align: top;\n",
       "    }\n",
       "\n",
       "    .dataframe thead th {\n",
       "        text-align: right;\n",
       "    }\n",
       "</style>\n",
       "<table border=\"1\" class=\"dataframe\">\n",
       "  <thead>\n",
       "    <tr style=\"text-align: right;\">\n",
       "      <th></th>\n",
       "      <th>businessUnit</th>\n",
       "      <th>platformCode</th>\n",
       "      <th>channelCode</th>\n",
       "      <th>adCampaign</th>\n",
       "      <th>marketingInvestment</th>\n",
       "      <th>impressions</th>\n",
       "      <th>clicks</th>\n",
       "      <th>visits</th>\n",
       "      <th>conversions</th>\n",
       "      <th>deliveries</th>\n",
       "      <th>netRevenue</th>\n",
       "      <th>grossProfit</th>\n",
       "      <th>currencyCode</th>\n",
       "      <th>adGroup</th>\n",
       "      <th>periodStartDate</th>\n",
       "    </tr>\n",
       "  </thead>\n",
       "  <tbody>\n",
       "    <tr>\n",
       "      <th>0</th>\n",
       "      <td>kytaryro</td>\n",
       "      <td>unpaid</td>\n",
       "      <td>direct</td>\n",
       "      <td>NaN</td>\n",
       "      <td>0.00</td>\n",
       "      <td>0</td>\n",
       "      <td>0</td>\n",
       "      <td>0</td>\n",
       "      <td>1</td>\n",
       "      <td>0</td>\n",
       "      <td>0.0</td>\n",
       "      <td>0.00</td>\n",
       "      <td>CZK</td>\n",
       "      <td>(not set)</td>\n",
       "      <td>2019-01-01</td>\n",
       "    </tr>\n",
       "    <tr>\n",
       "      <th>1</th>\n",
       "      <td>kytaryro</td>\n",
       "      <td>AdWords</td>\n",
       "      <td>googleadsdsother</td>\n",
       "      <td>NaN</td>\n",
       "      <td>0.00</td>\n",
       "      <td>0</td>\n",
       "      <td>0</td>\n",
       "      <td>2</td>\n",
       "      <td>0</td>\n",
       "      <td>0</td>\n",
       "      <td>0.0</td>\n",
       "      <td>0.00</td>\n",
       "      <td>CZK</td>\n",
       "      <td>(not set)</td>\n",
       "      <td>2019-01-01</td>\n",
       "    </tr>\n",
       "    <tr>\n",
       "      <th>2</th>\n",
       "      <td>kytaryro</td>\n",
       "      <td>unpaid</td>\n",
       "      <td>organic</td>\n",
       "      <td>NaN</td>\n",
       "      <td>0.00</td>\n",
       "      <td>0</td>\n",
       "      <td>0</td>\n",
       "      <td>0</td>\n",
       "      <td>1</td>\n",
       "      <td>1</td>\n",
       "      <td>1997.8</td>\n",
       "      <td>348.94</td>\n",
       "      <td>CZK</td>\n",
       "      <td>(not set)</td>\n",
       "      <td>2019-01-01</td>\n",
       "    </tr>\n",
       "    <tr>\n",
       "      <th>3</th>\n",
       "      <td>kytaryro</td>\n",
       "      <td>Compari</td>\n",
       "      <td>compari</td>\n",
       "      <td>-</td>\n",
       "      <td>116.77</td>\n",
       "      <td>0</td>\n",
       "      <td>65</td>\n",
       "      <td>0</td>\n",
       "      <td>0</td>\n",
       "      <td>0</td>\n",
       "      <td>0.0</td>\n",
       "      <td>0.00</td>\n",
       "      <td>CZK</td>\n",
       "      <td>NaN</td>\n",
       "      <td>2019-01-01</td>\n",
       "    </tr>\n",
       "    <tr>\n",
       "      <th>4</th>\n",
       "      <td>kytaryro</td>\n",
       "      <td>AdWords</td>\n",
       "      <td>googleadsdsother</td>\n",
       "      <td>(not set)</td>\n",
       "      <td>0.00</td>\n",
       "      <td>0</td>\n",
       "      <td>0</td>\n",
       "      <td>0</td>\n",
       "      <td>0</td>\n",
       "      <td>0</td>\n",
       "      <td>0.0</td>\n",
       "      <td>0.00</td>\n",
       "      <td>CZK</td>\n",
       "      <td>(not set)</td>\n",
       "      <td>2019-01-01</td>\n",
       "    </tr>\n",
       "  </tbody>\n",
       "</table>\n",
       "</div>"
      ],
      "text/plain": [
       "  businessUnit platformCode       channelCode adCampaign  marketingInvestment  \\\n",
       "0     kytaryro       unpaid            direct        NaN                 0.00   \n",
       "1     kytaryro      AdWords  googleadsdsother        NaN                 0.00   \n",
       "2     kytaryro       unpaid           organic        NaN                 0.00   \n",
       "3     kytaryro      Compari           compari          -               116.77   \n",
       "4     kytaryro      AdWords  googleadsdsother  (not set)                 0.00   \n",
       "\n",
       "   impressions  clicks  visits  conversions  deliveries  netRevenue  \\\n",
       "0            0       0       0            1           0         0.0   \n",
       "1            0       0       2            0           0         0.0   \n",
       "2            0       0       0            1           1      1997.8   \n",
       "3            0      65       0            0           0         0.0   \n",
       "4            0       0       0            0           0         0.0   \n",
       "\n",
       "   grossProfit currencyCode    adGroup periodStartDate  \n",
       "0         0.00          CZK  (not set)      2019-01-01  \n",
       "1         0.00          CZK  (not set)      2019-01-01  \n",
       "2       348.94          CZK  (not set)      2019-01-01  \n",
       "3         0.00          CZK        NaN      2019-01-01  \n",
       "4         0.00          CZK  (not set)      2019-01-01  "
      ]
     },
     "execution_count": 79,
     "metadata": {},
     "output_type": "execute_result"
    }
   ],
   "source": [
    "#\n",
    "if business_unit_choose.value == 'All':\n",
    "    df_selected_unit = df\n",
    "else:\n",
    "    df_selected_unit = select_business_unit(df, business_unit_choose.value)\n",
    "df_selected_unit.head()"
   ]
  },
  {
   "cell_type": "code",
   "execution_count": 80,
   "metadata": {
    "ExecuteTime": {
     "end_time": "2021-01-20T14:35:27.870068Z",
     "start_time": "2021-01-20T14:35:22.738775Z"
    }
   },
   "outputs": [],
   "source": [
    "# calculate statistics for selected busines unit(s)\n",
    "statistics_ROI_df = stat_index_platform(df_selected_unit, platform_code, granularity.value, 'ROI', 3)"
   ]
  },
  {
   "cell_type": "code",
   "execution_count": 81,
   "metadata": {
    "ExecuteTime": {
     "end_time": "2021-01-20T14:35:27.907071Z",
     "start_time": "2021-01-20T14:35:27.872069Z"
    }
   },
   "outputs": [
    {
     "data": {
      "text/html": [
       "<div>\n",
       "<style scoped>\n",
       "    .dataframe tbody tr th:only-of-type {\n",
       "        vertical-align: middle;\n",
       "    }\n",
       "\n",
       "    .dataframe tbody tr th {\n",
       "        vertical-align: top;\n",
       "    }\n",
       "\n",
       "    .dataframe thead th {\n",
       "        text-align: right;\n",
       "    }\n",
       "</style>\n",
       "<table border=\"1\" class=\"dataframe\">\n",
       "  <thead>\n",
       "    <tr style=\"text-align: right;\">\n",
       "      <th></th>\n",
       "      <th>Mean</th>\n",
       "      <th>Std</th>\n",
       "      <th>Med</th>\n",
       "      <th>Sqew</th>\n",
       "      <th>Kurtosis</th>\n",
       "      <th>Var</th>\n",
       "      <th>Iqr</th>\n",
       "      <th>Shapiro-stat</th>\n",
       "      <th>Shapiro-Pr</th>\n",
       "    </tr>\n",
       "  </thead>\n",
       "  <tbody>\n",
       "    <tr>\n",
       "      <th>AdWords</th>\n",
       "      <td>8.822</td>\n",
       "      <td>1.854</td>\n",
       "      <td>8.983</td>\n",
       "      <td>0.324</td>\n",
       "      <td>1.214</td>\n",
       "      <td>3.436</td>\n",
       "      <td>2.096</td>\n",
       "      <td>0.975</td>\n",
       "      <td>0.043</td>\n",
       "    </tr>\n",
       "    <tr>\n",
       "      <th>Adform</th>\n",
       "      <td>inf</td>\n",
       "      <td>NaN</td>\n",
       "      <td>0.034</td>\n",
       "      <td>NaN</td>\n",
       "      <td>NaN</td>\n",
       "      <td>NaN</td>\n",
       "      <td>NaN</td>\n",
       "      <td>NaN</td>\n",
       "      <td>1.000</td>\n",
       "    </tr>\n",
       "    <tr>\n",
       "      <th>Adminis</th>\n",
       "      <td>inf</td>\n",
       "      <td>NaN</td>\n",
       "      <td>inf</td>\n",
       "      <td>NaN</td>\n",
       "      <td>NaN</td>\n",
       "      <td>NaN</td>\n",
       "      <td>NaN</td>\n",
       "      <td>NaN</td>\n",
       "      <td>1.000</td>\n",
       "    </tr>\n",
       "    <tr>\n",
       "      <th>Arukereso</th>\n",
       "      <td>5.144</td>\n",
       "      <td>3.306</td>\n",
       "      <td>4.227</td>\n",
       "      <td>2.888</td>\n",
       "      <td>11.583</td>\n",
       "      <td>10.931</td>\n",
       "      <td>2.911</td>\n",
       "      <td>0.747</td>\n",
       "      <td>0.000</td>\n",
       "    </tr>\n",
       "    <tr>\n",
       "      <th>Bing</th>\n",
       "      <td>NaN</td>\n",
       "      <td>NaN</td>\n",
       "      <td>NaN</td>\n",
       "      <td>NaN</td>\n",
       "      <td>NaN</td>\n",
       "      <td>NaN</td>\n",
       "      <td>NaN</td>\n",
       "      <td>NaN</td>\n",
       "      <td>1.000</td>\n",
       "    </tr>\n",
       "    <tr>\n",
       "      <th>Ceneo</th>\n",
       "      <td>6.348</td>\n",
       "      <td>4.429</td>\n",
       "      <td>5.292</td>\n",
       "      <td>1.671</td>\n",
       "      <td>2.782</td>\n",
       "      <td>19.616</td>\n",
       "      <td>4.064</td>\n",
       "      <td>0.843</td>\n",
       "      <td>0.000</td>\n",
       "    </tr>\n",
       "    <tr>\n",
       "      <th>CjAffiliate</th>\n",
       "      <td>NaN</td>\n",
       "      <td>NaN</td>\n",
       "      <td>inf</td>\n",
       "      <td>NaN</td>\n",
       "      <td>NaN</td>\n",
       "      <td>NaN</td>\n",
       "      <td>NaN</td>\n",
       "      <td>NaN</td>\n",
       "      <td>1.000</td>\n",
       "    </tr>\n",
       "    <tr>\n",
       "      <th>Compari</th>\n",
       "      <td>14.829</td>\n",
       "      <td>10.015</td>\n",
       "      <td>12.415</td>\n",
       "      <td>1.465</td>\n",
       "      <td>2.451</td>\n",
       "      <td>100.296</td>\n",
       "      <td>10.826</td>\n",
       "      <td>0.885</td>\n",
       "      <td>0.000</td>\n",
       "    </tr>\n",
       "    <tr>\n",
       "      <th>DogNet</th>\n",
       "      <td>11.867</td>\n",
       "      <td>4.981</td>\n",
       "      <td>10.769</td>\n",
       "      <td>1.452</td>\n",
       "      <td>NaN</td>\n",
       "      <td>24.808</td>\n",
       "      <td>NaN</td>\n",
       "      <td>NaN</td>\n",
       "      <td>1.000</td>\n",
       "    </tr>\n",
       "    <tr>\n",
       "      <th>DoubleClick</th>\n",
       "      <td>inf</td>\n",
       "      <td>NaN</td>\n",
       "      <td>inf</td>\n",
       "      <td>NaN</td>\n",
       "      <td>NaN</td>\n",
       "      <td>NaN</td>\n",
       "      <td>NaN</td>\n",
       "      <td>NaN</td>\n",
       "      <td>1.000</td>\n",
       "    </tr>\n",
       "    <tr>\n",
       "      <th>FacebookBusinessAdsManager</th>\n",
       "      <td>inf</td>\n",
       "      <td>NaN</td>\n",
       "      <td>8.176</td>\n",
       "      <td>NaN</td>\n",
       "      <td>NaN</td>\n",
       "      <td>NaN</td>\n",
       "      <td>5.510</td>\n",
       "      <td>NaN</td>\n",
       "      <td>1.000</td>\n",
       "    </tr>\n",
       "    <tr>\n",
       "      <th>HeurekaCz</th>\n",
       "      <td>12.032</td>\n",
       "      <td>4.462</td>\n",
       "      <td>11.297</td>\n",
       "      <td>0.659</td>\n",
       "      <td>0.442</td>\n",
       "      <td>19.912</td>\n",
       "      <td>5.837</td>\n",
       "      <td>0.968</td>\n",
       "      <td>0.012</td>\n",
       "    </tr>\n",
       "    <tr>\n",
       "      <th>HeurekaSk</th>\n",
       "      <td>3.371</td>\n",
       "      <td>2.196</td>\n",
       "      <td>2.879</td>\n",
       "      <td>0.962</td>\n",
       "      <td>0.482</td>\n",
       "      <td>4.821</td>\n",
       "      <td>2.608</td>\n",
       "      <td>0.930</td>\n",
       "      <td>0.000</td>\n",
       "    </tr>\n",
       "    <tr>\n",
       "      <th>Idealo</th>\n",
       "      <td>3.690</td>\n",
       "      <td>6.782</td>\n",
       "      <td>1.015</td>\n",
       "      <td>3.146</td>\n",
       "      <td>NaN</td>\n",
       "      <td>45.998</td>\n",
       "      <td>NaN</td>\n",
       "      <td>NaN</td>\n",
       "      <td>1.000</td>\n",
       "    </tr>\n",
       "    <tr>\n",
       "      <th>Internal</th>\n",
       "      <td>inf</td>\n",
       "      <td>NaN</td>\n",
       "      <td>inf</td>\n",
       "      <td>NaN</td>\n",
       "      <td>NaN</td>\n",
       "      <td>NaN</td>\n",
       "      <td>NaN</td>\n",
       "      <td>NaN</td>\n",
       "      <td>1.000</td>\n",
       "    </tr>\n",
       "    <tr>\n",
       "      <th>Not tracked</th>\n",
       "      <td>inf</td>\n",
       "      <td>NaN</td>\n",
       "      <td>inf</td>\n",
       "      <td>NaN</td>\n",
       "      <td>NaN</td>\n",
       "      <td>NaN</td>\n",
       "      <td>NaN</td>\n",
       "      <td>NaN</td>\n",
       "      <td>1.000</td>\n",
       "    </tr>\n",
       "    <tr>\n",
       "      <th>OfflineTV</th>\n",
       "      <td>0.000</td>\n",
       "      <td>0.000</td>\n",
       "      <td>0.000</td>\n",
       "      <td>0.000</td>\n",
       "      <td>-3.000</td>\n",
       "      <td>0.000</td>\n",
       "      <td>0.000</td>\n",
       "      <td>1.000</td>\n",
       "      <td>1.000</td>\n",
       "    </tr>\n",
       "    <tr>\n",
       "      <th>Olcsobbat</th>\n",
       "      <td>0.643</td>\n",
       "      <td>2.319</td>\n",
       "      <td>0.000</td>\n",
       "      <td>3.606</td>\n",
       "      <td>NaN</td>\n",
       "      <td>5.378</td>\n",
       "      <td>NaN</td>\n",
       "      <td>NaN</td>\n",
       "      <td>1.000</td>\n",
       "    </tr>\n",
       "    <tr>\n",
       "      <th>OneSignal</th>\n",
       "      <td>inf</td>\n",
       "      <td>NaN</td>\n",
       "      <td>inf</td>\n",
       "      <td>NaN</td>\n",
       "      <td>NaN</td>\n",
       "      <td>NaN</td>\n",
       "      <td>NaN</td>\n",
       "      <td>NaN</td>\n",
       "      <td>1.000</td>\n",
       "    </tr>\n",
       "    <tr>\n",
       "      <th>Organic</th>\n",
       "      <td>inf</td>\n",
       "      <td>NaN</td>\n",
       "      <td>inf</td>\n",
       "      <td>NaN</td>\n",
       "      <td>NaN</td>\n",
       "      <td>NaN</td>\n",
       "      <td>NaN</td>\n",
       "      <td>NaN</td>\n",
       "      <td>1.000</td>\n",
       "    </tr>\n",
       "    <tr>\n",
       "      <th>Outdoor</th>\n",
       "      <td>0.000</td>\n",
       "      <td>0.000</td>\n",
       "      <td>0.000</td>\n",
       "      <td>0.000</td>\n",
       "      <td>-3.000</td>\n",
       "      <td>0.000</td>\n",
       "      <td>0.000</td>\n",
       "      <td>1.000</td>\n",
       "      <td>1.000</td>\n",
       "    </tr>\n",
       "    <tr>\n",
       "      <th>POS</th>\n",
       "      <td>0.000</td>\n",
       "      <td>0.000</td>\n",
       "      <td>0.000</td>\n",
       "      <td>0.000</td>\n",
       "      <td>NaN</td>\n",
       "      <td>0.000</td>\n",
       "      <td>NaN</td>\n",
       "      <td>NaN</td>\n",
       "      <td>1.000</td>\n",
       "    </tr>\n",
       "    <tr>\n",
       "      <th>Pricespy</th>\n",
       "      <td>inf</td>\n",
       "      <td>NaN</td>\n",
       "      <td>2.104</td>\n",
       "      <td>NaN</td>\n",
       "      <td>NaN</td>\n",
       "      <td>NaN</td>\n",
       "      <td>NaN</td>\n",
       "      <td>NaN</td>\n",
       "      <td>1.000</td>\n",
       "    </tr>\n",
       "    <tr>\n",
       "      <th>Print</th>\n",
       "      <td>0.000</td>\n",
       "      <td>0.000</td>\n",
       "      <td>0.000</td>\n",
       "      <td>0.000</td>\n",
       "      <td>-3.000</td>\n",
       "      <td>0.000</td>\n",
       "      <td>0.000</td>\n",
       "      <td>1.000</td>\n",
       "      <td>1.000</td>\n",
       "    </tr>\n",
       "    <tr>\n",
       "      <th>Promo_materialy</th>\n",
       "      <td>0.000</td>\n",
       "      <td>0.000</td>\n",
       "      <td>0.000</td>\n",
       "      <td>0.000</td>\n",
       "      <td>-3.000</td>\n",
       "      <td>0.000</td>\n",
       "      <td>0.000</td>\n",
       "      <td>1.000</td>\n",
       "      <td>1.000</td>\n",
       "    </tr>\n",
       "    <tr>\n",
       "      <th>Radio</th>\n",
       "      <td>0.000</td>\n",
       "      <td>0.000</td>\n",
       "      <td>0.000</td>\n",
       "      <td>0.000</td>\n",
       "      <td>NaN</td>\n",
       "      <td>0.000</td>\n",
       "      <td>NaN</td>\n",
       "      <td>NaN</td>\n",
       "      <td>1.000</td>\n",
       "    </tr>\n",
       "    <tr>\n",
       "      <th>RtbHouse</th>\n",
       "      <td>inf</td>\n",
       "      <td>NaN</td>\n",
       "      <td>inf</td>\n",
       "      <td>NaN</td>\n",
       "      <td>NaN</td>\n",
       "      <td>NaN</td>\n",
       "      <td>NaN</td>\n",
       "      <td>NaN</td>\n",
       "      <td>1.000</td>\n",
       "    </tr>\n",
       "    <tr>\n",
       "      <th>Samba</th>\n",
       "      <td>inf</td>\n",
       "      <td>NaN</td>\n",
       "      <td>9.333</td>\n",
       "      <td>NaN</td>\n",
       "      <td>NaN</td>\n",
       "      <td>NaN</td>\n",
       "      <td>NaN</td>\n",
       "      <td>NaN</td>\n",
       "      <td>1.000</td>\n",
       "    </tr>\n",
       "    <tr>\n",
       "      <th>Silverpop</th>\n",
       "      <td>inf</td>\n",
       "      <td>NaN</td>\n",
       "      <td>inf</td>\n",
       "      <td>NaN</td>\n",
       "      <td>NaN</td>\n",
       "      <td>NaN</td>\n",
       "      <td>NaN</td>\n",
       "      <td>NaN</td>\n",
       "      <td>1.000</td>\n",
       "    </tr>\n",
       "    <tr>\n",
       "      <th>Sklik</th>\n",
       "      <td>9.413</td>\n",
       "      <td>3.275</td>\n",
       "      <td>9.125</td>\n",
       "      <td>0.521</td>\n",
       "      <td>-0.151</td>\n",
       "      <td>10.726</td>\n",
       "      <td>4.551</td>\n",
       "      <td>0.975</td>\n",
       "      <td>0.040</td>\n",
       "    </tr>\n",
       "    <tr>\n",
       "      <th>Yottly</th>\n",
       "      <td>inf</td>\n",
       "      <td>NaN</td>\n",
       "      <td>22.400</td>\n",
       "      <td>NaN</td>\n",
       "      <td>NaN</td>\n",
       "      <td>NaN</td>\n",
       "      <td>NaN</td>\n",
       "      <td>NaN</td>\n",
       "      <td>1.000</td>\n",
       "    </tr>\n",
       "    <tr>\n",
       "      <th>ZboziCz</th>\n",
       "      <td>16.861</td>\n",
       "      <td>7.912</td>\n",
       "      <td>15.983</td>\n",
       "      <td>1.477</td>\n",
       "      <td>5.411</td>\n",
       "      <td>62.602</td>\n",
       "      <td>10.161</td>\n",
       "      <td>0.914</td>\n",
       "      <td>0.000</td>\n",
       "    </tr>\n",
       "    <tr>\n",
       "      <th>notset</th>\n",
       "      <td>0.000</td>\n",
       "      <td>0.000</td>\n",
       "      <td>0.000</td>\n",
       "      <td>0.000</td>\n",
       "      <td>NaN</td>\n",
       "      <td>0.000</td>\n",
       "      <td>NaN</td>\n",
       "      <td>NaN</td>\n",
       "      <td>1.000</td>\n",
       "    </tr>\n",
       "    <tr>\n",
       "      <th>unpaid</th>\n",
       "      <td>inf</td>\n",
       "      <td>NaN</td>\n",
       "      <td>inf</td>\n",
       "      <td>NaN</td>\n",
       "      <td>NaN</td>\n",
       "      <td>NaN</td>\n",
       "      <td>NaN</td>\n",
       "      <td>NaN</td>\n",
       "      <td>1.000</td>\n",
       "    </tr>\n",
       "  </tbody>\n",
       "</table>\n",
       "</div>"
      ],
      "text/plain": [
       "                              Mean     Std     Med   Sqew  Kurtosis      Var  \\\n",
       "AdWords                      8.822   1.854   8.983  0.324     1.214    3.436   \n",
       "Adform                         inf     NaN   0.034    NaN       NaN      NaN   \n",
       "Adminis                        inf     NaN     inf    NaN       NaN      NaN   \n",
       "Arukereso                    5.144   3.306   4.227  2.888    11.583   10.931   \n",
       "Bing                           NaN     NaN     NaN    NaN       NaN      NaN   \n",
       "Ceneo                        6.348   4.429   5.292  1.671     2.782   19.616   \n",
       "CjAffiliate                    NaN     NaN     inf    NaN       NaN      NaN   \n",
       "Compari                     14.829  10.015  12.415  1.465     2.451  100.296   \n",
       "DogNet                      11.867   4.981  10.769  1.452       NaN   24.808   \n",
       "DoubleClick                    inf     NaN     inf    NaN       NaN      NaN   \n",
       "FacebookBusinessAdsManager     inf     NaN   8.176    NaN       NaN      NaN   \n",
       "HeurekaCz                   12.032   4.462  11.297  0.659     0.442   19.912   \n",
       "HeurekaSk                    3.371   2.196   2.879  0.962     0.482    4.821   \n",
       "Idealo                       3.690   6.782   1.015  3.146       NaN   45.998   \n",
       "Internal                       inf     NaN     inf    NaN       NaN      NaN   \n",
       "Not tracked                    inf     NaN     inf    NaN       NaN      NaN   \n",
       "OfflineTV                    0.000   0.000   0.000  0.000    -3.000    0.000   \n",
       "Olcsobbat                    0.643   2.319   0.000  3.606       NaN    5.378   \n",
       "OneSignal                      inf     NaN     inf    NaN       NaN      NaN   \n",
       "Organic                        inf     NaN     inf    NaN       NaN      NaN   \n",
       "Outdoor                      0.000   0.000   0.000  0.000    -3.000    0.000   \n",
       "POS                          0.000   0.000   0.000  0.000       NaN    0.000   \n",
       "Pricespy                       inf     NaN   2.104    NaN       NaN      NaN   \n",
       "Print                        0.000   0.000   0.000  0.000    -3.000    0.000   \n",
       "Promo_materialy              0.000   0.000   0.000  0.000    -3.000    0.000   \n",
       "Radio                        0.000   0.000   0.000  0.000       NaN    0.000   \n",
       "RtbHouse                       inf     NaN     inf    NaN       NaN      NaN   \n",
       "Samba                          inf     NaN   9.333    NaN       NaN      NaN   \n",
       "Silverpop                      inf     NaN     inf    NaN       NaN      NaN   \n",
       "Sklik                        9.413   3.275   9.125  0.521    -0.151   10.726   \n",
       "Yottly                         inf     NaN  22.400    NaN       NaN      NaN   \n",
       "ZboziCz                     16.861   7.912  15.983  1.477     5.411   62.602   \n",
       "notset                       0.000   0.000   0.000  0.000       NaN    0.000   \n",
       "unpaid                         inf     NaN     inf    NaN       NaN      NaN   \n",
       "\n",
       "                               Iqr  Shapiro-stat  Shapiro-Pr  \n",
       "AdWords                      2.096         0.975       0.043  \n",
       "Adform                         NaN           NaN       1.000  \n",
       "Adminis                        NaN           NaN       1.000  \n",
       "Arukereso                    2.911         0.747       0.000  \n",
       "Bing                           NaN           NaN       1.000  \n",
       "Ceneo                        4.064         0.843       0.000  \n",
       "CjAffiliate                    NaN           NaN       1.000  \n",
       "Compari                     10.826         0.885       0.000  \n",
       "DogNet                         NaN           NaN       1.000  \n",
       "DoubleClick                    NaN           NaN       1.000  \n",
       "FacebookBusinessAdsManager   5.510           NaN       1.000  \n",
       "HeurekaCz                    5.837         0.968       0.012  \n",
       "HeurekaSk                    2.608         0.930       0.000  \n",
       "Idealo                         NaN           NaN       1.000  \n",
       "Internal                       NaN           NaN       1.000  \n",
       "Not tracked                    NaN           NaN       1.000  \n",
       "OfflineTV                    0.000         1.000       1.000  \n",
       "Olcsobbat                      NaN           NaN       1.000  \n",
       "OneSignal                      NaN           NaN       1.000  \n",
       "Organic                        NaN           NaN       1.000  \n",
       "Outdoor                      0.000         1.000       1.000  \n",
       "POS                            NaN           NaN       1.000  \n",
       "Pricespy                       NaN           NaN       1.000  \n",
       "Print                        0.000         1.000       1.000  \n",
       "Promo_materialy              0.000         1.000       1.000  \n",
       "Radio                          NaN           NaN       1.000  \n",
       "RtbHouse                       NaN           NaN       1.000  \n",
       "Samba                          NaN           NaN       1.000  \n",
       "Silverpop                      NaN           NaN       1.000  \n",
       "Sklik                        4.551         0.975       0.040  \n",
       "Yottly                         NaN           NaN       1.000  \n",
       "ZboziCz                     10.161         0.914       0.000  \n",
       "notset                         NaN           NaN       1.000  \n",
       "unpaid                         NaN           NaN       1.000  "
      ]
     },
     "execution_count": 81,
     "metadata": {},
     "output_type": "execute_result"
    }
   ],
   "source": [
    "statistics_ROI_df"
   ]
  },
  {
   "cell_type": "markdown",
   "metadata": {
    "ExecuteTime": {
     "end_time": "2021-01-07T23:55:22.047328Z",
     "start_time": "2021-01-07T23:55:22.038328Z"
    }
   },
   "source": [
    "## Calculate regression's coefficients for chosen platform(s)"
   ]
  },
  {
   "cell_type": "code",
   "execution_count": 82,
   "metadata": {
    "ExecuteTime": {
     "end_time": "2021-01-20T14:36:02.840069Z",
     "start_time": "2021-01-20T14:35:27.909071Z"
    }
   },
   "outputs": [
    {
     "ename": "RuntimeError",
     "evalue": "Optimal parameters not found: Number of calls to function has reached maxfev = 800.",
     "output_type": "error",
     "traceback": [
      "\u001b[1;31m---------------------------------------------------------------------------\u001b[0m",
      "\u001b[1;31mRuntimeError\u001b[0m                              Traceback (most recent call last)",
      "\u001b[1;32m<ipython-input-82-da9ef8a4c5b4>\u001b[0m in \u001b[0;36m<module>\u001b[1;34m\u001b[0m\n\u001b[0;32m     21\u001b[0m         \u001b[0my_train\u001b[0m \u001b[1;33m=\u001b[0m \u001b[0mselected_df\u001b[0m\u001b[1;33m[\u001b[0m\u001b[0mdependent_var\u001b[0m\u001b[1;33m]\u001b[0m\u001b[1;33m\u001b[0m\u001b[1;33m\u001b[0m\u001b[0m\n\u001b[0;32m     22\u001b[0m \u001b[1;33m\u001b[0m\u001b[0m\n\u001b[1;32m---> 23\u001b[1;33m         \u001b[0mregr\u001b[0m\u001b[1;33m,\u001b[0m \u001b[0merr\u001b[0m \u001b[1;33m=\u001b[0m \u001b[0mregression_calc\u001b[0m\u001b[1;33m(\u001b[0m\u001b[0mselected_df\u001b[0m\u001b[1;33m[\u001b[0m\u001b[1;33m[\u001b[0m\u001b[0mindependent_var\u001b[0m\u001b[1;33m,\u001b[0m\u001b[0mdependent_var\u001b[0m\u001b[1;33m]\u001b[0m\u001b[1;33m]\u001b[0m\u001b[1;33m,\u001b[0m\u001b[0mlog_f\u001b[0m\u001b[1;33m)\u001b[0m\u001b[1;33m\u001b[0m\u001b[1;33m\u001b[0m\u001b[0m\n\u001b[0m\u001b[0;32m     24\u001b[0m \u001b[1;33m\u001b[0m\u001b[0m\n\u001b[0;32m     25\u001b[0m     \u001b[0mstatistics_R2\u001b[0m\u001b[1;33m.\u001b[0m\u001b[0mappend\u001b[0m\u001b[1;33m(\u001b[0m\u001b[0mnp\u001b[0m\u001b[1;33m.\u001b[0m\u001b[0mconcatenate\u001b[0m\u001b[1;33m(\u001b[0m\u001b[1;33m(\u001b[0m\u001b[0mregr\u001b[0m\u001b[1;33m,\u001b[0m \u001b[0merr\u001b[0m\u001b[1;33m)\u001b[0m\u001b[1;33m,\u001b[0m \u001b[0maxis\u001b[0m\u001b[1;33m=\u001b[0m\u001b[1;36m0\u001b[0m\u001b[1;33m)\u001b[0m\u001b[1;33m)\u001b[0m\u001b[1;33m\u001b[0m\u001b[1;33m\u001b[0m\u001b[0m\n",
      "\u001b[1;32m<ipython-input-58-49168b1a5c16>\u001b[0m in \u001b[0;36mregression_calc\u001b[1;34m(df, function)\u001b[0m\n\u001b[0;32m      7\u001b[0m     \u001b[0my_train\u001b[0m \u001b[1;33m=\u001b[0m \u001b[0mdf\u001b[0m\u001b[1;33m[\u001b[0m\u001b[0mdf\u001b[0m\u001b[1;33m.\u001b[0m\u001b[0mcolumns\u001b[0m\u001b[1;33m[\u001b[0m\u001b[1;36m1\u001b[0m\u001b[1;33m]\u001b[0m\u001b[1;33m]\u001b[0m\u001b[1;33m\u001b[0m\u001b[1;33m\u001b[0m\u001b[0m\n\u001b[0;32m      8\u001b[0m     \u001b[0mgeneticParameters\u001b[0m \u001b[1;33m=\u001b[0m \u001b[0mgenerate_Initial_Parameters\u001b[0m\u001b[1;33m(\u001b[0m\u001b[0mt_train\u001b[0m\u001b[1;33m,\u001b[0m \u001b[0my_train\u001b[0m\u001b[1;33m,\u001b[0m \u001b[0mfunction\u001b[0m\u001b[1;33m)\u001b[0m\u001b[1;33m\u001b[0m\u001b[1;33m\u001b[0m\u001b[0m\n\u001b[1;32m----> 9\u001b[1;33m     \u001b[0mpopt\u001b[0m\u001b[1;33m,\u001b[0m \u001b[0mpcov\u001b[0m \u001b[1;33m=\u001b[0m \u001b[0mcurve_fit\u001b[0m\u001b[1;33m(\u001b[0m\u001b[0mfunction\u001b[0m\u001b[1;33m,\u001b[0m \u001b[0mt_train\u001b[0m\u001b[1;33m,\u001b[0m \u001b[0my_train\u001b[0m\u001b[1;33m,\u001b[0m \u001b[0mgeneticParameters\u001b[0m\u001b[1;33m)\u001b[0m\u001b[1;33m\u001b[0m\u001b[1;33m\u001b[0m\u001b[0m\n\u001b[0m\u001b[0;32m     10\u001b[0m     \u001b[1;31m#popt, pcov = curve_fit(function, t_train, y_train)\u001b[0m\u001b[1;33m\u001b[0m\u001b[1;33m\u001b[0m\u001b[1;33m\u001b[0m\u001b[0m\n\u001b[0;32m     11\u001b[0m     \u001b[0merror\u001b[0m  \u001b[1;33m=\u001b[0m \u001b[0mnp\u001b[0m\u001b[1;33m.\u001b[0m\u001b[0msqrt\u001b[0m\u001b[1;33m(\u001b[0m\u001b[0mnp\u001b[0m\u001b[1;33m.\u001b[0m\u001b[0mdiag\u001b[0m\u001b[1;33m(\u001b[0m\u001b[0mpcov\u001b[0m\u001b[1;33m)\u001b[0m\u001b[1;33m)\u001b[0m\u001b[1;33m\u001b[0m\u001b[1;33m\u001b[0m\u001b[0m\n",
      "\u001b[1;32mC:\\ProgramData\\Anaconda3\\lib\\site-packages\\scipy\\optimize\\minpack.py\u001b[0m in \u001b[0;36mcurve_fit\u001b[1;34m(f, xdata, ydata, p0, sigma, absolute_sigma, check_finite, bounds, method, jac, **kwargs)\u001b[0m\n\u001b[0;32m    787\u001b[0m         \u001b[0mcost\u001b[0m \u001b[1;33m=\u001b[0m \u001b[0mnp\u001b[0m\u001b[1;33m.\u001b[0m\u001b[0msum\u001b[0m\u001b[1;33m(\u001b[0m\u001b[0minfodict\u001b[0m\u001b[1;33m[\u001b[0m\u001b[1;34m'fvec'\u001b[0m\u001b[1;33m]\u001b[0m \u001b[1;33m**\u001b[0m \u001b[1;36m2\u001b[0m\u001b[1;33m)\u001b[0m\u001b[1;33m\u001b[0m\u001b[1;33m\u001b[0m\u001b[0m\n\u001b[0;32m    788\u001b[0m         \u001b[1;32mif\u001b[0m \u001b[0mier\u001b[0m \u001b[1;32mnot\u001b[0m \u001b[1;32min\u001b[0m \u001b[1;33m[\u001b[0m\u001b[1;36m1\u001b[0m\u001b[1;33m,\u001b[0m \u001b[1;36m2\u001b[0m\u001b[1;33m,\u001b[0m \u001b[1;36m3\u001b[0m\u001b[1;33m,\u001b[0m \u001b[1;36m4\u001b[0m\u001b[1;33m]\u001b[0m\u001b[1;33m:\u001b[0m\u001b[1;33m\u001b[0m\u001b[1;33m\u001b[0m\u001b[0m\n\u001b[1;32m--> 789\u001b[1;33m             \u001b[1;32mraise\u001b[0m \u001b[0mRuntimeError\u001b[0m\u001b[1;33m(\u001b[0m\u001b[1;34m\"Optimal parameters not found: \"\u001b[0m \u001b[1;33m+\u001b[0m \u001b[0merrmsg\u001b[0m\u001b[1;33m)\u001b[0m\u001b[1;33m\u001b[0m\u001b[1;33m\u001b[0m\u001b[0m\n\u001b[0m\u001b[0;32m    790\u001b[0m     \u001b[1;32melse\u001b[0m\u001b[1;33m:\u001b[0m\u001b[1;33m\u001b[0m\u001b[1;33m\u001b[0m\u001b[0m\n\u001b[0;32m    791\u001b[0m         \u001b[1;31m# Rename maxfev (leastsq) to max_nfev (least_squares), if specified.\u001b[0m\u001b[1;33m\u001b[0m\u001b[1;33m\u001b[0m\u001b[1;33m\u001b[0m\u001b[0m\n",
      "\u001b[1;31mRuntimeError\u001b[0m: Optimal parameters not found: Number of calls to function has reached maxfev = 800."
     ]
    }
   ],
   "source": [
    "statistics_R2 = []\n",
    "for i in platform_code:\n",
    "    new_df = df_selected_unit[df_selected_unit['platformCode'] == i]\n",
    "    selected_df_unfiltered = select_agg_resample_df(new_df, 'periodStartDate', 'day', use_nan = False)\n",
    "    if filter_method.value   == 'none':\n",
    "        selected_df_filtered = selected_df_unfiltered\n",
    "    elif filter_method.value == 'avrg':\n",
    "        selected_df_filtered = selected_df_unfiltered.rolling(window=window_size).mean()\n",
    "    elif filter_method.value == 'median':\n",
    "        pass\n",
    "    elif filter_method.value == 'ewm':\n",
    "        selected_df_filtered = selected_df_unfiltered.ewm(alpha=0.3, adjust=False).mean()\n",
    "    else:\n",
    "        pass\n",
    "    selected_df = select_agg_resample_df(selected_df_filtered, 'periodStartDate', granularity.value, use_nan = False)\n",
    "    if len(np.intersect1d(statistics_ROI_df.loc[i,:][0:2], [np.nan, np.inf, 0.0, 'Nan'])):\n",
    "        regr = [np.nan, np.nan, np.nan]\n",
    "        err = [np.nan, np.nan, np.nan]\n",
    "    else:\n",
    "        t_train = selected_df[independent_var]\n",
    "        y_train = selected_df[dependent_var]\n",
    "        \n",
    "        regr, err = regression_calc(selected_df[[independent_var,dependent_var]],log_f)\n",
    "\n",
    "    statistics_R2.append(np.concatenate((regr, err), axis=0))\n",
    "\n",
    "\n",
    "statistics_R2_df = pd.DataFrame(statistics_R2, columns = regr_name)\n",
    "statistics_R2_df = statistics_R2_df.set_index([pd.Index(platform_code)])"
   ]
  },
  {
   "cell_type": "code",
   "execution_count": null,
   "metadata": {
    "ExecuteTime": {
     "end_time": "2021-01-20T14:36:02.890071Z",
     "start_time": "2021-01-20T14:35:12.219Z"
    }
   },
   "outputs": [],
   "source": [
    "statistics_R2_df"
   ]
  },
  {
   "cell_type": "markdown",
   "metadata": {},
   "source": []
  },
  {
   "cell_type": "markdown",
   "metadata": {
    "ExecuteTime": {
     "end_time": "2021-01-07T17:25:55.763666Z",
     "start_time": "2021-01-07T17:25:55.748665Z"
    },
    "code_folding": []
   },
   "source": [
    "## Residual vector calculation "
   ]
  },
  {
   "cell_type": "code",
   "execution_count": null,
   "metadata": {
    "ExecuteTime": {
     "end_time": "2021-01-13T22:41:41.438407Z",
     "start_time": "2021-01-13T22:41:41.421406Z"
    }
   },
   "outputs": [],
   "source": []
  },
  {
   "cell_type": "markdown",
   "metadata": {
    "ExecuteTime": {
     "end_time": "2021-01-07T10:51:08.035805Z",
     "start_time": "2021-01-07T10:51:08.026805Z"
    }
   },
   "source": [
    "## Statistics of vector calculation\n",
    "\n",
    "* Correlation R vector with initial dataset\n",
    "* Statistics of R vector\n",
    "* Norm - test of R-vector"
   ]
  },
  {
   "cell_type": "code",
   "execution_count": null,
   "metadata": {
    "ExecuteTime": {
     "end_time": "2021-01-20T14:36:02.892072Z",
     "start_time": "2021-01-20T14:35:12.733Z"
    },
    "code_folding": [
     1
    ]
   },
   "outputs": [],
   "source": [
    "# platform code\n",
    "#if '__All__' not in platform_code: platform_code.insert(0, '__All__')\n",
    "platform = widgets.Dropdown(\n",
    "    options = platform_code,\n",
    "    value = platform_code[0],\n",
    "    description='Platform:',\n",
    "    disabled=False,\n",
    ")\n",
    "display(platform)"
   ]
  },
  {
   "cell_type": "code",
   "execution_count": null,
   "metadata": {
    "ExecuteTime": {
     "end_time": "2021-01-20T14:36:02.894072Z",
     "start_time": "2021-01-20T14:35:12.740Z"
    },
    "code_folding": [],
    "run_control": {
     "marked": false
    }
   },
   "outputs": [],
   "source": [
    "platform.value"
   ]
  },
  {
   "cell_type": "code",
   "execution_count": null,
   "metadata": {
    "ExecuteTime": {
     "end_time": "2021-01-20T14:36:02.896072Z",
     "start_time": "2021-01-20T14:35:12.747Z"
    }
   },
   "outputs": [],
   "source": [
    "new_df = df_selected_unit[df_selected_unit['platformCode'] == platform.value]\n",
    "#new_df['impressions']  = new_df['impressions'].rolling(window=10).mean()\n",
    "#new_df['impressions'] = new_df['impressions'].rolling(5).mean()\n",
    "df_selected_unit.head()\n"
   ]
  },
  {
   "cell_type": "code",
   "execution_count": null,
   "metadata": {
    "ExecuteTime": {
     "end_time": "2021-01-20T14:36:02.898072Z",
     "start_time": "2021-01-20T14:35:12.753Z"
    }
   },
   "outputs": [],
   "source": [
    "selected_df_unfiltered = select_agg_resample_df(new_df, 'periodStartDate', 'day', use_nan = False)\n",
    "if filter_method.value   == 'none':\n",
    "    selected_df_filtered = selected_df_unfiltered\n",
    "elif filter_method.value == 'avrg':\n",
    "    selected_df_filtered = selected_df_unfiltered.rolling(window=window_size).mean()\n",
    "elif filter_method.value == 'median':\n",
    "    pass\n",
    "else:\n",
    "    pass\n",
    "\n",
    "selected_df = select_agg_resample_df(selected_df_filtered, 'periodStartDate', granularity.value, use_nan = False)\n",
    "sorted_df = selected_df.sort_values(by = independent_var)\n",
    "selected_df.head()"
   ]
  },
  {
   "cell_type": "code",
   "execution_count": null,
   "metadata": {
    "ExecuteTime": {
     "end_time": "2021-01-20T14:36:02.899072Z",
     "start_time": "2021-01-20T14:35:12.760Z"
    }
   },
   "outputs": [],
   "source": [
    "filter_method.value"
   ]
  },
  {
   "cell_type": "code",
   "execution_count": null,
   "metadata": {
    "ExecuteTime": {
     "end_time": "2021-01-20T14:36:02.901072Z",
     "start_time": "2021-01-20T14:35:12.765Z"
    }
   },
   "outputs": [],
   "source": [
    "selected_df"
   ]
  },
  {
   "cell_type": "code",
   "execution_count": null,
   "metadata": {
    "ExecuteTime": {
     "end_time": "2021-01-20T14:36:02.903072Z",
     "start_time": "2021-01-20T14:35:12.772Z"
    }
   },
   "outputs": [],
   "source": [
    "fig1 = selected_df.plot()\n",
    "fig1.update_layout(title_text=\"Data distributions on \"+ platform.value+' plaform and '+business_unit_choose.value+' business unit', title_font=dict(size=16))\n",
    "fig1.update_layout(uniformtext_minsize=16, uniformtext_mode='hide')\n",
    "fig1.show()"
   ]
  },
  {
   "cell_type": "code",
   "execution_count": null,
   "metadata": {
    "ExecuteTime": {
     "end_time": "2021-01-20T14:36:02.904072Z",
     "start_time": "2021-01-20T14:35:12.779Z"
    }
   },
   "outputs": [],
   "source": [
    "fig6 = selected_df.plot(selected_df, x = selected_df.index, y = ['POI'])\n",
    "fig6.update_layout(title_text=\"Data distributions on \"+ platform.value+' plaform and '+business_unit_choose.value+' business unit', title_font=dict(size=20))\n",
    "fig6.update_layout(uniformtext_minsize=16, uniformtext_mode='hide')\n",
    "fig6.show()"
   ]
  },
  {
   "cell_type": "code",
   "execution_count": null,
   "metadata": {
    "ExecuteTime": {
     "end_time": "2021-01-20T14:36:02.905072Z",
     "start_time": "2021-01-20T14:35:12.784Z"
    }
   },
   "outputs": [],
   "source": [
    "R = sorted_df[dependent_var]-regr_func(sorted_df[independent_var], *(statistics_R2_df.loc[platform.value, ['a','b', 'c']]))\n",
    "upper = regr_func(sorted_df[independent_var],  *(statistics_R2_df.loc[platform.value, ['a','b','c']])) + 2*R.describe()[2]\n",
    "lower = regr_func(sorted_df[independent_var],  *(statistics_R2_df.loc[platform.value, ['a','b','c']])) - 2*R.describe()[2]"
   ]
  },
  {
   "cell_type": "code",
   "execution_count": null,
   "metadata": {
    "ExecuteTime": {
     "end_time": "2021-01-20T14:36:02.909073Z",
     "start_time": "2021-01-20T14:35:12.789Z"
    }
   },
   "outputs": [],
   "source": [
    "import kaleido\n",
    "import orca"
   ]
  },
  {
   "cell_type": "code",
   "execution_count": null,
   "metadata": {
    "ExecuteTime": {
     "end_time": "2021-01-20T14:36:02.912073Z",
     "start_time": "2021-01-20T14:35:12.795Z"
    }
   },
   "outputs": [],
   "source": [
    "import plotly.graph_objects as go\n",
    "fig3 = go.Figure()\n",
    "# Add traces\n",
    "fig3.add_trace(\n",
    "    go.Scatter(x=sorted_df[independent_var] ,\n",
    "               y=sorted_df[dependent_var],\n",
    "               mode='markers',\n",
    "               name='Polynomial regression (projection)'))\n",
    "\n",
    "fig3.add_trace(\n",
    "    go.Scatter(x=sorted_df[independent_var] ,\n",
    "               y=regr_func(sorted_df[independent_var],  *(statistics_R2_df.loc[platform.value, ['a','b','c']])),\n",
    "               mode='lines',\n",
    "               name='Polynomial regression (projection)'))\n",
    "fig3.add_trace(\n",
    "    go.Scatter(\n",
    "        x=sorted_df[independent_var] , # x, then x reversed\n",
    "        y=upper, # upper, then lower reversed\n",
    "        #fill='toself',\n",
    "       # fillcolor='rgba(0,100,80,0.2)',\n",
    "       # line=dict(color='rgba(255,255,255,0)'),\n",
    "       # hoverinfo=\"skip\",\n",
    "        name='Upper margin one sigma',\n",
    "        showlegend=True\n",
    "    ))\n",
    "fig3.add_trace(\n",
    "    go.Scatter(\n",
    "        x=sorted_df[independent_var] , # x, then x reversed\n",
    "        y=lower, # upper, then lower reversed\n",
    "        #fill='toself',\n",
    "       # fillcolor='rgba(0,100,80,0.2)',\n",
    "       # line=dict(color='rgba(255,255,255,0)'),\n",
    "       # hoverinfo=\"skip\",\n",
    "        name='Lower margin one sigma',\n",
    "        showlegend=True\n",
    "    ))\n",
    "\n",
    "fig3.update_layout(\n",
    "    title_text=\n",
    "dependent_var+' over '+independent_var+' on '+ platform.value+' plaform and '+business_unit_choose.value+' business unit',\n",
    "    title_font=dict(size=16))\n",
    "\n",
    "fig3.write_image(\"images/fig3.jpeg\")\n",
    "\n",
    "fig3.show()"
   ]
  },
  {
   "cell_type": "code",
   "execution_count": null,
   "metadata": {
    "ExecuteTime": {
     "end_time": "2021-01-20T14:36:02.913073Z",
     "start_time": "2021-01-20T14:35:12.800Z"
    }
   },
   "outputs": [],
   "source": [
    "log_f.__name__"
   ]
  },
  {
   "cell_type": "code",
   "execution_count": null,
   "metadata": {
    "ExecuteTime": {
     "end_time": "2021-01-20T14:36:02.914073Z",
     "start_time": "2021-01-20T14:35:12.805Z"
    }
   },
   "outputs": [],
   "source": [
    "statistics_R2_df.loc[ platform.value , ['a','b','c']]"
   ]
  },
  {
   "cell_type": "code",
   "execution_count": null,
   "metadata": {
    "ExecuteTime": {
     "end_time": "2021-01-20T14:36:02.916073Z",
     "start_time": "2021-01-20T14:35:12.824Z"
    }
   },
   "outputs": [],
   "source": [
    "R = selected_df[dependent_var]-regr_func(selected_df[independent_var],*(statistics_R2_df.loc[platform.value, ['a','b','c']]))"
   ]
  },
  {
   "cell_type": "code",
   "execution_count": null,
   "metadata": {
    "ExecuteTime": {
     "end_time": "2021-01-20T14:36:02.917073Z",
     "start_time": "2021-01-20T14:35:12.829Z"
    }
   },
   "outputs": [],
   "source": [
    "fig4 = go.Figure()\n",
    "# Add traces\n",
    "fig4.add_trace(\n",
    "    go.Scatter(x=sorted_df[independent_var] ,\n",
    "               y=R,\n",
    "               mode='markers',\n",
    "               name='Polynomial regression (projection)'))\n",
    "\n",
    "fig4.update_layout(\n",
    "    title_text=\n",
    "    f\"Residual vector\",\n",
    "    title_font=dict(size=20))\n",
    "fig4.show()"
   ]
  },
  {
   "cell_type": "code",
   "execution_count": null,
   "metadata": {
    "ExecuteTime": {
     "end_time": "2021-01-20T14:36:02.918073Z",
     "start_time": "2021-01-20T14:35:12.839Z"
    }
   },
   "outputs": [],
   "source": [
    "R.hist(bins= 5)"
   ]
  },
  {
   "cell_type": "code",
   "execution_count": null,
   "metadata": {
    "ExecuteTime": {
     "end_time": "2021-01-20T14:36:02.919073Z",
     "start_time": "2021-01-20T14:35:12.846Z"
    }
   },
   "outputs": [],
   "source": [
    "pd.Series(main_statistics(R,3), index =stat_name)"
   ]
  },
  {
   "cell_type": "code",
   "execution_count": null,
   "metadata": {
    "ExecuteTime": {
     "end_time": "2021-01-20T14:36:02.920073Z",
     "start_time": "2021-01-20T14:35:12.854Z"
    }
   },
   "outputs": [],
   "source": [
    "from plotly.subplots import make_subplots\n",
    "import plotly.graph_objects as go\n",
    "\n",
    "# Initialize figure with subplots\n",
    "fig = make_subplots(\n",
    "    rows=4, cols=1, subplot_titles=(\"Plot 1\", \"Plot 2\", \"Plot 3\", \"Plot 4\")\n",
    ")\n",
    "\n",
    "# Add traces\n",
    "fig.add_trace(go.Scatter(x=[1, 2, 3], y=[4, 5, 6]), row=1, col=1)\n",
    "fig.add_trace(go.Scatter(x=[1, 2, 3], y=[3.5, 4.5, 5.5]), row=1, col=1)\n",
    "\n",
    "fig.add_trace(go.Scatter(x=[20, 30, 40], y=[50, 60, 70]), row=2, col=1)\n",
    "fig.add_trace(go.Scatter(x=[300, 400, 500], y=[600, 700, 800]), row=3, col=1)\n",
    "fig.add_trace(go.Scatter(x=[4000, 5000, 6000], y=[7000, 8000, 9000]), row=4, col=1)\n",
    "\n",
    "# Update xaxis properties\n",
    "fig.update_xaxes(title_text=\"xaxis 1 title\", row=1, col=1)\n",
    "fig.update_xaxes(title_text=\"xaxis 2 title\", range=[10, 50], row=2, col=1)\n",
    "fig.update_xaxes(title_text=\"xaxis 3 title\", showgrid=False, row=3, col=1)\n",
    "fig.update_xaxes(title_text=\"xaxis 4 title\", type=\"log\", row=4, col=1)\n",
    "\n",
    "# Update yaxis properties\n",
    "fig.update_yaxes(title_text=\"yaxis 1 title\", row=1, col=1)\n",
    "fig.update_yaxes(title_text=\"yaxis 2 title\", range=[40, 80], row=2, col=1)\n",
    "fig.update_yaxes(title_text=\"yaxis 3 title\", showgrid=False, row=3, col=1)\n",
    "fig.update_yaxes(title_text=\"yaxis 4 title\", row=4, col=1)\n",
    "\n",
    "# Update title and height\n",
    "fig.update_layout(title_text=\"Customizing Subplot Axes\", height=1000, width=600)\n",
    "\n",
    "\n",
    "fig.show()"
   ]
  },
  {
   "cell_type": "code",
   "execution_count": null,
   "metadata": {
    "ExecuteTime": {
     "end_time": "2021-01-20T14:36:02.923073Z",
     "start_time": "2021-01-20T14:35:12.863Z"
    }
   },
   "outputs": [],
   "source": [
    "def optimization_func():\n",
    "    \"\"\"Input: df with statistics and regrettion coefficients, regrettion function, objective func, value of objective\n",
    "    Output:  optimal points in df \"\"\"\n",
    "    return result"
   ]
  },
  {
   "cell_type": "code",
   "execution_count": null,
   "metadata": {
    "ExecuteTime": {
     "end_time": "2021-01-20T14:36:02.926074Z",
     "start_time": "2021-01-20T14:35:12.871Z"
    }
   },
   "outputs": [],
   "source": [
    "df.info()"
   ]
  },
  {
   "cell_type": "code",
   "execution_count": null,
   "metadata": {
    "ExecuteTime": {
     "end_time": "2021-01-20T14:36:02.927074Z",
     "start_time": "2021-01-20T14:35:12.882Z"
    }
   },
   "outputs": [],
   "source": [
    "df.to_sparse().info()"
   ]
  },
  {
   "cell_type": "code",
   "execution_count": null,
   "metadata": {
    "ExecuteTime": {
     "end_time": "2021-01-20T14:36:02.928074Z",
     "start_time": "2021-01-20T14:35:12.889Z"
    }
   },
   "outputs": [],
   "source": [
    "df.info(memory_usage='deep')"
   ]
  },
  {
   "cell_type": "code",
   "execution_count": null,
   "metadata": {},
   "outputs": [],
   "source": []
  }
 ],
 "metadata": {
  "hide_input": false,
  "kernelspec": {
   "display_name": "Python 3",
   "language": "python",
   "name": "python3"
  },
  "language_info": {
   "codemirror_mode": {
    "name": "ipython",
    "version": 3
   },
   "file_extension": ".py",
   "mimetype": "text/x-python",
   "name": "python",
   "nbconvert_exporter": "python",
   "pygments_lexer": "ipython3",
   "version": "3.8.5"
  },
  "nbTranslate": {
   "displayLangs": [
    "*"
   ],
   "hotkey": "alt-t",
   "langInMainMenu": true,
   "sourceLang": "en",
   "targetLang": "fr",
   "useGoogleTranslate": true
  },
  "toc": {
   "base_numbering": 1,
   "nav_menu": {},
   "number_sections": true,
   "sideBar": true,
   "skip_h1_title": true,
   "title_cell": "Table of Contents",
   "title_sidebar": "Contents",
   "toc_cell": false,
   "toc_position": {},
   "toc_section_display": true,
   "toc_window_display": true
  },
  "varInspector": {
   "cols": {
    "lenName": 16,
    "lenType": 16,
    "lenVar": 40
   },
   "kernels_config": {
    "python": {
     "delete_cmd_postfix": "",
     "delete_cmd_prefix": "del ",
     "library": "var_list.py",
     "varRefreshCmd": "print(var_dic_list())"
    },
    "r": {
     "delete_cmd_postfix": ") ",
     "delete_cmd_prefix": "rm(",
     "library": "var_list.r",
     "varRefreshCmd": "cat(var_dic_list()) "
    }
   },
   "position": {
    "height": "609.4px",
    "left": "1152.4px",
    "right": "20px",
    "top": "120px",
    "width": "350px"
   },
   "types_to_exclude": [
    "module",
    "function",
    "builtin_function_or_method",
    "instance",
    "_Feature"
   ],
   "window_display": false
  }
 },
 "nbformat": 4,
 "nbformat_minor": 4
}
